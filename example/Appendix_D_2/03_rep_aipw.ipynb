{
 "cells": [
  {
   "cell_type": "code",
   "execution_count": 12,
   "id": "6db3349f",
   "metadata": {},
   "outputs": [],
   "source": [
    "import os, importlib, sys, time"
   ]
  },
  {
   "cell_type": "code",
   "execution_count": 2,
   "id": "1c37e18c",
   "metadata": {},
   "outputs": [],
   "source": [
    "import numpy as np\n",
    "import scipy.sparse as sparse\n",
    "import matplotlib.pyplot as plt\n",
    "import pandas as pd\n",
    "import pyarrow\n",
    "from tqdm import tqdm"
   ]
  },
  {
   "cell_type": "code",
   "execution_count": 3,
   "id": "23b24faf",
   "metadata": {},
   "outputs": [],
   "source": [
    "import KECENI"
   ]
  },
  {
   "cell_type": "markdown",
   "id": "c1e81cff",
   "metadata": {},
   "source": [
    "# load data"
   ]
  },
  {
   "cell_type": "code",
   "execution_count": null,
   "id": "638c9bf6",
   "metadata": {},
   "outputs": [],
   "source": [
    "data_dir = 'data'"
   ]
  },
  {
   "cell_type": "code",
   "execution_count": 5,
   "id": "a4c596a8",
   "metadata": {},
   "outputs": [],
   "source": [
    "data_network = pd.read_feather('%s/network.feather'%(data_dir))\n",
    "data_latent = pd.read_feather('%s/latent.feather'%data_dir)\n",
    "data_feature = pd.read_feather('%s/feature_%.3d.feather'%(data_dir, 0))"
   ]
  },
  {
   "cell_type": "code",
   "execution_count": 6,
   "id": "64f99c6c",
   "metadata": {},
   "outputs": [
    {
     "data": {
      "text/html": [
       "<div>\n",
       "<style scoped>\n",
       "    .dataframe tbody tr th:only-of-type {\n",
       "        vertical-align: middle;\n",
       "    }\n",
       "\n",
       "    .dataframe tbody tr th {\n",
       "        vertical-align: top;\n",
       "    }\n",
       "\n",
       "    .dataframe thead th {\n",
       "        text-align: right;\n",
       "    }\n",
       "</style>\n",
       "<table border=\"1\" class=\"dataframe\">\n",
       "  <thead>\n",
       "    <tr style=\"text-align: right;\">\n",
       "      <th></th>\n",
       "      <th>row</th>\n",
       "      <th>col</th>\n",
       "    </tr>\n",
       "  </thead>\n",
       "  <tbody>\n",
       "    <tr>\n",
       "      <th>0</th>\n",
       "      <td>1</td>\n",
       "      <td>5</td>\n",
       "    </tr>\n",
       "    <tr>\n",
       "      <th>1</th>\n",
       "      <td>1</td>\n",
       "      <td>17</td>\n",
       "    </tr>\n",
       "    <tr>\n",
       "      <th>2</th>\n",
       "      <td>2</td>\n",
       "      <td>3</td>\n",
       "    </tr>\n",
       "    <tr>\n",
       "      <th>3</th>\n",
       "      <td>2</td>\n",
       "      <td>9</td>\n",
       "    </tr>\n",
       "    <tr>\n",
       "      <th>4</th>\n",
       "      <td>3</td>\n",
       "      <td>2</td>\n",
       "    </tr>\n",
       "    <tr>\n",
       "      <th>...</th>\n",
       "      <td>...</td>\n",
       "      <td>...</td>\n",
       "    </tr>\n",
       "    <tr>\n",
       "      <th>3621</th>\n",
       "      <td>999</td>\n",
       "      <td>837</td>\n",
       "    </tr>\n",
       "    <tr>\n",
       "      <th>3622</th>\n",
       "      <td>999</td>\n",
       "      <td>930</td>\n",
       "    </tr>\n",
       "    <tr>\n",
       "      <th>3623</th>\n",
       "      <td>999</td>\n",
       "      <td>989</td>\n",
       "    </tr>\n",
       "    <tr>\n",
       "      <th>3624</th>\n",
       "      <td>999</td>\n",
       "      <td>993</td>\n",
       "    </tr>\n",
       "    <tr>\n",
       "      <th>3625</th>\n",
       "      <td>1000</td>\n",
       "      <td>725</td>\n",
       "    </tr>\n",
       "  </tbody>\n",
       "</table>\n",
       "<p>3626 rows × 2 columns</p>\n",
       "</div>"
      ],
      "text/plain": [
       "       row  col\n",
       "0        1    5\n",
       "1        1   17\n",
       "2        2    3\n",
       "3        2    9\n",
       "4        3    2\n",
       "...    ...  ...\n",
       "3621   999  837\n",
       "3622   999  930\n",
       "3623   999  989\n",
       "3624   999  993\n",
       "3625  1000  725\n",
       "\n",
       "[3626 rows x 2 columns]"
      ]
     },
     "execution_count": 6,
     "metadata": {},
     "output_type": "execute_result"
    }
   ],
   "source": [
    "data_network"
   ]
  },
  {
   "cell_type": "code",
   "execution_count": 7,
   "id": "95c2e40b",
   "metadata": {},
   "outputs": [
    {
     "data": {
      "text/plain": [
       "1000"
      ]
     },
     "execution_count": 7,
     "metadata": {},
     "output_type": "execute_result"
    }
   ],
   "source": [
    "n_node = len(data_latent); n_node"
   ]
  },
  {
   "cell_type": "code",
   "execution_count": 16,
   "id": "1dc09510",
   "metadata": {},
   "outputs": [],
   "source": [
    "Adj = sparse.csr_matrix((\n",
    "    np.full(len(data_network), True), \n",
    "    (np.array(data_network.row)-1, np.array(data_network.col)-1)\n",
    "), shape=(n_node,n_node)).toarray()"
   ]
  },
  {
   "cell_type": "code",
   "execution_count": 17,
   "id": "fc72812b",
   "metadata": {},
   "outputs": [],
   "source": [
    "G = KECENI.Graph(Adj)"
   ]
  },
  {
   "cell_type": "code",
   "execution_count": 18,
   "id": "bbad80b5",
   "metadata": {},
   "outputs": [],
   "source": [
    "Ys = data_feature.iloc[:,6].values\n",
    "Ts = data_feature.iloc[:,4].values\n",
    "Xs = data_feature.iloc[:,0:3].values"
   ]
  },
  {
   "cell_type": "markdown",
   "id": "f1c0279f",
   "metadata": {},
   "source": [
    "# counterfactual of interest"
   ]
  },
  {
   "cell_type": "code",
   "execution_count": 19,
   "id": "b0fbe8b0",
   "metadata": {},
   "outputs": [],
   "source": [
    "i0 = 0"
   ]
  },
  {
   "cell_type": "code",
   "execution_count": 20,
   "id": "71f3f777",
   "metadata": {},
   "outputs": [],
   "source": [
    "T0s_0 = Ts.copy(); T0s_0[:] = 0\n",
    "T0s_1 = Ts.copy(); T0s_1[:] = 1"
   ]
  },
  {
   "cell_type": "code",
   "execution_count": 21,
   "id": "2f95256e",
   "metadata": {},
   "outputs": [
    {
     "data": {
      "text/plain": [
       "(array([0, 0, 0]), array([1, 1, 1]))"
      ]
     },
     "execution_count": 21,
     "metadata": {},
     "output_type": "execute_result"
    }
   ],
   "source": [
    "T0s_0[G.N1(i0)], T0s_1[G.N1(i0)]"
   ]
  },
  {
   "cell_type": "markdown",
   "id": "2e56f2ba",
   "metadata": {},
   "source": [
    "# groundtruth"
   ]
  },
  {
   "cell_type": "code",
   "execution_count": 22,
   "id": "d470c0fe",
   "metadata": {},
   "outputs": [],
   "source": [
    "YTR_0, YTR_1 = (-2, 2)\n",
    "YTR_d = YTR_1 - YTR_0"
   ]
  },
  {
   "cell_type": "code",
   "execution_count": 23,
   "id": "9b4675a7",
   "metadata": {},
   "outputs": [
    {
     "data": {
      "text/plain": [
       "(-2, 2, 4)"
      ]
     },
     "execution_count": 23,
     "metadata": {},
     "output_type": "execute_result"
    }
   ],
   "source": [
    "YTR_0, YTR_1, YTR_d"
   ]
  },
  {
   "cell_type": "markdown",
   "id": "0db1c0d1",
   "metadata": {},
   "source": [
    "# estimation"
   ]
  },
  {
   "cell_type": "code",
   "execution_count": 33,
   "id": "6444ba7d",
   "metadata": {},
   "outputs": [],
   "source": [
    "from sklearn.linear_model import LinearRegression, LogisticRegression"
   ]
  },
  {
   "cell_type": "code",
   "execution_count": 34,
   "id": "22272d7f",
   "metadata": {},
   "outputs": [],
   "source": [
    "n_sim = 80"
   ]
  },
  {
   "cell_type": "code",
   "execution_count": 35,
   "id": "78dd7fa1",
   "metadata": {},
   "outputs": [],
   "source": [
    "YDRs_0 = np.zeros(n_sim); YDRs_1 = np.zeros(n_sim); YDRs_d = np.zeros(n_sim)"
   ]
  },
  {
   "cell_type": "code",
   "execution_count": 36,
   "id": "7826174c",
   "metadata": {},
   "outputs": [
    {
     "name": "stderr",
     "output_type": "stream",
     "text": [
      "SIM: 100%|██████████| 80/80 [00:00<00:00, 269.32it/s]\n"
     ]
    }
   ],
   "source": [
    "# change the following cell in to for loop with tqdm\n",
    "for i_sim in tqdm(range(n_sim), total=n_sim, desc='SIM', position=0, leave=True):\n",
    "    data_feature = pd.read_feather('%s/feature_%.3d.feather'%(data_dir,i_sim))\n",
    "        \n",
    "    Ys = data_feature.iloc[:,6].values\n",
    "    Ts = data_feature.iloc[:,4].values\n",
    "    Xs = data_feature.iloc[:,0:3].values\n",
    "    \n",
    "    n_node = Ys.shape[0]\n",
    "\n",
    "    pi_fit = LogisticRegression(penalty=None).fit(Xs, Ts)\n",
    "    pi_hat = pi_fit.predict_proba(Xs)[np.arange(n_node), Ts]\n",
    "    \n",
    "    mu_fit = LinearRegression().fit(np.concatenate([Xs, Ts[:,None]], -1), Ys)\n",
    "    mu_hat = mu_fit.predict(np.concatenate([Xs, Ts[:,None]], -1))\n",
    "    mu0_hat = mu_fit.predict(np.concatenate([Xs, np.full((n_node, 1), 0)], -1))\n",
    "    mu1_hat = mu_fit.predict(np.concatenate([Xs, np.full((n_node, 1), 1)], -1))\n",
    "\n",
    "    YDRs_0[i_sim] = np.mean(mu0_hat + (Ts == 0) * (Ys - mu_hat) / pi_hat)\n",
    "    YDRs_1[i_sim] = np.mean(mu1_hat + (Ts == 1) * (Ys - mu_hat) / pi_hat)\n",
    "    YDRs_d[i_sim] = YDRs_1[i_sim] - YDRs_0[i_sim]"
   ]
  },
  {
   "cell_type": "code",
   "execution_count": 45,
   "id": "d72ea0e8",
   "metadata": {},
   "outputs": [
    {
     "data": {
      "text/plain": [
       "<matplotlib.legend.Legend at 0x1457aea3d1f0>"
      ]
     },
     "execution_count": 45,
     "metadata": {},
     "output_type": "execute_result"
    },
    {
     "data": {
      "image/png": "[encoded data removed]",
      "text/plain": [
       "<Figure size 400x300 with 1 Axes>"
      ]
     },
     "metadata": {},
     "output_type": "display_data"
    }
   ],
   "source": [
    "fig = plt.figure(figsize=(4,3))\n",
    "plt.hist(YDRs_1, density=True, bins=np.arange(-4,4,0.2), \n",
    "         facecolor='white', edgecolor='blue', hatch=\"///\", \n",
    "         label=r'$\\theta_{i^*}(\\mathbf{1})$')\n",
    "plt.axvline(YTR_1, color='blue')\n",
    "plt.hist(YDRs_0, density=True, bins=np.arange(-4,4,0.2), \n",
    "         facecolor='white', edgecolor='red', hatch=\"--\",\n",
    "         label=r'$\\theta_{i^*}(\\mathbf{0})$')\n",
    "plt.axvline(YTR_0, color='red')\n",
    "plt.xlabel('Estimated values'); plt.ylabel('Density'); plt.legend()"
   ]
  },
  {
   "cell_type": "code",
   "execution_count": 39,
   "id": "8076469c",
   "metadata": {},
   "outputs": [
    {
     "data": {
      "text/plain": [
       "<matplotlib.legend.Legend at 0x1457af592b70>"
      ]
     },
     "execution_count": 39,
     "metadata": {},
     "output_type": "execute_result"
    },
    {
     "data": {
      "image/png": "[encoded data removed]",
      "text/plain": [
       "<Figure size 400x300 with 1 Axes>"
      ]
     },
     "metadata": {},
     "output_type": "display_data"
    }
   ],
   "source": [
    "fig = plt.figure(figsize=(4,3))\n",
    "plt.hist(YDRs_d, color='black', alpha=0.5, density=True, bins=np.arange(-2,6,0.2),\n",
    "         label=r'$\\theta_{i^*}(\\mathbf{1}) - \\theta_{i^*}(\\mathbf{0})$')\n",
    "plt.axvline(YTR_d, color='black')\n",
    "plt.xlabel('Estimated values'); plt.ylabel('Density'); plt.legend()"
   ]
  },
  {
   "cell_type": "code",
   "execution_count": 31,
   "id": "9e72a4f7",
   "metadata": {},
   "outputs": [
    {
     "data": {
      "text/plain": [
       "(0.197766956510276, 0.1983389167232598, 0.1277080245647294)"
      ]
     },
     "execution_count": 31,
     "metadata": {},
     "output_type": "execute_result"
    }
   ],
   "source": [
    "np.std(YDR1s), np.std(YDR2s), np.std(YDRds)"
   ]
  }
 ],
 "metadata": {
  "kernelspec": {
   "display_name": "causalnet",
   "language": "python",
   "name": "python3"
  },
  "language_info": {
   "codemirror_mode": {
    "name": "ipython",
    "version": 3
   },
   "file_extension": ".py",
   "mimetype": "text/x-python",
   "name": "python",
   "nbconvert_exporter": "python",
   "pygments_lexer": "ipython3",
   "version": "3.12.1"
  }
 },
 "nbformat": 4,
 "nbformat_minor": 5
}
