{
 "cells": [
  {
   "cell_type": "code",
   "execution_count": 1,
   "id": "6db3349f",
   "metadata": {},
   "outputs": [],
   "source": [
    "import os, importlib, sys, time"
   ]
  },
  {
   "cell_type": "code",
   "execution_count": 2,
   "id": "1c37e18c",
   "metadata": {},
   "outputs": [],
   "source": [
    "import numpy as np\n",
    "import scipy.sparse as sparse\n",
    "import matplotlib.pyplot as plt\n",
    "import pandas as pd\n",
    "import pyarrow\n",
    "from tqdm import tqdm"
   ]
  },
  {
   "cell_type": "code",
   "execution_count": 3,
   "id": "23b24faf",
   "metadata": {},
   "outputs": [],
   "source": [
    "import KECENI"
   ]
  },
  {
   "cell_type": "markdown",
   "id": "c1e81cff",
   "metadata": {},
   "source": [
    "# load data"
   ]
  },
  {
   "cell_type": "code",
   "execution_count": 4,
   "id": "638c9bf6",
   "metadata": {},
   "outputs": [],
   "source": [
    "data_dir = 'data'"
   ]
  },
  {
   "cell_type": "code",
   "execution_count": 5,
   "id": "d07f2703",
   "metadata": {},
   "outputs": [],
   "source": [
    "i_sim = 1"
   ]
  },
  {
   "cell_type": "code",
   "execution_count": 6,
   "id": "a4c596a8",
   "metadata": {},
   "outputs": [],
   "source": [
    "data_network = pd.read_feather('%s/network.feather'%(data_dir))\n",
    "data_latent = pd.read_feather('%s/latent.feather'%data_dir)\n",
    "data_feature = pd.read_feather('%s/feature_%.3d.feather'%(data_dir, i_sim))"
   ]
  },
  {
   "cell_type": "code",
   "execution_count": 7,
   "id": "64f99c6c",
   "metadata": {},
   "outputs": [
    {
     "data": {
      "text/html": [
       "<div>\n",
       "<style scoped>\n",
       "    .dataframe tbody tr th:only-of-type {\n",
       "        vertical-align: middle;\n",
       "    }\n",
       "\n",
       "    .dataframe tbody tr th {\n",
       "        vertical-align: top;\n",
       "    }\n",
       "\n",
       "    .dataframe thead th {\n",
       "        text-align: right;\n",
       "    }\n",
       "</style>\n",
       "<table border=\"1\" class=\"dataframe\">\n",
       "  <thead>\n",
       "    <tr style=\"text-align: right;\">\n",
       "      <th></th>\n",
       "      <th>row</th>\n",
       "      <th>col</th>\n",
       "    </tr>\n",
       "  </thead>\n",
       "  <tbody>\n",
       "    <tr>\n",
       "      <th>0</th>\n",
       "      <td>1</td>\n",
       "      <td>5</td>\n",
       "    </tr>\n",
       "    <tr>\n",
       "      <th>1</th>\n",
       "      <td>1</td>\n",
       "      <td>17</td>\n",
       "    </tr>\n",
       "    <tr>\n",
       "      <th>2</th>\n",
       "      <td>2</td>\n",
       "      <td>3</td>\n",
       "    </tr>\n",
       "    <tr>\n",
       "      <th>3</th>\n",
       "      <td>2</td>\n",
       "      <td>9</td>\n",
       "    </tr>\n",
       "    <tr>\n",
       "      <th>4</th>\n",
       "      <td>3</td>\n",
       "      <td>2</td>\n",
       "    </tr>\n",
       "    <tr>\n",
       "      <th>...</th>\n",
       "      <td>...</td>\n",
       "      <td>...</td>\n",
       "    </tr>\n",
       "    <tr>\n",
       "      <th>3621</th>\n",
       "      <td>999</td>\n",
       "      <td>837</td>\n",
       "    </tr>\n",
       "    <tr>\n",
       "      <th>3622</th>\n",
       "      <td>999</td>\n",
       "      <td>930</td>\n",
       "    </tr>\n",
       "    <tr>\n",
       "      <th>3623</th>\n",
       "      <td>999</td>\n",
       "      <td>989</td>\n",
       "    </tr>\n",
       "    <tr>\n",
       "      <th>3624</th>\n",
       "      <td>999</td>\n",
       "      <td>993</td>\n",
       "    </tr>\n",
       "    <tr>\n",
       "      <th>3625</th>\n",
       "      <td>1000</td>\n",
       "      <td>725</td>\n",
       "    </tr>\n",
       "  </tbody>\n",
       "</table>\n",
       "<p>3626 rows × 2 columns</p>\n",
       "</div>"
      ],
      "text/plain": [
       "       row  col\n",
       "0        1    5\n",
       "1        1   17\n",
       "2        2    3\n",
       "3        2    9\n",
       "4        3    2\n",
       "...    ...  ...\n",
       "3621   999  837\n",
       "3622   999  930\n",
       "3623   999  989\n",
       "3624   999  993\n",
       "3625  1000  725\n",
       "\n",
       "[3626 rows x 2 columns]"
      ]
     },
     "execution_count": 7,
     "metadata": {},
     "output_type": "execute_result"
    }
   ],
   "source": [
    "data_network"
   ]
  },
  {
   "cell_type": "code",
   "execution_count": 8,
   "id": "f942eefe",
   "metadata": {
    "scrolled": false
   },
   "outputs": [
    {
     "data": {
      "text/html": [
       "<div>\n",
       "<style scoped>\n",
       "    .dataframe tbody tr th:only-of-type {\n",
       "        vertical-align: middle;\n",
       "    }\n",
       "\n",
       "    .dataframe tbody tr th {\n",
       "        vertical-align: top;\n",
       "    }\n",
       "\n",
       "    .dataframe thead th {\n",
       "        text-align: right;\n",
       "    }\n",
       "</style>\n",
       "<table border=\"1\" class=\"dataframe\">\n",
       "  <thead>\n",
       "    <tr style=\"text-align: right;\">\n",
       "      <th></th>\n",
       "      <th>X1</th>\n",
       "      <th>X2</th>\n",
       "      <th>X3</th>\n",
       "      <th>p</th>\n",
       "      <th>T</th>\n",
       "      <th>m</th>\n",
       "      <th>Y</th>\n",
       "    </tr>\n",
       "  </thead>\n",
       "  <tbody>\n",
       "    <tr>\n",
       "      <th>0</th>\n",
       "      <td>-0.447027</td>\n",
       "      <td>-0.705126</td>\n",
       "      <td>0.266350</td>\n",
       "      <td>0.391050</td>\n",
       "      <td>1</td>\n",
       "      <td>0.688503</td>\n",
       "      <td>0.692363</td>\n",
       "    </tr>\n",
       "    <tr>\n",
       "      <th>1</th>\n",
       "      <td>1.219795</td>\n",
       "      <td>0.637921</td>\n",
       "      <td>1.272363</td>\n",
       "      <td>0.827075</td>\n",
       "      <td>0</td>\n",
       "      <td>-7.103306</td>\n",
       "      <td>-6.488132</td>\n",
       "    </tr>\n",
       "    <tr>\n",
       "      <th>2</th>\n",
       "      <td>0.790879</td>\n",
       "      <td>0.837265</td>\n",
       "      <td>0.608502</td>\n",
       "      <td>0.753678</td>\n",
       "      <td>1</td>\n",
       "      <td>-3.974438</td>\n",
       "      <td>-2.137433</td>\n",
       "    </tr>\n",
       "    <tr>\n",
       "      <th>3</th>\n",
       "      <td>-1.079978</td>\n",
       "      <td>-1.804343</td>\n",
       "      <td>-2.574626</td>\n",
       "      <td>0.061256</td>\n",
       "      <td>0</td>\n",
       "      <td>8.294056</td>\n",
       "      <td>9.525241</td>\n",
       "    </tr>\n",
       "    <tr>\n",
       "      <th>4</th>\n",
       "      <td>-0.437606</td>\n",
       "      <td>0.003347</td>\n",
       "      <td>0.423150</td>\n",
       "      <td>0.498611</td>\n",
       "      <td>0</td>\n",
       "      <td>-2.155245</td>\n",
       "      <td>-3.193287</td>\n",
       "    </tr>\n",
       "    <tr>\n",
       "      <th>...</th>\n",
       "      <td>...</td>\n",
       "      <td>...</td>\n",
       "      <td>...</td>\n",
       "      <td>...</td>\n",
       "      <td>...</td>\n",
       "      <td>...</td>\n",
       "      <td>...</td>\n",
       "    </tr>\n",
       "    <tr>\n",
       "      <th>995</th>\n",
       "      <td>0.566763</td>\n",
       "      <td>-0.501376</td>\n",
       "      <td>0.086047</td>\n",
       "      <td>0.518920</td>\n",
       "      <td>0</td>\n",
       "      <td>3.092675</td>\n",
       "      <td>4.496140</td>\n",
       "    </tr>\n",
       "    <tr>\n",
       "      <th>996</th>\n",
       "      <td>-1.454455</td>\n",
       "      <td>1.275978</td>\n",
       "      <td>1.752639</td>\n",
       "      <td>0.687204</td>\n",
       "      <td>1</td>\n",
       "      <td>-2.954723</td>\n",
       "      <td>-5.044276</td>\n",
       "    </tr>\n",
       "    <tr>\n",
       "      <th>997</th>\n",
       "      <td>-0.740551</td>\n",
       "      <td>-0.501887</td>\n",
       "      <td>1.173634</td>\n",
       "      <td>0.491400</td>\n",
       "      <td>0</td>\n",
       "      <td>-3.518165</td>\n",
       "      <td>-3.671195</td>\n",
       "    </tr>\n",
       "    <tr>\n",
       "      <th>998</th>\n",
       "      <td>0.143803</td>\n",
       "      <td>1.283810</td>\n",
       "      <td>0.483779</td>\n",
       "      <td>0.722259</td>\n",
       "      <td>0</td>\n",
       "      <td>-3.085424</td>\n",
       "      <td>-3.713241</td>\n",
       "    </tr>\n",
       "    <tr>\n",
       "      <th>999</th>\n",
       "      <td>-0.271114</td>\n",
       "      <td>2.194230</td>\n",
       "      <td>1.574250</td>\n",
       "      <td>0.851787</td>\n",
       "      <td>1</td>\n",
       "      <td>-0.038351</td>\n",
       "      <td>-1.155456</td>\n",
       "    </tr>\n",
       "  </tbody>\n",
       "</table>\n",
       "<p>1000 rows × 7 columns</p>\n",
       "</div>"
      ],
      "text/plain": [
       "           X1        X2        X3         p  T         m         Y\n",
       "0   -0.447027 -0.705126  0.266350  0.391050  1  0.688503  0.692363\n",
       "1    1.219795  0.637921  1.272363  0.827075  0 -7.103306 -6.488132\n",
       "2    0.790879  0.837265  0.608502  0.753678  1 -3.974438 -2.137433\n",
       "3   -1.079978 -1.804343 -2.574626  0.061256  0  8.294056  9.525241\n",
       "4   -0.437606  0.003347  0.423150  0.498611  0 -2.155245 -3.193287\n",
       "..        ...       ...       ...       ... ..       ...       ...\n",
       "995  0.566763 -0.501376  0.086047  0.518920  0  3.092675  4.496140\n",
       "996 -1.454455  1.275978  1.752639  0.687204  1 -2.954723 -5.044276\n",
       "997 -0.740551 -0.501887  1.173634  0.491400  0 -3.518165 -3.671195\n",
       "998  0.143803  1.283810  0.483779  0.722259  0 -3.085424 -3.713241\n",
       "999 -0.271114  2.194230  1.574250  0.851787  1 -0.038351 -1.155456\n",
       "\n",
       "[1000 rows x 7 columns]"
      ]
     },
     "execution_count": 8,
     "metadata": {},
     "output_type": "execute_result"
    }
   ],
   "source": [
    "data_feature"
   ]
  },
  {
   "cell_type": "code",
   "execution_count": 9,
   "id": "3ed4fe98",
   "metadata": {},
   "outputs": [
    {
     "data": {
      "text/plain": [
       "1000"
      ]
     },
     "execution_count": 9,
     "metadata": {},
     "output_type": "execute_result"
    }
   ],
   "source": [
    "n_node = len(data_latent); n_node"
   ]
  },
  {
   "cell_type": "code",
   "execution_count": 10,
   "id": "1345c5ca",
   "metadata": {},
   "outputs": [
    {
     "data": {
      "text/plain": [
       "3626"
      ]
     },
     "execution_count": 10,
     "metadata": {},
     "output_type": "execute_result"
    }
   ],
   "source": [
    "len(data_network)"
   ]
  },
  {
   "cell_type": "code",
   "execution_count": 33,
   "id": "7dd3de82",
   "metadata": {},
   "outputs": [],
   "source": [
    "Adj = sparse.csr_matrix((\n",
    "    np.full(len(data_network), True), \n",
    "    (np.array(data_network.row)-1, np.array(data_network.col)-1)\n",
    "), shape=(n_node,n_node)).toarray()"
   ]
  },
  {
   "cell_type": "code",
   "execution_count": 34,
   "id": "fc72812b",
   "metadata": {},
   "outputs": [],
   "source": [
    "G = KECENI.Graph(Adj)"
   ]
  },
  {
   "cell_type": "code",
   "execution_count": 35,
   "id": "0e58e588",
   "metadata": {},
   "outputs": [],
   "source": [
    "Ys = data_feature.iloc[:,6].values\n",
    "Ts = data_feature.iloc[:,4].values\n",
    "Xs = data_feature.iloc[:,0:3].values"
   ]
  },
  {
   "cell_type": "code",
   "execution_count": 36,
   "id": "c0d69a5b",
   "metadata": {},
   "outputs": [],
   "source": [
    "data = KECENI.Data(Ys, Ts, Xs, G)"
   ]
  },
  {
   "cell_type": "markdown",
   "id": "b5ac30d3",
   "metadata": {},
   "source": [
    "# counterfactual of interest"
   ]
  },
  {
   "cell_type": "code",
   "execution_count": 37,
   "id": "69e34e39",
   "metadata": {},
   "outputs": [],
   "source": [
    "i0 = 0"
   ]
  },
  {
   "cell_type": "code",
   "execution_count": 38,
   "id": "d9d2ade8",
   "metadata": {},
   "outputs": [],
   "source": [
    "T0s_0 = np.full(n_node, 0)\n",
    "T0s_1 = np.full(n_node, 1)"
   ]
  },
  {
   "cell_type": "code",
   "execution_count": 39,
   "id": "23e69bb3",
   "metadata": {},
   "outputs": [
    {
     "data": {
      "text/plain": [
       "(array([0, 0, 0]), array([1, 1, 1]))"
      ]
     },
     "execution_count": 39,
     "metadata": {},
     "output_type": "execute_result"
    }
   ],
   "source": [
    "T0s_0[G.N1(i0)], T0s_1[G.N1(i0)]"
   ]
  },
  {
   "cell_type": "markdown",
   "id": "4a27802c",
   "metadata": {},
   "source": [
    "# groundtruth"
   ]
  },
  {
   "cell_type": "code",
   "execution_count": 40,
   "id": "6775967f",
   "metadata": {},
   "outputs": [],
   "source": [
    "YTR_0, YTR_1 = (-2, 2)\n",
    "YTR_d = YTR_1 - YTR_0"
   ]
  },
  {
   "cell_type": "code",
   "execution_count": 41,
   "id": "0755c11d",
   "metadata": {},
   "outputs": [
    {
     "data": {
      "text/plain": [
       "(-2, 2, 4)"
      ]
     },
     "execution_count": 41,
     "metadata": {},
     "output_type": "execute_result"
    }
   ],
   "source": [
    "YTR_0, YTR_1, YTR_d"
   ]
  },
  {
   "cell_type": "markdown",
   "id": "9ba0cef7",
   "metadata": {},
   "source": [
    "# estimation"
   ]
  },
  {
   "cell_type": "code",
   "execution_count": 42,
   "id": "d2fb45a6",
   "metadata": {},
   "outputs": [],
   "source": [
    "from sklearn.linear_model import LinearRegression, LogisticRegression"
   ]
  },
  {
   "cell_type": "code",
   "execution_count": 43,
   "id": "ac90f719",
   "metadata": {},
   "outputs": [],
   "source": [
    "pi_fit = LogisticRegression(penalty=None).fit(Xs, Ts)"
   ]
  },
  {
   "cell_type": "code",
   "execution_count": 44,
   "id": "97fc8084",
   "metadata": {},
   "outputs": [],
   "source": [
    "pi_hat = pi_fit.predict_proba(Xs)[np.arange(n_node), Ts]"
   ]
  },
  {
   "cell_type": "code",
   "execution_count": 45,
   "id": "91748685",
   "metadata": {},
   "outputs": [
    {
     "data": {
      "text/plain": [
       "array([[-0.44702679, -0.70512624,  0.26635026,  1.        ],\n",
       "       [ 1.21979523,  0.63792082,  1.27236305,  0.        ],\n",
       "       [ 0.79087941,  0.83726517,  0.60850156,  1.        ],\n",
       "       ...,\n",
       "       [-0.74055143, -0.50188708,  1.17363408,  0.        ],\n",
       "       [ 0.14380285,  1.28380978,  0.48377914,  0.        ],\n",
       "       [-0.27111388,  2.19423003,  1.5742496 ,  1.        ]])"
      ]
     },
     "execution_count": 45,
     "metadata": {},
     "output_type": "execute_result"
    }
   ],
   "source": [
    "np.concatenate([Xs, Ts[:,None]], -1)"
   ]
  },
  {
   "cell_type": "code",
   "execution_count": 46,
   "id": "abd2219f",
   "metadata": {},
   "outputs": [],
   "source": [
    "mu_fit = LinearRegression().fit(np.concatenate([Xs, Ts[:,None]], -1), Ys)"
   ]
  },
  {
   "cell_type": "code",
   "execution_count": 47,
   "id": "e0e4d1f5",
   "metadata": {},
   "outputs": [],
   "source": [
    "mu_hat = mu_fit.predict(np.concatenate([Xs, Ts[:,None]], -1))"
   ]
  },
  {
   "cell_type": "code",
   "execution_count": 48,
   "id": "242f0219",
   "metadata": {},
   "outputs": [],
   "source": [
    "mu0_hat = mu_fit.predict(np.concatenate([Xs, np.full((n_node, 1), 0)], -1))\n",
    "mu1_hat = mu_fit.predict(np.concatenate([Xs, np.full((n_node, 1), 1)], -1))"
   ]
  },
  {
   "cell_type": "code",
   "execution_count": 49,
   "id": "de697dcc",
   "metadata": {},
   "outputs": [
    {
     "data": {
      "text/plain": [
       "-0.7973376630065124"
      ]
     },
     "execution_count": 49,
     "metadata": {},
     "output_type": "execute_result"
    }
   ],
   "source": [
    "np.mean(mu0_hat + (Ts == 0) * (Ys - mu_hat) / pi_hat)"
   ]
  },
  {
   "cell_type": "code",
   "execution_count": 50,
   "id": "79cfae27",
   "metadata": {},
   "outputs": [
    {
     "data": {
      "text/plain": [
       "1.1878237088895482"
      ]
     },
     "execution_count": 50,
     "metadata": {},
     "output_type": "execute_result"
    }
   ],
   "source": [
    "np.mean(mu1_hat + (Ts == 1) * (Ys - mu_hat) / pi_hat)"
   ]
  },
  {
   "cell_type": "code",
   "execution_count": null,
   "id": "330b6aa0",
   "metadata": {},
   "outputs": [],
   "source": []
  }
 ],
 "metadata": {
  "kernelspec": {
   "display_name": "causalnet",
   "language": "python",
   "name": "python3"
  },
  "language_info": {
   "codemirror_mode": {
    "name": "ipython",
    "version": 3
   },
   "file_extension": ".py",
   "mimetype": "text/x-python",
   "name": "python",
   "nbconvert_exporter": "python",
   "pygments_lexer": "ipython3",
   "version": "3.12.1"
  }
 },
 "nbformat": 4,
 "nbformat_minor": 5
}
