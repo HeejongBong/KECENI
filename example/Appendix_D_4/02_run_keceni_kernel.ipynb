{
 "cells": [
  {
   "cell_type": "code",
   "execution_count": 1,
   "id": "6db3349f",
   "metadata": {},
   "outputs": [],
   "source": [
    "import os, importlib, sys, time"
   ]
  },
  {
   "cell_type": "code",
   "execution_count": 2,
   "id": "1c37e18c",
   "metadata": {},
   "outputs": [],
   "source": [
    "import numpy as np\n",
    "import scipy.sparse as sparse\n",
    "import matplotlib.pyplot as plt\n",
    "import pandas as pd\n",
    "import pyarrow\n",
    "from tqdm import tqdm"
   ]
  },
  {
   "cell_type": "code",
   "execution_count": 3,
   "id": "23b24faf",
   "metadata": {},
   "outputs": [],
   "source": [
    "import KECENI"
   ]
  },
  {
   "cell_type": "code",
   "execution_count": 4,
   "id": "8e40c2e2",
   "metadata": {},
   "outputs": [],
   "source": [
    "n_process = 32"
   ]
  },
  {
   "cell_type": "markdown",
   "id": "c1e81cff",
   "metadata": {},
   "source": [
    "# load data"
   ]
  },
  {
   "cell_type": "code",
   "execution_count": 5,
   "id": "638c9bf6",
   "metadata": {},
   "outputs": [],
   "source": [
    "data_dir = 'data'"
   ]
  },
  {
   "cell_type": "code",
   "execution_count": 6,
   "id": "d07f2703",
   "metadata": {},
   "outputs": [],
   "source": [
    "i_sim = 0"
   ]
  },
  {
   "cell_type": "code",
   "execution_count": 7,
   "id": "a4c596a8",
   "metadata": {},
   "outputs": [],
   "source": [
    "data_network = pd.read_feather('%s/network.feather'%data_dir)\n",
    "data_feature = pd.read_feather('%s/feature_%.3d.feather'%(data_dir,i_sim))"
   ]
  },
  {
   "cell_type": "code",
   "execution_count": 8,
   "id": "3ed4fe98",
   "metadata": {},
   "outputs": [],
   "source": [
    "n_node = len(data_feature)\n",
    "n_edge = len(data_network)"
   ]
  },
  {
   "cell_type": "code",
   "execution_count": 9,
   "id": "64f99c6c",
   "metadata": {},
   "outputs": [
    {
     "data": {
      "text/html": [
       "<div>\n",
       "<style scoped>\n",
       "    .dataframe tbody tr th:only-of-type {\n",
       "        vertical-align: middle;\n",
       "    }\n",
       "\n",
       "    .dataframe tbody tr th {\n",
       "        vertical-align: top;\n",
       "    }\n",
       "\n",
       "    .dataframe thead th {\n",
       "        text-align: right;\n",
       "    }\n",
       "</style>\n",
       "<table border=\"1\" class=\"dataframe\">\n",
       "  <thead>\n",
       "    <tr style=\"text-align: right;\">\n",
       "      <th></th>\n",
       "      <th>row</th>\n",
       "      <th>col</th>\n",
       "    </tr>\n",
       "  </thead>\n",
       "  <tbody>\n",
       "    <tr>\n",
       "      <th>0</th>\n",
       "      <td>1</td>\n",
       "      <td>2311</td>\n",
       "    </tr>\n",
       "    <tr>\n",
       "      <th>1</th>\n",
       "      <td>1</td>\n",
       "      <td>3144</td>\n",
       "    </tr>\n",
       "    <tr>\n",
       "      <th>2</th>\n",
       "      <td>1</td>\n",
       "      <td>3568</td>\n",
       "    </tr>\n",
       "    <tr>\n",
       "      <th>3</th>\n",
       "      <td>1</td>\n",
       "      <td>3603</td>\n",
       "    </tr>\n",
       "    <tr>\n",
       "      <th>4</th>\n",
       "      <td>2</td>\n",
       "      <td>2146</td>\n",
       "    </tr>\n",
       "    <tr>\n",
       "      <th>...</th>\n",
       "      <td>...</td>\n",
       "      <td>...</td>\n",
       "    </tr>\n",
       "    <tr>\n",
       "      <th>9917</th>\n",
       "      <td>3999</td>\n",
       "      <td>3227</td>\n",
       "    </tr>\n",
       "    <tr>\n",
       "      <th>9918</th>\n",
       "      <td>4000</td>\n",
       "      <td>279</td>\n",
       "    </tr>\n",
       "    <tr>\n",
       "      <th>9919</th>\n",
       "      <td>4000</td>\n",
       "      <td>2085</td>\n",
       "    </tr>\n",
       "    <tr>\n",
       "      <th>9920</th>\n",
       "      <td>4000</td>\n",
       "      <td>3306</td>\n",
       "    </tr>\n",
       "    <tr>\n",
       "      <th>9921</th>\n",
       "      <td>4000</td>\n",
       "      <td>3919</td>\n",
       "    </tr>\n",
       "  </tbody>\n",
       "</table>\n",
       "<p>9922 rows × 2 columns</p>\n",
       "</div>"
      ],
      "text/plain": [
       "       row   col\n",
       "0        1  2311\n",
       "1        1  3144\n",
       "2        1  3568\n",
       "3        1  3603\n",
       "4        2  2146\n",
       "...    ...   ...\n",
       "9917  3999  3227\n",
       "9918  4000   279\n",
       "9919  4000  2085\n",
       "9920  4000  3306\n",
       "9921  4000  3919\n",
       "\n",
       "[9922 rows x 2 columns]"
      ]
     },
     "execution_count": 9,
     "metadata": {},
     "output_type": "execute_result"
    }
   ],
   "source": [
    "data_network"
   ]
  },
  {
   "cell_type": "code",
   "execution_count": 10,
   "id": "f942eefe",
   "metadata": {
    "scrolled": false
   },
   "outputs": [
    {
     "data": {
      "text/html": [
       "<div>\n",
       "<style scoped>\n",
       "    .dataframe tbody tr th:only-of-type {\n",
       "        vertical-align: middle;\n",
       "    }\n",
       "\n",
       "    .dataframe tbody tr th {\n",
       "        vertical-align: top;\n",
       "    }\n",
       "\n",
       "    .dataframe thead th {\n",
       "        text-align: right;\n",
       "    }\n",
       "</style>\n",
       "<table border=\"1\" class=\"dataframe\">\n",
       "  <thead>\n",
       "    <tr style=\"text-align: right;\">\n",
       "      <th></th>\n",
       "      <th>X1</th>\n",
       "      <th>X2</th>\n",
       "      <th>X3</th>\n",
       "      <th>W1</th>\n",
       "      <th>W2</th>\n",
       "      <th>W3</th>\n",
       "      <th>p</th>\n",
       "      <th>T</th>\n",
       "      <th>m</th>\n",
       "      <th>Y</th>\n",
       "    </tr>\n",
       "  </thead>\n",
       "  <tbody>\n",
       "    <tr>\n",
       "      <th>0</th>\n",
       "      <td>0</td>\n",
       "      <td>1</td>\n",
       "      <td>1</td>\n",
       "      <td>-0.25</td>\n",
       "      <td>0.25</td>\n",
       "      <td>-0.25</td>\n",
       "      <td>0.500000</td>\n",
       "      <td>1</td>\n",
       "      <td>0.622459</td>\n",
       "      <td>0</td>\n",
       "    </tr>\n",
       "    <tr>\n",
       "      <th>1</th>\n",
       "      <td>0</td>\n",
       "      <td>0</td>\n",
       "      <td>1</td>\n",
       "      <td>0.25</td>\n",
       "      <td>-0.25</td>\n",
       "      <td>-0.25</td>\n",
       "      <td>0.222700</td>\n",
       "      <td>1</td>\n",
       "      <td>0.904651</td>\n",
       "      <td>1</td>\n",
       "    </tr>\n",
       "    <tr>\n",
       "      <th>2</th>\n",
       "      <td>1</td>\n",
       "      <td>0</td>\n",
       "      <td>0</td>\n",
       "      <td>-0.25</td>\n",
       "      <td>0.25</td>\n",
       "      <td>-0.25</td>\n",
       "      <td>0.544525</td>\n",
       "      <td>0</td>\n",
       "      <td>0.320821</td>\n",
       "      <td>1</td>\n",
       "    </tr>\n",
       "    <tr>\n",
       "      <th>3</th>\n",
       "      <td>0</td>\n",
       "      <td>1</td>\n",
       "      <td>1</td>\n",
       "      <td>-0.25</td>\n",
       "      <td>0.25</td>\n",
       "      <td>-0.25</td>\n",
       "      <td>0.651355</td>\n",
       "      <td>1</td>\n",
       "      <td>0.407333</td>\n",
       "      <td>1</td>\n",
       "    </tr>\n",
       "    <tr>\n",
       "      <th>4</th>\n",
       "      <td>1</td>\n",
       "      <td>1</td>\n",
       "      <td>1</td>\n",
       "      <td>0.25</td>\n",
       "      <td>0.25</td>\n",
       "      <td>0.25</td>\n",
       "      <td>0.500000</td>\n",
       "      <td>1</td>\n",
       "      <td>0.622459</td>\n",
       "      <td>1</td>\n",
       "    </tr>\n",
       "    <tr>\n",
       "      <th>...</th>\n",
       "      <td>...</td>\n",
       "      <td>...</td>\n",
       "      <td>...</td>\n",
       "      <td>...</td>\n",
       "      <td>...</td>\n",
       "      <td>...</td>\n",
       "      <td>...</td>\n",
       "      <td>...</td>\n",
       "      <td>...</td>\n",
       "      <td>...</td>\n",
       "    </tr>\n",
       "    <tr>\n",
       "      <th>3995</th>\n",
       "      <td>0</td>\n",
       "      <td>1</td>\n",
       "      <td>0</td>\n",
       "      <td>-0.25</td>\n",
       "      <td>-0.25</td>\n",
       "      <td>0.25</td>\n",
       "      <td>0.500000</td>\n",
       "      <td>1</td>\n",
       "      <td>0.622459</td>\n",
       "      <td>0</td>\n",
       "    </tr>\n",
       "    <tr>\n",
       "      <th>3996</th>\n",
       "      <td>1</td>\n",
       "      <td>1</td>\n",
       "      <td>0</td>\n",
       "      <td>0.25</td>\n",
       "      <td>-0.25</td>\n",
       "      <td>-0.25</td>\n",
       "      <td>0.500000</td>\n",
       "      <td>0</td>\n",
       "      <td>0.377541</td>\n",
       "      <td>0</td>\n",
       "    </tr>\n",
       "    <tr>\n",
       "      <th>3997</th>\n",
       "      <td>0</td>\n",
       "      <td>1</td>\n",
       "      <td>0</td>\n",
       "      <td>-0.25</td>\n",
       "      <td>-0.25</td>\n",
       "      <td>0.25</td>\n",
       "      <td>0.222700</td>\n",
       "      <td>0</td>\n",
       "      <td>0.777300</td>\n",
       "      <td>1</td>\n",
       "    </tr>\n",
       "    <tr>\n",
       "      <th>3998</th>\n",
       "      <td>0</td>\n",
       "      <td>0</td>\n",
       "      <td>0</td>\n",
       "      <td>0.25</td>\n",
       "      <td>0.25</td>\n",
       "      <td>0.25</td>\n",
       "      <td>0.777300</td>\n",
       "      <td>1</td>\n",
       "      <td>0.222700</td>\n",
       "      <td>0</td>\n",
       "    </tr>\n",
       "    <tr>\n",
       "      <th>3999</th>\n",
       "      <td>0</td>\n",
       "      <td>0</td>\n",
       "      <td>0</td>\n",
       "      <td>0.25</td>\n",
       "      <td>0.25</td>\n",
       "      <td>0.25</td>\n",
       "      <td>0.348645</td>\n",
       "      <td>0</td>\n",
       "      <td>0.592667</td>\n",
       "      <td>0</td>\n",
       "    </tr>\n",
       "  </tbody>\n",
       "</table>\n",
       "<p>4000 rows × 10 columns</p>\n",
       "</div>"
      ],
      "text/plain": [
       "      X1  X2  X3    W1    W2    W3         p  T         m  Y\n",
       "0      0   1   1 -0.25  0.25 -0.25  0.500000  1  0.622459  0\n",
       "1      0   0   1  0.25 -0.25 -0.25  0.222700  1  0.904651  1\n",
       "2      1   0   0 -0.25  0.25 -0.25  0.544525  0  0.320821  1\n",
       "3      0   1   1 -0.25  0.25 -0.25  0.651355  1  0.407333  1\n",
       "4      1   1   1  0.25  0.25  0.25  0.500000  1  0.622459  1\n",
       "...   ..  ..  ..   ...   ...   ...       ... ..       ... ..\n",
       "3995   0   1   0 -0.25 -0.25  0.25  0.500000  1  0.622459  0\n",
       "3996   1   1   0  0.25 -0.25 -0.25  0.500000  0  0.377541  0\n",
       "3997   0   1   0 -0.25 -0.25  0.25  0.222700  0  0.777300  1\n",
       "3998   0   0   0  0.25  0.25  0.25  0.777300  1  0.222700  0\n",
       "3999   0   0   0  0.25  0.25  0.25  0.348645  0  0.592667  0\n",
       "\n",
       "[4000 rows x 10 columns]"
      ]
     },
     "execution_count": 10,
     "metadata": {},
     "output_type": "execute_result"
    }
   ],
   "source": [
    "data_feature"
   ]
  },
  {
   "cell_type": "code",
   "execution_count": 11,
   "id": "1dc09510",
   "metadata": {},
   "outputs": [],
   "source": [
    "Adj = sparse.csr_matrix((\n",
    "    np.full(n_edge, True), \n",
    "    (np.array(data_network.row)-1, np.array(data_network.col)-1)\n",
    ")).toarray()"
   ]
  },
  {
   "cell_type": "code",
   "execution_count": 12,
   "id": "fc72812b",
   "metadata": {},
   "outputs": [],
   "source": [
    "G = KECENI.Graph(Adj)"
   ]
  },
  {
   "cell_type": "code",
   "execution_count": 13,
   "id": "0e58e588",
   "metadata": {},
   "outputs": [],
   "source": [
    "Ys = data_feature.iloc[:,9].values\n",
    "Ts = data_feature.iloc[:,7].values\n",
    "Xs = data_feature.iloc[:,3:6].values"
   ]
  },
  {
   "cell_type": "code",
   "execution_count": 14,
   "id": "c0d69a5b",
   "metadata": {},
   "outputs": [],
   "source": [
    "data = KECENI.Data(Ys, Ts, Xs, G)"
   ]
  },
  {
   "cell_type": "markdown",
   "id": "218650b5",
   "metadata": {},
   "source": [
    "# hyperparameters"
   ]
  },
  {
   "cell_type": "code",
   "execution_count": 15,
   "id": "415255c8",
   "metadata": {},
   "outputs": [],
   "source": [
    "from hyperparams import delta"
   ]
  },
  {
   "cell_type": "markdown",
   "id": "b5ac30d3",
   "metadata": {},
   "source": [
    "# counterfactual of interest"
   ]
  },
  {
   "cell_type": "code",
   "execution_count": 16,
   "id": "fb73b5c6",
   "metadata": {},
   "outputs": [],
   "source": [
    "i0s = np.arange(0,n_node,10)"
   ]
  },
  {
   "cell_type": "code",
   "execution_count": 17,
   "id": "d9d2ade8",
   "metadata": {},
   "outputs": [],
   "source": [
    "T0s_0 = Ts.copy(); T0s_0[:] = 0\n",
    "T0s_1 = Ts.copy(); T0s_1[:] = 1"
   ]
  },
  {
   "cell_type": "code",
   "execution_count": 18,
   "id": "19cb88ed",
   "metadata": {},
   "outputs": [],
   "source": [
    "T0s = np.stack([T0s_0, T0s_1], 0)"
   ]
  },
  {
   "cell_type": "markdown",
   "id": "4a27802c",
   "metadata": {},
   "source": [
    "# groundtruth"
   ]
  },
  {
   "cell_type": "code",
   "execution_count": 19,
   "id": "82f07e7c",
   "metadata": {},
   "outputs": [],
   "source": [
    "from KECENI.RegressionModel import FittedRegressionModel\n",
    "from KECENI.PropensityModel import FittedPropensityModel\n",
    "from KECENI.CovariateModel import FittedCovariateModel"
   ]
  },
  {
   "cell_type": "code",
   "execution_count": 20,
   "id": "5214a45b",
   "metadata": {},
   "outputs": [],
   "source": [
    "from true_model import mu, pi, rX"
   ]
  },
  {
   "cell_type": "code",
   "execution_count": 21,
   "id": "51a40d39",
   "metadata": {},
   "outputs": [],
   "source": [
    "true_model = KECENI.Model(\n",
    "    FittedRegressionModel(mu),\n",
    "    FittedPropensityModel(pi),\n",
    "    FittedCovariateModel(rX),\n",
    "    delta\n",
    ")"
   ]
  },
  {
   "cell_type": "code",
   "execution_count": 22,
   "id": "97d7530c",
   "metadata": {},
   "outputs": [],
   "source": [
    "true_fit = true_model.fit(data, n_X=None)"
   ]
  },
  {
   "cell_type": "code",
   "execution_count": 23,
   "id": "0a201ade",
   "metadata": {},
   "outputs": [],
   "source": [
    "result_true = true_fit.G_estimate(\n",
    "    i0s[:,None], T0s, n_X=10000\n",
    ")"
   ]
  },
  {
   "cell_type": "code",
   "execution_count": 24,
   "id": "7fe8f998",
   "metadata": {},
   "outputs": [],
   "source": [
    "YTRs_0, YTRs_1 = np.moveaxis(result_true, -1, 0)\n",
    "YTRds = YTRs_1 - YTRs_0"
   ]
  },
  {
   "cell_type": "code",
   "execution_count": 25,
   "id": "d45b371d",
   "metadata": {},
   "outputs": [],
   "source": [
    "EYTR_0 = np.mean(YTRs_0)\n",
    "EYTR_1 = np.mean(YTRs_1)\n",
    "EYTR_d = EYTR_1 - EYTR_0"
   ]
  },
  {
   "cell_type": "code",
   "execution_count": 26,
   "id": "5a8fb836",
   "metadata": {},
   "outputs": [
    {
     "data": {
      "text/plain": [
       "(0.405963835417983, 0.5938193578046029, 0.18785552238661996)"
      ]
     },
     "execution_count": 26,
     "metadata": {},
     "output_type": "execute_result"
    }
   ],
   "source": [
    "EYTR_0, EYTR_1, EYTR_d"
   ]
  },
  {
   "cell_type": "code",
   "execution_count": 27,
   "id": "1989f506",
   "metadata": {},
   "outputs": [
    {
     "data": {
      "text/plain": [
       "(array([ 58.,  25.,   0.,   0.,   4., 108.,  81.,  73.,  22.,  29.]),\n",
       " array([0.11562113, 0.12855088, 0.14148063, 0.15441039, 0.16734014,\n",
       "        0.18026989, 0.19319965, 0.2061294 , 0.21905916, 0.23198891,\n",
       "        0.24491866]),\n",
       " <BarContainer object of 10 artists>)"
      ]
     },
     "execution_count": 27,
     "metadata": {},
     "output_type": "execute_result"
    },
    {
     "data": {
      "image/png": "[encoded data removed]",
      "text/plain": [
       "<Figure size 640x480 with 1 Axes>"
      ]
     },
     "metadata": {},
     "output_type": "display_data"
    }
   ],
   "source": [
    "plt.hist(YTRds)"
   ]
  },
  {
   "cell_type": "markdown",
   "id": "9ba0cef7",
   "metadata": {},
   "source": [
    "# estimation"
   ]
  },
  {
   "cell_type": "code",
   "execution_count": 28,
   "id": "0d76958f",
   "metadata": {},
   "outputs": [],
   "source": [
    "from KECENI.RegressionModel import KernelRegressionModel\n",
    "from KECENI.PropensityModel import KernelIIDPropensityModel\n",
    "from KECENI.CovariateModel import IIDCovariateModel"
   ]
  },
  {
   "cell_type": "code",
   "execution_count": 29,
   "id": "2a8d9428",
   "metadata": {},
   "outputs": [],
   "source": [
    "from hyperparams import delta_mu, delta_pi"
   ]
  },
  {
   "cell_type": "markdown",
   "id": "b85dafb7",
   "metadata": {},
   "source": [
    "## - cross-validation"
   ]
  },
  {
   "cell_type": "markdown",
   "id": "fd411539",
   "metadata": {},
   "source": [
    "### * outcome regression model"
   ]
  },
  {
   "cell_type": "code",
   "execution_count": 30,
   "id": "35d3cc7d",
   "metadata": {},
   "outputs": [],
   "source": [
    "lamdas = np.linspace(0, 20, 21)[1:]"
   ]
  },
  {
   "cell_type": "code",
   "execution_count": 31,
   "id": "0b45874e",
   "metadata": {},
   "outputs": [],
   "source": [
    "mu_fit = KernelRegressionModel(delta_mu).fit(data)"
   ]
  },
  {
   "cell_type": "code",
   "execution_count": 32,
   "id": "eebbd7b2",
   "metadata": {},
   "outputs": [
    {
     "name": "stderr",
     "output_type": "stream",
     "text": [
      "j: 100%|█████████████████████████████████████████████████████████| 4000/4000 [02:38<00:00, 25.22it/s]\n"
     ]
    }
   ],
   "source": [
    "_, mus_cv = mu_fit.loo_cv(lamdas, tqdm=tqdm, n_process=n_process)"
   ]
  },
  {
   "cell_type": "code",
   "execution_count": 33,
   "id": "2c3c1f0d",
   "metadata": {},
   "outputs": [
    {
     "data": {
      "text/plain": [
       "[<matplotlib.lines.Line2D at 0x154a50492930>]"
      ]
     },
     "execution_count": 33,
     "metadata": {},
     "output_type": "execute_result"
    },
    {
     "data": {
      "image/png": "[encoded data removed]",
      "text/plain": [
       "<Figure size 640x480 with 1 Axes>"
      ]
     },
     "metadata": {},
     "output_type": "display_data"
    }
   ],
   "source": [
    "plt.plot(lamdas, np.mean((mus_cv-Ys)**2, -1))"
   ]
  },
  {
   "cell_type": "code",
   "execution_count": 34,
   "id": "85f247d8",
   "metadata": {},
   "outputs": [],
   "source": [
    "id_mcv = np.argmin(np.mean((mus_cv-Ys)**2, -1))\n",
    "lamda_mu = lamdas[id_mcv]"
   ]
  },
  {
   "cell_type": "code",
   "execution_count": 35,
   "id": "59188b99",
   "metadata": {},
   "outputs": [
    {
     "data": {
      "text/plain": [
       "(6, 7.0)"
      ]
     },
     "execution_count": 35,
     "metadata": {},
     "output_type": "execute_result"
    }
   ],
   "source": [
    "id_mcv, lamda_mu"
   ]
  },
  {
   "cell_type": "markdown",
   "id": "0f5cd86f",
   "metadata": {},
   "source": [
    "#### check"
   ]
  },
  {
   "cell_type": "code",
   "execution_count": 40,
   "id": "00396f04",
   "metadata": {},
   "outputs": [
    {
     "data": {
      "text/plain": [
       "[<matplotlib.lines.Line2D at 0x14d3c9cb4b90>]"
      ]
     },
     "execution_count": 40,
     "metadata": {},
     "output_type": "execute_result"
    },
    {
     "data": {
      "image/png": "[encoded data removed]",
      "text/plain": [
       "<Figure size 640x480 with 1 Axes>"
      ]
     },
     "metadata": {},
     "output_type": "display_data"
    }
   ],
   "source": [
    "plt.scatter(data_feature.m.values, mus_cv[id_mcv])\n",
    "plt.plot([0, 1], [0, 1], color='black', linestyle=':')"
   ]
  },
  {
   "cell_type": "markdown",
   "id": "26cdd089",
   "metadata": {},
   "source": [
    "### * propensity score model"
   ]
  },
  {
   "cell_type": "code",
   "execution_count": 41,
   "id": "b3a64c39",
   "metadata": {},
   "outputs": [],
   "source": [
    "lamdas = np.linspace(0, 20, 21)[1:]"
   ]
  },
  {
   "cell_type": "code",
   "execution_count": 42,
   "id": "ff7beecb",
   "metadata": {},
   "outputs": [],
   "source": [
    "pi_fit = KernelIIDPropensityModel(delta_pi).fit(data)"
   ]
  },
  {
   "cell_type": "code",
   "execution_count": 43,
   "id": "4d59e2b2",
   "metadata": {},
   "outputs": [
    {
     "name": "stderr",
     "output_type": "stream",
     "text": [
      "j: 100%|█████████████████████████████████████████████████████████| 4000/4000 [02:28<00:00, 26.98it/s]\n"
     ]
    }
   ],
   "source": [
    "_, pis_cv = pi_fit.loo_cv(lamdas, tqdm=tqdm, n_process=n_process)"
   ]
  },
  {
   "cell_type": "code",
   "execution_count": 44,
   "id": "95b98451",
   "metadata": {},
   "outputs": [
    {
     "data": {
      "text/plain": [
       "[<matplotlib.lines.Line2D at 0x14d3c9c75dc0>]"
      ]
     },
     "execution_count": 44,
     "metadata": {},
     "output_type": "execute_result"
    },
    {
     "data": {
      "image/png": "[encoded data removed]",
      "text/plain": [
       "<Figure size 640x480 with 1 Axes>"
      ]
     },
     "metadata": {},
     "output_type": "display_data"
    }
   ],
   "source": [
    "plt.plot(lamdas, np.mean(-np.log(np.abs(pis_cv + Ts - 1)), -1))"
   ]
  },
  {
   "cell_type": "code",
   "execution_count": 45,
   "id": "5a5b8fb1",
   "metadata": {},
   "outputs": [],
   "source": [
    "id_pcv = np.argmin(np.mean(-np.log(np.abs(pis_cv + Ts - 1)), -1))\n",
    "lamda_pi = lamdas[id_pcv]"
   ]
  },
  {
   "cell_type": "code",
   "execution_count": 46,
   "id": "d6a56ce1",
   "metadata": {},
   "outputs": [
    {
     "data": {
      "text/plain": [
       "(10, 11.0)"
      ]
     },
     "execution_count": 46,
     "metadata": {},
     "output_type": "execute_result"
    }
   ],
   "source": [
    "id_pcv, lamda_pi"
   ]
  },
  {
   "cell_type": "markdown",
   "id": "9b20b63e",
   "metadata": {},
   "source": [
    "#### check"
   ]
  },
  {
   "cell_type": "code",
   "execution_count": 47,
   "id": "aff3df0e",
   "metadata": {},
   "outputs": [
    {
     "data": {
      "text/plain": [
       "[<matplotlib.lines.Line2D at 0x14d4e099be30>]"
      ]
     },
     "execution_count": 47,
     "metadata": {},
     "output_type": "execute_result"
    },
    {
     "data": {
      "image/png": "[encoded data removed]",
      "text/plain": [
       "<Figure size 640x480 with 1 Axes>"
      ]
     },
     "metadata": {},
     "output_type": "display_data"
    }
   ],
   "source": [
    "plt.plot(lamdas, np.mean((pis_cv - data_feature.p.values)**2, -1))"
   ]
  },
  {
   "cell_type": "code",
   "execution_count": 48,
   "id": "906d4f48",
   "metadata": {},
   "outputs": [
    {
     "data": {
      "text/plain": [
       "[<matplotlib.lines.Line2D at 0x14d4e0a12ab0>]"
      ]
     },
     "execution_count": 48,
     "metadata": {},
     "output_type": "execute_result"
    },
    {
     "data": {
      "image/png": "[encoded data removed]",
      "text/plain": [
       "<Figure size 640x480 with 1 Axes>"
      ]
     },
     "metadata": {},
     "output_type": "display_data"
    }
   ],
   "source": [
    "plt.scatter(data_feature.p.values, pis_cv[id_pcv])\n",
    "plt.plot([0.2,0.8], [0.2,0.8], color='black', linestyle=':')"
   ]
  },
  {
   "cell_type": "markdown",
   "id": "0655c1d8",
   "metadata": {},
   "source": [
    "### * KECENI"
   ]
  },
  {
   "cell_type": "code",
   "execution_count": 49,
   "id": "3ab7ad18",
   "metadata": {},
   "outputs": [],
   "source": [
    "# lamda_mu = 4.0\n",
    "# lamda_pi = 5.0"
   ]
  },
  {
   "cell_type": "code",
   "execution_count": 50,
   "id": "89048f39",
   "metadata": {},
   "outputs": [],
   "source": [
    "keceni_model = KECENI.Model(\n",
    "    KernelRegressionModel(delta_mu, lamda=lamda_mu),\n",
    "    KernelIIDPropensityModel(delta_pi, lamda=lamda_pi),\n",
    "    IIDCovariateModel(),\n",
    "    delta\n",
    ")"
   ]
  },
  {
   "cell_type": "code",
   "execution_count": 54,
   "id": "7a56adcd",
   "metadata": {},
   "outputs": [
    {
     "name": "stderr",
     "output_type": "stream",
     "text": [
      "fit: 100%|███████████████████████████████████████████████████████| 4000/4000 [08:58<00:00,  7.42it/s]\n"
     ]
    }
   ],
   "source": [
    "keceni_fit = keceni_model.fit(data, tqdm=tqdm)"
   ]
  },
  {
   "cell_type": "code",
   "execution_count": 56,
   "id": "19428a80",
   "metadata": {},
   "outputs": [],
   "source": [
    "lamdas = np.linspace(0, 20, 21)[1:]"
   ]
  },
  {
   "cell_type": "code",
   "execution_count": null,
   "id": "d414557d",
   "metadata": {},
   "outputs": [
    {
     "name": "stderr",
     "output_type": "stream",
     "text": [
      "cv: 100%|████████████████████████████████████████████████████████| 4000/4000 [01:12<00:00, 55.06it/s]\n"
     ]
    }
   ],
   "source": [
    "result_cv = keceni_fit.cv(\n",
    "    i0s=i0s, tqdm=tqdm\n",
    ")"
   ]
  },
  {
   "cell_type": "code",
   "execution_count": 61,
   "id": "f852af2a",
   "metadata": {},
   "outputs": [],
   "source": [
    "xs_cv, xhs_cv = result_cv.xs_xhs(lamdas)"
   ]
  },
  {
   "cell_type": "code",
   "execution_count": 62,
   "id": "19d211de",
   "metadata": {},
   "outputs": [
    {
     "data": {
      "text/plain": [
       "[<matplotlib.lines.Line2D at 0x14d434820c20>]"
      ]
     },
     "execution_count": 62,
     "metadata": {},
     "output_type": "execute_result"
    },
    {
     "data": {
      "image/png": "[encoded data removed]",
      "text/plain": [
       "<Figure size 640x480 with 1 Axes>"
      ]
     },
     "metadata": {},
     "output_type": "display_data"
    }
   ],
   "source": [
    "plt.plot(lamdas, np.mean((xs_cv-xhs_cv)**2, -1))"
   ]
  },
  {
   "cell_type": "code",
   "execution_count": 65,
   "id": "6b50d5e6",
   "metadata": {},
   "outputs": [
    {
     "data": {
      "text/plain": [
       "5"
      ]
     },
     "execution_count": 65,
     "metadata": {},
     "output_type": "execute_result"
    }
   ],
   "source": [
    "id_cv = np.argmin(np.mean((xs_cv-xhs_cv)**2, -1))\n",
    "id_cv"
   ]
  },
  {
   "cell_type": "code",
   "execution_count": null,
   "id": "56e79c19",
   "metadata": {},
   "outputs": [],
   "source": [
    "# id_cv = 5"
   ]
  },
  {
   "cell_type": "code",
   "execution_count": 67,
   "id": "10424fe0",
   "metadata": {},
   "outputs": [
    {
     "data": {
      "text/plain": [
       "6.0"
      ]
     },
     "execution_count": 67,
     "metadata": {},
     "output_type": "execute_result"
    }
   ],
   "source": [
    "lamdas[id_cv]"
   ]
  },
  {
   "cell_type": "markdown",
   "id": "5de73cff",
   "metadata": {},
   "source": [
    "## - G estimate"
   ]
  },
  {
   "cell_type": "code",
   "execution_count": null,
   "id": "33170413",
   "metadata": {},
   "outputs": [
    {
     "name": "stderr",
     "output_type": "stream",
     "text": [
      "i0: 100%|██████████████████████████████████████████████████████████| 800/800 [01:00<00:00, 13.26it/s]\n"
     ]
    }
   ],
   "source": [
    "result_G = keceni_fit.G_estimate(\n",
    "    i0s[:,None], T0s, n_X=1000,\n",
    "    n_process=n_process, tqdm=tqdm, level_tqdm=0\n",
    ")"
   ]
  },
  {
   "cell_type": "code",
   "execution_count": 69,
   "id": "de6e5fbf",
   "metadata": {},
   "outputs": [],
   "source": [
    "YGs_0, YGs_1 = np.moveaxis(result_G, -1, 0)\n",
    "YGs_d = YGs_1 - YGs_0"
   ]
  },
  {
   "cell_type": "code",
   "execution_count": 70,
   "id": "115f0b2d",
   "metadata": {},
   "outputs": [],
   "source": [
    "EYG_0 = np.mean(YGs_0)\n",
    "EYG_1 = np.mean(YGs_1)\n",
    "EYG_d = EYG_1 - EYG_0"
   ]
  },
  {
   "cell_type": "code",
   "execution_count": null,
   "id": "ec28b4e0",
   "metadata": {},
   "outputs": [
    {
     "data": {
      "text/plain": [
       "(0.5734096880417712, 0.4405732777999751, 0.13283641024179604)"
      ]
     },
     "execution_count": 71,
     "metadata": {},
     "output_type": "execute_result"
    }
   ],
   "source": [
    "EYG_0, EYG_1, EYG_d"
   ]
  },
  {
   "cell_type": "code",
   "execution_count": 72,
   "id": "a78724dc",
   "metadata": {},
   "outputs": [
    {
     "data": {
      "text/plain": [
       "(array([ 4., 16., 49., 92., 72., 49., 45., 27., 39.,  7.]),\n",
       " array([0.09054629, 0.09920658, 0.10786686, 0.11652715, 0.12518744,\n",
       "        0.13384773, 0.14250802, 0.15116831, 0.1598286 , 0.16848889,\n",
       "        0.17714918]),\n",
       " <BarContainer object of 10 artists>)"
      ]
     },
     "execution_count": 72,
     "metadata": {},
     "output_type": "execute_result"
    },
    {
     "data": {
      "image/png": "[encoded data removed]",
      "text/plain": [
       "<Figure size 640x480 with 1 Axes>"
      ]
     },
     "metadata": {},
     "output_type": "display_data"
    }
   ],
   "source": [
    "plt.hist(YGs_d)"
   ]
  },
  {
   "cell_type": "markdown",
   "id": "a0beaef7",
   "metadata": {},
   "source": [
    "## - DR estimate"
   ]
  },
  {
   "cell_type": "code",
   "execution_count": null,
   "id": "64bf0934",
   "metadata": {},
   "outputs": [
    {
     "name": "stderr",
     "output_type": "stream",
     "text": [
      "AIPW: 100%|██████████████████████████████████████████████████████| 4000/4000 [01:24<00:00, 47.24it/s]\n"
     ]
    }
   ],
   "source": [
    "result_AIPW = keceni_fit.kernel_AIPW(\n",
    "    i0s[:,None], T0s, tqdm=tqdm\n",
    ")"
   ]
  },
  {
   "cell_type": "code",
   "execution_count": 76,
   "id": "e6edc8f5",
   "metadata": {},
   "outputs": [],
   "source": [
    "YDRs_0, YDRs_1 = np.moveaxis(result_AIPW.est(lamdas)[id_cv], -1, 0)\n",
    "YDRs_d = YDRs_1 - YDRs_0"
   ]
  },
  {
   "cell_type": "code",
   "execution_count": 77,
   "id": "1a6ff38b",
   "metadata": {},
   "outputs": [],
   "source": [
    "EYDR_0 = np.mean(YDRs_0)\n",
    "EYDR_1 = np.mean(YDRs_1)\n",
    "EYDR_d = EYDR_1 - EYDR_0"
   ]
  },
  {
   "cell_type": "code",
   "execution_count": 78,
   "id": "412ccaea",
   "metadata": {},
   "outputs": [
    {
     "data": {
      "text/plain": [
       "(0.42239948450545034, 0.6051592247910856, 0.1827597402856353)"
      ]
     },
     "execution_count": 78,
     "metadata": {},
     "output_type": "execute_result"
    }
   ],
   "source": [
    "EYDR_0, EYDR_1, EYDR_d"
   ]
  },
  {
   "cell_type": "code",
   "execution_count": 79,
   "id": "c0e36d18",
   "metadata": {},
   "outputs": [
    {
     "data": {
      "text/plain": [
       "(array([ 29.,   0.,   0.,   0.,   0.,   0.,   0.,   0.,   0., 371.]),\n",
       " array([0.17465303, 0.17552707, 0.17640111, 0.17727515, 0.17814918,\n",
       "        0.17902322, 0.17989726, 0.1807713 , 0.18164534, 0.18251938,\n",
       "        0.18339342]),\n",
       " <BarContainer object of 10 artists>)"
      ]
     },
     "execution_count": 79,
     "metadata": {},
     "output_type": "execute_result"
    },
    {
     "data": {
      "image/png": "[encoded data removed]",
      "text/plain": [
       "<Figure size 640x480 with 1 Axes>"
      ]
     },
     "metadata": {},
     "output_type": "display_data"
    }
   ],
   "source": [
    "plt.hist(YDRs_d)"
   ]
  },
  {
   "cell_type": "code",
   "execution_count": null,
   "id": "d83351de",
   "metadata": {},
   "outputs": [],
   "source": []
  }
 ],
 "metadata": {
  "kernelspec": {
   "display_name": "causalnet",
   "language": "python",
   "name": "python3"
  },
  "language_info": {
   "codemirror_mode": {
    "name": "ipython",
    "version": 3
   },
   "file_extension": ".py",
   "mimetype": "text/x-python",
   "name": "python",
   "nbconvert_exporter": "python",
   "pygments_lexer": "ipython3",
   "version": "3.12.1"
  }
 },
 "nbformat": 4,
 "nbformat_minor": 5
}
