{
 "cells": [
  {
   "cell_type": "code",
   "execution_count": 1,
   "id": "9b2128e1",
   "metadata": {},
   "outputs": [],
   "source": [
    "import os, importlib, sys, time"
   ]
  },
  {
   "cell_type": "code",
   "execution_count": 2,
   "id": "1c37e18c",
   "metadata": {},
   "outputs": [],
   "source": [
    "import numpy as np\n",
    "import scipy.sparse as sparse\n",
    "import matplotlib.pyplot as plt\n",
    "import pandas as pd\n",
    "import pyarrow\n",
    "from tqdm import tqdm"
   ]
  },
  {
   "cell_type": "markdown",
   "id": "2e56f2ba",
   "metadata": {},
   "source": [
    "# groundtruth"
   ]
  },
  {
   "cell_type": "code",
   "execution_count": 3,
   "id": "8dc968fc",
   "metadata": {},
   "outputs": [],
   "source": [
    "# from KECENI.RegressionModel import FittedRegressionModel\n",
    "# from KECENI.PropensityModel import FittedPropensityModel\n",
    "# from KECENI.CovariateModel import FittedCovariateModel"
   ]
  },
  {
   "cell_type": "code",
   "execution_count": 4,
   "id": "e45477f0",
   "metadata": {},
   "outputs": [],
   "source": [
    "# from true_model import mu, pi, rX"
   ]
  },
  {
   "cell_type": "code",
   "execution_count": 5,
   "id": "67144bfe",
   "metadata": {},
   "outputs": [],
   "source": [
    "# n_X = 10000"
   ]
  },
  {
   "cell_type": "code",
   "execution_count": 6,
   "id": "b8eb4bde",
   "metadata": {},
   "outputs": [],
   "source": [
    "# true_model = KECENI.Model(\n",
    "#     FittedRegressionModel(mu),\n",
    "#     FittedPropensityModel(pi),\n",
    "#     FittedCovariateModel(rX),\n",
    "#     delta\n",
    "# )"
   ]
  },
  {
   "cell_type": "code",
   "execution_count": 7,
   "id": "97d7530c",
   "metadata": {},
   "outputs": [],
   "source": [
    "# true_fit = true_model.fit(data)"
   ]
  },
  {
   "cell_type": "code",
   "execution_count": 8,
   "id": "e5a03d52",
   "metadata": {},
   "outputs": [],
   "source": [
    "# result_true = true_fit.G_estimate(\n",
    "#     np.arange(0,G.n_node,10)[:,None], np.stack([T1s, T2s], 0), n_X=n_X, tqdm=tqdm\n",
    "# )"
   ]
  },
  {
   "cell_type": "code",
   "execution_count": 9,
   "id": "7fe8f998",
   "metadata": {},
   "outputs": [],
   "source": [
    "# YTR1s, YTR2s = np.moveaxis(result_true, -1, 0)\n",
    "# YTRds = YTR1s - YTR2s"
   ]
  },
  {
   "cell_type": "code",
   "execution_count": 10,
   "id": "d45b371d",
   "metadata": {},
   "outputs": [],
   "source": [
    "EYTR1, EYTR2 = (0.593984501067794, 0.40608837990296737)\n",
    "EYTRd = EYTR1 - EYTR2"
   ]
  },
  {
   "cell_type": "code",
   "execution_count": 11,
   "id": "5a8fb836",
   "metadata": {
    "scrolled": true
   },
   "outputs": [
    {
     "data": {
      "text/plain": [
       "(0.593984501067794, 0.40608837990296737, 0.18789612116482662)"
      ]
     },
     "execution_count": 11,
     "metadata": {},
     "output_type": "execute_result"
    }
   ],
   "source": [
    "EYTR1, EYTR2, EYTRd"
   ]
  },
  {
   "cell_type": "code",
   "execution_count": 12,
   "id": "dd67b3e8",
   "metadata": {},
   "outputs": [],
   "source": [
    "# plt.hist(YTRds[YTRds > 0])"
   ]
  },
  {
   "cell_type": "markdown",
   "id": "cb8d0412",
   "metadata": {},
   "source": [
    "# load result"
   ]
  },
  {
   "cell_type": "code",
   "execution_count": null,
   "id": "16dba405",
   "metadata": {},
   "outputs": [],
   "source": [
    "result_ate = pd.read_feather('result_tmlenet.feather')"
   ]
  },
  {
   "cell_type": "code",
   "execution_count": 14,
   "id": "aa39968a",
   "metadata": {},
   "outputs": [],
   "source": [
    "Yhat1 = result_ate.Yhat1.values\n",
    "Yhat2 = result_ate.Yhat2.values\n",
    "Yhatd = Yhat1 - Yhat2"
   ]
  },
  {
   "cell_type": "markdown",
   "id": "336e8177",
   "metadata": {},
   "source": [
    "# results"
   ]
  },
  {
   "cell_type": "code",
   "execution_count": 15,
   "id": "79130e0e",
   "metadata": {},
   "outputs": [
    {
     "data": {
      "text/plain": [
       "<matplotlib.lines.Line2D at 0x14b66416e2a0>"
      ]
     },
     "execution_count": 15,
     "metadata": {},
     "output_type": "execute_result"
    },
    {
     "data": {
      "image/png": "[encoded data removed]",
      "text/plain": [
       "<Figure size 400x300 with 1 Axes>"
      ]
     },
     "metadata": {},
     "output_type": "display_data"
    }
   ],
   "source": [
    "fig = plt.figure(figsize=(4,3))\n",
    "plt.hist(Yhat1, color='blue', alpha=0.5, density=True, bins=np.arange(0.35,0.65,0.01))\n",
    "plt.axvline(EYTR1, color='blue')\n",
    "plt.hist(Yhat2, color='red', alpha=0.5, density=True, bins=np.arange(0.35,0.65,0.01))\n",
    "plt.axvline(EYTR2, color='red')"
   ]
  },
  {
   "cell_type": "code",
   "execution_count": 16,
   "id": "ec28964c",
   "metadata": {},
   "outputs": [
    {
     "data": {
      "text/plain": [
       "<matplotlib.lines.Line2D at 0x1542c862a3f0>"
      ]
     },
     "execution_count": 16,
     "metadata": {},
     "output_type": "execute_result"
    },
    {
     "data": {
      "image/png": "[encoded data removed]",
      "text/plain": [
       "<Figure size 640x480 with 1 Axes>"
      ]
     },
     "metadata": {},
     "output_type": "display_data"
    }
   ],
   "source": [
    "plt.hist(Yhatd, color='black', alpha=0.5)\n",
    "plt.axvline(EYTRd, color='black')"
   ]
  },
  {
   "cell_type": "code",
   "execution_count": 17,
   "id": "0a4c6d4a",
   "metadata": {},
   "outputs": [
    {
     "data": {
      "text/plain": [
       "0.035061239776114694"
      ]
     },
     "execution_count": 17,
     "metadata": {},
     "output_type": "execute_result"
    }
   ],
   "source": [
    "np.sqrt(np.mean((Yhatd - EYTRd)**2, 0))"
   ]
  }
 ],
 "metadata": {
  "kernelspec": {
   "display_name": "Python [conda env:.conda-causalnet]",
   "language": "python",
   "name": "conda-env-.conda-causalnet-py"
  },
  "language_info": {
   "codemirror_mode": {
    "name": "ipython",
    "version": 3
   },
   "file_extension": ".py",
   "mimetype": "text/x-python",
   "name": "python",
   "nbconvert_exporter": "python",
   "pygments_lexer": "ipython3",
   "version": "3.12.1"
  }
 },
 "nbformat": 4,
 "nbformat_minor": 5
}
