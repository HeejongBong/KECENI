{
 "cells": [
  {
   "cell_type": "code",
   "execution_count": 2,
   "id": "6db3349f",
   "metadata": {},
   "outputs": [],
   "source": [
    "import os, importlib, sys, time"
   ]
  },
  {
   "cell_type": "code",
   "execution_count": 3,
   "id": "1c37e18c",
   "metadata": {},
   "outputs": [],
   "source": [
    "import numpy as np\n",
    "import scipy.sparse as sparse\n",
    "import matplotlib.pyplot as plt\n",
    "import pandas as pd\n",
    "import pyarrow\n",
    "from tqdm import tqdm"
   ]
  },
  {
   "cell_type": "code",
   "execution_count": 4,
   "id": "23b24faf",
   "metadata": {},
   "outputs": [],
   "source": [
    "import KECENI"
   ]
  },
  {
   "cell_type": "code",
   "execution_count": 5,
   "id": "01b2dacf",
   "metadata": {},
   "outputs": [],
   "source": [
    "n_process = 8"
   ]
  },
  {
   "cell_type": "markdown",
   "id": "c1e81cff",
   "metadata": {},
   "source": [
    "# load data"
   ]
  },
  {
   "cell_type": "code",
   "execution_count": 6,
   "id": "638c9bf6",
   "metadata": {},
   "outputs": [],
   "source": [
    "save_dir = 'result_linear'\n",
    "data_dir = 'data'"
   ]
  },
  {
   "cell_type": "code",
   "execution_count": 7,
   "id": "a4c596a8",
   "metadata": {},
   "outputs": [],
   "source": [
    "data_network = pd.read_feather('%s/network.feather'%(data_dir))\n",
    "data_latent = pd.read_feather('%s/latent.feather'%data_dir)"
   ]
  },
  {
   "cell_type": "code",
   "execution_count": 8,
   "id": "64f99c6c",
   "metadata": {},
   "outputs": [
    {
     "data": {
      "text/html": [
       "<div>\n",
       "<style scoped>\n",
       "    .dataframe tbody tr th:only-of-type {\n",
       "        vertical-align: middle;\n",
       "    }\n",
       "\n",
       "    .dataframe tbody tr th {\n",
       "        vertical-align: top;\n",
       "    }\n",
       "\n",
       "    .dataframe thead th {\n",
       "        text-align: right;\n",
       "    }\n",
       "</style>\n",
       "<table border=\"1\" class=\"dataframe\">\n",
       "  <thead>\n",
       "    <tr style=\"text-align: right;\">\n",
       "      <th></th>\n",
       "      <th>row</th>\n",
       "      <th>col</th>\n",
       "    </tr>\n",
       "  </thead>\n",
       "  <tbody>\n",
       "    <tr>\n",
       "      <th>0</th>\n",
       "      <td>1</td>\n",
       "      <td>2311</td>\n",
       "    </tr>\n",
       "    <tr>\n",
       "      <th>1</th>\n",
       "      <td>1</td>\n",
       "      <td>3144</td>\n",
       "    </tr>\n",
       "    <tr>\n",
       "      <th>2</th>\n",
       "      <td>1</td>\n",
       "      <td>3568</td>\n",
       "    </tr>\n",
       "    <tr>\n",
       "      <th>3</th>\n",
       "      <td>1</td>\n",
       "      <td>3603</td>\n",
       "    </tr>\n",
       "    <tr>\n",
       "      <th>4</th>\n",
       "      <td>2</td>\n",
       "      <td>2146</td>\n",
       "    </tr>\n",
       "    <tr>\n",
       "      <th>...</th>\n",
       "      <td>...</td>\n",
       "      <td>...</td>\n",
       "    </tr>\n",
       "    <tr>\n",
       "      <th>9917</th>\n",
       "      <td>3999</td>\n",
       "      <td>3227</td>\n",
       "    </tr>\n",
       "    <tr>\n",
       "      <th>9918</th>\n",
       "      <td>4000</td>\n",
       "      <td>279</td>\n",
       "    </tr>\n",
       "    <tr>\n",
       "      <th>9919</th>\n",
       "      <td>4000</td>\n",
       "      <td>2085</td>\n",
       "    </tr>\n",
       "    <tr>\n",
       "      <th>9920</th>\n",
       "      <td>4000</td>\n",
       "      <td>3306</td>\n",
       "    </tr>\n",
       "    <tr>\n",
       "      <th>9921</th>\n",
       "      <td>4000</td>\n",
       "      <td>3919</td>\n",
       "    </tr>\n",
       "  </tbody>\n",
       "</table>\n",
       "<p>9922 rows × 2 columns</p>\n",
       "</div>"
      ],
      "text/plain": [
       "       row   col\n",
       "0        1  2311\n",
       "1        1  3144\n",
       "2        1  3568\n",
       "3        1  3603\n",
       "4        2  2146\n",
       "...    ...   ...\n",
       "9917  3999  3227\n",
       "9918  4000   279\n",
       "9919  4000  2085\n",
       "9920  4000  3306\n",
       "9921  4000  3919\n",
       "\n",
       "[9922 rows x 2 columns]"
      ]
     },
     "execution_count": 8,
     "metadata": {},
     "output_type": "execute_result"
    }
   ],
   "source": [
    "data_network"
   ]
  },
  {
   "cell_type": "code",
   "execution_count": 9,
   "id": "95c2e40b",
   "metadata": {},
   "outputs": [
    {
     "data": {
      "text/plain": [
       "4000"
      ]
     },
     "execution_count": 9,
     "metadata": {},
     "output_type": "execute_result"
    }
   ],
   "source": [
    "n_node = len(data_latent); n_node"
   ]
  },
  {
   "cell_type": "code",
   "execution_count": 10,
   "id": "1dc09510",
   "metadata": {},
   "outputs": [],
   "source": [
    "Adj = sparse.csr_matrix((\n",
    "    np.full(len(data_network), True), \n",
    "    (np.array(data_network.row)-1, np.array(data_network.col)-1)\n",
    ")).toarray()"
   ]
  },
  {
   "cell_type": "code",
   "execution_count": 11,
   "id": "fc72812b",
   "metadata": {},
   "outputs": [],
   "source": [
    "Zs = data_latent.values\n",
    "G = KECENI.Graph(Adj, Zs=Zs)"
   ]
  },
  {
   "cell_type": "markdown",
   "id": "218650b5",
   "metadata": {},
   "source": [
    "# hyperparameters"
   ]
  },
  {
   "cell_type": "code",
   "execution_count": 12,
   "id": "415255c8",
   "metadata": {},
   "outputs": [],
   "source": [
    "from hyperparams import delta, summary_mu, summary_pi"
   ]
  },
  {
   "cell_type": "markdown",
   "id": "f1c0279f",
   "metadata": {},
   "source": [
    "# counterfactual of interest"
   ]
  },
  {
   "cell_type": "code",
   "execution_count": 13,
   "id": "71f3f777",
   "metadata": {},
   "outputs": [],
   "source": [
    "i0s = np.arange(0,n_node,10)"
   ]
  },
  {
   "cell_type": "code",
   "execution_count": 14,
   "id": "e7d0ae5b",
   "metadata": {},
   "outputs": [],
   "source": [
    "T0s_0 = np.full(n_node, 0)\n",
    "T0s_1 = np.full(n_node, 1)"
   ]
  },
  {
   "cell_type": "code",
   "execution_count": 15,
   "id": "d89347d5",
   "metadata": {},
   "outputs": [],
   "source": [
    "T0s = np.stack([T0s_0, T0s_1], 0)"
   ]
  },
  {
   "cell_type": "markdown",
   "id": "2e56f2ba",
   "metadata": {},
   "source": [
    "# groundtruth"
   ]
  },
  {
   "cell_type": "code",
   "execution_count": 16,
   "id": "d45b371d",
   "metadata": {},
   "outputs": [],
   "source": [
    "EYTR_1, EYTR_0 = (0.593984501067794, 0.40608837990296737)\n",
    "EYTR_d = EYTR_1 - EYTR_0"
   ]
  },
  {
   "cell_type": "code",
   "execution_count": 17,
   "id": "5a8fb836",
   "metadata": {},
   "outputs": [
    {
     "data": {
      "text/plain": [
       "(0.40608837990296737, 0.593984501067794, 0.18789612116482662)"
      ]
     },
     "execution_count": 17,
     "metadata": {},
     "output_type": "execute_result"
    }
   ],
   "source": [
    "EYTR_0, EYTR_1, EYTR_d"
   ]
  },
  {
   "cell_type": "markdown",
   "id": "0db1c0d1",
   "metadata": {},
   "source": [
    "# estimation"
   ]
  },
  {
   "cell_type": "code",
   "execution_count": 18,
   "id": "bf1add67",
   "metadata": {},
   "outputs": [],
   "source": [
    "n_sim = 40"
   ]
  },
  {
   "cell_type": "markdown",
   "id": "f345ff35",
   "metadata": {},
   "source": [
    "## - load simulation"
   ]
  },
  {
   "cell_type": "code",
   "execution_count": 19,
   "id": "0f4b37df",
   "metadata": {},
   "outputs": [],
   "source": [
    "lamdas = np.linspace(0, 20, 21)[1:]"
   ]
  },
  {
   "cell_type": "code",
   "execution_count": 20,
   "id": "b9145134",
   "metadata": {},
   "outputs": [],
   "source": [
    "YGs_0 = np.zeros((n_sim,)+i0s.shape); YGs_1 = np.zeros((n_sim,)+i0s.shape); YGs_d = np.zeros((n_sim,)+i0s.shape)\n",
    "YDRs_0 = np.zeros((n_sim,)+i0s.shape); YDRs_1 = np.zeros((n_sim,)+i0s.shape); YDRs_d = np.zeros((n_sim,)+i0s.shape)"
   ]
  },
  {
   "cell_type": "code",
   "execution_count": 21,
   "id": "3bda9959",
   "metadata": {},
   "outputs": [],
   "source": [
    "for i_sim in np.arange(n_sim):\n",
    "    locals().update(np.load('%s/result_%.3d.npz'%(save_dir,i_sim)))\n",
    "    YGs_0[i_sim] = YG_0; YGs_1[i_sim] = YG_1; YGs_d[i_sim] = YG_d\n",
    "    YDRs_0[i_sim] = YDR_0[id_cv]; YDRs_1[i_sim] = YDR_1[id_cv]; YDRs_d[i_sim] = YDR_d[id_cv]"
   ]
  },
  {
   "cell_type": "code",
   "execution_count": 34,
   "id": "8679a875",
   "metadata": {},
   "outputs": [],
   "source": [
    "EYGs_0, EYGs_1, EYGs_d = (YGs_0.mean(-1), YGs_1.mean(-1), YGs_d.mean(-1))\n",
    "EYDRs_0, EYDRs_1, EYDRs_d = (YDRs_0.mean(-1), YDRs_1.mean(-1), YDRs_d.mean(-1))"
   ]
  },
  {
   "cell_type": "markdown",
   "id": "e7db1535",
   "metadata": {},
   "source": [
    "## - G estimate"
   ]
  },
  {
   "cell_type": "code",
   "execution_count": 35,
   "id": "37d4b145",
   "metadata": {},
   "outputs": [
    {
     "data": {
      "text/plain": [
       "<matplotlib.lines.Line2D at 0x153a94a2ac00>"
      ]
     },
     "execution_count": 35,
     "metadata": {},
     "output_type": "execute_result"
    },
    {
     "data": {
      "image/png": "[encoded data removed]",
      "text/plain": [
       "<Figure size 640x480 with 1 Axes>"
      ]
     },
     "metadata": {},
     "output_type": "display_data"
    }
   ],
   "source": [
    "plt.hist(EYGs_1, color='red', alpha=0.5)\n",
    "plt.axvline(EYTR_1, color='red')\n",
    "plt.hist(EYGs_0, color='blue', alpha=0.5)\n",
    "plt.axvline(EYTR_0, color='blue')"
   ]
  },
  {
   "cell_type": "code",
   "execution_count": 36,
   "id": "b82855ae",
   "metadata": {},
   "outputs": [
    {
     "data": {
      "text/plain": [
       "<matplotlib.lines.Line2D at 0x153a976e4350>"
      ]
     },
     "execution_count": 36,
     "metadata": {},
     "output_type": "execute_result"
    },
    {
     "data": {
      "image/png": "[encoded data removed]",
      "text/plain": [
       "<Figure size 640x480 with 1 Axes>"
      ]
     },
     "metadata": {},
     "output_type": "display_data"
    }
   ],
   "source": [
    "plt.hist(EYGs_d, color='black', alpha=0.5)\n",
    "plt.axvline(EYTR_d, color='black')"
   ]
  },
  {
   "cell_type": "code",
   "execution_count": 37,
   "id": "a0b8cd14",
   "metadata": {},
   "outputs": [
    {
     "data": {
      "text/plain": [
       "0.02506027946055576"
      ]
     },
     "execution_count": 37,
     "metadata": {},
     "output_type": "execute_result"
    }
   ],
   "source": [
    "np.sqrt(np.mean((EYGs_d - EYTR_d)**2, 0))"
   ]
  },
  {
   "cell_type": "markdown",
   "id": "d9aa89cd",
   "metadata": {},
   "source": [
    "## -DR estimate"
   ]
  },
  {
   "cell_type": "code",
   "execution_count": 38,
   "id": "c67a9900",
   "metadata": {},
   "outputs": [
    {
     "data": {
      "text/plain": [
       "<matplotlib.lines.Line2D at 0x153a94878620>"
      ]
     },
     "execution_count": 38,
     "metadata": {},
     "output_type": "execute_result"
    },
    {
     "data": {
      "image/png": "[encoded data removed]",
      "text/plain": [
       "<Figure size 400x300 with 1 Axes>"
      ]
     },
     "metadata": {},
     "output_type": "display_data"
    }
   ],
   "source": [
    "fig = plt.figure(figsize=(4,3))\n",
    "plt.hist(EYDRs_1, color='blue', alpha=0.5, density=True, bins=np.arange(0.35,0.65,0.01))\n",
    "plt.axvline(EYTR_1, color='blue')\n",
    "plt.hist(EYDRs_0, color='red', alpha=0.5, density=True, bins=np.arange(0.35,0.65,0.01))\n",
    "plt.axvline(EYTR_0, color='red')"
   ]
  },
  {
   "cell_type": "code",
   "execution_count": 39,
   "id": "ec28964c",
   "metadata": {},
   "outputs": [
    {
     "data": {
      "text/plain": [
       "<matplotlib.lines.Line2D at 0x153a948f3080>"
      ]
     },
     "execution_count": 39,
     "metadata": {},
     "output_type": "execute_result"
    },
    {
     "data": {
      "image/png": "[encoded data removed]",
      "text/plain": [
       "<Figure size 400x300 with 1 Axes>"
      ]
     },
     "metadata": {},
     "output_type": "display_data"
    }
   ],
   "source": [
    "fig = plt.figure(figsize=(4,3))\n",
    "plt.hist(EYDRs_d, color='black', alpha=0.5)\n",
    "plt.axvline(EYTR_d, color='black')"
   ]
  },
  {
   "cell_type": "code",
   "execution_count": 40,
   "id": "7dc41d14",
   "metadata": {},
   "outputs": [
    {
     "data": {
      "text/plain": [
       "0.04802741474249631"
      ]
     },
     "execution_count": 40,
     "metadata": {},
     "output_type": "execute_result"
    }
   ],
   "source": [
    "np.sqrt(np.mean((EYDRs_d - EYTR_d)**2, 0))"
   ]
  },
  {
   "cell_type": "code",
   "execution_count": null,
   "id": "98ebdae2",
   "metadata": {},
   "outputs": [],
   "source": []
  }
 ],
 "metadata": {
  "kernelspec": {
   "display_name": "causalnet",
   "language": "python",
   "name": "python3"
  },
  "language_info": {
   "codemirror_mode": {
    "name": "ipython",
    "version": 3
   },
   "file_extension": ".py",
   "mimetype": "text/x-python",
   "name": "python",
   "nbconvert_exporter": "python",
   "pygments_lexer": "ipython3",
   "version": "3.12.1"
  }
 },
 "nbformat": 4,
 "nbformat_minor": 5
}
