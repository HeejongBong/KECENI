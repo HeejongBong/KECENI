{
 "cells": [
  {
   "cell_type": "code",
   "execution_count": 38,
   "id": "def6b1ff",
   "metadata": {},
   "outputs": [],
   "source": [
    "import os, importlib, sys, time"
   ]
  },
  {
   "cell_type": "code",
   "execution_count": 39,
   "id": "6dc05c7d",
   "metadata": {},
   "outputs": [],
   "source": [
    "import numpy as np\n",
    "import scipy.sparse as sparse\n",
    "import matplotlib.pyplot as plt\n",
    "import pandas as pd\n",
    "import pyarrow\n",
    "from tqdm import tqdm"
   ]
  },
  {
   "cell_type": "code",
   "execution_count": 40,
   "id": "257ac4ff",
   "metadata": {},
   "outputs": [],
   "source": [
    "import KECENI"
   ]
  },
  {
   "cell_type": "markdown",
   "id": "699bda19",
   "metadata": {},
   "source": [
    "# load data"
   ]
  },
  {
   "cell_type": "code",
   "execution_count": 41,
   "id": "7ff293a3",
   "metadata": {},
   "outputs": [],
   "source": [
    "save_dir = 'result'\n",
    "data_dir = 'data'"
   ]
  },
  {
   "cell_type": "code",
   "execution_count": 42,
   "id": "15b4f2b6",
   "metadata": {},
   "outputs": [],
   "source": [
    "data_network = pd.read_feather('%s/network.feather'%(data_dir))\n",
    "data_latent = pd.read_feather('%s/latent.feather'%data_dir)"
   ]
  },
  {
   "cell_type": "code",
   "execution_count": 43,
   "id": "2c131098",
   "metadata": {},
   "outputs": [
    {
     "data": {
      "text/html": [
       "<div>\n",
       "<style scoped>\n",
       "    .dataframe tbody tr th:only-of-type {\n",
       "        vertical-align: middle;\n",
       "    }\n",
       "\n",
       "    .dataframe tbody tr th {\n",
       "        vertical-align: top;\n",
       "    }\n",
       "\n",
       "    .dataframe thead th {\n",
       "        text-align: right;\n",
       "    }\n",
       "</style>\n",
       "<table border=\"1\" class=\"dataframe\">\n",
       "  <thead>\n",
       "    <tr style=\"text-align: right;\">\n",
       "      <th></th>\n",
       "      <th>row</th>\n",
       "      <th>col</th>\n",
       "    </tr>\n",
       "  </thead>\n",
       "  <tbody>\n",
       "    <tr>\n",
       "      <th>0</th>\n",
       "      <td>1</td>\n",
       "      <td>2311</td>\n",
       "    </tr>\n",
       "    <tr>\n",
       "      <th>1</th>\n",
       "      <td>1</td>\n",
       "      <td>3144</td>\n",
       "    </tr>\n",
       "    <tr>\n",
       "      <th>2</th>\n",
       "      <td>1</td>\n",
       "      <td>3568</td>\n",
       "    </tr>\n",
       "    <tr>\n",
       "      <th>3</th>\n",
       "      <td>1</td>\n",
       "      <td>3603</td>\n",
       "    </tr>\n",
       "    <tr>\n",
       "      <th>4</th>\n",
       "      <td>2</td>\n",
       "      <td>2146</td>\n",
       "    </tr>\n",
       "    <tr>\n",
       "      <th>...</th>\n",
       "      <td>...</td>\n",
       "      <td>...</td>\n",
       "    </tr>\n",
       "    <tr>\n",
       "      <th>9917</th>\n",
       "      <td>3999</td>\n",
       "      <td>3227</td>\n",
       "    </tr>\n",
       "    <tr>\n",
       "      <th>9918</th>\n",
       "      <td>4000</td>\n",
       "      <td>279</td>\n",
       "    </tr>\n",
       "    <tr>\n",
       "      <th>9919</th>\n",
       "      <td>4000</td>\n",
       "      <td>2085</td>\n",
       "    </tr>\n",
       "    <tr>\n",
       "      <th>9920</th>\n",
       "      <td>4000</td>\n",
       "      <td>3306</td>\n",
       "    </tr>\n",
       "    <tr>\n",
       "      <th>9921</th>\n",
       "      <td>4000</td>\n",
       "      <td>3919</td>\n",
       "    </tr>\n",
       "  </tbody>\n",
       "</table>\n",
       "<p>9922 rows × 2 columns</p>\n",
       "</div>"
      ],
      "text/plain": [
       "       row   col\n",
       "0        1  2311\n",
       "1        1  3144\n",
       "2        1  3568\n",
       "3        1  3603\n",
       "4        2  2146\n",
       "...    ...   ...\n",
       "9917  3999  3227\n",
       "9918  4000   279\n",
       "9919  4000  2085\n",
       "9920  4000  3306\n",
       "9921  4000  3919\n",
       "\n",
       "[9922 rows x 2 columns]"
      ]
     },
     "execution_count": 43,
     "metadata": {},
     "output_type": "execute_result"
    }
   ],
   "source": [
    "data_network"
   ]
  },
  {
   "cell_type": "code",
   "execution_count": 44,
   "id": "b4ad2661",
   "metadata": {},
   "outputs": [
    {
     "data": {
      "text/plain": [
       "4000"
      ]
     },
     "execution_count": 44,
     "metadata": {},
     "output_type": "execute_result"
    }
   ],
   "source": [
    "n_node = len(data_latent); n_node"
   ]
  },
  {
   "cell_type": "code",
   "execution_count": 45,
   "id": "d5c462f6",
   "metadata": {},
   "outputs": [],
   "source": [
    "Adj = sparse.csr_matrix((\n",
    "    np.full(len(data_network), True), \n",
    "    (np.array(data_network.row)-1, np.array(data_network.col)-1)\n",
    ")).toarray()"
   ]
  },
  {
   "cell_type": "code",
   "execution_count": 46,
   "id": "94422c78",
   "metadata": {},
   "outputs": [],
   "source": [
    "Zs = data_latent.values\n",
    "G = KECENI.Graph(Adj, Zs=Zs)"
   ]
  },
  {
   "cell_type": "markdown",
   "id": "074ff916",
   "metadata": {},
   "source": [
    "# hyperparameters"
   ]
  },
  {
   "cell_type": "code",
   "execution_count": 47,
   "id": "176ba9c4",
   "metadata": {},
   "outputs": [],
   "source": [
    "from hyperparams import GW"
   ]
  },
  {
   "cell_type": "markdown",
   "id": "ce8159bd",
   "metadata": {},
   "source": [
    "# counterfactual of interest"
   ]
  },
  {
   "cell_type": "code",
   "execution_count": 48,
   "id": "9284f6ad",
   "metadata": {},
   "outputs": [],
   "source": [
    "i0s = np.arange(0,n_node,10)"
   ]
  },
  {
   "cell_type": "code",
   "execution_count": 49,
   "id": "0c2f4eef",
   "metadata": {},
   "outputs": [],
   "source": [
    "T0s_0 = np.full(n_node, 0)\n",
    "T0s_1 = np.full(n_node, 1)"
   ]
  },
  {
   "cell_type": "code",
   "execution_count": 50,
   "id": "75f522e5",
   "metadata": {},
   "outputs": [],
   "source": [
    "T0s = np.stack([T0s_0, T0s_1], 0)"
   ]
  },
  {
   "cell_type": "markdown",
   "id": "f3b2c02f",
   "metadata": {},
   "source": [
    "# groundtruth"
   ]
  },
  {
   "cell_type": "code",
   "execution_count": 51,
   "id": "3a27be96",
   "metadata": {},
   "outputs": [],
   "source": [
    "EYTR_1, EYTR_0 = (0.593984501067794, 0.40608837990296737)\n",
    "EYTR_d = EYTR_1 - EYTR_0"
   ]
  },
  {
   "cell_type": "code",
   "execution_count": 52,
   "id": "4450e1e8",
   "metadata": {},
   "outputs": [
    {
     "data": {
      "text/plain": [
       "(0.40608837990296737, 0.593984501067794, 0.18789612116482662)"
      ]
     },
     "execution_count": 52,
     "metadata": {},
     "output_type": "execute_result"
    }
   ],
   "source": [
    "EYTR_0, EYTR_1, EYTR_d"
   ]
  },
  {
   "cell_type": "markdown",
   "id": "d6777004",
   "metadata": {},
   "source": [
    "# estimation"
   ]
  },
  {
   "cell_type": "code",
   "execution_count": 53,
   "id": "c3ae7c44",
   "metadata": {},
   "outputs": [],
   "source": [
    "n_sim = 40"
   ]
  },
  {
   "cell_type": "markdown",
   "id": "e16441ef",
   "metadata": {},
   "source": [
    "## - load simulation"
   ]
  },
  {
   "cell_type": "code",
   "execution_count": 54,
   "id": "c0b0c59c",
   "metadata": {},
   "outputs": [],
   "source": [
    "lamdas = np.linspace(0, 20, 21)[1:]"
   ]
  },
  {
   "cell_type": "code",
   "execution_count": 55,
   "id": "d1def801",
   "metadata": {},
   "outputs": [],
   "source": [
    "YGs_0 = np.zeros((n_sim,)+i0s.shape); YGs_1 = np.zeros((n_sim,)+i0s.shape); YGs_d = np.zeros((n_sim,)+i0s.shape)\n",
    "YDRs_0 = np.zeros((n_sim,)+i0s.shape); YDRs_1 = np.zeros((n_sim,)+i0s.shape); YDRs_d = np.zeros((n_sim,)+i0s.shape)"
   ]
  },
  {
   "cell_type": "code",
   "execution_count": 56,
   "id": "361222c7",
   "metadata": {},
   "outputs": [],
   "source": [
    "for i_sim in np.arange(n_sim):\n",
    "    result = np.load('%s/result_%.3d.npz'%(save_dir,i_sim))\n",
    "    YGs_0[i_sim] = result['YG_0']; YGs_1[i_sim] = result['YG_1']; YGs_d[i_sim] = result['YG_d']\n",
    "    YDRs_0[i_sim] = result['YDR_0'][id_cv]; YDRs_1[i_sim] = result['YDR_1'][id_cv]; YDRs_d[i_sim] = result['YDR_d'][id_cv]"
   ]
  },
  {
   "cell_type": "code",
   "execution_count": 57,
   "id": "22aa4e95",
   "metadata": {},
   "outputs": [],
   "source": [
    "EYGs_0, EYGs_1, EYGs_d = (YGs_0.mean(-1), YGs_1.mean(-1), YGs_d.mean(-1))\n",
    "EYDRs_0, EYDRs_1, EYDRs_d = (YDRs_0.mean(-1), YDRs_1.mean(-1), YDRs_d.mean(-1))"
   ]
  },
  {
   "cell_type": "markdown",
   "id": "257fe25a",
   "metadata": {},
   "source": [
    "## - G estimate"
   ]
  },
  {
   "cell_type": "code",
   "execution_count": 58,
   "id": "267f4856",
   "metadata": {},
   "outputs": [
    {
     "data": {
      "text/plain": [
       "<matplotlib.lines.Line2D at 0x150634d17a10>"
      ]
     },
     "execution_count": 58,
     "metadata": {},
     "output_type": "execute_result"
    },
    {
     "data": {
      "image/png": "[encoded data removed]",
      "text/plain": [
       "<Figure size 640x480 with 1 Axes>"
      ]
     },
     "metadata": {},
     "output_type": "display_data"
    }
   ],
   "source": [
    "plt.hist(EYGs_1, color='red', alpha=0.5)\n",
    "plt.axvline(EYTR_1, color='red')\n",
    "plt.hist(EYGs_0, color='blue', alpha=0.5)\n",
    "plt.axvline(EYTR_0, color='blue')"
   ]
  },
  {
   "cell_type": "code",
   "execution_count": 59,
   "id": "dae041c7",
   "metadata": {},
   "outputs": [
    {
     "data": {
      "text/plain": [
       "<matplotlib.lines.Line2D at 0x150634dc6c30>"
      ]
     },
     "execution_count": 59,
     "metadata": {},
     "output_type": "execute_result"
    },
    {
     "data": {
      "image/png": "[encoded data removed]",
      "text/plain": [
       "<Figure size 640x480 with 1 Axes>"
      ]
     },
     "metadata": {},
     "output_type": "display_data"
    }
   ],
   "source": [
    "plt.hist(EYGs_d, color='black', alpha=0.5)\n",
    "plt.axvline(EYTR_d, color='black')"
   ]
  },
  {
   "cell_type": "code",
   "execution_count": 60,
   "id": "961dcbf1",
   "metadata": {},
   "outputs": [
    {
     "data": {
      "text/plain": [
       "0.1342537662708699"
      ]
     },
     "execution_count": 60,
     "metadata": {},
     "output_type": "execute_result"
    }
   ],
   "source": [
    "np.sqrt(np.mean((EYGs_d - EYTR_d)**2, 0))"
   ]
  },
  {
   "cell_type": "markdown",
   "id": "2aa6937a",
   "metadata": {},
   "source": [
    "## -DR estimate"
   ]
  },
  {
   "cell_type": "code",
   "execution_count": 61,
   "id": "de6ed69f",
   "metadata": {},
   "outputs": [
    {
     "data": {
      "text/plain": [
       "<matplotlib.lines.Line2D at 0x15063fd6aab0>"
      ]
     },
     "execution_count": 61,
     "metadata": {},
     "output_type": "execute_result"
    },
    {
     "data": {
      "image/png": "[encoded data removed]",
      "text/plain": [
       "<Figure size 400x300 with 1 Axes>"
      ]
     },
     "metadata": {},
     "output_type": "display_data"
    }
   ],
   "source": [
    "fig = plt.figure(figsize=(4,3))\n",
    "plt.hist(EYDRs_1, color='blue', alpha=0.5, density=True, bins=np.arange(0.35,0.65,0.01))\n",
    "plt.axvline(EYTR_1, color='blue')\n",
    "plt.hist(EYDRs_0, color='red', alpha=0.5, density=True, bins=np.arange(0.35,0.65,0.01))\n",
    "plt.axvline(EYTR_0, color='red')"
   ]
  },
  {
   "cell_type": "code",
   "execution_count": 62,
   "id": "6c83ebc3",
   "metadata": {},
   "outputs": [
    {
     "data": {
      "text/plain": [
       "<matplotlib.lines.Line2D at 0x15063fde1790>"
      ]
     },
     "execution_count": 62,
     "metadata": {},
     "output_type": "execute_result"
    },
    {
     "data": {
      "image/png": "[encoded data removed]",
      "text/plain": [
       "<Figure size 400x300 with 1 Axes>"
      ]
     },
     "metadata": {},
     "output_type": "display_data"
    }
   ],
   "source": [
    "fig = plt.figure(figsize=(4,3))\n",
    "plt.hist(EYDRs_d, color='black', alpha=0.5)\n",
    "plt.axvline(EYTR_d, color='black')"
   ]
  },
  {
   "cell_type": "code",
   "execution_count": 63,
   "id": "e022f788",
   "metadata": {},
   "outputs": [
    {
     "data": {
      "text/plain": [
       "0.050563403659931686"
      ]
     },
     "execution_count": 63,
     "metadata": {},
     "output_type": "execute_result"
    }
   ],
   "source": [
    "np.sqrt(np.mean((EYDRs_d - EYTR_d)**2, 0))"
   ]
  },
  {
   "cell_type": "code",
   "execution_count": null,
   "id": "e4868254",
   "metadata": {},
   "outputs": [],
   "source": []
  }
 ],
 "metadata": {
  "kernelspec": {
   "display_name": "causalnet",
   "language": "python",
   "name": "python3"
  },
  "language_info": {
   "codemirror_mode": {
    "name": "ipython",
    "version": 3
   },
   "file_extension": ".py",
   "mimetype": "text/x-python",
   "name": "python",
   "nbconvert_exporter": "python",
   "pygments_lexer": "ipython3",
   "version": "3.12.1"
  }
 },
 "nbformat": 4,
 "nbformat_minor": 5
}
