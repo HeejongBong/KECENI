{
 "cells": [
  {
   "cell_type": "code",
   "execution_count": 1,
   "id": "6db3349f",
   "metadata": {},
   "outputs": [],
   "source": [
    "import os, importlib, sys, time"
   ]
  },
  {
   "cell_type": "code",
   "execution_count": 2,
   "id": "1c37e18c",
   "metadata": {},
   "outputs": [],
   "source": [
    "import numpy as np\n",
    "import scipy.sparse as sparse\n",
    "from scipy.special import logit, expit\n",
    "import matplotlib.pyplot as plt\n",
    "import pandas as pd\n",
    "import pyarrow\n",
    "from tqdm import tqdm"
   ]
  },
  {
   "cell_type": "code",
   "execution_count": 3,
   "id": "23b24faf",
   "metadata": {},
   "outputs": [],
   "source": [
    "import KECENI"
   ]
  },
  {
   "cell_type": "code",
   "execution_count": 4,
   "id": "a65eb0f1",
   "metadata": {},
   "outputs": [],
   "source": [
    "n_process = 32"
   ]
  },
  {
   "cell_type": "markdown",
   "id": "c1e81cff",
   "metadata": {},
   "source": [
    "# load data"
   ]
  },
  {
   "cell_type": "code",
   "execution_count": 5,
   "id": "638c9bf6",
   "metadata": {},
   "outputs": [],
   "source": [
    "data_dir = 'data'"
   ]
  },
  {
   "cell_type": "code",
   "execution_count": 6,
   "id": "d07f2703",
   "metadata": {},
   "outputs": [],
   "source": [
    "i_sim = 0"
   ]
  },
  {
   "cell_type": "code",
   "execution_count": 7,
   "id": "a4c596a8",
   "metadata": {},
   "outputs": [],
   "source": [
    "data_network = pd.read_feather('%s/network.feather'%(data_dir))\n",
    "data_latent = pd.read_feather('%s/latent.feather'%data_dir)\n",
    "data_feature = pd.read_feather('%s/feature_%.3d.feather'%(data_dir, i_sim))"
   ]
  },
  {
   "cell_type": "code",
   "execution_count": 8,
   "id": "64f99c6c",
   "metadata": {},
   "outputs": [
    {
     "data": {
      "text/html": [
       "<div>\n",
       "<style scoped>\n",
       "    .dataframe tbody tr th:only-of-type {\n",
       "        vertical-align: middle;\n",
       "    }\n",
       "\n",
       "    .dataframe tbody tr th {\n",
       "        vertical-align: top;\n",
       "    }\n",
       "\n",
       "    .dataframe thead th {\n",
       "        text-align: right;\n",
       "    }\n",
       "</style>\n",
       "<table border=\"1\" class=\"dataframe\">\n",
       "  <thead>\n",
       "    <tr style=\"text-align: right;\">\n",
       "      <th></th>\n",
       "      <th>row</th>\n",
       "      <th>col</th>\n",
       "    </tr>\n",
       "  </thead>\n",
       "  <tbody>\n",
       "    <tr>\n",
       "      <th>0</th>\n",
       "      <td>1</td>\n",
       "      <td>2311</td>\n",
       "    </tr>\n",
       "    <tr>\n",
       "      <th>1</th>\n",
       "      <td>1</td>\n",
       "      <td>3144</td>\n",
       "    </tr>\n",
       "    <tr>\n",
       "      <th>2</th>\n",
       "      <td>1</td>\n",
       "      <td>3568</td>\n",
       "    </tr>\n",
       "    <tr>\n",
       "      <th>3</th>\n",
       "      <td>1</td>\n",
       "      <td>3603</td>\n",
       "    </tr>\n",
       "    <tr>\n",
       "      <th>4</th>\n",
       "      <td>2</td>\n",
       "      <td>2146</td>\n",
       "    </tr>\n",
       "    <tr>\n",
       "      <th>...</th>\n",
       "      <td>...</td>\n",
       "      <td>...</td>\n",
       "    </tr>\n",
       "    <tr>\n",
       "      <th>9917</th>\n",
       "      <td>3999</td>\n",
       "      <td>3227</td>\n",
       "    </tr>\n",
       "    <tr>\n",
       "      <th>9918</th>\n",
       "      <td>4000</td>\n",
       "      <td>279</td>\n",
       "    </tr>\n",
       "    <tr>\n",
       "      <th>9919</th>\n",
       "      <td>4000</td>\n",
       "      <td>2085</td>\n",
       "    </tr>\n",
       "    <tr>\n",
       "      <th>9920</th>\n",
       "      <td>4000</td>\n",
       "      <td>3306</td>\n",
       "    </tr>\n",
       "    <tr>\n",
       "      <th>9921</th>\n",
       "      <td>4000</td>\n",
       "      <td>3919</td>\n",
       "    </tr>\n",
       "  </tbody>\n",
       "</table>\n",
       "<p>9922 rows × 2 columns</p>\n",
       "</div>"
      ],
      "text/plain": [
       "       row   col\n",
       "0        1  2311\n",
       "1        1  3144\n",
       "2        1  3568\n",
       "3        1  3603\n",
       "4        2  2146\n",
       "...    ...   ...\n",
       "9917  3999  3227\n",
       "9918  4000   279\n",
       "9919  4000  2085\n",
       "9920  4000  3306\n",
       "9921  4000  3919\n",
       "\n",
       "[9922 rows x 2 columns]"
      ]
     },
     "execution_count": 8,
     "metadata": {},
     "output_type": "execute_result"
    }
   ],
   "source": [
    "data_network"
   ]
  },
  {
   "cell_type": "code",
   "execution_count": 9,
   "id": "f942eefe",
   "metadata": {
    "scrolled": false
   },
   "outputs": [
    {
     "data": {
      "text/html": [
       "<div>\n",
       "<style scoped>\n",
       "    .dataframe tbody tr th:only-of-type {\n",
       "        vertical-align: middle;\n",
       "    }\n",
       "\n",
       "    .dataframe tbody tr th {\n",
       "        vertical-align: top;\n",
       "    }\n",
       "\n",
       "    .dataframe thead th {\n",
       "        text-align: right;\n",
       "    }\n",
       "</style>\n",
       "<table border=\"1\" class=\"dataframe\">\n",
       "  <thead>\n",
       "    <tr style=\"text-align: right;\">\n",
       "      <th></th>\n",
       "      <th>X1</th>\n",
       "      <th>X2</th>\n",
       "      <th>X3</th>\n",
       "      <th>W1</th>\n",
       "      <th>W2</th>\n",
       "      <th>W3</th>\n",
       "      <th>p</th>\n",
       "      <th>T</th>\n",
       "      <th>m</th>\n",
       "      <th>Y</th>\n",
       "    </tr>\n",
       "  </thead>\n",
       "  <tbody>\n",
       "    <tr>\n",
       "      <th>0</th>\n",
       "      <td>0</td>\n",
       "      <td>1</td>\n",
       "      <td>1</td>\n",
       "      <td>-0.25</td>\n",
       "      <td>0.25</td>\n",
       "      <td>-0.25</td>\n",
       "      <td>0.500000</td>\n",
       "      <td>1</td>\n",
       "      <td>0.622459</td>\n",
       "      <td>0</td>\n",
       "    </tr>\n",
       "    <tr>\n",
       "      <th>1</th>\n",
       "      <td>0</td>\n",
       "      <td>0</td>\n",
       "      <td>1</td>\n",
       "      <td>0.25</td>\n",
       "      <td>-0.25</td>\n",
       "      <td>-0.25</td>\n",
       "      <td>0.222700</td>\n",
       "      <td>1</td>\n",
       "      <td>0.904651</td>\n",
       "      <td>1</td>\n",
       "    </tr>\n",
       "    <tr>\n",
       "      <th>2</th>\n",
       "      <td>1</td>\n",
       "      <td>0</td>\n",
       "      <td>0</td>\n",
       "      <td>-0.25</td>\n",
       "      <td>0.25</td>\n",
       "      <td>-0.25</td>\n",
       "      <td>0.544525</td>\n",
       "      <td>0</td>\n",
       "      <td>0.320821</td>\n",
       "      <td>1</td>\n",
       "    </tr>\n",
       "    <tr>\n",
       "      <th>3</th>\n",
       "      <td>0</td>\n",
       "      <td>1</td>\n",
       "      <td>1</td>\n",
       "      <td>-0.25</td>\n",
       "      <td>0.25</td>\n",
       "      <td>-0.25</td>\n",
       "      <td>0.651355</td>\n",
       "      <td>1</td>\n",
       "      <td>0.407333</td>\n",
       "      <td>1</td>\n",
       "    </tr>\n",
       "    <tr>\n",
       "      <th>4</th>\n",
       "      <td>1</td>\n",
       "      <td>1</td>\n",
       "      <td>1</td>\n",
       "      <td>0.25</td>\n",
       "      <td>0.25</td>\n",
       "      <td>0.25</td>\n",
       "      <td>0.500000</td>\n",
       "      <td>1</td>\n",
       "      <td>0.622459</td>\n",
       "      <td>1</td>\n",
       "    </tr>\n",
       "    <tr>\n",
       "      <th>...</th>\n",
       "      <td>...</td>\n",
       "      <td>...</td>\n",
       "      <td>...</td>\n",
       "      <td>...</td>\n",
       "      <td>...</td>\n",
       "      <td>...</td>\n",
       "      <td>...</td>\n",
       "      <td>...</td>\n",
       "      <td>...</td>\n",
       "      <td>...</td>\n",
       "    </tr>\n",
       "    <tr>\n",
       "      <th>3995</th>\n",
       "      <td>0</td>\n",
       "      <td>1</td>\n",
       "      <td>0</td>\n",
       "      <td>-0.25</td>\n",
       "      <td>-0.25</td>\n",
       "      <td>0.25</td>\n",
       "      <td>0.500000</td>\n",
       "      <td>1</td>\n",
       "      <td>0.622459</td>\n",
       "      <td>0</td>\n",
       "    </tr>\n",
       "    <tr>\n",
       "      <th>3996</th>\n",
       "      <td>1</td>\n",
       "      <td>1</td>\n",
       "      <td>0</td>\n",
       "      <td>0.25</td>\n",
       "      <td>-0.25</td>\n",
       "      <td>-0.25</td>\n",
       "      <td>0.500000</td>\n",
       "      <td>0</td>\n",
       "      <td>0.377541</td>\n",
       "      <td>0</td>\n",
       "    </tr>\n",
       "    <tr>\n",
       "      <th>3997</th>\n",
       "      <td>0</td>\n",
       "      <td>1</td>\n",
       "      <td>0</td>\n",
       "      <td>-0.25</td>\n",
       "      <td>-0.25</td>\n",
       "      <td>0.25</td>\n",
       "      <td>0.222700</td>\n",
       "      <td>0</td>\n",
       "      <td>0.777300</td>\n",
       "      <td>1</td>\n",
       "    </tr>\n",
       "    <tr>\n",
       "      <th>3998</th>\n",
       "      <td>0</td>\n",
       "      <td>0</td>\n",
       "      <td>0</td>\n",
       "      <td>0.25</td>\n",
       "      <td>0.25</td>\n",
       "      <td>0.25</td>\n",
       "      <td>0.777300</td>\n",
       "      <td>1</td>\n",
       "      <td>0.222700</td>\n",
       "      <td>0</td>\n",
       "    </tr>\n",
       "    <tr>\n",
       "      <th>3999</th>\n",
       "      <td>0</td>\n",
       "      <td>0</td>\n",
       "      <td>0</td>\n",
       "      <td>0.25</td>\n",
       "      <td>0.25</td>\n",
       "      <td>0.25</td>\n",
       "      <td>0.348645</td>\n",
       "      <td>0</td>\n",
       "      <td>0.592667</td>\n",
       "      <td>0</td>\n",
       "    </tr>\n",
       "  </tbody>\n",
       "</table>\n",
       "<p>4000 rows × 10 columns</p>\n",
       "</div>"
      ],
      "text/plain": [
       "      X1  X2  X3    W1    W2    W3         p  T         m  Y\n",
       "0      0   1   1 -0.25  0.25 -0.25  0.500000  1  0.622459  0\n",
       "1      0   0   1  0.25 -0.25 -0.25  0.222700  1  0.904651  1\n",
       "2      1   0   0 -0.25  0.25 -0.25  0.544525  0  0.320821  1\n",
       "3      0   1   1 -0.25  0.25 -0.25  0.651355  1  0.407333  1\n",
       "4      1   1   1  0.25  0.25  0.25  0.500000  1  0.622459  1\n",
       "...   ..  ..  ..   ...   ...   ...       ... ..       ... ..\n",
       "3995   0   1   0 -0.25 -0.25  0.25  0.500000  1  0.622459  0\n",
       "3996   1   1   0  0.25 -0.25 -0.25  0.500000  0  0.377541  0\n",
       "3997   0   1   0 -0.25 -0.25  0.25  0.222700  0  0.777300  1\n",
       "3998   0   0   0  0.25  0.25  0.25  0.777300  1  0.222700  0\n",
       "3999   0   0   0  0.25  0.25  0.25  0.348645  0  0.592667  0\n",
       "\n",
       "[4000 rows x 10 columns]"
      ]
     },
     "execution_count": 9,
     "metadata": {},
     "output_type": "execute_result"
    }
   ],
   "source": [
    "data_feature"
   ]
  },
  {
   "cell_type": "code",
   "execution_count": 10,
   "id": "3ed4fe98",
   "metadata": {},
   "outputs": [
    {
     "data": {
      "text/plain": [
       "4000"
      ]
     },
     "execution_count": 10,
     "metadata": {},
     "output_type": "execute_result"
    }
   ],
   "source": [
    "n_node = len(data_latent); n_node"
   ]
  },
  {
   "cell_type": "code",
   "execution_count": 11,
   "id": "1345c5ca",
   "metadata": {},
   "outputs": [
    {
     "data": {
      "text/plain": [
       "9922"
      ]
     },
     "execution_count": 11,
     "metadata": {},
     "output_type": "execute_result"
    }
   ],
   "source": [
    "len(data_network)"
   ]
  },
  {
   "cell_type": "code",
   "execution_count": 12,
   "id": "1dc09510",
   "metadata": {},
   "outputs": [],
   "source": [
    "Adj = sparse.csr_matrix((\n",
    "    np.full(len(data_network), True), \n",
    "    (np.array(data_network.row)-1, np.array(data_network.col)-1)\n",
    ")).toarray()"
   ]
  },
  {
   "cell_type": "code",
   "execution_count": 13,
   "id": "fc72812b",
   "metadata": {},
   "outputs": [],
   "source": [
    "Zs = data_latent.values.astype(float)\n",
    "G = KECENI.Graph(Adj, Zs=Zs)"
   ]
  },
  {
   "cell_type": "code",
   "execution_count": 14,
   "id": "0e58e588",
   "metadata": {},
   "outputs": [],
   "source": [
    "Ys = data_feature.iloc[:,9].values\n",
    "Ts = data_feature.iloc[:,7].values\n",
    "Xs = data_feature.iloc[:,0:2].values"
   ]
  },
  {
   "cell_type": "code",
   "execution_count": 15,
   "id": "c0d69a5b",
   "metadata": {},
   "outputs": [],
   "source": [
    "data = KECENI.Data(Ys, Ts, Xs.astype(float), G)"
   ]
  },
  {
   "cell_type": "markdown",
   "id": "218650b5",
   "metadata": {},
   "source": [
    "# hyperparameters"
   ]
  },
  {
   "cell_type": "code",
   "execution_count": 16,
   "id": "415255c8",
   "metadata": {},
   "outputs": [],
   "source": [
    "from hyperparams import GW"
   ]
  },
  {
   "cell_type": "code",
   "execution_count": 17,
   "id": "68c5585a",
   "metadata": {},
   "outputs": [],
   "source": [
    "alpha_T = 1/np.std(Ts)\n",
    "alpha_X = 1/np.std(Xs)/Xs.shape[-1]"
   ]
  },
  {
   "cell_type": "code",
   "execution_count": 18,
   "id": "e00f45b5",
   "metadata": {},
   "outputs": [],
   "source": [
    "GW_data = GW(alpha_T, alpha_X)\n",
    "delta = GW_data.delta"
   ]
  },
  {
   "cell_type": "markdown",
   "id": "b5ac30d3",
   "metadata": {},
   "source": [
    "# counterfactual of interest"
   ]
  },
  {
   "cell_type": "code",
   "execution_count": 19,
   "id": "b3fa80a0",
   "metadata": {},
   "outputs": [],
   "source": [
    "i0s = np.arange(0,n_node,10)"
   ]
  },
  {
   "cell_type": "code",
   "execution_count": 20,
   "id": "e0b57dcf",
   "metadata": {},
   "outputs": [],
   "source": [
    "T0s_0 = Ts.copy(); T0s_0[:] = 0\n",
    "T0s_1 = Ts.copy(); T0s_1[:] = 1"
   ]
  },
  {
   "cell_type": "code",
   "execution_count": 21,
   "id": "46a29f06",
   "metadata": {},
   "outputs": [],
   "source": [
    "T0s = np.stack([T0s_0, T0s_1], 0)"
   ]
  },
  {
   "cell_type": "markdown",
   "id": "4a27802c",
   "metadata": {},
   "source": [
    "# groundtruth"
   ]
  },
  {
   "cell_type": "code",
   "execution_count": 22,
   "id": "82f07e7c",
   "metadata": {},
   "outputs": [],
   "source": [
    "from KECENI.RegressionModel import FittedRegressionModel\n",
    "from KECENI.PropensityModel import FittedPropensityModel\n",
    "from KECENI.CovariateModel import FittedCovariateModel"
   ]
  },
  {
   "cell_type": "code",
   "execution_count": 23,
   "id": "5214a45b",
   "metadata": {},
   "outputs": [],
   "source": [
    "from true_model import *"
   ]
  },
  {
   "cell_type": "code",
   "execution_count": 24,
   "id": "51a40d39",
   "metadata": {},
   "outputs": [],
   "source": [
    "true_model = KECENI.Model(\n",
    "    FittedRegressionModel(mu),\n",
    "    FittedPropensityModel(pi),\n",
    "    FittedCovariateModel(rX),\n",
    "    delta\n",
    ")"
   ]
  },
  {
   "cell_type": "code",
   "execution_count": 25,
   "id": "97d7530c",
   "metadata": {},
   "outputs": [],
   "source": [
    "true_fit = true_model.fit(data, n_X=None)"
   ]
  },
  {
   "cell_type": "code",
   "execution_count": 26,
   "id": "ba1daf86",
   "metadata": {},
   "outputs": [
    {
     "name": "stderr",
     "output_type": "stream",
     "text": [
      "i0: 100%|██████████| 800/800 [00:07<00:00, 101.34it/s]\n"
     ]
    }
   ],
   "source": [
    "result_true = true_fit.G_estimate(\n",
    "    i0s[:,None], T0s, n_X=10000, tqdm=tqdm\n",
    ")"
   ]
  },
  {
   "cell_type": "code",
   "execution_count": 27,
   "id": "b68f3a8d",
   "metadata": {},
   "outputs": [],
   "source": [
    "YTRs_0, YTRs_1 = np.moveaxis(result_true, -1, 0)"
   ]
  },
  {
   "cell_type": "code",
   "execution_count": 28,
   "id": "310e5c68",
   "metadata": {},
   "outputs": [],
   "source": [
    "EYTR_0 = np.mean(YTRs_0)\n",
    "EYTR_1 = np.mean(YTRs_1)\n",
    "EYTR_d = EYTR_1 - EYTR_0"
   ]
  },
  {
   "cell_type": "code",
   "execution_count": 29,
   "id": "f8805a99",
   "metadata": {},
   "outputs": [
    {
     "data": {
      "text/plain": [
       "(0.5939215812039516, 0.40601784378409334, 0.18790373741985822)"
      ]
     },
     "execution_count": 29,
     "metadata": {},
     "output_type": "execute_result"
    }
   ],
   "source": [
    "EYTR_1, EYTR_0, EYTR_d"
   ]
  },
  {
   "cell_type": "markdown",
   "id": "9ba0cef7",
   "metadata": {},
   "source": [
    "# estimation"
   ]
  },
  {
   "cell_type": "code",
   "execution_count": 30,
   "id": "bf1add67",
   "metadata": {},
   "outputs": [],
   "source": [
    "from KECENI.RegressionModel import KernelRegressionModel\n",
    "from KECENI.PropensityModel import KernelIIDPropensityModel\n",
    "from KECENI.CovariateModel import IIDCovariateModel"
   ]
  },
  {
   "cell_type": "code",
   "execution_count": 31,
   "id": "31d76f7c",
   "metadata": {},
   "outputs": [],
   "source": [
    "delta_mu = GW_data.delta_mu\n",
    "delta_pi = GW_data.delta_pi"
   ]
  },
  {
   "cell_type": "markdown",
   "id": "f28ecb4d",
   "metadata": {},
   "source": [
    "## - cross-validation"
   ]
  },
  {
   "cell_type": "markdown",
   "id": "6ea5d61a",
   "metadata": {},
   "source": [
    "### * outcome regression model"
   ]
  },
  {
   "cell_type": "code",
   "execution_count": 36,
   "id": "35d3cc7d",
   "metadata": {},
   "outputs": [],
   "source": [
    "lamdas = np.linspace(0, 20, 21)[1:]"
   ]
  },
  {
   "cell_type": "code",
   "execution_count": 37,
   "id": "0b45874e",
   "metadata": {},
   "outputs": [],
   "source": [
    "mu_fit = KernelRegressionModel(delta_mu).fit(data)"
   ]
  },
  {
   "cell_type": "code",
   "execution_count": 38,
   "id": "eebbd7b2",
   "metadata": {
    "scrolled": true
   },
   "outputs": [
    {
     "name": "stderr",
     "output_type": "stream",
     "text": [
      "j: 100%|██████████| 4000/4000 [05:09<00:00, 12.93it/s]\n"
     ]
    }
   ],
   "source": [
    "_, mus_cv = mu_fit.loo_cv(lamdas, tqdm=tqdm, n_process=32)"
   ]
  },
  {
   "cell_type": "code",
   "execution_count": 39,
   "id": "2c3c1f0d",
   "metadata": {},
   "outputs": [
    {
     "data": {
      "text/plain": [
       "[<matplotlib.lines.Line2D at 0x154e73f0c770>]"
      ]
     },
     "execution_count": 39,
     "metadata": {},
     "output_type": "execute_result"
    },
    {
     "data": {
      "image/png": "[encoded data removed]",
      "text/plain": [
       "<Figure size 640x480 with 1 Axes>"
      ]
     },
     "metadata": {},
     "output_type": "display_data"
    }
   ],
   "source": [
    "plt.plot(lamdas, np.mean((mus_cv-Ys)**2, -1))"
   ]
  },
  {
   "cell_type": "code",
   "execution_count": 40,
   "id": "6291d151",
   "metadata": {},
   "outputs": [],
   "source": [
    "id_mcv = np.argmin(np.mean((mus_cv-Ys)**2, -1))\n",
    "lamda_mu = lamdas[id_mcv]"
   ]
  },
  {
   "cell_type": "code",
   "execution_count": 41,
   "id": "85f247d8",
   "metadata": {},
   "outputs": [
    {
     "data": {
      "text/plain": [
       "(4, 5.0)"
      ]
     },
     "execution_count": 41,
     "metadata": {},
     "output_type": "execute_result"
    }
   ],
   "source": [
    "id_mcv, lamda_mu"
   ]
  },
  {
   "cell_type": "markdown",
   "id": "b0fa9453",
   "metadata": {},
   "source": [
    "#### check"
   ]
  },
  {
   "cell_type": "code",
   "execution_count": 42,
   "id": "5d626b7f",
   "metadata": {},
   "outputs": [
    {
     "data": {
      "text/plain": [
       "[<matplotlib.lines.Line2D at 0x154d836c0f20>]"
      ]
     },
     "execution_count": 42,
     "metadata": {},
     "output_type": "execute_result"
    },
    {
     "data": {
      "image/png": "[encoded data removed]",
      "text/plain": [
       "<Figure size 640x480 with 1 Axes>"
      ]
     },
     "metadata": {},
     "output_type": "display_data"
    }
   ],
   "source": [
    "plt.scatter(data_feature.m.values, mus_cv[id_mcv])\n",
    "plt.plot([0, 1], [0, 1], color='black', linestyle=':')"
   ]
  },
  {
   "cell_type": "markdown",
   "id": "4dd581ab",
   "metadata": {},
   "source": [
    "### * propensity score model"
   ]
  },
  {
   "cell_type": "code",
   "execution_count": 43,
   "id": "b3a64c39",
   "metadata": {},
   "outputs": [],
   "source": [
    "lamdas = np.linspace(0, 20, 21)[1:]"
   ]
  },
  {
   "cell_type": "code",
   "execution_count": 44,
   "id": "ff7beecb",
   "metadata": {},
   "outputs": [],
   "source": [
    "pi_fit = KernelIIDPropensityModel(delta_pi).fit(data)"
   ]
  },
  {
   "cell_type": "code",
   "execution_count": 45,
   "id": "4d59e2b2",
   "metadata": {},
   "outputs": [
    {
     "name": "stderr",
     "output_type": "stream",
     "text": [
      "j: 100%|██████████| 4000/4000 [11:32<00:00,  5.78it/s]\n"
     ]
    }
   ],
   "source": [
    "_, pis_cv = pi_fit.loo_cv(lamdas, tqdm=tqdm, n_process=32)"
   ]
  },
  {
   "cell_type": "code",
   "execution_count": 46,
   "id": "514a63a7",
   "metadata": {},
   "outputs": [
    {
     "data": {
      "text/plain": [
       "[<matplotlib.lines.Line2D at 0x154dee98b200>]"
      ]
     },
     "execution_count": 46,
     "metadata": {},
     "output_type": "execute_result"
    },
    {
     "data": {
      "image/png": "[encoded data removed]",
      "text/plain": [
       "<Figure size 640x480 with 1 Axes>"
      ]
     },
     "metadata": {},
     "output_type": "display_data"
    }
   ],
   "source": [
    "plt.plot(lamdas, np.mean(-np.log(np.abs(pis_cv + Ts - 1)), -1))"
   ]
  },
  {
   "cell_type": "code",
   "execution_count": 47,
   "id": "440e9ae1",
   "metadata": {},
   "outputs": [],
   "source": [
    "id_pcv = np.argmin(np.mean(-np.log(np.abs(pis_cv + Ts - 1)), -1))\n",
    "lamda_pi = lamdas[id_pcv]"
   ]
  },
  {
   "cell_type": "code",
   "execution_count": 48,
   "id": "be8e1757",
   "metadata": {},
   "outputs": [
    {
     "data": {
      "text/plain": [
       "(7, 8.0)"
      ]
     },
     "execution_count": 48,
     "metadata": {},
     "output_type": "execute_result"
    }
   ],
   "source": [
    "id_pcv, lamda_pi"
   ]
  },
  {
   "cell_type": "markdown",
   "id": "1e6dddf6",
   "metadata": {},
   "source": [
    "#### check"
   ]
  },
  {
   "cell_type": "code",
   "execution_count": 51,
   "id": "95b98451",
   "metadata": {},
   "outputs": [
    {
     "data": {
      "text/plain": [
       "[<matplotlib.lines.Line2D at 0x154e4d943da0>]"
      ]
     },
     "execution_count": 51,
     "metadata": {},
     "output_type": "execute_result"
    },
    {
     "data": {
      "image/png": "[encoded data removed]",
      "text/plain": [
       "<Figure size 640x480 with 1 Axes>"
      ]
     },
     "metadata": {},
     "output_type": "display_data"
    }
   ],
   "source": [
    "plt.plot(lamdas, np.mean((pis_cv - data_feature.p.values)**2, -1))"
   ]
  },
  {
   "cell_type": "code",
   "execution_count": 52,
   "id": "f4ba78f1",
   "metadata": {},
   "outputs": [
    {
     "data": {
      "text/plain": [
       "[<matplotlib.lines.Line2D at 0x154e4d9d2a20>]"
      ]
     },
     "execution_count": 52,
     "metadata": {},
     "output_type": "execute_result"
    },
    {
     "data": {
      "image/png": "[encoded data removed]",
      "text/plain": [
       "<Figure size 640x480 with 1 Axes>"
      ]
     },
     "metadata": {},
     "output_type": "display_data"
    }
   ],
   "source": [
    "plt.scatter(data_feature.p.values, pis_cv[id_pcv])\n",
    "plt.plot([0.2,0.8], [0.2,0.8], color='black', linestyle=':')"
   ]
  },
  {
   "cell_type": "markdown",
   "id": "a3dc6707",
   "metadata": {},
   "source": [
    "### * hyperaparameter for KECENI"
   ]
  },
  {
   "cell_type": "code",
   "execution_count": 32,
   "id": "dbeb7fc0",
   "metadata": {},
   "outputs": [],
   "source": [
    "lamda_mu = 5.0\n",
    "lamda_pi = 8.0"
   ]
  },
  {
   "cell_type": "code",
   "execution_count": 33,
   "id": "89048f39",
   "metadata": {},
   "outputs": [],
   "source": [
    "keceni_model = KECENI.Model(\n",
    "    KernelRegressionModel(delta_mu, lamda=lamda_mu),\n",
    "    KernelIIDPropensityModel(delta_pi, lamda=lamda_pi),\n",
    "    IIDCovariateModel(),\n",
    "    delta\n",
    ")"
   ]
  },
  {
   "cell_type": "code",
   "execution_count": 34,
   "id": "7a56adcd",
   "metadata": {},
   "outputs": [
    {
     "name": "stderr",
     "output_type": "stream",
     "text": [
      "fit: 100%|██████████| 4000/4000 [1:18:30<00:00,  1.18s/it]\n"
     ]
    }
   ],
   "source": [
    "keceni_fit = keceni_model.fit(data, tqdm=tqdm, n_X=10, n_process=n_process)"
   ]
  },
  {
   "cell_type": "code",
   "execution_count": 35,
   "id": "19428a80",
   "metadata": {},
   "outputs": [],
   "source": [
    "lamdas = np.linspace(0, 20, 21)[1:]"
   ]
  },
  {
   "cell_type": "code",
   "execution_count": 39,
   "id": "d414557d",
   "metadata": {
    "scrolled": false
   },
   "outputs": [
    {
     "name": "stderr",
     "output_type": "stream",
     "text": [
      "cv: 100%|██████████| 4000/4000 [01:15<00:00, 52.89it/s]\n"
     ]
    }
   ],
   "source": [
    "result_cv = keceni_fit.cv(\n",
    "    i0s=i0s, tqdm=tqdm\n",
    ")"
   ]
  },
  {
   "cell_type": "code",
   "execution_count": 40,
   "id": "faea250a",
   "metadata": {},
   "outputs": [],
   "source": [
    "xs_cv, xhs_cv = result_cv.xs_xhs(lamdas)"
   ]
  },
  {
   "cell_type": "code",
   "execution_count": 42,
   "id": "a7bf5c2f",
   "metadata": {},
   "outputs": [
    {
     "data": {
      "text/plain": [
       "[<matplotlib.lines.Line2D at 0x147303790a40>]"
      ]
     },
     "execution_count": 42,
     "metadata": {},
     "output_type": "execute_result"
    },
    {
     "data": {
      "image/png": "[encoded data removed]",
      "text/plain": [
       "<Figure size 640x480 with 1 Axes>"
      ]
     },
     "metadata": {},
     "output_type": "display_data"
    }
   ],
   "source": [
    "plt.plot(lamdas, np.mean((xs_cv-xhs_cv)**2, -1))"
   ]
  },
  {
   "cell_type": "code",
   "execution_count": 43,
   "id": "6b50d5e6",
   "metadata": {},
   "outputs": [
    {
     "data": {
      "text/plain": [
       "4"
      ]
     },
     "execution_count": 43,
     "metadata": {},
     "output_type": "execute_result"
    }
   ],
   "source": [
    "id_cv = np.argmin(np.mean((xs_cv-xhs_cv)**2, -1))\n",
    "id_cv"
   ]
  },
  {
   "cell_type": "code",
   "execution_count": 44,
   "id": "bd1c5652",
   "metadata": {},
   "outputs": [],
   "source": [
    "# id_cv = 1"
   ]
  },
  {
   "cell_type": "code",
   "execution_count": 45,
   "id": "10424fe0",
   "metadata": {},
   "outputs": [
    {
     "data": {
      "text/plain": [
       "5.0"
      ]
     },
     "execution_count": 45,
     "metadata": {},
     "output_type": "execute_result"
    }
   ],
   "source": [
    "lamdas[id_cv]"
   ]
  },
  {
   "cell_type": "markdown",
   "id": "5de73cff",
   "metadata": {},
   "source": [
    "## - G estimate"
   ]
  },
  {
   "cell_type": "code",
   "execution_count": 46,
   "id": "2e364894",
   "metadata": {},
   "outputs": [
    {
     "name": "stderr",
     "output_type": "stream",
     "text": [
      "i0: 100%|██████████| 800/800 [28:30<00:00,  2.14s/it] \n"
     ]
    }
   ],
   "source": [
    "result_G = keceni_fit.G_estimate(\n",
    "    i0s[:,None], T0s, n_X=100,\n",
    "    n_process=n_process, tqdm=tqdm, level_tqdm=0\n",
    ")"
   ]
  },
  {
   "cell_type": "code",
   "execution_count": 47,
   "id": "7fe8f998",
   "metadata": {},
   "outputs": [],
   "source": [
    "YGs_0, YGs_1 = np.moveaxis(result_G, -1, 0)\n",
    "YGs_d = YGs_1 - YGs_0"
   ]
  },
  {
   "cell_type": "code",
   "execution_count": 48,
   "id": "d45b371d",
   "metadata": {},
   "outputs": [],
   "source": [
    "EYG_0 = np.mean(YGs_0)\n",
    "EYG_1 = np.mean(YGs_1)\n",
    "EYG_d = EYG_1 - EYG_0"
   ]
  },
  {
   "cell_type": "code",
   "execution_count": 49,
   "id": "5a8fb836",
   "metadata": {},
   "outputs": [
    {
     "data": {
      "text/plain": [
       "(0.4709319185416625, 0.5518422998854581, 0.08091038134379558)"
      ]
     },
     "execution_count": 49,
     "metadata": {},
     "output_type": "execute_result"
    }
   ],
   "source": [
    "EYG_0, EYG_1, EYG_d"
   ]
  },
  {
   "cell_type": "code",
   "execution_count": 50,
   "id": "367cd335",
   "metadata": {},
   "outputs": [
    {
     "data": {
      "text/plain": [
       "(array([  7.,  27.,  63., 103.,  84.,  48.,  21.,  14.,  18.,  15.]),\n",
       " array([-0.01831964,  0.00443623,  0.0271921 ,  0.04994796,  0.07270383,\n",
       "         0.0954597 ,  0.11821557,  0.14097143,  0.1637273 ,  0.18648317,\n",
       "         0.20923904]),\n",
       " <BarContainer object of 10 artists>)"
      ]
     },
     "execution_count": 50,
     "metadata": {},
     "output_type": "execute_result"
    },
    {
     "data": {
      "image/png": "[encoded data removed]",
      "text/plain": [
       "<Figure size 640x480 with 1 Axes>"
      ]
     },
     "metadata": {},
     "output_type": "display_data"
    }
   ],
   "source": [
    "plt.hist(YGs_d)"
   ]
  },
  {
   "cell_type": "markdown",
   "id": "335126af",
   "metadata": {},
   "source": [
    "## - kernel EIF"
   ]
  },
  {
   "cell_type": "code",
   "execution_count": 51,
   "id": "64bf0934",
   "metadata": {},
   "outputs": [
    {
     "name": "stderr",
     "output_type": "stream",
     "text": [
      "AIPW: 100%|██████████| 4000/4000 [02:26<00:00, 27.34it/s]\n"
     ]
    }
   ],
   "source": [
    "result_AIPW = keceni_fit.kernel_AIPW(\n",
    "    i0s[:,None], T0s, tqdm=tqdm\n",
    ")"
   ]
  },
  {
   "cell_type": "code",
   "execution_count": 52,
   "id": "1c8fe91e",
   "metadata": {},
   "outputs": [],
   "source": [
    "YDRs_0, YDRs_1 = np.moveaxis(result_AIPW.est(lamdas)[id_cv], -1, 0)\n",
    "YDRs_d = YDRs_1 - YDRs_0"
   ]
  },
  {
   "cell_type": "code",
   "execution_count": 53,
   "id": "1a6ff38b",
   "metadata": {},
   "outputs": [],
   "source": [
    "EYDR_0 = np.mean(YDRs_0)\n",
    "EYDR_1 = np.mean(YDRs_1)\n",
    "EYDR_d = EYDR_1 - EYDR_0"
   ]
  },
  {
   "cell_type": "code",
   "execution_count": 54,
   "id": "d05a0355",
   "metadata": {},
   "outputs": [
    {
     "data": {
      "text/plain": [
       "(0.4250881481145787, 0.603786858369631, 0.1786987102550523)"
      ]
     },
     "execution_count": 54,
     "metadata": {},
     "output_type": "execute_result"
    }
   ],
   "source": [
    "EYDR_0, EYDR_1, EYDR_d"
   ]
  },
  {
   "cell_type": "code",
   "execution_count": 55,
   "id": "cadcffd7",
   "metadata": {},
   "outputs": [
    {
     "data": {
      "text/plain": [
       "<matplotlib.collections.PathCollection at 0x147301cf9e80>"
      ]
     },
     "execution_count": 55,
     "metadata": {},
     "output_type": "execute_result"
    },
    {
     "data": {
      "image/png": "[encoded data removed]",
      "text/plain": [
       "<Figure size 640x480 with 1 Axes>"
      ]
     },
     "metadata": {},
     "output_type": "display_data"
    }
   ],
   "source": [
    "plt.scatter(np.sum(Adj[i0s], 1), YDRs_1)\n",
    "plt.scatter(np.sum(Adj[i0s], 1), YTRs_1)"
   ]
  },
  {
   "cell_type": "code",
   "execution_count": 56,
   "id": "dae91d12",
   "metadata": {},
   "outputs": [
    {
     "data": {
      "text/plain": [
       "<matplotlib.collections.PathCollection at 0x147301ce0290>"
      ]
     },
     "execution_count": 56,
     "metadata": {},
     "output_type": "execute_result"
    },
    {
     "data": {
      "image/png": "[encoded data removed]",
      "text/plain": [
       "<Figure size 640x480 with 1 Axes>"
      ]
     },
     "metadata": {},
     "output_type": "display_data"
    }
   ],
   "source": [
    "plt.scatter(np.sum(Adj[i0s], 1), YDRs_0)\n",
    "plt.scatter(np.sum(Adj[i0s], 1), YTRs_0)"
   ]
  },
  {
   "cell_type": "code",
   "execution_count": null,
   "id": "732b0cb9",
   "metadata": {},
   "outputs": [],
   "source": []
  },
  {
   "cell_type": "code",
   "execution_count": null,
   "id": "feb92c39",
   "metadata": {},
   "outputs": [],
   "source": []
  }
 ],
 "metadata": {
  "kernelspec": {
   "display_name": "causalnet",
   "language": "python",
   "name": "python3"
  },
  "language_info": {
   "codemirror_mode": {
    "name": "ipython",
    "version": 3
   },
   "file_extension": ".py",
   "mimetype": "text/x-python",
   "name": "python",
   "nbconvert_exporter": "python",
   "pygments_lexer": "ipython3",
   "version": "3.12.1"
  }
 },
 "nbformat": 4,
 "nbformat_minor": 5
}
