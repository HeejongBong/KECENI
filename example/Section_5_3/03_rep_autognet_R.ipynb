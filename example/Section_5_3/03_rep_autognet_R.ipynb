{
 "cells": [
  {
   "cell_type": "code",
   "execution_count": 1,
   "id": "a84951ab-3ab1-452b-93cc-91834bd1c578",
   "metadata": {
    "scrolled": true
   },
   "outputs": [
    {
     "name": "stderr",
     "output_type": "stream",
     "text": [
      "Warning message:\n",
      "“package ‘ggplot2’ was built under R version 4.3.1”\n",
      "── \u001b[1mAttaching core tidyverse packages\u001b[22m ───────────────────────────────────────────── tidyverse 2.0.0 ──\n",
      "\u001b[32m✔\u001b[39m \u001b[34mdplyr    \u001b[39m 1.1.2     \u001b[32m✔\u001b[39m \u001b[34mreadr    \u001b[39m 2.1.4\n",
      "\u001b[32m✔\u001b[39m \u001b[34mforcats  \u001b[39m 1.0.0     \u001b[32m✔\u001b[39m \u001b[34mstringr  \u001b[39m 1.5.0\n",
      "\u001b[32m✔\u001b[39m \u001b[34mggplot2  \u001b[39m 3.5.1     \u001b[32m✔\u001b[39m \u001b[34mtibble   \u001b[39m 3.2.1\n",
      "\u001b[32m✔\u001b[39m \u001b[34mlubridate\u001b[39m 1.9.2     \u001b[32m✔\u001b[39m \u001b[34mtidyr    \u001b[39m 1.3.0\n",
      "\u001b[32m✔\u001b[39m \u001b[34mpurrr    \u001b[39m 1.0.1     \n",
      "── \u001b[1mConflicts\u001b[22m ─────────────────────────────────────────────────────────────── tidyverse_conflicts() ──\n",
      "\u001b[31m✖\u001b[39m \u001b[34mdplyr\u001b[39m::\u001b[32mfilter()\u001b[39m masks \u001b[34mstats\u001b[39m::filter()\n",
      "\u001b[31m✖\u001b[39m \u001b[34mdplyr\u001b[39m::\u001b[32mlag()\u001b[39m    masks \u001b[34mstats\u001b[39m::lag()\n",
      "\u001b[36mℹ\u001b[39m Use the conflicted package (\u001b[3m\u001b[34m<http://conflicted.r-lib.org/>\u001b[39m\u001b[23m) to force all conflicts to become errors\n",
      "\n",
      "Attaching package: ‘arrow’\n",
      "\n",
      "\n",
      "The following object is masked from ‘package:lubridate’:\n",
      "\n",
      "    duration\n",
      "\n",
      "\n",
      "The following object is masked from ‘package:utils’:\n",
      "\n",
      "    timestamp\n",
      "\n",
      "\n",
      "\n",
      "Attaching package: ‘igraph’\n",
      "\n",
      "\n",
      "The following objects are masked from ‘package:lubridate’:\n",
      "\n",
      "    %--%, union\n",
      "\n",
      "\n",
      "The following objects are masked from ‘package:dplyr’:\n",
      "\n",
      "    as_data_frame, groups, union\n",
      "\n",
      "\n",
      "The following objects are masked from ‘package:purrr’:\n",
      "\n",
      "    compose, simplify\n",
      "\n",
      "\n",
      "The following object is masked from ‘package:tidyr’:\n",
      "\n",
      "    crossing\n",
      "\n",
      "\n",
      "The following object is masked from ‘package:tibble’:\n",
      "\n",
      "    as_data_frame\n",
      "\n",
      "\n",
      "The following objects are masked from ‘package:stats’:\n",
      "\n",
      "    decompose, spectrum\n",
      "\n",
      "\n",
      "The following object is masked from ‘package:base’:\n",
      "\n",
      "    union\n",
      "\n",
      "\n",
      "\n",
      "Attaching package: ‘Matrix’\n",
      "\n",
      "\n",
      "The following objects are masked from ‘package:tidyr’:\n",
      "\n",
      "    expand, pack, unpack\n",
      "\n",
      "\n"
     ]
    }
   ],
   "source": [
    "library(tidyverse)\n",
    "library(autognet)\n",
    "library(arrow)\n",
    "library(igraph)\n",
    "library(Matrix)"
   ]
  },
  {
   "cell_type": "code",
   "execution_count": 2,
   "id": "ebeaf072",
   "metadata": {},
   "outputs": [],
   "source": [
    "source('autognet_functions.R')"
   ]
  },
  {
   "cell_type": "code",
   "execution_count": 3,
   "id": "7a6b111d-553e-4310-ada2-a310993b2a71",
   "metadata": {},
   "outputs": [],
   "source": [
    "datO.feature <- read_feather(\n",
    "    paste0('data/feature_', formatC(0, flag=0, width=3),'.feather')\n",
    ")\n",
    "datO.network <- read_feather('data/network.feather')"
   ]
  },
  {
   "cell_type": "code",
   "execution_count": 4,
   "id": "2cf7dae6-10b7-49dc-9937-32ace587320b",
   "metadata": {},
   "outputs": [],
   "source": [
    "datO.feature$T.new1 = 1\n",
    "datO.feature$T.new2 = 0"
   ]
  },
  {
   "cell_type": "code",
   "execution_count": 5,
   "id": "691e7f52-b522-4dd3-b869-62ed697bd9ee",
   "metadata": {
    "scrolled": true
   },
   "outputs": [
    {
     "data": {
      "text/html": [
       "<table class=\"dataframe\">\n",
       "<caption>A tibble: 4000 × 12</caption>\n",
       "<thead>\n",
       "\t<tr><th scope=col>X1</th><th scope=col>X2</th><th scope=col>X3</th><th scope=col>W1</th><th scope=col>W2</th><th scope=col>W3</th><th scope=col>p</th><th scope=col>T</th><th scope=col>m</th><th scope=col>Y</th><th scope=col>T.new1</th><th scope=col>T.new2</th></tr>\n",
       "\t<tr><th scope=col>&lt;int&gt;</th><th scope=col>&lt;int&gt;</th><th scope=col>&lt;int&gt;</th><th scope=col>&lt;dbl&gt;</th><th scope=col>&lt;dbl&gt;</th><th scope=col>&lt;dbl&gt;</th><th scope=col>&lt;dbl&gt;</th><th scope=col>&lt;int&gt;</th><th scope=col>&lt;dbl&gt;</th><th scope=col>&lt;int&gt;</th><th scope=col>&lt;dbl&gt;</th><th scope=col>&lt;dbl&gt;</th></tr>\n",
       "</thead>\n",
       "<tbody>\n",
       "\t<tr><td>0</td><td>1</td><td>1</td><td>-0.25</td><td> 0.25</td><td>-0.25</td><td>0.5000000</td><td>1</td><td>0.62245933</td><td>0</td><td>1</td><td>0</td></tr>\n",
       "\t<tr><td>0</td><td>0</td><td>1</td><td> 0.25</td><td>-0.25</td><td>-0.25</td><td>0.2227001</td><td>1</td><td>0.90465054</td><td>1</td><td>1</td><td>0</td></tr>\n",
       "\t<tr><td>1</td><td>0</td><td>0</td><td>-0.25</td><td> 0.25</td><td>-0.25</td><td>0.5445246</td><td>0</td><td>0.32082130</td><td>1</td><td>1</td><td>0</td></tr>\n",
       "\t<tr><td>0</td><td>1</td><td>1</td><td>-0.25</td><td> 0.25</td><td>-0.25</td><td>0.6513549</td><td>1</td><td>0.40733340</td><td>1</td><td>1</td><td>0</td></tr>\n",
       "\t<tr><td>1</td><td>1</td><td>1</td><td> 0.25</td><td> 0.25</td><td> 0.25</td><td>0.5000000</td><td>1</td><td>0.62245933</td><td>1</td><td>1</td><td>0</td></tr>\n",
       "\t<tr><td>0</td><td>1</td><td>0</td><td>-0.25</td><td>-0.25</td><td> 0.25</td><td>0.7772999</td><td>1</td><td>0.22270014</td><td>1</td><td>1</td><td>0</td></tr>\n",
       "\t<tr><td>0</td><td>1</td><td>0</td><td>-0.25</td><td>-0.25</td><td> 0.25</td><td>0.5000000</td><td>0</td><td>0.37754067</td><td>1</td><td>1</td><td>0</td></tr>\n",
       "\t<tr><td>1</td><td>1</td><td>1</td><td> 0.25</td><td> 0.25</td><td> 0.25</td><td>0.6026853</td><td>1</td><td>0.47917871</td><td>0</td><td>1</td><td>0</td></tr>\n",
       "\t<tr><td>0</td><td>0</td><td>1</td><td> 0.25</td><td>-0.25</td><td>-0.25</td><td>0.7772999</td><td>0</td><td>0.09534946</td><td>0</td><td>1</td><td>0</td></tr>\n",
       "\t<tr><td>0</td><td>0</td><td>1</td><td> 0.25</td><td>-0.25</td><td>-0.25</td><td>0.2227001</td><td>0</td><td>0.77729986</td><td>1</td><td>1</td><td>0</td></tr>\n",
       "\t<tr><td>1</td><td>1</td><td>0</td><td> 0.25</td><td>-0.25</td><td>-0.25</td><td>0.5000000</td><td>1</td><td>0.62245933</td><td>1</td><td>1</td><td>0</td></tr>\n",
       "\t<tr><td>0</td><td>1</td><td>1</td><td>-0.25</td><td> 0.25</td><td>-0.25</td><td>0.2227001</td><td>1</td><td>0.90465054</td><td>1</td><td>1</td><td>0</td></tr>\n",
       "\t<tr><td>1</td><td>1</td><td>0</td><td> 0.25</td><td>-0.25</td><td>-0.25</td><td>0.6026853</td><td>1</td><td>0.47917871</td><td>0</td><td>1</td><td>0</td></tr>\n",
       "\t<tr><td>0</td><td>1</td><td>1</td><td>-0.25</td><td> 0.25</td><td>-0.25</td><td>0.5000000</td><td>1</td><td>0.62245933</td><td>1</td><td>1</td><td>0</td></tr>\n",
       "\t<tr><td>1</td><td>0</td><td>1</td><td>-0.25</td><td>-0.25</td><td> 0.25</td><td>0.3973147</td><td>1</td><td>0.74712427</td><td>1</td><td>1</td><td>0</td></tr>\n",
       "\t<tr><td>0</td><td>1</td><td>1</td><td>-0.25</td><td> 0.25</td><td>-0.25</td><td>0.2227001</td><td>1</td><td>0.90465054</td><td>1</td><td>1</td><td>0</td></tr>\n",
       "\t<tr><td>0</td><td>0</td><td>1</td><td> 0.25</td><td>-0.25</td><td>-0.25</td><td>0.5000000</td><td>0</td><td>0.37754067</td><td>0</td><td>1</td><td>0</td></tr>\n",
       "\t<tr><td>1</td><td>1</td><td>1</td><td> 0.25</td><td> 0.25</td><td> 0.25</td><td>0.7772999</td><td>1</td><td>0.22270014</td><td>0</td><td>1</td><td>0</td></tr>\n",
       "\t<tr><td>0</td><td>1</td><td>0</td><td>-0.25</td><td>-0.25</td><td> 0.25</td><td>0.6026853</td><td>0</td><td>0.25287573</td><td>1</td><td>1</td><td>0</td></tr>\n",
       "\t<tr><td>0</td><td>0</td><td>0</td><td> 0.25</td><td> 0.25</td><td> 0.25</td><td>0.7772999</td><td>0</td><td>0.09534946</td><td>0</td><td>1</td><td>0</td></tr>\n",
       "\t<tr><td>0</td><td>1</td><td>1</td><td>-0.25</td><td> 0.25</td><td>-0.25</td><td>0.7772999</td><td>1</td><td>0.22270014</td><td>0</td><td>1</td><td>0</td></tr>\n",
       "\t<tr><td>0</td><td>1</td><td>1</td><td>-0.25</td><td> 0.25</td><td>-0.25</td><td>0.7772999</td><td>1</td><td>0.22270014</td><td>0</td><td>1</td><td>0</td></tr>\n",
       "\t<tr><td>1</td><td>1</td><td>1</td><td> 0.25</td><td> 0.25</td><td> 0.25</td><td>0.3973147</td><td>0</td><td>0.52082129</td><td>0</td><td>1</td><td>0</td></tr>\n",
       "\t<tr><td>0</td><td>1</td><td>0</td><td>-0.25</td><td>-0.25</td><td> 0.25</td><td>0.5000000</td><td>1</td><td>0.62245933</td><td>1</td><td>1</td><td>0</td></tr>\n",
       "\t<tr><td>1</td><td>1</td><td>0</td><td> 0.25</td><td>-0.25</td><td>-0.25</td><td>0.6026853</td><td>1</td><td>0.47917871</td><td>1</td><td>1</td><td>0</td></tr>\n",
       "\t<tr><td>1</td><td>0</td><td>0</td><td>-0.25</td><td> 0.25</td><td>-0.25</td><td>0.6513549</td><td>0</td><td>0.20181322</td><td>0</td><td>1</td><td>0</td></tr>\n",
       "\t<tr><td>1</td><td>1</td><td>0</td><td> 0.25</td><td>-0.25</td><td>-0.25</td><td>0.2227001</td><td>1</td><td>0.90465054</td><td>1</td><td>1</td><td>0</td></tr>\n",
       "\t<tr><td>1</td><td>0</td><td>0</td><td>-0.25</td><td> 0.25</td><td>-0.25</td><td>0.3486451</td><td>0</td><td>0.59266660</td><td>0</td><td>1</td><td>0</td></tr>\n",
       "\t<tr><td>0</td><td>0</td><td>1</td><td> 0.25</td><td>-0.25</td><td>-0.25</td><td>0.2227001</td><td>1</td><td>0.90465054</td><td>1</td><td>1</td><td>0</td></tr>\n",
       "\t<tr><td>1</td><td>1</td><td>0</td><td> 0.25</td><td>-0.25</td><td>-0.25</td><td>0.5000000</td><td>0</td><td>0.37754067</td><td>0</td><td>1</td><td>0</td></tr>\n",
       "\t<tr><td>⋮</td><td>⋮</td><td>⋮</td><td>⋮</td><td>⋮</td><td>⋮</td><td>⋮</td><td>⋮</td><td>⋮</td><td>⋮</td><td>⋮</td><td>⋮</td></tr>\n",
       "\t<tr><td>0</td><td>0</td><td>1</td><td> 0.25</td><td>-0.25</td><td>-0.25</td><td>0.5000000</td><td>0</td><td>0.37754067</td><td>1</td><td>1</td><td>0</td></tr>\n",
       "\t<tr><td>1</td><td>0</td><td>1</td><td>-0.25</td><td>-0.25</td><td> 0.25</td><td>0.3973147</td><td>0</td><td>0.52082129</td><td>0</td><td>1</td><td>0</td></tr>\n",
       "\t<tr><td>1</td><td>0</td><td>1</td><td>-0.25</td><td>-0.25</td><td> 0.25</td><td>0.5000000</td><td>1</td><td>0.62245933</td><td>1</td><td>1</td><td>0</td></tr>\n",
       "\t<tr><td>0</td><td>0</td><td>0</td><td> 0.25</td><td> 0.25</td><td> 0.25</td><td>0.2227001</td><td>0</td><td>0.77729986</td><td>1</td><td>1</td><td>0</td></tr>\n",
       "\t<tr><td>0</td><td>0</td><td>0</td><td> 0.25</td><td> 0.25</td><td> 0.25</td><td>0.2227001</td><td>1</td><td>0.90465054</td><td>1</td><td>1</td><td>0</td></tr>\n",
       "\t<tr><td>1</td><td>0</td><td>0</td><td>-0.25</td><td> 0.25</td><td>-0.25</td><td>0.5000000</td><td>1</td><td>0.62245933</td><td>1</td><td>1</td><td>0</td></tr>\n",
       "\t<tr><td>1</td><td>0</td><td>0</td><td>-0.25</td><td> 0.25</td><td>-0.25</td><td>0.7772999</td><td>1</td><td>0.22270014</td><td>0</td><td>1</td><td>0</td></tr>\n",
       "\t<tr><td>1</td><td>1</td><td>1</td><td> 0.25</td><td> 0.25</td><td> 0.25</td><td>0.5000000</td><td>1</td><td>0.62245933</td><td>1</td><td>1</td><td>0</td></tr>\n",
       "\t<tr><td>0</td><td>1</td><td>1</td><td>-0.25</td><td> 0.25</td><td>-0.25</td><td>0.2227001</td><td>0</td><td>0.77729986</td><td>1</td><td>1</td><td>0</td></tr>\n",
       "\t<tr><td>1</td><td>0</td><td>0</td><td>-0.25</td><td> 0.25</td><td>-0.25</td><td>0.6026853</td><td>0</td><td>0.25287573</td><td>0</td><td>1</td><td>0</td></tr>\n",
       "\t<tr><td>1</td><td>1</td><td>1</td><td> 0.25</td><td> 0.25</td><td> 0.25</td><td>0.4378235</td><td>0</td><td>0.46257015</td><td>1</td><td>1</td><td>0</td></tr>\n",
       "\t<tr><td>1</td><td>1</td><td>0</td><td> 0.25</td><td>-0.25</td><td>-0.25</td><td>0.7772999</td><td>1</td><td>0.22270014</td><td>0</td><td>1</td><td>0</td></tr>\n",
       "\t<tr><td>1</td><td>0</td><td>0</td><td>-0.25</td><td> 0.25</td><td>-0.25</td><td>0.7772999</td><td>1</td><td>0.22270014</td><td>0</td><td>1</td><td>0</td></tr>\n",
       "\t<tr><td>0</td><td>0</td><td>1</td><td> 0.25</td><td>-0.25</td><td>-0.25</td><td>0.7772999</td><td>0</td><td>0.09534946</td><td>0</td><td>1</td><td>0</td></tr>\n",
       "\t<tr><td>1</td><td>1</td><td>1</td><td> 0.25</td><td> 0.25</td><td> 0.25</td><td>0.5000000</td><td>0</td><td>0.37754067</td><td>0</td><td>1</td><td>0</td></tr>\n",
       "\t<tr><td>0</td><td>1</td><td>0</td><td>-0.25</td><td>-0.25</td><td> 0.25</td><td>0.5000000</td><td>0</td><td>0.37754067</td><td>0</td><td>1</td><td>0</td></tr>\n",
       "\t<tr><td>1</td><td>1</td><td>0</td><td> 0.25</td><td>-0.25</td><td>-0.25</td><td>0.5000000</td><td>1</td><td>0.62245933</td><td>1</td><td>1</td><td>0</td></tr>\n",
       "\t<tr><td>1</td><td>0</td><td>0</td><td>-0.25</td><td> 0.25</td><td>-0.25</td><td>0.7772999</td><td>0</td><td>0.09534946</td><td>0</td><td>1</td><td>0</td></tr>\n",
       "\t<tr><td>0</td><td>0</td><td>0</td><td> 0.25</td><td> 0.25</td><td> 0.25</td><td>0.2227001</td><td>0</td><td>0.77729986</td><td>1</td><td>1</td><td>0</td></tr>\n",
       "\t<tr><td>1</td><td>1</td><td>0</td><td> 0.25</td><td>-0.25</td><td>-0.25</td><td>0.3208213</td><td>0</td><td>0.63413559</td><td>0</td><td>1</td><td>0</td></tr>\n",
       "\t<tr><td>1</td><td>0</td><td>1</td><td>-0.25</td><td>-0.25</td><td> 0.25</td><td>0.2227001</td><td>0</td><td>0.77729986</td><td>1</td><td>1</td><td>0</td></tr>\n",
       "\t<tr><td>0</td><td>1</td><td>1</td><td>-0.25</td><td> 0.25</td><td>-0.25</td><td>0.7772999</td><td>1</td><td>0.22270014</td><td>0</td><td>1</td><td>0</td></tr>\n",
       "\t<tr><td>0</td><td>1</td><td>0</td><td>-0.25</td><td>-0.25</td><td> 0.25</td><td>0.4378235</td><td>0</td><td>0.46257015</td><td>0</td><td>1</td><td>0</td></tr>\n",
       "\t<tr><td>0</td><td>1</td><td>0</td><td>-0.25</td><td>-0.25</td><td> 0.25</td><td>0.3973147</td><td>1</td><td>0.74712427</td><td>1</td><td>1</td><td>0</td></tr>\n",
       "\t<tr><td>0</td><td>0</td><td>0</td><td> 0.25</td><td> 0.25</td><td> 0.25</td><td>0.7772999</td><td>1</td><td>0.22270014</td><td>0</td><td>1</td><td>0</td></tr>\n",
       "\t<tr><td>0</td><td>1</td><td>0</td><td>-0.25</td><td>-0.25</td><td> 0.25</td><td>0.5000000</td><td>1</td><td>0.62245933</td><td>0</td><td>1</td><td>0</td></tr>\n",
       "\t<tr><td>1</td><td>1</td><td>0</td><td> 0.25</td><td>-0.25</td><td>-0.25</td><td>0.5000000</td><td>0</td><td>0.37754067</td><td>0</td><td>1</td><td>0</td></tr>\n",
       "\t<tr><td>0</td><td>1</td><td>0</td><td>-0.25</td><td>-0.25</td><td> 0.25</td><td>0.2227001</td><td>0</td><td>0.77729986</td><td>1</td><td>1</td><td>0</td></tr>\n",
       "\t<tr><td>0</td><td>0</td><td>0</td><td> 0.25</td><td> 0.25</td><td> 0.25</td><td>0.7772999</td><td>1</td><td>0.22270014</td><td>0</td><td>1</td><td>0</td></tr>\n",
       "\t<tr><td>0</td><td>0</td><td>0</td><td> 0.25</td><td> 0.25</td><td> 0.25</td><td>0.3486451</td><td>0</td><td>0.59266660</td><td>0</td><td>1</td><td>0</td></tr>\n",
       "</tbody>\n",
       "</table>\n"
      ],
      "text/latex": [
       "A tibble: 4000 × 12\n",
       "\\begin{tabular}{llllllllllll}\n",
       " X1 & X2 & X3 & W1 & W2 & W3 & p & T & m & Y & T.new1 & T.new2\\\\\n",
       " <int> & <int> & <int> & <dbl> & <dbl> & <dbl> & <dbl> & <int> & <dbl> & <int> & <dbl> & <dbl>\\\\\n",
       "\\hline\n",
       "\t 0 & 1 & 1 & -0.25 &  0.25 & -0.25 & 0.5000000 & 1 & 0.62245933 & 0 & 1 & 0\\\\\n",
       "\t 0 & 0 & 1 &  0.25 & -0.25 & -0.25 & 0.2227001 & 1 & 0.90465054 & 1 & 1 & 0\\\\\n",
       "\t 1 & 0 & 0 & -0.25 &  0.25 & -0.25 & 0.5445246 & 0 & 0.32082130 & 1 & 1 & 0\\\\\n",
       "\t 0 & 1 & 1 & -0.25 &  0.25 & -0.25 & 0.6513549 & 1 & 0.40733340 & 1 & 1 & 0\\\\\n",
       "\t 1 & 1 & 1 &  0.25 &  0.25 &  0.25 & 0.5000000 & 1 & 0.62245933 & 1 & 1 & 0\\\\\n",
       "\t 0 & 1 & 0 & -0.25 & -0.25 &  0.25 & 0.7772999 & 1 & 0.22270014 & 1 & 1 & 0\\\\\n",
       "\t 0 & 1 & 0 & -0.25 & -0.25 &  0.25 & 0.5000000 & 0 & 0.37754067 & 1 & 1 & 0\\\\\n",
       "\t 1 & 1 & 1 &  0.25 &  0.25 &  0.25 & 0.6026853 & 1 & 0.47917871 & 0 & 1 & 0\\\\\n",
       "\t 0 & 0 & 1 &  0.25 & -0.25 & -0.25 & 0.7772999 & 0 & 0.09534946 & 0 & 1 & 0\\\\\n",
       "\t 0 & 0 & 1 &  0.25 & -0.25 & -0.25 & 0.2227001 & 0 & 0.77729986 & 1 & 1 & 0\\\\\n",
       "\t 1 & 1 & 0 &  0.25 & -0.25 & -0.25 & 0.5000000 & 1 & 0.62245933 & 1 & 1 & 0\\\\\n",
       "\t 0 & 1 & 1 & -0.25 &  0.25 & -0.25 & 0.2227001 & 1 & 0.90465054 & 1 & 1 & 0\\\\\n",
       "\t 1 & 1 & 0 &  0.25 & -0.25 & -0.25 & 0.6026853 & 1 & 0.47917871 & 0 & 1 & 0\\\\\n",
       "\t 0 & 1 & 1 & -0.25 &  0.25 & -0.25 & 0.5000000 & 1 & 0.62245933 & 1 & 1 & 0\\\\\n",
       "\t 1 & 0 & 1 & -0.25 & -0.25 &  0.25 & 0.3973147 & 1 & 0.74712427 & 1 & 1 & 0\\\\\n",
       "\t 0 & 1 & 1 & -0.25 &  0.25 & -0.25 & 0.2227001 & 1 & 0.90465054 & 1 & 1 & 0\\\\\n",
       "\t 0 & 0 & 1 &  0.25 & -0.25 & -0.25 & 0.5000000 & 0 & 0.37754067 & 0 & 1 & 0\\\\\n",
       "\t 1 & 1 & 1 &  0.25 &  0.25 &  0.25 & 0.7772999 & 1 & 0.22270014 & 0 & 1 & 0\\\\\n",
       "\t 0 & 1 & 0 & -0.25 & -0.25 &  0.25 & 0.6026853 & 0 & 0.25287573 & 1 & 1 & 0\\\\\n",
       "\t 0 & 0 & 0 &  0.25 &  0.25 &  0.25 & 0.7772999 & 0 & 0.09534946 & 0 & 1 & 0\\\\\n",
       "\t 0 & 1 & 1 & -0.25 &  0.25 & -0.25 & 0.7772999 & 1 & 0.22270014 & 0 & 1 & 0\\\\\n",
       "\t 0 & 1 & 1 & -0.25 &  0.25 & -0.25 & 0.7772999 & 1 & 0.22270014 & 0 & 1 & 0\\\\\n",
       "\t 1 & 1 & 1 &  0.25 &  0.25 &  0.25 & 0.3973147 & 0 & 0.52082129 & 0 & 1 & 0\\\\\n",
       "\t 0 & 1 & 0 & -0.25 & -0.25 &  0.25 & 0.5000000 & 1 & 0.62245933 & 1 & 1 & 0\\\\\n",
       "\t 1 & 1 & 0 &  0.25 & -0.25 & -0.25 & 0.6026853 & 1 & 0.47917871 & 1 & 1 & 0\\\\\n",
       "\t 1 & 0 & 0 & -0.25 &  0.25 & -0.25 & 0.6513549 & 0 & 0.20181322 & 0 & 1 & 0\\\\\n",
       "\t 1 & 1 & 0 &  0.25 & -0.25 & -0.25 & 0.2227001 & 1 & 0.90465054 & 1 & 1 & 0\\\\\n",
       "\t 1 & 0 & 0 & -0.25 &  0.25 & -0.25 & 0.3486451 & 0 & 0.59266660 & 0 & 1 & 0\\\\\n",
       "\t 0 & 0 & 1 &  0.25 & -0.25 & -0.25 & 0.2227001 & 1 & 0.90465054 & 1 & 1 & 0\\\\\n",
       "\t 1 & 1 & 0 &  0.25 & -0.25 & -0.25 & 0.5000000 & 0 & 0.37754067 & 0 & 1 & 0\\\\\n",
       "\t ⋮ & ⋮ & ⋮ & ⋮ & ⋮ & ⋮ & ⋮ & ⋮ & ⋮ & ⋮ & ⋮ & ⋮\\\\\n",
       "\t 0 & 0 & 1 &  0.25 & -0.25 & -0.25 & 0.5000000 & 0 & 0.37754067 & 1 & 1 & 0\\\\\n",
       "\t 1 & 0 & 1 & -0.25 & -0.25 &  0.25 & 0.3973147 & 0 & 0.52082129 & 0 & 1 & 0\\\\\n",
       "\t 1 & 0 & 1 & -0.25 & -0.25 &  0.25 & 0.5000000 & 1 & 0.62245933 & 1 & 1 & 0\\\\\n",
       "\t 0 & 0 & 0 &  0.25 &  0.25 &  0.25 & 0.2227001 & 0 & 0.77729986 & 1 & 1 & 0\\\\\n",
       "\t 0 & 0 & 0 &  0.25 &  0.25 &  0.25 & 0.2227001 & 1 & 0.90465054 & 1 & 1 & 0\\\\\n",
       "\t 1 & 0 & 0 & -0.25 &  0.25 & -0.25 & 0.5000000 & 1 & 0.62245933 & 1 & 1 & 0\\\\\n",
       "\t 1 & 0 & 0 & -0.25 &  0.25 & -0.25 & 0.7772999 & 1 & 0.22270014 & 0 & 1 & 0\\\\\n",
       "\t 1 & 1 & 1 &  0.25 &  0.25 &  0.25 & 0.5000000 & 1 & 0.62245933 & 1 & 1 & 0\\\\\n",
       "\t 0 & 1 & 1 & -0.25 &  0.25 & -0.25 & 0.2227001 & 0 & 0.77729986 & 1 & 1 & 0\\\\\n",
       "\t 1 & 0 & 0 & -0.25 &  0.25 & -0.25 & 0.6026853 & 0 & 0.25287573 & 0 & 1 & 0\\\\\n",
       "\t 1 & 1 & 1 &  0.25 &  0.25 &  0.25 & 0.4378235 & 0 & 0.46257015 & 1 & 1 & 0\\\\\n",
       "\t 1 & 1 & 0 &  0.25 & -0.25 & -0.25 & 0.7772999 & 1 & 0.22270014 & 0 & 1 & 0\\\\\n",
       "\t 1 & 0 & 0 & -0.25 &  0.25 & -0.25 & 0.7772999 & 1 & 0.22270014 & 0 & 1 & 0\\\\\n",
       "\t 0 & 0 & 1 &  0.25 & -0.25 & -0.25 & 0.7772999 & 0 & 0.09534946 & 0 & 1 & 0\\\\\n",
       "\t 1 & 1 & 1 &  0.25 &  0.25 &  0.25 & 0.5000000 & 0 & 0.37754067 & 0 & 1 & 0\\\\\n",
       "\t 0 & 1 & 0 & -0.25 & -0.25 &  0.25 & 0.5000000 & 0 & 0.37754067 & 0 & 1 & 0\\\\\n",
       "\t 1 & 1 & 0 &  0.25 & -0.25 & -0.25 & 0.5000000 & 1 & 0.62245933 & 1 & 1 & 0\\\\\n",
       "\t 1 & 0 & 0 & -0.25 &  0.25 & -0.25 & 0.7772999 & 0 & 0.09534946 & 0 & 1 & 0\\\\\n",
       "\t 0 & 0 & 0 &  0.25 &  0.25 &  0.25 & 0.2227001 & 0 & 0.77729986 & 1 & 1 & 0\\\\\n",
       "\t 1 & 1 & 0 &  0.25 & -0.25 & -0.25 & 0.3208213 & 0 & 0.63413559 & 0 & 1 & 0\\\\\n",
       "\t 1 & 0 & 1 & -0.25 & -0.25 &  0.25 & 0.2227001 & 0 & 0.77729986 & 1 & 1 & 0\\\\\n",
       "\t 0 & 1 & 1 & -0.25 &  0.25 & -0.25 & 0.7772999 & 1 & 0.22270014 & 0 & 1 & 0\\\\\n",
       "\t 0 & 1 & 0 & -0.25 & -0.25 &  0.25 & 0.4378235 & 0 & 0.46257015 & 0 & 1 & 0\\\\\n",
       "\t 0 & 1 & 0 & -0.25 & -0.25 &  0.25 & 0.3973147 & 1 & 0.74712427 & 1 & 1 & 0\\\\\n",
       "\t 0 & 0 & 0 &  0.25 &  0.25 &  0.25 & 0.7772999 & 1 & 0.22270014 & 0 & 1 & 0\\\\\n",
       "\t 0 & 1 & 0 & -0.25 & -0.25 &  0.25 & 0.5000000 & 1 & 0.62245933 & 0 & 1 & 0\\\\\n",
       "\t 1 & 1 & 0 &  0.25 & -0.25 & -0.25 & 0.5000000 & 0 & 0.37754067 & 0 & 1 & 0\\\\\n",
       "\t 0 & 1 & 0 & -0.25 & -0.25 &  0.25 & 0.2227001 & 0 & 0.77729986 & 1 & 1 & 0\\\\\n",
       "\t 0 & 0 & 0 &  0.25 &  0.25 &  0.25 & 0.7772999 & 1 & 0.22270014 & 0 & 1 & 0\\\\\n",
       "\t 0 & 0 & 0 &  0.25 &  0.25 &  0.25 & 0.3486451 & 0 & 0.59266660 & 0 & 1 & 0\\\\\n",
       "\\end{tabular}\n"
      ],
      "text/markdown": [
       "\n",
       "A tibble: 4000 × 12\n",
       "\n",
       "| X1 &lt;int&gt; | X2 &lt;int&gt; | X3 &lt;int&gt; | W1 &lt;dbl&gt; | W2 &lt;dbl&gt; | W3 &lt;dbl&gt; | p &lt;dbl&gt; | T &lt;int&gt; | m &lt;dbl&gt; | Y &lt;int&gt; | T.new1 &lt;dbl&gt; | T.new2 &lt;dbl&gt; |\n",
       "|---|---|---|---|---|---|---|---|---|---|---|---|\n",
       "| 0 | 1 | 1 | -0.25 |  0.25 | -0.25 | 0.5000000 | 1 | 0.62245933 | 0 | 1 | 0 |\n",
       "| 0 | 0 | 1 |  0.25 | -0.25 | -0.25 | 0.2227001 | 1 | 0.90465054 | 1 | 1 | 0 |\n",
       "| 1 | 0 | 0 | -0.25 |  0.25 | -0.25 | 0.5445246 | 0 | 0.32082130 | 1 | 1 | 0 |\n",
       "| 0 | 1 | 1 | -0.25 |  0.25 | -0.25 | 0.6513549 | 1 | 0.40733340 | 1 | 1 | 0 |\n",
       "| 1 | 1 | 1 |  0.25 |  0.25 |  0.25 | 0.5000000 | 1 | 0.62245933 | 1 | 1 | 0 |\n",
       "| 0 | 1 | 0 | -0.25 | -0.25 |  0.25 | 0.7772999 | 1 | 0.22270014 | 1 | 1 | 0 |\n",
       "| 0 | 1 | 0 | -0.25 | -0.25 |  0.25 | 0.5000000 | 0 | 0.37754067 | 1 | 1 | 0 |\n",
       "| 1 | 1 | 1 |  0.25 |  0.25 |  0.25 | 0.6026853 | 1 | 0.47917871 | 0 | 1 | 0 |\n",
       "| 0 | 0 | 1 |  0.25 | -0.25 | -0.25 | 0.7772999 | 0 | 0.09534946 | 0 | 1 | 0 |\n",
       "| 0 | 0 | 1 |  0.25 | -0.25 | -0.25 | 0.2227001 | 0 | 0.77729986 | 1 | 1 | 0 |\n",
       "| 1 | 1 | 0 |  0.25 | -0.25 | -0.25 | 0.5000000 | 1 | 0.62245933 | 1 | 1 | 0 |\n",
       "| 0 | 1 | 1 | -0.25 |  0.25 | -0.25 | 0.2227001 | 1 | 0.90465054 | 1 | 1 | 0 |\n",
       "| 1 | 1 | 0 |  0.25 | -0.25 | -0.25 | 0.6026853 | 1 | 0.47917871 | 0 | 1 | 0 |\n",
       "| 0 | 1 | 1 | -0.25 |  0.25 | -0.25 | 0.5000000 | 1 | 0.62245933 | 1 | 1 | 0 |\n",
       "| 1 | 0 | 1 | -0.25 | -0.25 |  0.25 | 0.3973147 | 1 | 0.74712427 | 1 | 1 | 0 |\n",
       "| 0 | 1 | 1 | -0.25 |  0.25 | -0.25 | 0.2227001 | 1 | 0.90465054 | 1 | 1 | 0 |\n",
       "| 0 | 0 | 1 |  0.25 | -0.25 | -0.25 | 0.5000000 | 0 | 0.37754067 | 0 | 1 | 0 |\n",
       "| 1 | 1 | 1 |  0.25 |  0.25 |  0.25 | 0.7772999 | 1 | 0.22270014 | 0 | 1 | 0 |\n",
       "| 0 | 1 | 0 | -0.25 | -0.25 |  0.25 | 0.6026853 | 0 | 0.25287573 | 1 | 1 | 0 |\n",
       "| 0 | 0 | 0 |  0.25 |  0.25 |  0.25 | 0.7772999 | 0 | 0.09534946 | 0 | 1 | 0 |\n",
       "| 0 | 1 | 1 | -0.25 |  0.25 | -0.25 | 0.7772999 | 1 | 0.22270014 | 0 | 1 | 0 |\n",
       "| 0 | 1 | 1 | -0.25 |  0.25 | -0.25 | 0.7772999 | 1 | 0.22270014 | 0 | 1 | 0 |\n",
       "| 1 | 1 | 1 |  0.25 |  0.25 |  0.25 | 0.3973147 | 0 | 0.52082129 | 0 | 1 | 0 |\n",
       "| 0 | 1 | 0 | -0.25 | -0.25 |  0.25 | 0.5000000 | 1 | 0.62245933 | 1 | 1 | 0 |\n",
       "| 1 | 1 | 0 |  0.25 | -0.25 | -0.25 | 0.6026853 | 1 | 0.47917871 | 1 | 1 | 0 |\n",
       "| 1 | 0 | 0 | -0.25 |  0.25 | -0.25 | 0.6513549 | 0 | 0.20181322 | 0 | 1 | 0 |\n",
       "| 1 | 1 | 0 |  0.25 | -0.25 | -0.25 | 0.2227001 | 1 | 0.90465054 | 1 | 1 | 0 |\n",
       "| 1 | 0 | 0 | -0.25 |  0.25 | -0.25 | 0.3486451 | 0 | 0.59266660 | 0 | 1 | 0 |\n",
       "| 0 | 0 | 1 |  0.25 | -0.25 | -0.25 | 0.2227001 | 1 | 0.90465054 | 1 | 1 | 0 |\n",
       "| 1 | 1 | 0 |  0.25 | -0.25 | -0.25 | 0.5000000 | 0 | 0.37754067 | 0 | 1 | 0 |\n",
       "| ⋮ | ⋮ | ⋮ | ⋮ | ⋮ | ⋮ | ⋮ | ⋮ | ⋮ | ⋮ | ⋮ | ⋮ |\n",
       "| 0 | 0 | 1 |  0.25 | -0.25 | -0.25 | 0.5000000 | 0 | 0.37754067 | 1 | 1 | 0 |\n",
       "| 1 | 0 | 1 | -0.25 | -0.25 |  0.25 | 0.3973147 | 0 | 0.52082129 | 0 | 1 | 0 |\n",
       "| 1 | 0 | 1 | -0.25 | -0.25 |  0.25 | 0.5000000 | 1 | 0.62245933 | 1 | 1 | 0 |\n",
       "| 0 | 0 | 0 |  0.25 |  0.25 |  0.25 | 0.2227001 | 0 | 0.77729986 | 1 | 1 | 0 |\n",
       "| 0 | 0 | 0 |  0.25 |  0.25 |  0.25 | 0.2227001 | 1 | 0.90465054 | 1 | 1 | 0 |\n",
       "| 1 | 0 | 0 | -0.25 |  0.25 | -0.25 | 0.5000000 | 1 | 0.62245933 | 1 | 1 | 0 |\n",
       "| 1 | 0 | 0 | -0.25 |  0.25 | -0.25 | 0.7772999 | 1 | 0.22270014 | 0 | 1 | 0 |\n",
       "| 1 | 1 | 1 |  0.25 |  0.25 |  0.25 | 0.5000000 | 1 | 0.62245933 | 1 | 1 | 0 |\n",
       "| 0 | 1 | 1 | -0.25 |  0.25 | -0.25 | 0.2227001 | 0 | 0.77729986 | 1 | 1 | 0 |\n",
       "| 1 | 0 | 0 | -0.25 |  0.25 | -0.25 | 0.6026853 | 0 | 0.25287573 | 0 | 1 | 0 |\n",
       "| 1 | 1 | 1 |  0.25 |  0.25 |  0.25 | 0.4378235 | 0 | 0.46257015 | 1 | 1 | 0 |\n",
       "| 1 | 1 | 0 |  0.25 | -0.25 | -0.25 | 0.7772999 | 1 | 0.22270014 | 0 | 1 | 0 |\n",
       "| 1 | 0 | 0 | -0.25 |  0.25 | -0.25 | 0.7772999 | 1 | 0.22270014 | 0 | 1 | 0 |\n",
       "| 0 | 0 | 1 |  0.25 | -0.25 | -0.25 | 0.7772999 | 0 | 0.09534946 | 0 | 1 | 0 |\n",
       "| 1 | 1 | 1 |  0.25 |  0.25 |  0.25 | 0.5000000 | 0 | 0.37754067 | 0 | 1 | 0 |\n",
       "| 0 | 1 | 0 | -0.25 | -0.25 |  0.25 | 0.5000000 | 0 | 0.37754067 | 0 | 1 | 0 |\n",
       "| 1 | 1 | 0 |  0.25 | -0.25 | -0.25 | 0.5000000 | 1 | 0.62245933 | 1 | 1 | 0 |\n",
       "| 1 | 0 | 0 | -0.25 |  0.25 | -0.25 | 0.7772999 | 0 | 0.09534946 | 0 | 1 | 0 |\n",
       "| 0 | 0 | 0 |  0.25 |  0.25 |  0.25 | 0.2227001 | 0 | 0.77729986 | 1 | 1 | 0 |\n",
       "| 1 | 1 | 0 |  0.25 | -0.25 | -0.25 | 0.3208213 | 0 | 0.63413559 | 0 | 1 | 0 |\n",
       "| 1 | 0 | 1 | -0.25 | -0.25 |  0.25 | 0.2227001 | 0 | 0.77729986 | 1 | 1 | 0 |\n",
       "| 0 | 1 | 1 | -0.25 |  0.25 | -0.25 | 0.7772999 | 1 | 0.22270014 | 0 | 1 | 0 |\n",
       "| 0 | 1 | 0 | -0.25 | -0.25 |  0.25 | 0.4378235 | 0 | 0.46257015 | 0 | 1 | 0 |\n",
       "| 0 | 1 | 0 | -0.25 | -0.25 |  0.25 | 0.3973147 | 1 | 0.74712427 | 1 | 1 | 0 |\n",
       "| 0 | 0 | 0 |  0.25 |  0.25 |  0.25 | 0.7772999 | 1 | 0.22270014 | 0 | 1 | 0 |\n",
       "| 0 | 1 | 0 | -0.25 | -0.25 |  0.25 | 0.5000000 | 1 | 0.62245933 | 0 | 1 | 0 |\n",
       "| 1 | 1 | 0 |  0.25 | -0.25 | -0.25 | 0.5000000 | 0 | 0.37754067 | 0 | 1 | 0 |\n",
       "| 0 | 1 | 0 | -0.25 | -0.25 |  0.25 | 0.2227001 | 0 | 0.77729986 | 1 | 1 | 0 |\n",
       "| 0 | 0 | 0 |  0.25 |  0.25 |  0.25 | 0.7772999 | 1 | 0.22270014 | 0 | 1 | 0 |\n",
       "| 0 | 0 | 0 |  0.25 |  0.25 |  0.25 | 0.3486451 | 0 | 0.59266660 | 0 | 1 | 0 |\n",
       "\n"
      ],
      "text/plain": [
       "     X1 X2 X3 W1    W2    W3    p         T m          Y T.new1 T.new2\n",
       "1    0  1  1  -0.25  0.25 -0.25 0.5000000 1 0.62245933 0 1      0     \n",
       "2    0  0  1   0.25 -0.25 -0.25 0.2227001 1 0.90465054 1 1      0     \n",
       "3    1  0  0  -0.25  0.25 -0.25 0.5445246 0 0.32082130 1 1      0     \n",
       "4    0  1  1  -0.25  0.25 -0.25 0.6513549 1 0.40733340 1 1      0     \n",
       "5    1  1  1   0.25  0.25  0.25 0.5000000 1 0.62245933 1 1      0     \n",
       "6    0  1  0  -0.25 -0.25  0.25 0.7772999 1 0.22270014 1 1      0     \n",
       "7    0  1  0  -0.25 -0.25  0.25 0.5000000 0 0.37754067 1 1      0     \n",
       "8    1  1  1   0.25  0.25  0.25 0.6026853 1 0.47917871 0 1      0     \n",
       "9    0  0  1   0.25 -0.25 -0.25 0.7772999 0 0.09534946 0 1      0     \n",
       "10   0  0  1   0.25 -0.25 -0.25 0.2227001 0 0.77729986 1 1      0     \n",
       "11   1  1  0   0.25 -0.25 -0.25 0.5000000 1 0.62245933 1 1      0     \n",
       "12   0  1  1  -0.25  0.25 -0.25 0.2227001 1 0.90465054 1 1      0     \n",
       "13   1  1  0   0.25 -0.25 -0.25 0.6026853 1 0.47917871 0 1      0     \n",
       "14   0  1  1  -0.25  0.25 -0.25 0.5000000 1 0.62245933 1 1      0     \n",
       "15   1  0  1  -0.25 -0.25  0.25 0.3973147 1 0.74712427 1 1      0     \n",
       "16   0  1  1  -0.25  0.25 -0.25 0.2227001 1 0.90465054 1 1      0     \n",
       "17   0  0  1   0.25 -0.25 -0.25 0.5000000 0 0.37754067 0 1      0     \n",
       "18   1  1  1   0.25  0.25  0.25 0.7772999 1 0.22270014 0 1      0     \n",
       "19   0  1  0  -0.25 -0.25  0.25 0.6026853 0 0.25287573 1 1      0     \n",
       "20   0  0  0   0.25  0.25  0.25 0.7772999 0 0.09534946 0 1      0     \n",
       "21   0  1  1  -0.25  0.25 -0.25 0.7772999 1 0.22270014 0 1      0     \n",
       "22   0  1  1  -0.25  0.25 -0.25 0.7772999 1 0.22270014 0 1      0     \n",
       "23   1  1  1   0.25  0.25  0.25 0.3973147 0 0.52082129 0 1      0     \n",
       "24   0  1  0  -0.25 -0.25  0.25 0.5000000 1 0.62245933 1 1      0     \n",
       "25   1  1  0   0.25 -0.25 -0.25 0.6026853 1 0.47917871 1 1      0     \n",
       "26   1  0  0  -0.25  0.25 -0.25 0.6513549 0 0.20181322 0 1      0     \n",
       "27   1  1  0   0.25 -0.25 -0.25 0.2227001 1 0.90465054 1 1      0     \n",
       "28   1  0  0  -0.25  0.25 -0.25 0.3486451 0 0.59266660 0 1      0     \n",
       "29   0  0  1   0.25 -0.25 -0.25 0.2227001 1 0.90465054 1 1      0     \n",
       "30   1  1  0   0.25 -0.25 -0.25 0.5000000 0 0.37754067 0 1      0     \n",
       "⋮    ⋮  ⋮  ⋮  ⋮     ⋮     ⋮     ⋮         ⋮ ⋮          ⋮ ⋮      ⋮     \n",
       "3971 0  0  1   0.25 -0.25 -0.25 0.5000000 0 0.37754067 1 1      0     \n",
       "3972 1  0  1  -0.25 -0.25  0.25 0.3973147 0 0.52082129 0 1      0     \n",
       "3973 1  0  1  -0.25 -0.25  0.25 0.5000000 1 0.62245933 1 1      0     \n",
       "3974 0  0  0   0.25  0.25  0.25 0.2227001 0 0.77729986 1 1      0     \n",
       "3975 0  0  0   0.25  0.25  0.25 0.2227001 1 0.90465054 1 1      0     \n",
       "3976 1  0  0  -0.25  0.25 -0.25 0.5000000 1 0.62245933 1 1      0     \n",
       "3977 1  0  0  -0.25  0.25 -0.25 0.7772999 1 0.22270014 0 1      0     \n",
       "3978 1  1  1   0.25  0.25  0.25 0.5000000 1 0.62245933 1 1      0     \n",
       "3979 0  1  1  -0.25  0.25 -0.25 0.2227001 0 0.77729986 1 1      0     \n",
       "3980 1  0  0  -0.25  0.25 -0.25 0.6026853 0 0.25287573 0 1      0     \n",
       "3981 1  1  1   0.25  0.25  0.25 0.4378235 0 0.46257015 1 1      0     \n",
       "3982 1  1  0   0.25 -0.25 -0.25 0.7772999 1 0.22270014 0 1      0     \n",
       "3983 1  0  0  -0.25  0.25 -0.25 0.7772999 1 0.22270014 0 1      0     \n",
       "3984 0  0  1   0.25 -0.25 -0.25 0.7772999 0 0.09534946 0 1      0     \n",
       "3985 1  1  1   0.25  0.25  0.25 0.5000000 0 0.37754067 0 1      0     \n",
       "3986 0  1  0  -0.25 -0.25  0.25 0.5000000 0 0.37754067 0 1      0     \n",
       "3987 1  1  0   0.25 -0.25 -0.25 0.5000000 1 0.62245933 1 1      0     \n",
       "3988 1  0  0  -0.25  0.25 -0.25 0.7772999 0 0.09534946 0 1      0     \n",
       "3989 0  0  0   0.25  0.25  0.25 0.2227001 0 0.77729986 1 1      0     \n",
       "3990 1  1  0   0.25 -0.25 -0.25 0.3208213 0 0.63413559 0 1      0     \n",
       "3991 1  0  1  -0.25 -0.25  0.25 0.2227001 0 0.77729986 1 1      0     \n",
       "3992 0  1  1  -0.25  0.25 -0.25 0.7772999 1 0.22270014 0 1      0     \n",
       "3993 0  1  0  -0.25 -0.25  0.25 0.4378235 0 0.46257015 0 1      0     \n",
       "3994 0  1  0  -0.25 -0.25  0.25 0.3973147 1 0.74712427 1 1      0     \n",
       "3995 0  0  0   0.25  0.25  0.25 0.7772999 1 0.22270014 0 1      0     \n",
       "3996 0  1  0  -0.25 -0.25  0.25 0.5000000 1 0.62245933 0 1      0     \n",
       "3997 1  1  0   0.25 -0.25 -0.25 0.5000000 0 0.37754067 0 1      0     \n",
       "3998 0  1  0  -0.25 -0.25  0.25 0.2227001 0 0.77729986 1 1      0     \n",
       "3999 0  0  0   0.25  0.25  0.25 0.7772999 1 0.22270014 0 1      0     \n",
       "4000 0  0  0   0.25  0.25  0.25 0.3486451 0 0.59266660 0 1      0     "
      ]
     },
     "metadata": {},
     "output_type": "display_data"
    }
   ],
   "source": [
    "datO.feature"
   ]
  },
  {
   "cell_type": "code",
   "execution_count": 6,
   "id": "f3b3360d",
   "metadata": {},
   "outputs": [],
   "source": [
    "n_node = dim(datO.feature)[1]"
   ]
  },
  {
   "cell_type": "code",
   "execution_count": 7,
   "id": "5931f452-5c90-4285-93ea-d6d95283325f",
   "metadata": {},
   "outputs": [],
   "source": [
    "G = graph.data.frame(datO.network[c(2,1)], vertices=1:n_node)"
   ]
  },
  {
   "cell_type": "code",
   "execution_count": 8,
   "id": "0d1bc5b2-0832-440d-9f14-67f436fec3a6",
   "metadata": {},
   "outputs": [],
   "source": [
    "adjmat <- as.matrix(Matrix(as.matrix(G), sparse = FALSE))\n",
    "weights <- pmax(apply(adjmat,1,sum), 1)\n",
    "# weights <- rep(1,1000)"
   ]
  },
  {
   "cell_type": "code",
   "execution_count": 9,
   "id": "50450078-5df4-4153-a48e-a5f7aa503b30",
   "metadata": {},
   "outputs": [],
   "source": [
    "n_sim = 40\n",
    "d_alpha = 15\n",
    "d_beta = 10"
   ]
  },
  {
   "cell_type": "code",
   "execution_count": 10,
   "id": "484fce1d-f731-41ff-85e7-d2918c656728",
   "metadata": {},
   "outputs": [],
   "source": [
    "#STEP 1. INITIALIZE LOOP \n",
    "alpha.est <- matrix(NA,n_sim,d_alpha)\n",
    "beta.est <- matrix(NA,n_sim,d_beta)"
   ]
  },
  {
   "cell_type": "code",
   "execution_count": 11,
   "id": "1ad48be4-4986-4ed4-9762-5f64fd4fbac8",
   "metadata": {},
   "outputs": [],
   "source": [
    "#STEP 2. LOOP OVER ALL DATASETS\n",
    "for (i_sim in 1:n_sim){\n",
    "    \n",
    "  #STEP 2A. SETUP DATASET S\n",
    "  data.i = as.matrix(read_feather(\n",
    "    paste0('data/feature_', formatC(i_sim-1, flag=0, width=3),'.feather')\n",
    "  ))\n",
    "  cov1.i <- data.i[,1] ; cov2.i <- data.i[,2] ; cov3.i <- data.i[,3] \n",
    "  trt.i <- data.i[,8]\n",
    "  outcome.i <- data.i[,10]\n",
    "  \n",
    "  cov1.n <-  (adjmat%*%cov1.i)/weights ; cov2.n <-  (adjmat%*%cov2.i)/weights ; cov3.n <-  (adjmat%*%cov3.i)/weights\n",
    "  trt.n <- (adjmat%*%trt.i)/weights\n",
    "  outcome.n <- (adjmat%*%outcome.i)/weights\n",
    "  \n",
    "  #STEP 2B. COVARIATE MODEL\n",
    "  ## fit\n",
    "  fit.cov <- optim(par=runif(d_alpha,-1,1),cov.pl,gr=NULL,covariate=cbind(cov1.i,cov2.i,cov3.i),covariate.n=cbind(cov1.n,cov2.n,cov3.n),hessian=TRUE,method='BFGS')\n",
    "  \n",
    "  ##estimates\n",
    "  alpha.est[i_sim,] <-  fit.cov$par\n",
    "  \n",
    "  #STEP 2C. OUTCOME MODEL\n",
    "  ##fit\n",
    "  fit.outcome <- glm(outcome.i ~ trt.i + trt.n + cov1.i + cov1.n + cov2.i + cov2.n + cov3.i + cov3.n + outcome.n,family=binomial(link='logit'))\n",
    "  \n",
    "  ##estimates\n",
    "  beta.est[i_sim,] <- fit.outcome$coefficients\n",
    "  \n",
    "}"
   ]
  },
  {
   "cell_type": "code",
   "execution_count": 12,
   "id": "76c68d6d-db0a-48a3-a269-332dd3d68568",
   "metadata": {},
   "outputs": [],
   "source": [
    "result.df <- data.frame(Yhat1 = numeric(0), Yhat2 = numeric(0))"
   ]
  },
  {
   "cell_type": "code",
   "execution_count": 15,
   "id": "ac50865f-36bc-4754-b5c4-7a7ebbca72ce",
   "metadata": {},
   "outputs": [
    {
     "name": "stderr",
     "output_type": "stream",
     "text": [
      "iteration 10, elapsed time: 3040.81188988686 secs.\n",
      "\n",
      "iteration 11, elapsed time: 3078.76819300652 secs.\n",
      "\n",
      "iteration 12, elapsed time: 3233.69511198997 secs.\n",
      "\n",
      "iteration 13, elapsed time: 3324.82523703575 secs.\n",
      "\n",
      "iteration 14, elapsed time: 3322.87946105003 secs.\n",
      "\n",
      "iteration 15, elapsed time: 3475.00551700592 secs.\n",
      "\n",
      "iteration 16, elapsed time: 9739.18892407417 secs.\n",
      "\n",
      "iteration 17, elapsed time: 3753.56613898277 secs.\n",
      "\n",
      "iteration 18, elapsed time: 3418.05439186096 secs.\n",
      "\n",
      "iteration 19, elapsed time: 8457.04269599915 secs.\n",
      "\n",
      "iteration 20, elapsed time: 5173.74555706978 secs.\n",
      "\n",
      "iteration 21, elapsed time: 3729.30639982224 secs.\n",
      "\n",
      "iteration 22, elapsed time: 3679.94150209427 secs.\n",
      "\n",
      "iteration 23, elapsed time: 3586.4001121521 secs.\n",
      "\n",
      "iteration 24, elapsed time: 3561.05174994469 secs.\n",
      "\n",
      "iteration 25, elapsed time: 3678.82553291321 secs.\n",
      "\n",
      "iteration 26, elapsed time: 3506.39252686501 secs.\n",
      "\n",
      "iteration 27, elapsed time: 3542.09138202667 secs.\n",
      "\n",
      "iteration 28, elapsed time: 3356.65281391144 secs.\n",
      "\n",
      "iteration 29, elapsed time: 3401.35884094238 secs.\n",
      "\n",
      "iteration 30, elapsed time: 3428.01119303703 secs.\n",
      "\n",
      "iteration 31, elapsed time: 3475.75568294525 secs.\n",
      "\n",
      "iteration 32, elapsed time: 4007.85148501396 secs.\n",
      "\n",
      "iteration 33, elapsed time: 3688.69454407692 secs.\n",
      "\n",
      "iteration 34, elapsed time: 3943.60762095451 secs.\n",
      "\n",
      "iteration 35, elapsed time: 4246.69968414307 secs.\n",
      "\n",
      "iteration 36, elapsed time: 3407.38867306709 secs.\n",
      "\n",
      "iteration 37, elapsed time: 5720.02959799767 secs.\n",
      "\n",
      "iteration 38, elapsed time: 3720.69378399849 secs.\n",
      "\n",
      "iteration 39, elapsed time: 3683.51210713387 secs.\n",
      "\n",
      "iteration 40, elapsed time: 4150.6402349472 secs.\n",
      "\n"
     ]
    }
   ],
   "source": [
    "for (i_sim in 10:n_sim){\n",
    "    iter_time = Sys.time()\n",
    "\n",
    "    #Input values \n",
    "    alpha <- alpha.est[i_sim,]    \n",
    "    beta <- beta.est[i_sim,]\n",
    "    \n",
    "    group_lengths <- c(1,1,1)\n",
    "    group_functions <- c(1,1,1)\n",
    "    \n",
    "    pr_trt <- 1\n",
    "    \n",
    "    ## Make object for AGC pkg \n",
    "    beta.new <- beta[c(1,2,4,6,8,10,3,5,7,9)] #reorder because of coding function output\n",
    "    alpha.new <- alpha[c(1:9,11,10,12,14,15,13)] #reorder because of coding function output\n",
    "    \n",
    "    outlist.point <- list(t(as.matrix(alpha.new)),t(as.matrix(beta.new)),\n",
    "                    NA,NA,NA,\n",
    "                    group_lengths,group_functions,adjmat)\n",
    "    names(outlist.point) <- c(\"alpha\", \"beta\", \"NA\", \"NA\", \"NA\", \"group_lengths\", \"group_functions\", \"adjmat\")\n",
    "    class(outlist.point) <- append(class(outlist.point),\"agcParamClass\")\n",
    "    \n",
    "    ## Run AGC package \n",
    "    R <- 100\n",
    "    burnin_R <- 20\n",
    "    \n",
    "    point.estimate <- agcEffect(outlist.point, burnin = 0, thin = 1, treatment_allocation = pr_trt, subset = 0,\n",
    "                                R = R, burnin_R = burnin_R, burnin_cov = 0, average = TRUE, index_override = 0,\n",
    "                                return_effects = 0)\n",
    "    \n",
    "    ## Save values \n",
    "    result.df[i_sim,] <- c(point.estimate[1], point.estimate[2])\n",
    "    \n",
    "    message(\n",
    "        paste0(\"iteration \", i_sim, \", elapsed time: \", \n",
    "               difftime(Sys.time(), iter_time, units=\"secs\")[[1]], \" secs.\")\n",
    "    )\n",
    "}"
   ]
  },
  {
   "cell_type": "code",
   "execution_count": 25,
   "id": "9ba8c838-41e3-4c78-90f6-0804e136b830",
   "metadata": {},
   "outputs": [],
   "source": [
    "write_feather(result.df, 'result_autognet.feather')"
   ]
  },
  {
   "cell_type": "code",
   "execution_count": 17,
   "id": "15f0e078-588c-486b-ae8d-2b8043a51c15",
   "metadata": {},
   "outputs": [],
   "source": [
    "result.df <- read_feather('result_autognet.feather')"
   ]
  },
  {
   "cell_type": "code",
   "execution_count": 18,
   "id": "26c38a5d-b4f9-468b-9027-dd4eab76ec6c",
   "metadata": {},
   "outputs": [],
   "source": [
    "df_1 <- data.frame(Yhat = result.df$Yhat1)\n",
    "df_2 <- data.frame(Yhat = result.df$Yhat2)"
   ]
  },
  {
   "cell_type": "code",
   "execution_count": 19,
   "id": "cb235ecb-77fa-407c-ac60-4d084e0bd024",
   "metadata": {},
   "outputs": [],
   "source": [
    "df_1$Anew <- '1'\n",
    "df_2$Anew <- '0'"
   ]
  },
  {
   "cell_type": "code",
   "execution_count": 20,
   "id": "6dd2e977-edb6-4356-940f-a396f29f4dde",
   "metadata": {},
   "outputs": [],
   "source": [
    "df <- rbind(df_1, df_2)"
   ]
  },
  {
   "cell_type": "code",
   "execution_count": 21,
   "id": "69846348-2889-4c6d-b7b5-def720b639a0",
   "metadata": {},
   "outputs": [
    {
     "data": {
      "image/png": "[encoded data removed]",
      "text/plain": [
       "plot without title"
      ]
     },
     "metadata": {
      "image/png": {
       "height": 420,
       "width": 420
      }
     },
     "output_type": "display_data"
    }
   ],
   "source": [
    "ggplot(df, aes(Yhat, fill = Anew)) + \n",
    "    geom_histogram(position='identity', alpha = 0.2, bins=20) +\n",
    "    geom_vline(xintercept=0.4) +\n",
    "    geom_vline(xintercept=0.6)"
   ]
  },
  {
   "cell_type": "code",
   "execution_count": 22,
   "id": "1d39b9e2-f40e-47c3-921c-d25f7a5fff17",
   "metadata": {},
   "outputs": [],
   "source": [
    "result.df$Ydiff = result.df$Yhat1 - result.df$Yhat2"
   ]
  },
  {
   "cell_type": "code",
   "execution_count": 23,
   "id": "3d91c3eb-c178-4506-ad2e-f1796c2241ff",
   "metadata": {},
   "outputs": [
    {
     "data": {
      "image/png": "[encoded data removed]",
      "text/plain": [
       "plot without title"
      ]
     },
     "metadata": {
      "image/png": {
       "height": 420,
       "width": 420
      }
     },
     "output_type": "display_data"
    }
   ],
   "source": [
    "ggplot(result.df, aes(Ydiff)) + \n",
    "    geom_histogram(position='identity', alpha = 0.2, bins=20) +\n",
    "    geom_vline(xintercept=0.2)"
   ]
  },
  {
   "cell_type": "code",
   "execution_count": 24,
   "id": "3d771927",
   "metadata": {},
   "outputs": [
    {
     "data": {
      "text/html": [
       "0.0254126953629688"
      ],
      "text/latex": [
       "0.0254126953629688"
      ],
      "text/markdown": [
       "0.0254126953629688"
      ],
      "text/plain": [
       "[1] 0.0254127"
      ]
     },
     "metadata": {},
     "output_type": "display_data"
    }
   ],
   "source": [
    "mean((result.df$Ydiff - 0.1645)**2)"
   ]
  },
  {
   "cell_type": "code",
   "execution_count": null,
   "id": "eac48ef6",
   "metadata": {},
   "outputs": [],
   "source": []
  },
  {
   "cell_type": "code",
   "execution_count": null,
   "id": "97bf7405",
   "metadata": {},
   "outputs": [],
   "source": []
  }
 ],
 "metadata": {
  "kernelspec": {
   "display_name": "R",
   "language": "R",
   "name": "ir"
  },
  "language_info": {
   "codemirror_mode": "r",
   "file_extension": ".r",
   "mimetype": "text/x-r-source",
   "name": "R",
   "pygments_lexer": "r",
   "version": "4.4.0"
  }
 },
 "nbformat": 4,
 "nbformat_minor": 5
}
