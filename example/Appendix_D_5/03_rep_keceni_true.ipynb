{
 "cells": [
  {
   "cell_type": "code",
   "execution_count": 49,
   "id": "6db3349f",
   "metadata": {},
   "outputs": [],
   "source": [
    "import os, importlib, sys, time"
   ]
  },
  {
   "cell_type": "code",
   "execution_count": 50,
   "id": "1c37e18c",
   "metadata": {
    "scrolled": true
   },
   "outputs": [],
   "source": [
    "import numpy as np\n",
    "import scipy.sparse as sparse\n",
    "import scipy.stats as stats\n",
    "import matplotlib.pyplot as plt\n",
    "import pandas as pd\n",
    "import pyarrow\n",
    "from tqdm import tqdm"
   ]
  },
  {
   "cell_type": "code",
   "execution_count": 51,
   "id": "23b24faf",
   "metadata": {},
   "outputs": [],
   "source": [
    "import KECENI"
   ]
  },
  {
   "cell_type": "markdown",
   "id": "c1e81cff",
   "metadata": {},
   "source": [
    "# load data"
   ]
  },
  {
   "cell_type": "code",
   "execution_count": 52,
   "id": "638c9bf6",
   "metadata": {},
   "outputs": [],
   "source": [
    "data_dir = 'data'\n",
    "save_dir = 'result_true'"
   ]
  },
  {
   "cell_type": "code",
   "execution_count": 53,
   "id": "a4c596a8",
   "metadata": {},
   "outputs": [],
   "source": [
    "data_network = pd.read_feather('%s/network.feather'%(data_dir))\n",
    "data_latent = pd.read_feather('%s/latent.feather'%data_dir)"
   ]
  },
  {
   "cell_type": "code",
   "execution_count": 54,
   "id": "64f99c6c",
   "metadata": {},
   "outputs": [
    {
     "data": {
      "text/html": [
       "<div>\n",
       "<style scoped>\n",
       "    .dataframe tbody tr th:only-of-type {\n",
       "        vertical-align: middle;\n",
       "    }\n",
       "\n",
       "    .dataframe tbody tr th {\n",
       "        vertical-align: top;\n",
       "    }\n",
       "\n",
       "    .dataframe thead th {\n",
       "        text-align: right;\n",
       "    }\n",
       "</style>\n",
       "<table border=\"1\" class=\"dataframe\">\n",
       "  <thead>\n",
       "    <tr style=\"text-align: right;\">\n",
       "      <th></th>\n",
       "      <th>row</th>\n",
       "      <th>col</th>\n",
       "    </tr>\n",
       "  </thead>\n",
       "  <tbody>\n",
       "    <tr>\n",
       "      <th>0</th>\n",
       "      <td>1</td>\n",
       "      <td>244</td>\n",
       "    </tr>\n",
       "    <tr>\n",
       "      <th>1</th>\n",
       "      <td>2</td>\n",
       "      <td>416</td>\n",
       "    </tr>\n",
       "    <tr>\n",
       "      <th>2</th>\n",
       "      <td>2</td>\n",
       "      <td>536</td>\n",
       "    </tr>\n",
       "    <tr>\n",
       "      <th>3</th>\n",
       "      <td>2</td>\n",
       "      <td>540</td>\n",
       "    </tr>\n",
       "    <tr>\n",
       "      <th>4</th>\n",
       "      <td>2</td>\n",
       "      <td>726</td>\n",
       "    </tr>\n",
       "    <tr>\n",
       "      <th>...</th>\n",
       "      <td>...</td>\n",
       "      <td>...</td>\n",
       "    </tr>\n",
       "    <tr>\n",
       "      <th>3391</th>\n",
       "      <td>999</td>\n",
       "      <td>880</td>\n",
       "    </tr>\n",
       "    <tr>\n",
       "      <th>3392</th>\n",
       "      <td>1000</td>\n",
       "      <td>352</td>\n",
       "    </tr>\n",
       "    <tr>\n",
       "      <th>3393</th>\n",
       "      <td>1000</td>\n",
       "      <td>357</td>\n",
       "    </tr>\n",
       "    <tr>\n",
       "      <th>3394</th>\n",
       "      <td>1000</td>\n",
       "      <td>807</td>\n",
       "    </tr>\n",
       "    <tr>\n",
       "      <th>3395</th>\n",
       "      <td>1000</td>\n",
       "      <td>989</td>\n",
       "    </tr>\n",
       "  </tbody>\n",
       "</table>\n",
       "<p>3396 rows × 2 columns</p>\n",
       "</div>"
      ],
      "text/plain": [
       "       row  col\n",
       "0        1  244\n",
       "1        2  416\n",
       "2        2  536\n",
       "3        2  540\n",
       "4        2  726\n",
       "...    ...  ...\n",
       "3391   999  880\n",
       "3392  1000  352\n",
       "3393  1000  357\n",
       "3394  1000  807\n",
       "3395  1000  989\n",
       "\n",
       "[3396 rows x 2 columns]"
      ]
     },
     "execution_count": 54,
     "metadata": {},
     "output_type": "execute_result"
    }
   ],
   "source": [
    "data_network"
   ]
  },
  {
   "cell_type": "code",
   "execution_count": 55,
   "id": "95c2e40b",
   "metadata": {},
   "outputs": [
    {
     "data": {
      "text/plain": [
       "1000"
      ]
     },
     "execution_count": 55,
     "metadata": {},
     "output_type": "execute_result"
    }
   ],
   "source": [
    "n_node = len(data_latent); n_node"
   ]
  },
  {
   "cell_type": "code",
   "execution_count": 56,
   "id": "1dc09510",
   "metadata": {},
   "outputs": [],
   "source": [
    "Adj = sparse.csr_matrix((\n",
    "    np.full(len(data_network), True), \n",
    "    (np.array(data_network.row)-1, np.array(data_network.col)-1)\n",
    ")).toarray()"
   ]
  },
  {
   "cell_type": "code",
   "execution_count": 57,
   "id": "fc72812b",
   "metadata": {},
   "outputs": [],
   "source": [
    "G = KECENI.Graph(Adj)"
   ]
  },
  {
   "cell_type": "markdown",
   "id": "218650b5",
   "metadata": {},
   "source": [
    "# hyperparameters"
   ]
  },
  {
   "cell_type": "code",
   "execution_count": 58,
   "id": "415255c8",
   "metadata": {},
   "outputs": [],
   "source": [
    "from hyperparams import delta, HyperAlpha"
   ]
  },
  {
   "cell_type": "markdown",
   "id": "f1c0279f",
   "metadata": {},
   "source": [
    "# counterfactual of interest"
   ]
  },
  {
   "cell_type": "code",
   "execution_count": 59,
   "id": "b0fbe8b0",
   "metadata": {},
   "outputs": [],
   "source": [
    "i0 = 17"
   ]
  },
  {
   "cell_type": "code",
   "execution_count": 60,
   "id": "71f3f777",
   "metadata": {},
   "outputs": [],
   "source": [
    "T1s = np.zeros(n_node); T1s[G.N1(i0)[::2]] = 1\n",
    "T2s = T1s.copy(); T2s[i0] = 0"
   ]
  },
  {
   "cell_type": "code",
   "execution_count": 61,
   "id": "2f95256e",
   "metadata": {},
   "outputs": [
    {
     "data": {
      "text/plain": [
       "(array([1., 0., 1., 0., 1.]), array([0., 0., 1., 0., 1.]))"
      ]
     },
     "execution_count": 61,
     "metadata": {},
     "output_type": "execute_result"
    }
   ],
   "source": [
    "T1s[G.N1(i0)], T2s[G.N1(i0)]"
   ]
  },
  {
   "cell_type": "markdown",
   "id": "2e56f2ba",
   "metadata": {},
   "source": [
    "# groundtruth"
   ]
  },
  {
   "cell_type": "code",
   "execution_count": 62,
   "id": "d470c0fe",
   "metadata": {},
   "outputs": [],
   "source": [
    "YTR_1, YTR_0 = (1, -1)\n",
    "YTR_d = YTR_1 - YTR_0"
   ]
  },
  {
   "cell_type": "code",
   "execution_count": 63,
   "id": "9b4675a7",
   "metadata": {},
   "outputs": [
    {
     "data": {
      "text/plain": [
       "(-1, 1, 2)"
      ]
     },
     "execution_count": 63,
     "metadata": {},
     "output_type": "execute_result"
    }
   ],
   "source": [
    "YTR_0, YTR_1, YTR_d"
   ]
  },
  {
   "cell_type": "markdown",
   "id": "0db1c0d1",
   "metadata": {},
   "source": [
    "# estimation"
   ]
  },
  {
   "cell_type": "code",
   "execution_count": 64,
   "id": "3b9a8d02",
   "metadata": {},
   "outputs": [],
   "source": [
    "n_sim = 80"
   ]
  },
  {
   "cell_type": "markdown",
   "id": "bd2c4843",
   "metadata": {},
   "source": [
    "## - load simulation"
   ]
  },
  {
   "cell_type": "code",
   "execution_count": 65,
   "id": "ada97a5a",
   "metadata": {},
   "outputs": [],
   "source": [
    "lamdas = np.linspace(0, 20, 21)[1:]\n",
    "hops = np.array([5,6,7,8])"
   ]
  },
  {
   "cell_type": "code",
   "execution_count": 66,
   "id": "dc21250c",
   "metadata": {},
   "outputs": [],
   "source": [
    "ids_cv = np.zeros(n_sim, dtype=int)"
   ]
  },
  {
   "cell_type": "code",
   "execution_count": 67,
   "id": "92800382",
   "metadata": {},
   "outputs": [],
   "source": [
    "YGs_0 = np.zeros(n_sim); YGs_1 = np.zeros(n_sim); YGs_d = np.zeros(n_sim)\n",
    "YDRs_0 = np.zeros(n_sim); YDRs_1 = np.zeros(n_sim); YDRs_d = np.zeros(n_sim)"
   ]
  },
  {
   "cell_type": "code",
   "execution_count": 68,
   "id": "d48c3ff0",
   "metadata": {},
   "outputs": [],
   "source": [
    "sd0s_bbb_dr = np.zeros((n_sim,)+hops.shape); sd0s_hac_dr = np.zeros((n_sim,)+hops.shape)\n",
    "sd1s_bbb_dr = np.zeros((n_sim,)+hops.shape); sd1s_hac_dr = np.zeros((n_sim,)+hops.shape)\n",
    "sdds_bbb_dr = np.zeros((n_sim,)+hops.shape); sdds_hac_dr = np.zeros((n_sim,)+hops.shape)"
   ]
  },
  {
   "cell_type": "code",
   "execution_count": 69,
   "id": "42dd11e9",
   "metadata": {},
   "outputs": [],
   "source": [
    "for i_sim in np.arange(n_sim):\n",
    "    locals().update(np.load('%s/result_%.3d.npz'%(save_dir,i_sim)))\n",
    "    YGs_0[i_sim] = YG_0; YGs_1[i_sim] = YG_1; YGs_d[i_sim] = YG_d\n",
    "    YDRs_0[i_sim] = YDR_0[id_cv]; YDRs_1[i_sim] = YDR_1[id_cv]; YDRs_d[i_sim] = YDR_d[id_cv]\n",
    "    sd0s_bbb_dr[i_sim] = sd0_bbb_dr[:,id_cv]; sd0s_hac_dr[i_sim] = sd0_hac_dr[:,id_cv]\n",
    "    sd1s_bbb_dr[i_sim] = sd1_bbb_dr[:,id_cv]; sd1s_hac_dr[i_sim] = sd1_hac_dr[:,id_cv]\n",
    "    sdds_bbb_dr[i_sim] = sdd_bbb_dr[:,id_cv]; sdds_hac_dr[i_sim] = sdd_hac_dr[:,id_cv]"
   ]
  },
  {
   "cell_type": "markdown",
   "id": "e7db1535",
   "metadata": {},
   "source": [
    "## - G estimate"
   ]
  },
  {
   "cell_type": "code",
   "execution_count": 70,
   "id": "37d4b145",
   "metadata": {},
   "outputs": [
    {
     "data": {
      "text/plain": [
       "<matplotlib.lines.Line2D at 0x152c3a608bc0>"
      ]
     },
     "execution_count": 70,
     "metadata": {},
     "output_type": "execute_result"
    },
    {
     "data": {
      "image/png": "[encoded data removed]",
      "text/plain": [
       "<Figure size 400x300 with 1 Axes>"
      ]
     },
     "metadata": {},
     "output_type": "display_data"
    }
   ],
   "source": [
    "fig = plt.figure(figsize=(4,3))\n",
    "plt.hist(YGs_1, color='blue', alpha=0.5, density=True, bins=np.arange(-2,2,0.1))\n",
    "plt.axvline(YTR_1, color='blue')\n",
    "plt.hist(YGs_0, color='red', alpha=0.5, density=True, bins=np.arange(-2,2,0.1))\n",
    "plt.axvline(YTR_0, color='red')"
   ]
  },
  {
   "cell_type": "code",
   "execution_count": 71,
   "id": "b82855ae",
   "metadata": {},
   "outputs": [
    {
     "data": {
      "text/plain": [
       "<matplotlib.lines.Line2D at 0x152c3a8ccec0>"
      ]
     },
     "execution_count": 71,
     "metadata": {},
     "output_type": "execute_result"
    },
    {
     "data": {
      "image/png": "[encoded data removed]",
      "text/plain": [
       "<Figure size 400x300 with 1 Axes>"
      ]
     },
     "metadata": {},
     "output_type": "display_data"
    }
   ],
   "source": [
    "fig = plt.figure(figsize=(4,3))\n",
    "plt.hist(YGs_d, color='black', alpha=0.5, density=True, bins=np.arange(-1,3,0.1))\n",
    "plt.axvline(YTR_d, color='black')"
   ]
  },
  {
   "cell_type": "code",
   "execution_count": 72,
   "id": "a0b8cd14",
   "metadata": {},
   "outputs": [
    {
     "data": {
      "text/plain": [
       "0.17200122999873552"
      ]
     },
     "execution_count": 72,
     "metadata": {},
     "output_type": "execute_result"
    }
   ],
   "source": [
    "np.sqrt(np.mean((YGs_d - YTR_d)**2, 0))"
   ]
  },
  {
   "cell_type": "markdown",
   "id": "d9aa89cd",
   "metadata": {},
   "source": [
    "## - kernel EIF"
   ]
  },
  {
   "cell_type": "code",
   "execution_count": 73,
   "id": "79130e0e",
   "metadata": {},
   "outputs": [
    {
     "data": {
      "text/plain": [
       "<matplotlib.lines.Line2D at 0x152c58401550>"
      ]
     },
     "execution_count": 73,
     "metadata": {},
     "output_type": "execute_result"
    },
    {
     "data": {
      "image/png": "[encoded data removed]",
      "text/plain": [
       "<Figure size 400x300 with 1 Axes>"
      ]
     },
     "metadata": {},
     "output_type": "display_data"
    }
   ],
   "source": [
    "fig = plt.figure(figsize=(4,3))\n",
    "plt.hist(YDRs_1, color='blue', alpha=0.5, density=True, bins=np.arange(-2,2,0.1))\n",
    "plt.axvline(YTR_1, color='blue')\n",
    "plt.hist(YDRs_0, color='red', alpha=0.5, density=True, bins=np.arange(-2,2,0.1))\n",
    "plt.axvline(YTR_0, color='red')"
   ]
  },
  {
   "cell_type": "code",
   "execution_count": 74,
   "id": "ec28964c",
   "metadata": {},
   "outputs": [
    {
     "data": {
      "text/plain": [
       "<matplotlib.lines.Line2D at 0x152c3a1ea210>"
      ]
     },
     "execution_count": 74,
     "metadata": {},
     "output_type": "execute_result"
    },
    {
     "data": {
      "image/png": "[encoded data removed]",
      "text/plain": [
       "<Figure size 400x300 with 1 Axes>"
      ]
     },
     "metadata": {},
     "output_type": "display_data"
    }
   ],
   "source": [
    "fig = plt.figure(figsize=(4,3))\n",
    "plt.hist(YDRs_d, color='black', alpha=0.5, density = True, bins=np.arange(-1,3,0.1))\n",
    "plt.axvline(YTR_d, color='black')"
   ]
  },
  {
   "cell_type": "code",
   "execution_count": 75,
   "id": "b9f39117",
   "metadata": {},
   "outputs": [
    {
     "data": {
      "image/png": "[encoded data removed]",
      "text/plain": [
       "<Figure size 400x300 with 1 Axes>"
      ]
     },
     "metadata": {},
     "output_type": "display_data"
    }
   ],
   "source": [
    "fig = plt.figure(figsize=(4,3)); ax=plt.gca()\n",
    "stats.probplot(YDRs_1, dist=\"norm\", plot=ax)\n",
    "stats.probplot(YDRs_0, dist=\"norm\", plot=ax)\n",
    "\n",
    "ax.get_lines()[0].set_markerfacecolor('blue')\n",
    "ax.get_lines()[0].set(alpha=0.5)\n",
    "ax.get_lines()[0].set_markeredgecolor('none')\n",
    "ax.get_lines()[1].set(color='blue')\n",
    "ax.get_lines()[2].set_markerfacecolor('red')\n",
    "ax.get_lines()[2].set(alpha=0.5)\n",
    "ax.get_lines()[2].set_markeredgecolor('none')\n",
    "ax.get_lines()[3].set(color='red')\n",
    "\n",
    "# ax.legend([ax.get_lines()[0], ax.get_lines()[2]], \n",
    "#           [r'$\\theta_{i^*}(\\mathbf{1})$', r'$\\theta_{i^*}(\\mathbf{0})$'])\n",
    "\n",
    "plt.xlabel(''); plt.ylabel('')\n",
    "# plt.xlabel('Theoretical quantiles'); plt.ylabel('Ordered values')\n",
    "plt.title(''); plt.show()"
   ]
  },
  {
   "cell_type": "code",
   "execution_count": 76,
   "id": "949afc0e",
   "metadata": {},
   "outputs": [
    {
     "data": {
      "image/png": "[encoded data removed]",
      "text/plain": [
       "<Figure size 400x300 with 1 Axes>"
      ]
     },
     "metadata": {},
     "output_type": "display_data"
    }
   ],
   "source": [
    "fig = plt.figure(figsize=(4,3)); ax=plt.gca()\n",
    "\n",
    "stats.probplot(YDRs_d, dist=\"norm\", plot=plt)\n",
    "\n",
    "ax.get_lines()[0].set_markerfacecolor('black')\n",
    "ax.get_lines()[0].set(alpha=0.5)\n",
    "ax.get_lines()[0].set_markeredgecolor('none')\n",
    "ax.get_lines()[1].set(color='black')\n",
    "\n",
    "# ax.legend([ax.get_lines()[0]], \n",
    "#           [r'$\\theta_{i^*}(\\mathbf{1}) - \\theta_{i^*}(\\mathbf{0})$'])\n",
    "\n",
    "plt.xlabel(''); plt.ylabel('')\n",
    "# plt.xlabel('Theoretical quantiles'); plt.ylabel('Ordered values')\n",
    "plt.title(''); plt.show()"
   ]
  },
  {
   "cell_type": "markdown",
   "id": "96a43a5c",
   "metadata": {},
   "source": [
    "# inference"
   ]
  },
  {
   "cell_type": "markdown",
   "id": "aaf83652",
   "metadata": {},
   "source": [
    "## - estimated std"
   ]
  },
  {
   "cell_type": "code",
   "execution_count": 77,
   "id": "676f93cf",
   "metadata": {},
   "outputs": [
    {
     "data": {
      "text/plain": [
       "(0.16877470871335779, 0.19569486294930608, 0.13806292848408108)"
      ]
     },
     "execution_count": 77,
     "metadata": {},
     "output_type": "execute_result"
    }
   ],
   "source": [
    "np.std(YDRs_0), np.std(YDRs_1), np.std(YDRs_d)"
   ]
  },
  {
   "cell_type": "code",
   "execution_count": 78,
   "id": "914e712e",
   "metadata": {},
   "outputs": [
    {
     "data": {
      "text/plain": [
       "(array([0.17353693, 0.17080066, 0.17187897, 0.16697863]),\n",
       " array([0.17970831, 0.17721603, 0.17720201, 0.17289426]),\n",
       " array([0.14589392, 0.14291744, 0.1395971 , 0.13915921]))"
      ]
     },
     "execution_count": 78,
     "metadata": {},
     "output_type": "execute_result"
    }
   ],
   "source": [
    "np.nanmean(sd0s_hac_dr, 0), np.nanmean(sd1s_hac_dr, 0), np.nanmean(sdds_hac_dr, 0) "
   ]
  },
  {
   "cell_type": "code",
   "execution_count": 79,
   "id": "0c0bf157",
   "metadata": {},
   "outputs": [
    {
     "data": {
      "text/plain": [
       "<matplotlib.lines.Line2D at 0x152c3a132210>"
      ]
     },
     "execution_count": 79,
     "metadata": {},
     "output_type": "execute_result"
    },
    {
     "data": {
      "image/png": "[encoded data removed]",
      "text/plain": [
       "<Figure size 400x300 with 1 Axes>"
      ]
     },
     "metadata": {},
     "output_type": "display_data"
    }
   ],
   "source": [
    "fig = plt.figure(figsize=(4,3))\n",
    "plt.hist(sd0s_hac_dr[:,0], color='red', alpha=0.5, density=True)\n",
    "plt.axvline(np.std(YDRs_0), color='red')"
   ]
  },
  {
   "cell_type": "code",
   "execution_count": 80,
   "id": "298064a6",
   "metadata": {},
   "outputs": [
    {
     "data": {
      "text/plain": [
       "<matplotlib.lines.Line2D at 0x152c39fb5fa0>"
      ]
     },
     "execution_count": 80,
     "metadata": {},
     "output_type": "execute_result"
    },
    {
     "data": {
      "image/png": "[encoded data removed]",
      "text/plain": [
       "<Figure size 400x300 with 1 Axes>"
      ]
     },
     "metadata": {},
     "output_type": "display_data"
    }
   ],
   "source": [
    "fig = plt.figure(figsize=(4,3))\n",
    "plt.hist(sd1s_hac_dr[:,0], color='blue', alpha=0.5, density=True)\n",
    "plt.axvline(np.std(YDRs_1), color='blue')"
   ]
  },
  {
   "cell_type": "code",
   "execution_count": 81,
   "id": "13364511",
   "metadata": {},
   "outputs": [
    {
     "data": {
      "text/plain": [
       "<matplotlib.lines.Line2D at 0x152c3a024aa0>"
      ]
     },
     "execution_count": 81,
     "metadata": {},
     "output_type": "execute_result"
    },
    {
     "data": {
      "image/png": "[encoded data removed]",
      "text/plain": [
       "<Figure size 400x300 with 1 Axes>"
      ]
     },
     "metadata": {},
     "output_type": "display_data"
    }
   ],
   "source": [
    "fig = plt.figure(figsize=(4,3))\n",
    "plt.hist(sdds_hac_dr[:,0], color='black', alpha=0.5, density=True)\n",
    "plt.axvline(np.std(YDRs_d), color='black')"
   ]
  },
  {
   "cell_type": "markdown",
   "id": "a61a898d",
   "metadata": {},
   "source": [
    "### * coverage"
   ]
  },
  {
   "cell_type": "code",
   "execution_count": 82,
   "id": "3130e8b7",
   "metadata": {},
   "outputs": [],
   "source": [
    "ZDRs_0 = (\n",
    "    (YDRs_0 - np.mean(YDRs_0))[:,None]\n",
    "    / sd0s_hac_dr\n",
    ")"
   ]
  },
  {
   "cell_type": "code",
   "execution_count": 83,
   "id": "c59b7bf5",
   "metadata": {},
   "outputs": [],
   "source": [
    "ZDRs_1 = (\n",
    "    (YDRs_1 - np.mean(YDRs_1))[:,None]\n",
    "    / sd1s_hac_dr\n",
    ")"
   ]
  },
  {
   "cell_type": "code",
   "execution_count": 84,
   "id": "0d69f425",
   "metadata": {},
   "outputs": [],
   "source": [
    "ZDRs_d = (\n",
    "    (YDRs_d - np.mean(YDRs_d))[:,None]\n",
    "    / sdds_hac_dr\n",
    ")"
   ]
  },
  {
   "cell_type": "code",
   "execution_count": 85,
   "id": "a4c326b9",
   "metadata": {},
   "outputs": [
    {
     "data": {
      "text/plain": [
       "(array([0.9375, 0.925 , 0.95  , 0.925 ]),\n",
       " array([0.9125, 0.9125, 0.9   , 0.8875]),\n",
       " array([0.975 , 0.95  , 0.9375, 0.9125]))"
      ]
     },
     "execution_count": 85,
     "metadata": {},
     "output_type": "execute_result"
    }
   ],
   "source": [
    "np.nanmean(np.abs(ZDRs_0) <= 2, 0), np.nanmean(np.abs(ZDRs_1) <= 2, 0), np.nanmean(np.abs(ZDRs_d) <= 2, 0)"
   ]
  },
  {
   "cell_type": "code",
   "execution_count": 86,
   "id": "6b97acc6",
   "metadata": {},
   "outputs": [],
   "source": [
    "qs = np.linspace(0,1,42)[1:-1]"
   ]
  },
  {
   "cell_type": "code",
   "execution_count": 87,
   "id": "5062a337",
   "metadata": {},
   "outputs": [
    {
     "data": {
      "text/plain": [
       "<matplotlib.legend.Legend at 0x152c3a17e240>"
      ]
     },
     "execution_count": 87,
     "metadata": {},
     "output_type": "execute_result"
    },
    {
     "data": {
      "image/png": "[encoded data removed]",
      "text/plain": [
       "<Figure size 400x300 with 1 Axes>"
      ]
     },
     "metadata": {},
     "output_type": "display_data"
    }
   ],
   "source": [
    "fig = plt.figure(figsize=(4,3))\n",
    "for i, hop in enumerate(hops):\n",
    "    plt.scatter(\n",
    "        stats.norm.ppf(qs),\n",
    "        np.nanquantile(ZDRs_0[:,i], qs, 0),\n",
    "        label=r'$s = %d$'%hop, s=5\n",
    "    )\n",
    "plt.plot([-2.5,2.5],[-2.5,2.5], linestyle=':', color='black')\n",
    "plt.xlabel('Theoretical quantiles'); plt.ylabel('Ordered values')\n",
    "plt.legend()"
   ]
  },
  {
   "cell_type": "code",
   "execution_count": 88,
   "id": "1b6e0041",
   "metadata": {},
   "outputs": [
    {
     "data": {
      "text/plain": [
       "<matplotlib.legend.Legend at 0x152c3a3ca270>"
      ]
     },
     "execution_count": 88,
     "metadata": {},
     "output_type": "execute_result"
    },
    {
     "data": {
      "image/png": "[encoded data removed]",
      "text/plain": [
       "<Figure size 400x300 with 1 Axes>"
      ]
     },
     "metadata": {},
     "output_type": "display_data"
    }
   ],
   "source": [
    "fig = plt.figure(figsize=(4,3))\n",
    "for i, hop in enumerate(hops):\n",
    "    plt.scatter(\n",
    "        stats.norm.ppf(qs),\n",
    "        np.nanquantile(ZDRs_1[:,i], qs, 0),\n",
    "        label=r'$s = %d$'%hop, s=5\n",
    "    )\n",
    "plt.plot([-2.5,2.5],[-2.5,2.5], linestyle=':', color='black')\n",
    "plt.xlabel('Theoretical quantiles'); plt.ylabel('Ordered values')\n",
    "plt.legend()"
   ]
  },
  {
   "cell_type": "code",
   "execution_count": 89,
   "id": "388b5272",
   "metadata": {},
   "outputs": [
    {
     "data": {
      "text/plain": [
       "<matplotlib.legend.Legend at 0x152c39f9df70>"
      ]
     },
     "execution_count": 89,
     "metadata": {},
     "output_type": "execute_result"
    },
    {
     "data": {
      "image/png": "[encoded data removed]",
      "text/plain": [
       "<Figure size 400x300 with 1 Axes>"
      ]
     },
     "metadata": {},
     "output_type": "display_data"
    }
   ],
   "source": [
    "fig = plt.figure(figsize=(4,3))\n",
    "for i, hop in enumerate(hops):\n",
    "    plt.scatter(\n",
    "        stats.norm.ppf(qs),\n",
    "        np.nanquantile(ZDRs_d[:,i], qs, 0),\n",
    "        label=r'$s = %d$'%hop, s=5\n",
    "    )\n",
    "plt.plot([-2.5,2.5],[-2.5,2.5], linestyle=':', color='black')\n",
    "plt.xlabel('Theoretical quantiles'); plt.ylabel('Ordered values')\n",
    "plt.legend()"
   ]
  },
  {
   "cell_type": "code",
   "execution_count": null,
   "id": "0f5e0934",
   "metadata": {},
   "outputs": [],
   "source": []
  }
 ],
 "metadata": {
  "kernelspec": {
   "display_name": "causalnet",
   "language": "python",
   "name": "python3"
  },
  "language_info": {
   "codemirror_mode": {
    "name": "ipython",
    "version": 3
   },
   "file_extension": ".py",
   "mimetype": "text/x-python",
   "name": "python",
   "nbconvert_exporter": "python",
   "pygments_lexer": "ipython3",
   "version": "3.12.1"
  }
 },
 "nbformat": 4,
 "nbformat_minor": 5
}
