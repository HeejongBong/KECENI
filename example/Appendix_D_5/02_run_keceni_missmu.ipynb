{
 "cells": [
  {
   "cell_type": "code",
   "execution_count": 1,
   "id": "6db3349f",
   "metadata": {},
   "outputs": [],
   "source": [
    "import os, importlib, sys, time"
   ]
  },
  {
   "cell_type": "code",
   "execution_count": 2,
   "id": "1c37e18c",
   "metadata": {},
   "outputs": [],
   "source": [
    "import numpy as np\n",
    "import scipy.sparse as sparse\n",
    "import matplotlib.pyplot as plt\n",
    "import pandas as pd\n",
    "import pyarrow\n",
    "from tqdm import tqdm"
   ]
  },
  {
   "cell_type": "code",
   "execution_count": 3,
   "id": "23b24faf",
   "metadata": {},
   "outputs": [],
   "source": [
    "import KECENI"
   ]
  },
  {
   "cell_type": "markdown",
   "id": "c1e81cff",
   "metadata": {},
   "source": [
    "# load data"
   ]
  },
  {
   "cell_type": "code",
   "execution_count": 4,
   "id": "638c9bf6",
   "metadata": {},
   "outputs": [],
   "source": [
    "data_dir = 'data'"
   ]
  },
  {
   "cell_type": "code",
   "execution_count": 5,
   "id": "d07f2703",
   "metadata": {},
   "outputs": [],
   "source": [
    "i_sim = 0"
   ]
  },
  {
   "cell_type": "code",
   "execution_count": 6,
   "id": "a4c596a8",
   "metadata": {},
   "outputs": [],
   "source": [
    "data_network = pd.read_feather('%s/network.feather'%(data_dir))\n",
    "data_latent = pd.read_feather('%s/latent.feather'%data_dir)\n",
    "data_feature = pd.read_feather('%s/feature_%.3d.feather'%(data_dir, i_sim))"
   ]
  },
  {
   "cell_type": "code",
   "execution_count": 7,
   "id": "64f99c6c",
   "metadata": {},
   "outputs": [
    {
     "data": {
      "text/html": [
       "<div>\n",
       "<style scoped>\n",
       "    .dataframe tbody tr th:only-of-type {\n",
       "        vertical-align: middle;\n",
       "    }\n",
       "\n",
       "    .dataframe tbody tr th {\n",
       "        vertical-align: top;\n",
       "    }\n",
       "\n",
       "    .dataframe thead th {\n",
       "        text-align: right;\n",
       "    }\n",
       "</style>\n",
       "<table border=\"1\" class=\"dataframe\">\n",
       "  <thead>\n",
       "    <tr style=\"text-align: right;\">\n",
       "      <th></th>\n",
       "      <th>row</th>\n",
       "      <th>col</th>\n",
       "    </tr>\n",
       "  </thead>\n",
       "  <tbody>\n",
       "    <tr>\n",
       "      <th>0</th>\n",
       "      <td>1</td>\n",
       "      <td>244</td>\n",
       "    </tr>\n",
       "    <tr>\n",
       "      <th>1</th>\n",
       "      <td>2</td>\n",
       "      <td>416</td>\n",
       "    </tr>\n",
       "    <tr>\n",
       "      <th>2</th>\n",
       "      <td>2</td>\n",
       "      <td>536</td>\n",
       "    </tr>\n",
       "    <tr>\n",
       "      <th>3</th>\n",
       "      <td>2</td>\n",
       "      <td>540</td>\n",
       "    </tr>\n",
       "    <tr>\n",
       "      <th>4</th>\n",
       "      <td>2</td>\n",
       "      <td>726</td>\n",
       "    </tr>\n",
       "    <tr>\n",
       "      <th>...</th>\n",
       "      <td>...</td>\n",
       "      <td>...</td>\n",
       "    </tr>\n",
       "    <tr>\n",
       "      <th>3391</th>\n",
       "      <td>999</td>\n",
       "      <td>880</td>\n",
       "    </tr>\n",
       "    <tr>\n",
       "      <th>3392</th>\n",
       "      <td>1000</td>\n",
       "      <td>352</td>\n",
       "    </tr>\n",
       "    <tr>\n",
       "      <th>3393</th>\n",
       "      <td>1000</td>\n",
       "      <td>357</td>\n",
       "    </tr>\n",
       "    <tr>\n",
       "      <th>3394</th>\n",
       "      <td>1000</td>\n",
       "      <td>807</td>\n",
       "    </tr>\n",
       "    <tr>\n",
       "      <th>3395</th>\n",
       "      <td>1000</td>\n",
       "      <td>989</td>\n",
       "    </tr>\n",
       "  </tbody>\n",
       "</table>\n",
       "<p>3396 rows × 2 columns</p>\n",
       "</div>"
      ],
      "text/plain": [
       "       row  col\n",
       "0        1  244\n",
       "1        2  416\n",
       "2        2  536\n",
       "3        2  540\n",
       "4        2  726\n",
       "...    ...  ...\n",
       "3391   999  880\n",
       "3392  1000  352\n",
       "3393  1000  357\n",
       "3394  1000  807\n",
       "3395  1000  989\n",
       "\n",
       "[3396 rows x 2 columns]"
      ]
     },
     "execution_count": 7,
     "metadata": {},
     "output_type": "execute_result"
    }
   ],
   "source": [
    "data_network"
   ]
  },
  {
   "cell_type": "code",
   "execution_count": 8,
   "id": "f942eefe",
   "metadata": {
    "scrolled": false
   },
   "outputs": [
    {
     "data": {
      "text/html": [
       "<div>\n",
       "<style scoped>\n",
       "    .dataframe tbody tr th:only-of-type {\n",
       "        vertical-align: middle;\n",
       "    }\n",
       "\n",
       "    .dataframe tbody tr th {\n",
       "        vertical-align: top;\n",
       "    }\n",
       "\n",
       "    .dataframe thead th {\n",
       "        text-align: right;\n",
       "    }\n",
       "</style>\n",
       "<table border=\"1\" class=\"dataframe\">\n",
       "  <thead>\n",
       "    <tr style=\"text-align: right;\">\n",
       "      <th></th>\n",
       "      <th>X1</th>\n",
       "      <th>X2</th>\n",
       "      <th>X3</th>\n",
       "      <th>p</th>\n",
       "      <th>T</th>\n",
       "      <th>m</th>\n",
       "      <th>Y</th>\n",
       "    </tr>\n",
       "  </thead>\n",
       "  <tbody>\n",
       "    <tr>\n",
       "      <th>0</th>\n",
       "      <td>-1.304104</td>\n",
       "      <td>-3.400997</td>\n",
       "      <td>1.515073</td>\n",
       "      <td>0.168680</td>\n",
       "      <td>0</td>\n",
       "      <td>-0.456526</td>\n",
       "      <td>0.650450</td>\n",
       "    </tr>\n",
       "    <tr>\n",
       "      <th>1</th>\n",
       "      <td>1.103058</td>\n",
       "      <td>1.313203</td>\n",
       "      <td>-0.724202</td>\n",
       "      <td>0.699734</td>\n",
       "      <td>1</td>\n",
       "      <td>-0.978740</td>\n",
       "      <td>-0.873213</td>\n",
       "    </tr>\n",
       "    <tr>\n",
       "      <th>2</th>\n",
       "      <td>0.094427</td>\n",
       "      <td>-2.106332</td>\n",
       "      <td>-0.149959</td>\n",
       "      <td>0.253330</td>\n",
       "      <td>1</td>\n",
       "      <td>4.205473</td>\n",
       "      <td>6.069921</td>\n",
       "    </tr>\n",
       "    <tr>\n",
       "      <th>3</th>\n",
       "      <td>1.736643</td>\n",
       "      <td>0.747525</td>\n",
       "      <td>0.397928</td>\n",
       "      <td>0.808617</td>\n",
       "      <td>1</td>\n",
       "      <td>-4.986597</td>\n",
       "      <td>-7.219922</td>\n",
       "    </tr>\n",
       "    <tr>\n",
       "      <th>4</th>\n",
       "      <td>0.802826</td>\n",
       "      <td>-0.714831</td>\n",
       "      <td>0.307143</td>\n",
       "      <td>0.549232</td>\n",
       "      <td>1</td>\n",
       "      <td>2.737475</td>\n",
       "      <td>2.550342</td>\n",
       "    </tr>\n",
       "    <tr>\n",
       "      <th>...</th>\n",
       "      <td>...</td>\n",
       "      <td>...</td>\n",
       "      <td>...</td>\n",
       "      <td>...</td>\n",
       "      <td>...</td>\n",
       "      <td>...</td>\n",
       "      <td>...</td>\n",
       "    </tr>\n",
       "    <tr>\n",
       "      <th>995</th>\n",
       "      <td>-0.844635</td>\n",
       "      <td>0.142532</td>\n",
       "      <td>1.680042</td>\n",
       "      <td>0.619864</td>\n",
       "      <td>0</td>\n",
       "      <td>-2.640313</td>\n",
       "      <td>-1.525690</td>\n",
       "    </tr>\n",
       "    <tr>\n",
       "      <th>996</th>\n",
       "      <td>2.399211</td>\n",
       "      <td>0.477881</td>\n",
       "      <td>-0.173948</td>\n",
       "      <td>0.794387</td>\n",
       "      <td>1</td>\n",
       "      <td>-2.067055</td>\n",
       "      <td>-2.802436</td>\n",
       "    </tr>\n",
       "    <tr>\n",
       "      <th>997</th>\n",
       "      <td>1.431573</td>\n",
       "      <td>1.695787</td>\n",
       "      <td>-1.011341</td>\n",
       "      <td>0.742310</td>\n",
       "      <td>1</td>\n",
       "      <td>-0.761923</td>\n",
       "      <td>-1.555641</td>\n",
       "    </tr>\n",
       "    <tr>\n",
       "      <th>998</th>\n",
       "      <td>0.265291</td>\n",
       "      <td>2.180264</td>\n",
       "      <td>-0.299445</td>\n",
       "      <td>0.745177</td>\n",
       "      <td>1</td>\n",
       "      <td>-0.551916</td>\n",
       "      <td>-0.075563</td>\n",
       "    </tr>\n",
       "    <tr>\n",
       "      <th>999</th>\n",
       "      <td>-0.969492</td>\n",
       "      <td>-1.165222</td>\n",
       "      <td>2.535170</td>\n",
       "      <td>0.549890</td>\n",
       "      <td>0</td>\n",
       "      <td>-1.356242</td>\n",
       "      <td>-0.799661</td>\n",
       "    </tr>\n",
       "  </tbody>\n",
       "</table>\n",
       "<p>1000 rows × 7 columns</p>\n",
       "</div>"
      ],
      "text/plain": [
       "           X1        X2        X3         p  T         m         Y\n",
       "0   -1.304104 -3.400997  1.515073  0.168680  0 -0.456526  0.650450\n",
       "1    1.103058  1.313203 -0.724202  0.699734  1 -0.978740 -0.873213\n",
       "2    0.094427 -2.106332 -0.149959  0.253330  1  4.205473  6.069921\n",
       "3    1.736643  0.747525  0.397928  0.808617  1 -4.986597 -7.219922\n",
       "4    0.802826 -0.714831  0.307143  0.549232  1  2.737475  2.550342\n",
       "..        ...       ...       ...       ... ..       ...       ...\n",
       "995 -0.844635  0.142532  1.680042  0.619864  0 -2.640313 -1.525690\n",
       "996  2.399211  0.477881 -0.173948  0.794387  1 -2.067055 -2.802436\n",
       "997  1.431573  1.695787 -1.011341  0.742310  1 -0.761923 -1.555641\n",
       "998  0.265291  2.180264 -0.299445  0.745177  1 -0.551916 -0.075563\n",
       "999 -0.969492 -1.165222  2.535170  0.549890  0 -1.356242 -0.799661\n",
       "\n",
       "[1000 rows x 7 columns]"
      ]
     },
     "execution_count": 8,
     "metadata": {},
     "output_type": "execute_result"
    }
   ],
   "source": [
    "data_feature"
   ]
  },
  {
   "cell_type": "code",
   "execution_count": 9,
   "id": "3ed4fe98",
   "metadata": {},
   "outputs": [
    {
     "data": {
      "text/plain": [
       "1000"
      ]
     },
     "execution_count": 9,
     "metadata": {},
     "output_type": "execute_result"
    }
   ],
   "source": [
    "n_node = len(data_latent); n_node"
   ]
  },
  {
   "cell_type": "code",
   "execution_count": 10,
   "id": "1345c5ca",
   "metadata": {},
   "outputs": [
    {
     "data": {
      "text/plain": [
       "3396"
      ]
     },
     "execution_count": 10,
     "metadata": {},
     "output_type": "execute_result"
    }
   ],
   "source": [
    "len(data_network)"
   ]
  },
  {
   "cell_type": "code",
   "execution_count": 11,
   "id": "1dc09510",
   "metadata": {},
   "outputs": [],
   "source": [
    "Adj = sparse.csr_matrix((\n",
    "    np.full(len(data_network), True), \n",
    "    (np.array(data_network.row)-1, np.array(data_network.col)-1)\n",
    ")).toarray()"
   ]
  },
  {
   "cell_type": "code",
   "execution_count": 12,
   "id": "fc72812b",
   "metadata": {},
   "outputs": [],
   "source": [
    "G = KECENI.Graph(Adj)"
   ]
  },
  {
   "cell_type": "code",
   "execution_count": 13,
   "id": "0e58e588",
   "metadata": {},
   "outputs": [],
   "source": [
    "Ys = data_feature.iloc[:,6].values\n",
    "Ts = data_feature.iloc[:,4].values\n",
    "Xs = data_feature.iloc[:,0:3].values"
   ]
  },
  {
   "cell_type": "code",
   "execution_count": 14,
   "id": "c0d69a5b",
   "metadata": {},
   "outputs": [],
   "source": [
    "data = KECENI.Data(Ys, Ts, Xs, G)"
   ]
  },
  {
   "cell_type": "markdown",
   "id": "218650b5",
   "metadata": {},
   "source": [
    "# hyperparameters"
   ]
  },
  {
   "cell_type": "code",
   "execution_count": 15,
   "id": "415255c8",
   "metadata": {},
   "outputs": [],
   "source": [
    "from hyperparams import delta, HyperAlpha"
   ]
  },
  {
   "cell_type": "markdown",
   "id": "b5ac30d3",
   "metadata": {},
   "source": [
    "# counterfactual of interest"
   ]
  },
  {
   "cell_type": "code",
   "execution_count": 16,
   "id": "69e34e39",
   "metadata": {},
   "outputs": [],
   "source": [
    "i0 = 17"
   ]
  },
  {
   "cell_type": "code",
   "execution_count": 17,
   "id": "53a1274b",
   "metadata": {},
   "outputs": [],
   "source": [
    "T0s_1 = np.zeros(n_node); T0s_1[G.N1(i0)[::2]] = 1\n",
    "T0s_0 = T0s_1.copy(); T0s_0[i0] = 0"
   ]
  },
  {
   "cell_type": "code",
   "execution_count": 18,
   "id": "23e69bb3",
   "metadata": {},
   "outputs": [
    {
     "data": {
      "text/plain": [
       "(array([0., 0., 1., 0., 1.]), array([1., 0., 1., 0., 1.]))"
      ]
     },
     "execution_count": 18,
     "metadata": {},
     "output_type": "execute_result"
    }
   ],
   "source": [
    "T0s_0[G.N1(i0)], T0s_1[G.N1(i0)]"
   ]
  },
  {
   "cell_type": "code",
   "execution_count": 19,
   "id": "1c9bb9f7",
   "metadata": {},
   "outputs": [],
   "source": [
    "i0s = np.array([i0])\n",
    "T0s = np.array([T0s_0, T0s_1])"
   ]
  },
  {
   "cell_type": "markdown",
   "id": "4a27802c",
   "metadata": {},
   "source": [
    "# groundtruth"
   ]
  },
  {
   "cell_type": "code",
   "execution_count": 20,
   "id": "82f07e7c",
   "metadata": {},
   "outputs": [],
   "source": [
    "from KECENI.RegressionModel import FittedRegressionModel\n",
    "from KECENI.PropensityModel import FittedPropensityModel\n",
    "from KECENI.CovariateModel import FittedCovariateModel"
   ]
  },
  {
   "cell_type": "code",
   "execution_count": 21,
   "id": "5214a45b",
   "metadata": {},
   "outputs": [],
   "source": [
    "from true_model import mu, pi, rX"
   ]
  },
  {
   "cell_type": "code",
   "execution_count": 22,
   "id": "51a40d39",
   "metadata": {},
   "outputs": [],
   "source": [
    "true_model = KECENI.Model(\n",
    "    FittedRegressionModel(mu),\n",
    "    FittedPropensityModel(pi),\n",
    "    FittedCovariateModel(rX),\n",
    "    delta\n",
    ")"
   ]
  },
  {
   "cell_type": "code",
   "execution_count": 23,
   "id": "97d7530c",
   "metadata": {},
   "outputs": [],
   "source": [
    "true_fit = true_model.fit(data)"
   ]
  },
  {
   "cell_type": "code",
   "execution_count": 24,
   "id": "cf20b080",
   "metadata": {},
   "outputs": [],
   "source": [
    "result_true = true_fit.G_estimate(i0s, T0s, n_X=10000)"
   ]
  },
  {
   "cell_type": "code",
   "execution_count": 25,
   "id": "7fe8f998",
   "metadata": {},
   "outputs": [],
   "source": [
    "YTR_0, YTR_1 = result_true.reshape([2, -1])\n",
    "YTR_d = YTR_1 - YTR_0"
   ]
  },
  {
   "cell_type": "code",
   "execution_count": 26,
   "id": "354cbcf7",
   "metadata": {},
   "outputs": [
    {
     "data": {
      "text/plain": [
       "(array([-1.00405747]), array([0.98049583]), array([1.98455329]))"
      ]
     },
     "execution_count": 26,
     "metadata": {},
     "output_type": "execute_result"
    }
   ],
   "source": [
    "YTR_0, YTR_1, YTR_d"
   ]
  },
  {
   "cell_type": "markdown",
   "id": "9ba0cef7",
   "metadata": {},
   "source": [
    "# estimation"
   ]
  },
  {
   "cell_type": "code",
   "execution_count": 27,
   "id": "0d76958f",
   "metadata": {},
   "outputs": [],
   "source": [
    "from KECENI.RegressionModel import LinearRegressionModel\n",
    "from KECENI.PropensityModel import LogisticIIDPropensityModel\n",
    "from KECENI.CovariateModel import IIDCovariateModel"
   ]
  },
  {
   "cell_type": "code",
   "execution_count": 28,
   "id": "a393b879",
   "metadata": {},
   "outputs": [],
   "source": [
    "hyper = HyperAlpha(1, 0)"
   ]
  },
  {
   "cell_type": "code",
   "execution_count": 29,
   "id": "f5ab6544",
   "metadata": {},
   "outputs": [],
   "source": [
    "keceni_model = KECENI.Model(\n",
    "    LinearRegressionModel(hyper.summary_mu),\n",
    "    LogisticIIDPropensityModel(hyper.summary_pi),\n",
    "    IIDCovariateModel(),\n",
    "    delta\n",
    ")"
   ]
  },
  {
   "cell_type": "code",
   "execution_count": 30,
   "id": "f3abc094",
   "metadata": {
    "scrolled": true
   },
   "outputs": [
    {
     "name": "stderr",
     "output_type": "stream",
     "text": [
      "j: 100%|██████████| 1000/1000 [00:01<00:00, 520.98it/s]\n"
     ]
    }
   ],
   "source": [
    "keceni_fit = keceni_model.fit(data, tqdm=tqdm)"
   ]
  },
  {
   "cell_type": "markdown",
   "id": "3b00081a",
   "metadata": {},
   "source": [
    "## - cross-validation"
   ]
  },
  {
   "cell_type": "code",
   "execution_count": 31,
   "id": "70d0ee2c",
   "metadata": {},
   "outputs": [],
   "source": [
    "lamdas = np.linspace(0, 20, 21)[1:]"
   ]
  },
  {
   "cell_type": "code",
   "execution_count": 32,
   "id": "ca616741",
   "metadata": {},
   "outputs": [
    {
     "name": "stderr",
     "output_type": "stream",
     "text": [
      "j: 100%|██████████| 1000/1000 [00:29<00:00, 33.56it/s]\n"
     ]
    }
   ],
   "source": [
    "result_cv = keceni_fit.cv(\n",
    "    tqdm=tqdm\n",
    ")"
   ]
  },
  {
   "cell_type": "code",
   "execution_count": 33,
   "id": "b674089f",
   "metadata": {},
   "outputs": [],
   "source": [
    "xs_cv, xhs_cv = result_cv.xs_xhs(lamdas)"
   ]
  },
  {
   "cell_type": "code",
   "execution_count": 34,
   "id": "7874b606",
   "metadata": {},
   "outputs": [
    {
     "data": {
      "text/plain": [
       "[<matplotlib.lines.Line2D at 0x153c007a1e50>]"
      ]
     },
     "execution_count": 34,
     "metadata": {},
     "output_type": "execute_result"
    },
    {
     "data": {
      "image/png": "[encoded data removed]",
      "text/plain": [
       "<Figure size 640x480 with 1 Axes>"
      ]
     },
     "metadata": {},
     "output_type": "display_data"
    }
   ],
   "source": [
    "plt.plot(lamdas, np.mean((xs_cv-xhs_cv)**2, -1))"
   ]
  },
  {
   "cell_type": "code",
   "execution_count": 35,
   "id": "4ad62545",
   "metadata": {},
   "outputs": [
    {
     "data": {
      "text/plain": [
       "1"
      ]
     },
     "execution_count": 35,
     "metadata": {},
     "output_type": "execute_result"
    }
   ],
   "source": [
    "id_cv = np.argmin(np.mean((xs_cv-xhs_cv)**2, -1))\n",
    "id_cv"
   ]
  },
  {
   "cell_type": "code",
   "execution_count": 36,
   "id": "a0e3006e",
   "metadata": {},
   "outputs": [],
   "source": [
    "# id_cv = (9,)"
   ]
  },
  {
   "cell_type": "code",
   "execution_count": 37,
   "id": "54f4c58a",
   "metadata": {},
   "outputs": [
    {
     "data": {
      "text/plain": [
       "2.0"
      ]
     },
     "execution_count": 37,
     "metadata": {},
     "output_type": "execute_result"
    }
   ],
   "source": [
    "lamdas[id_cv]"
   ]
  },
  {
   "cell_type": "markdown",
   "id": "5de73cff",
   "metadata": {},
   "source": [
    "## - G estimate"
   ]
  },
  {
   "cell_type": "code",
   "execution_count": 38,
   "id": "1b230440",
   "metadata": {},
   "outputs": [],
   "source": [
    "result_G = keceni_fit.G_estimate(i0s, T0s, n_X=1000)"
   ]
  },
  {
   "cell_type": "code",
   "execution_count": 39,
   "id": "43a0716e",
   "metadata": {},
   "outputs": [],
   "source": [
    "YG_0, YG_1 = np.moveaxis(result_G, -1, 0)\n",
    "YG_d = YG_1 - YG_0"
   ]
  },
  {
   "cell_type": "code",
   "execution_count": 40,
   "id": "e4548afc",
   "metadata": {},
   "outputs": [
    {
     "data": {
      "text/plain": [
       "(-0.0606578773023516, -0.1750687154748624, -0.11441083817251081)"
      ]
     },
     "execution_count": 40,
     "metadata": {},
     "output_type": "execute_result"
    }
   ],
   "source": [
    "YG_0, YG_1, YG_d"
   ]
  },
  {
   "cell_type": "markdown",
   "id": "4d499c87",
   "metadata": {},
   "source": [
    "## - KECENI"
   ]
  },
  {
   "cell_type": "code",
   "execution_count": 41,
   "id": "28e36a40",
   "metadata": {},
   "outputs": [
    {
     "name": "stderr",
     "output_type": "stream",
     "text": [
      "j: 100%|██████████| 1000/1000 [00:01<00:00, 735.77it/s]\n"
     ]
    }
   ],
   "source": [
    "result_AIPW = keceni_fit.kernel_AIPW(\n",
    "    i0s, T0s, tqdm=tqdm\n",
    ")"
   ]
  },
  {
   "cell_type": "code",
   "execution_count": 42,
   "id": "71a78607",
   "metadata": {},
   "outputs": [],
   "source": [
    "YDR_0, YDR_1 = result_AIPW.est(lamdas[id_cv])\n",
    "YDR_d = YDR_1 - YDR_0"
   ]
  },
  {
   "cell_type": "code",
   "execution_count": 43,
   "id": "343d2c3a",
   "metadata": {},
   "outputs": [
    {
     "data": {
      "text/plain": [
       "(-0.8567809107911768, 1.0285147104784722, 1.885295621269649)"
      ]
     },
     "execution_count": 43,
     "metadata": {},
     "output_type": "execute_result"
    }
   ],
   "source": [
    "YDR_0, YDR_1, YDR_d"
   ]
  },
  {
   "cell_type": "markdown",
   "id": "e1b167ea",
   "metadata": {},
   "source": [
    "# inference"
   ]
  },
  {
   "cell_type": "code",
   "execution_count": 44,
   "id": "35b1e671",
   "metadata": {},
   "outputs": [],
   "source": [
    "import KECENI.Inference as inf"
   ]
  },
  {
   "cell_type": "markdown",
   "id": "79186897",
   "metadata": {},
   "source": [
    "## - $\\phi$ and $H$"
   ]
  },
  {
   "cell_type": "code",
   "execution_count": 45,
   "id": "d6a75e6b",
   "metadata": {},
   "outputs": [],
   "source": [
    "phis_eif = result_AIPW.phis_eif(lamdas)"
   ]
  },
  {
   "cell_type": "code",
   "execution_count": 46,
   "id": "8c077a2a",
   "metadata": {},
   "outputs": [],
   "source": [
    "# wH_nu = result_AIPW.wH_nu(lamdas, n_X=1000, tqdm=tqdm)"
   ]
  },
  {
   "cell_type": "code",
   "execution_count": 47,
   "id": "ca70a48a",
   "metadata": {},
   "outputs": [],
   "source": [
    "# wH_px = result_AIPW.wH_px(lamdas, n_X=5000, tqdm=tqdm)"
   ]
  },
  {
   "cell_type": "code",
   "execution_count": 48,
   "id": "65a14e31",
   "metadata": {},
   "outputs": [
    {
     "name": "stderr",
     "output_type": "stream",
     "text": [
      "j: 100%|██████████| 1000/1000 [00:12<00:00, 82.73it/s]\n"
     ]
    }
   ],
   "source": [
    "wH_nu = result_AIPW.Hs_nu(lamdas, n_X=100, tqdm=tqdm)"
   ]
  },
  {
   "cell_type": "code",
   "execution_count": 49,
   "id": "f773beac",
   "metadata": {},
   "outputs": [
    {
     "name": "stderr",
     "output_type": "stream",
     "text": [
      "j: 100%|██████████| 1000/1000 [04:05<00:00,  4.07it/s]\n"
     ]
    }
   ],
   "source": [
    "wH_px = result_AIPW.Hs_px(lamdas, n_sample=10, tqdm=tqdm)"
   ]
  },
  {
   "cell_type": "markdown",
   "id": "837bbc87",
   "metadata": {},
   "source": [
    "## - distance in $\\mathcal{G}$"
   ]
  },
  {
   "cell_type": "code",
   "execution_count": 50,
   "id": "a31b316e",
   "metadata": {},
   "outputs": [
    {
     "data": {
      "text/plain": [
       "array([[ 0., 20., 14., ...,  5., 11., 10.],\n",
       "       [20.,  0., 14., ..., 17., 11., 21.],\n",
       "       [14., 14.,  0., ..., 11.,  3., 13.],\n",
       "       ...,\n",
       "       [ 5., 17., 11., ...,  0.,  8.,  5.],\n",
       "       [11., 11.,  3., ...,  8.,  0., 11.],\n",
       "       [10., 21., 13., ...,  5., 11.,  0.]])"
      ]
     },
     "execution_count": 50,
     "metadata": {},
     "output_type": "execute_result"
    }
   ],
   "source": [
    "G.get_dist()"
   ]
  },
  {
   "cell_type": "code",
   "execution_count": 51,
   "id": "fcabf909",
   "metadata": {},
   "outputs": [],
   "source": [
    "G_sub = G.sub(keceni_fit.js)"
   ]
  },
  {
   "cell_type": "code",
   "execution_count": 52,
   "id": "0f41ebe7",
   "metadata": {},
   "outputs": [],
   "source": [
    "G_sub.dist = G.dist[np.ix_(keceni_fit.js, keceni_fit.js)]"
   ]
  },
  {
   "cell_type": "markdown",
   "id": "a75ff6e6",
   "metadata": {},
   "source": [
    "## - sandwich variance HAC estimator"
   ]
  },
  {
   "cell_type": "code",
   "execution_count": 53,
   "id": "4333824b",
   "metadata": {},
   "outputs": [],
   "source": [
    "phis_dr = phis_eif + wH_nu[keceni_fit.js] + wH_px[keceni_fit.js]"
   ]
  },
  {
   "cell_type": "code",
   "execution_count": 54,
   "id": "91c688ce",
   "metadata": {},
   "outputs": [
    {
     "data": {
      "text/plain": [
       "array([[0.38163614, 0.71811268]])"
      ]
     },
     "execution_count": 54,
     "metadata": {},
     "output_type": "execute_result"
    }
   ],
   "source": [
    "inf.ste_hac_sdw(phis_dr, G_sub, inf.box_kernel, bw=[5])[:,id_cv]"
   ]
  },
  {
   "cell_type": "code",
   "execution_count": null,
   "id": "d9ee0b18",
   "metadata": {},
   "outputs": [],
   "source": []
  }
 ],
 "metadata": {
  "kernelspec": {
   "display_name": "causalnet",
   "language": "python",
   "name": "python3"
  },
  "language_info": {
   "codemirror_mode": {
    "name": "ipython",
    "version": 3
   },
   "file_extension": ".py",
   "mimetype": "text/x-python",
   "name": "python",
   "nbconvert_exporter": "python",
   "pygments_lexer": "ipython3",
   "version": "3.12.1"
  }
 },
 "nbformat": 4,
 "nbformat_minor": 5
}
