{
 "cells": [
  {
   "cell_type": "code",
   "execution_count": 1,
   "id": "6db3349f",
   "metadata": {},
   "outputs": [],
   "source": [
    "import os, importlib, sys, time"
   ]
  },
  {
   "cell_type": "code",
   "execution_count": 2,
   "id": "1c37e18c",
   "metadata": {},
   "outputs": [],
   "source": [
    "import numpy as np\n",
    "import scipy.sparse as sparse\n",
    "import matplotlib.pyplot as plt\n",
    "import pandas as pd\n",
    "import pyarrow\n",
    "from tqdm import tqdm"
   ]
  },
  {
   "cell_type": "code",
   "execution_count": 3,
   "id": "23b24faf",
   "metadata": {},
   "outputs": [],
   "source": [
    "import KECENI"
   ]
  },
  {
   "cell_type": "markdown",
   "id": "c1e81cff",
   "metadata": {},
   "source": [
    "# load data"
   ]
  },
  {
   "cell_type": "code",
   "execution_count": 4,
   "id": "638c9bf6",
   "metadata": {},
   "outputs": [],
   "source": [
    "data_dir = 'data'"
   ]
  },
  {
   "cell_type": "code",
   "execution_count": 5,
   "id": "a4c596a8",
   "metadata": {},
   "outputs": [],
   "source": [
    "data_network = pd.read_feather('%s/network.feather'%data_dir)\n",
    "data_feature = pd.read_feather('%s/feature.feather'%data_dir)"
   ]
  },
  {
   "cell_type": "code",
   "execution_count": 6,
   "id": "3ed4fe98",
   "metadata": {},
   "outputs": [],
   "source": [
    "n_node = len(data_feature)\n",
    "n_edge = len(data_network)"
   ]
  },
  {
   "cell_type": "code",
   "execution_count": 7,
   "id": "64f99c6c",
   "metadata": {},
   "outputs": [
    {
     "data": {
      "text/html": [
       "<div>\n",
       "<style scoped>\n",
       "    .dataframe tbody tr th:only-of-type {\n",
       "        vertical-align: middle;\n",
       "    }\n",
       "\n",
       "    .dataframe tbody tr th {\n",
       "        vertical-align: top;\n",
       "    }\n",
       "\n",
       "    .dataframe thead th {\n",
       "        text-align: right;\n",
       "    }\n",
       "</style>\n",
       "<table border=\"1\" class=\"dataframe\">\n",
       "  <thead>\n",
       "    <tr style=\"text-align: right;\">\n",
       "      <th></th>\n",
       "      <th>row</th>\n",
       "      <th>col</th>\n",
       "    </tr>\n",
       "  </thead>\n",
       "  <tbody>\n",
       "    <tr>\n",
       "      <th>0</th>\n",
       "      <td>1</td>\n",
       "      <td>2</td>\n",
       "    </tr>\n",
       "    <tr>\n",
       "      <th>1</th>\n",
       "      <td>2</td>\n",
       "      <td>1</td>\n",
       "    </tr>\n",
       "    <tr>\n",
       "      <th>2</th>\n",
       "      <td>2</td>\n",
       "      <td>28</td>\n",
       "    </tr>\n",
       "    <tr>\n",
       "      <th>3</th>\n",
       "      <td>3</td>\n",
       "      <td>21</td>\n",
       "    </tr>\n",
       "    <tr>\n",
       "      <th>4</th>\n",
       "      <td>3</td>\n",
       "      <td>23</td>\n",
       "    </tr>\n",
       "    <tr>\n",
       "      <th>...</th>\n",
       "      <td>...</td>\n",
       "      <td>...</td>\n",
       "    </tr>\n",
       "    <tr>\n",
       "      <th>65666</th>\n",
       "      <td>9449</td>\n",
       "      <td>9241</td>\n",
       "    </tr>\n",
       "    <tr>\n",
       "      <th>65667</th>\n",
       "      <td>9449</td>\n",
       "      <td>9243</td>\n",
       "    </tr>\n",
       "    <tr>\n",
       "      <th>65668</th>\n",
       "      <td>9449</td>\n",
       "      <td>9439</td>\n",
       "    </tr>\n",
       "    <tr>\n",
       "      <th>65669</th>\n",
       "      <td>9449</td>\n",
       "      <td>9445</td>\n",
       "    </tr>\n",
       "    <tr>\n",
       "      <th>65670</th>\n",
       "      <td>9449</td>\n",
       "      <td>9447</td>\n",
       "    </tr>\n",
       "  </tbody>\n",
       "</table>\n",
       "<p>65671 rows × 2 columns</p>\n",
       "</div>"
      ],
      "text/plain": [
       "        row   col\n",
       "0         1     2\n",
       "1         2     1\n",
       "2         2    28\n",
       "3         3    21\n",
       "4         3    23\n",
       "...     ...   ...\n",
       "65666  9449  9241\n",
       "65667  9449  9243\n",
       "65668  9449  9439\n",
       "65669  9449  9445\n",
       "65670  9449  9447\n",
       "\n",
       "[65671 rows x 2 columns]"
      ]
     },
     "execution_count": 7,
     "metadata": {},
     "output_type": "execute_result"
    }
   ],
   "source": [
    "data_network"
   ]
  },
  {
   "cell_type": "code",
   "execution_count": 8,
   "id": "f942eefe",
   "metadata": {
    "scrolled": false
   },
   "outputs": [
    {
     "data": {
      "text/html": [
       "<div>\n",
       "<style scoped>\n",
       "    .dataframe tbody tr th:only-of-type {\n",
       "        vertical-align: middle;\n",
       "    }\n",
       "\n",
       "    .dataframe tbody tr th {\n",
       "        vertical-align: top;\n",
       "    }\n",
       "\n",
       "    .dataframe thead th {\n",
       "        text-align: right;\n",
       "    }\n",
       "</style>\n",
       "<table border=\"1\" class=\"dataframe\">\n",
       "  <thead>\n",
       "    <tr style=\"text-align: right;\">\n",
       "      <th></th>\n",
       "      <th>village</th>\n",
       "      <th>hhid</th>\n",
       "      <th>age</th>\n",
       "      <th>educ</th>\n",
       "      <th>native</th>\n",
       "      <th>work</th>\n",
       "      <th>outside</th>\n",
       "      <th>saving</th>\n",
       "      <th>shg</th>\n",
       "      <th>loan</th>\n",
       "    </tr>\n",
       "    <tr>\n",
       "      <th>id</th>\n",
       "      <th></th>\n",
       "      <th></th>\n",
       "      <th></th>\n",
       "      <th></th>\n",
       "      <th></th>\n",
       "      <th></th>\n",
       "      <th></th>\n",
       "      <th></th>\n",
       "      <th></th>\n",
       "      <th></th>\n",
       "    </tr>\n",
       "  </thead>\n",
       "  <tbody>\n",
       "    <tr>\n",
       "      <th>100201</th>\n",
       "      <td>1</td>\n",
       "      <td>1002</td>\n",
       "      <td>38</td>\n",
       "      <td>2</td>\n",
       "      <td>1</td>\n",
       "      <td>1</td>\n",
       "      <td>1</td>\n",
       "      <td>0</td>\n",
       "      <td>0</td>\n",
       "      <td>0</td>\n",
       "    </tr>\n",
       "    <tr>\n",
       "      <th>100202</th>\n",
       "      <td>1</td>\n",
       "      <td>1002</td>\n",
       "      <td>27</td>\n",
       "      <td>2</td>\n",
       "      <td>0</td>\n",
       "      <td>0</td>\n",
       "      <td>0</td>\n",
       "      <td>0</td>\n",
       "      <td>0</td>\n",
       "      <td>0</td>\n",
       "    </tr>\n",
       "    <tr>\n",
       "      <th>100601</th>\n",
       "      <td>1</td>\n",
       "      <td>1006</td>\n",
       "      <td>29</td>\n",
       "      <td>7</td>\n",
       "      <td>1</td>\n",
       "      <td>1</td>\n",
       "      <td>0</td>\n",
       "      <td>0</td>\n",
       "      <td>0</td>\n",
       "      <td>0</td>\n",
       "    </tr>\n",
       "    <tr>\n",
       "      <th>100602</th>\n",
       "      <td>1</td>\n",
       "      <td>1006</td>\n",
       "      <td>24</td>\n",
       "      <td>10</td>\n",
       "      <td>0</td>\n",
       "      <td>1</td>\n",
       "      <td>0</td>\n",
       "      <td>1</td>\n",
       "      <td>1</td>\n",
       "      <td>0</td>\n",
       "    </tr>\n",
       "    <tr>\n",
       "      <th>100701</th>\n",
       "      <td>1</td>\n",
       "      <td>1007</td>\n",
       "      <td>58</td>\n",
       "      <td>10</td>\n",
       "      <td>1</td>\n",
       "      <td>1</td>\n",
       "      <td>0</td>\n",
       "      <td>0</td>\n",
       "      <td>0</td>\n",
       "      <td>1</td>\n",
       "    </tr>\n",
       "    <tr>\n",
       "      <th>...</th>\n",
       "      <td>...</td>\n",
       "      <td>...</td>\n",
       "      <td>...</td>\n",
       "      <td>...</td>\n",
       "      <td>...</td>\n",
       "      <td>...</td>\n",
       "      <td>...</td>\n",
       "      <td>...</td>\n",
       "      <td>...</td>\n",
       "      <td>...</td>\n",
       "    </tr>\n",
       "    <tr>\n",
       "      <th>7516602</th>\n",
       "      <td>75</td>\n",
       "      <td>75166</td>\n",
       "      <td>32</td>\n",
       "      <td>11</td>\n",
       "      <td>0</td>\n",
       "      <td>0</td>\n",
       "      <td>0</td>\n",
       "      <td>1</td>\n",
       "      <td>1</td>\n",
       "      <td>1</td>\n",
       "    </tr>\n",
       "    <tr>\n",
       "      <th>7516701</th>\n",
       "      <td>75</td>\n",
       "      <td>75167</td>\n",
       "      <td>45</td>\n",
       "      <td>9</td>\n",
       "      <td>1</td>\n",
       "      <td>1</td>\n",
       "      <td>0</td>\n",
       "      <td>0</td>\n",
       "      <td>0</td>\n",
       "      <td>1</td>\n",
       "    </tr>\n",
       "    <tr>\n",
       "      <th>7516702</th>\n",
       "      <td>75</td>\n",
       "      <td>75167</td>\n",
       "      <td>32</td>\n",
       "      <td>9</td>\n",
       "      <td>0</td>\n",
       "      <td>0</td>\n",
       "      <td>0</td>\n",
       "      <td>1</td>\n",
       "      <td>1</td>\n",
       "      <td>1</td>\n",
       "    </tr>\n",
       "    <tr>\n",
       "      <th>7516801</th>\n",
       "      <td>75</td>\n",
       "      <td>75168</td>\n",
       "      <td>40</td>\n",
       "      <td>10</td>\n",
       "      <td>1</td>\n",
       "      <td>1</td>\n",
       "      <td>0</td>\n",
       "      <td>1</td>\n",
       "      <td>0</td>\n",
       "      <td>0</td>\n",
       "    </tr>\n",
       "    <tr>\n",
       "      <th>7516802</th>\n",
       "      <td>75</td>\n",
       "      <td>75168</td>\n",
       "      <td>35</td>\n",
       "      <td>5</td>\n",
       "      <td>0</td>\n",
       "      <td>0</td>\n",
       "      <td>0</td>\n",
       "      <td>1</td>\n",
       "      <td>1</td>\n",
       "      <td>0</td>\n",
       "    </tr>\n",
       "  </tbody>\n",
       "</table>\n",
       "<p>9449 rows × 10 columns</p>\n",
       "</div>"
      ],
      "text/plain": [
       "         village   hhid  age  educ  native  work  outside  saving  shg  loan\n",
       "id                                                                          \n",
       "100201         1   1002   38     2       1     1        1       0    0     0\n",
       "100202         1   1002   27     2       0     0        0       0    0     0\n",
       "100601         1   1006   29     7       1     1        0       0    0     0\n",
       "100602         1   1006   24    10       0     1        0       1    1     0\n",
       "100701         1   1007   58    10       1     1        0       0    0     1\n",
       "...          ...    ...  ...   ...     ...   ...      ...     ...  ...   ...\n",
       "7516602       75  75166   32    11       0     0        0       1    1     1\n",
       "7516701       75  75167   45     9       1     1        0       0    0     1\n",
       "7516702       75  75167   32     9       0     0        0       1    1     1\n",
       "7516801       75  75168   40    10       1     1        0       1    0     0\n",
       "7516802       75  75168   35     5       0     0        0       1    1     0\n",
       "\n",
       "[9449 rows x 10 columns]"
      ]
     },
     "execution_count": 8,
     "metadata": {},
     "output_type": "execute_result"
    }
   ],
   "source": [
    "data_feature"
   ]
  },
  {
   "cell_type": "code",
   "execution_count": 9,
   "id": "1dc09510",
   "metadata": {},
   "outputs": [],
   "source": [
    "Adj = sparse.csr_matrix((\n",
    "    np.full(n_edge, True), \n",
    "    (np.array(data_network.row)-1, np.array(data_network.col)-1)\n",
    ")).toarray()"
   ]
  },
  {
   "cell_type": "code",
   "execution_count": 10,
   "id": "08f22a68",
   "metadata": {},
   "outputs": [],
   "source": [
    "degree = np.sum(Adj, 0)"
   ]
  },
  {
   "cell_type": "code",
   "execution_count": 11,
   "id": "caedcf2a",
   "metadata": {},
   "outputs": [
    {
     "data": {
      "image/png": "[encoded data removed]",
      "text/plain": [
       "<Figure size 640x480 with 1 Axes>"
      ]
     },
     "metadata": {},
     "output_type": "display_data"
    }
   ],
   "source": [
    "plt.hist(degree, np.arange(np.max(degree)+1)-0.5)\n",
    "plt.show()"
   ]
  },
  {
   "cell_type": "code",
   "execution_count": 12,
   "id": "afaa120d",
   "metadata": {},
   "outputs": [],
   "source": [
    "Zs = data_feature.village.values[:,None]"
   ]
  },
  {
   "cell_type": "code",
   "execution_count": 13,
   "id": "fc72812b",
   "metadata": {},
   "outputs": [],
   "source": [
    "G = KECENI.Graph(Adj, Zs=Zs)"
   ]
  },
  {
   "cell_type": "code",
   "execution_count": 14,
   "id": "2f5fe250",
   "metadata": {},
   "outputs": [],
   "source": [
    "idx_cov = np.array([2, 3, 4, 5, 7])"
   ]
  },
  {
   "cell_type": "code",
   "execution_count": 15,
   "id": "0e58e588",
   "metadata": {},
   "outputs": [],
   "source": [
    "Ys = data_feature.loan.values.astype(float)[:n_node]\n",
    "Ts = data_feature.shg.values.astype(float)[:n_node]\n",
    "Xs = (\n",
    "    (data_feature.iloc[:n_node,idx_cov].values \n",
    "     - np.mean(data_feature.iloc[:n_node,idx_cov].values, 0))\n",
    "    / np.array([100., 14., 1., 1., 1.])\n",
    ")"
   ]
  },
  {
   "cell_type": "code",
   "execution_count": 16,
   "id": "c0d69a5b",
   "metadata": {},
   "outputs": [],
   "source": [
    "data = KECENI.Data(Ys, Ts, Xs, G)"
   ]
  },
  {
   "cell_type": "markdown",
   "id": "b5ac30d3",
   "metadata": {},
   "source": [
    "# counterfactual of interest"
   ]
  },
  {
   "cell_type": "code",
   "execution_count": 17,
   "id": "9c46f720",
   "metadata": {},
   "outputs": [],
   "source": [
    "i0s = np.arange(n_node)[::20]"
   ]
  },
  {
   "cell_type": "code",
   "execution_count": 18,
   "id": "d9d2ade8",
   "metadata": {},
   "outputs": [],
   "source": [
    "T0s_0 = np.repeat(Ts[None,:], len(i0s), 0); T0s_0[np.arange(len(i0s)), i0s] = 0\n",
    "T0s_1 = np.repeat(Ts[None,:], len(i0s), 0); T0s_1[np.arange(len(i0s)), i0s] = 1"
   ]
  },
  {
   "cell_type": "code",
   "execution_count": 19,
   "id": "13ca0fc6",
   "metadata": {},
   "outputs": [],
   "source": [
    "T0s = np.array([T0s_0, T0s_1])"
   ]
  },
  {
   "cell_type": "markdown",
   "id": "9ba0cef7",
   "metadata": {},
   "source": [
    "# estimation"
   ]
  },
  {
   "cell_type": "code",
   "execution_count": 20,
   "id": "0d76958f",
   "metadata": {},
   "outputs": [],
   "source": [
    "from KECENI.RegressionModel import KernelRegressionModel\n",
    "from KECENI.PropensityModel import KernelIIDPropensityModel\n",
    "from KECENI.CovariateModel import IIDCovariateModel, CommunityCovariateModel"
   ]
  },
  {
   "cell_type": "code",
   "execution_count": 21,
   "id": "2a8d9428",
   "metadata": {},
   "outputs": [],
   "source": [
    "from delta_fixed import delta_mu, delta_pi, delta"
   ]
  },
  {
   "cell_type": "code",
   "execution_count": 22,
   "id": "d88e2165",
   "metadata": {},
   "outputs": [],
   "source": [
    "lamda_mu = 3.0\n",
    "lamda_pi = 4.0\n",
    "lamdas = 4.0"
   ]
  },
  {
   "cell_type": "code",
   "execution_count": 23,
   "id": "89048f39",
   "metadata": {},
   "outputs": [],
   "source": [
    "keceni_model = KECENI.Model(\n",
    "    KernelRegressionModel(delta_mu, lamda=lamda_mu, ths=1e-7),\n",
    "    KernelIIDPropensityModel(delta_pi, lamda=lamda_pi, ths=1e-7),\n",
    "    IIDCovariateModel(),\n",
    "    delta\n",
    ")"
   ]
  },
  {
   "cell_type": "markdown",
   "id": "b85dafb7",
   "metadata": {},
   "source": [
    "## - load Fit"
   ]
  },
  {
   "cell_type": "code",
   "execution_count": 24,
   "id": "d8becbee",
   "metadata": {},
   "outputs": [],
   "source": [
    "num_task = 105"
   ]
  },
  {
   "cell_type": "code",
   "execution_count": 25,
   "id": "19428a80",
   "metadata": {},
   "outputs": [],
   "source": [
    "list_fit = list()\n",
    "for task_id in np.arange(num_task):\n",
    "    fit_i = KECENI.Fit(\n",
    "        keceni_model, data,\n",
    "        **np.load('results/fit_%.3d.npz'%(task_id))\n",
    "    )\n",
    "    \n",
    "    fit_i.xis = np.clip(fit_i.xis, 0, 1)\n",
    "    \n",
    "    list_fit.append(fit_i)"
   ]
  },
  {
   "cell_type": "markdown",
   "id": "a0beaef7",
   "metadata": {},
   "source": [
    "## - load KE"
   ]
  },
  {
   "cell_type": "code",
   "execution_count": 26,
   "id": "fd42edc2",
   "metadata": {},
   "outputs": [],
   "source": [
    "list_KE = [\n",
    "    KECENI.KernelEstimate.KernelEstimate(\n",
    "        fit_i, i0s, T0s, G,\n",
    "        Ds = np.load('results/AIPW_direct_%.3d.npz'%(task_id))['Ds']\n",
    "    )\n",
    "    for task_id, fit_i in enumerate(list_fit) \n",
    "    if os.path.isfile('results/inf_%.3d.npz'%(task_id))\n",
    "]"
   ]
  },
  {
   "cell_type": "code",
   "execution_count": 27,
   "id": "a714c8bb",
   "metadata": {},
   "outputs": [],
   "source": [
    "result_KE = KECENI.concat_KEs(list_KE)"
   ]
  },
  {
   "cell_type": "code",
   "execution_count": 28,
   "id": "b7855e44",
   "metadata": {},
   "outputs": [],
   "source": [
    "result_KE.fit.xis = np.clip(result_KE.fit.xis, 0, 1)"
   ]
  },
  {
   "cell_type": "code",
   "execution_count": 29,
   "id": "f25ce748",
   "metadata": {},
   "outputs": [],
   "source": [
    "# result_AIPW.xis = xis_tmp"
   ]
  },
  {
   "cell_type": "code",
   "execution_count": 30,
   "id": "109adc0f",
   "metadata": {},
   "outputs": [],
   "source": [
    "YDRs_0, YDRs_1 = result_KE.est(lamdas)\n",
    "YDRs_d = YDRs_1 - YDRs_0"
   ]
  },
  {
   "cell_type": "markdown",
   "id": "1eb8f877",
   "metadata": {},
   "source": [
    "## - results"
   ]
  },
  {
   "cell_type": "code",
   "execution_count": 31,
   "id": "1a6ff38b",
   "metadata": {},
   "outputs": [],
   "source": [
    "EYDR_0 = np.mean(YDRs_0)\n",
    "EYDR_1 = np.mean(YDRs_1)\n",
    "EYDR_d = np.mean(YDRs_d)"
   ]
  },
  {
   "cell_type": "code",
   "execution_count": 32,
   "id": "412ccaea",
   "metadata": {},
   "outputs": [
    {
     "data": {
      "text/plain": [
       "(0.31970112563459235, 0.4974571932575942, 0.1777560676230019)"
      ]
     },
     "execution_count": 32,
     "metadata": {},
     "output_type": "execute_result"
    }
   ],
   "source": [
    "EYDR_0, EYDR_1, EYDR_d"
   ]
  },
  {
   "cell_type": "markdown",
   "id": "4e9836f2",
   "metadata": {},
   "source": [
    "## - plots"
   ]
  },
  {
   "cell_type": "code",
   "execution_count": 33,
   "id": "ad177cd9",
   "metadata": {},
   "outputs": [
    {
     "data": {
      "text/plain": [
       "<matplotlib.legend.Legend at 0x14db2a993fb0>"
      ]
     },
     "execution_count": 33,
     "metadata": {},
     "output_type": "execute_result"
    },
    {
     "data": {
      "image/png": "[encoded data removed]",
      "text/plain": [
       "<Figure size 400x300 with 1 Axes>"
      ]
     },
     "metadata": {},
     "output_type": "display_data"
    }
   ],
   "source": [
    "fig = plt.figure(figsize=(4,3))\n",
    "plt.hist(YDRs_d, density=True, color='grey', label=r'$\\mathrm{DE}_{i^*}$')\n",
    "plt.legend()"
   ]
  },
  {
   "cell_type": "code",
   "execution_count": 34,
   "id": "a91bf18b",
   "metadata": {
    "scrolled": false
   },
   "outputs": [
    {
     "data": {
      "text/plain": [
       "<matplotlib.legend.Legend at 0x14db2aa01c10>"
      ]
     },
     "execution_count": 34,
     "metadata": {},
     "output_type": "execute_result"
    },
    {
     "data": {
      "image/png": "[encoded data removed]",
      "text/plain": [
       "<Figure size 400x300 with 1 Axes>"
      ]
     },
     "metadata": {},
     "output_type": "display_data"
    }
   ],
   "source": [
    "fig = plt.figure(figsize=(4,3))\n",
    "plt.hist(YDRs_d[Ts[i0s]==0], alpha=0.5, density=True, label=r'$\\mathrm{DE}_{i^*}|T_{i^*}=0$')\n",
    "plt.hist(YDRs_d[Ts[i0s]==1], alpha=0.5, density=True, label=r'$\\mathrm{DE}_{i^*}|T_{i^*}=1$')\n",
    "plt.legend()"
   ]
  },
  {
   "cell_type": "markdown",
   "id": "611e23c7",
   "metadata": {},
   "source": [
    "## - by village $k$ and degree $d$"
   ]
  },
  {
   "cell_type": "code",
   "execution_count": 36,
   "id": "4a867b2f",
   "metadata": {},
   "outputs": [],
   "source": [
    "d4 = np.minimum(np.ceil(degree[i0s]/4), 4).astype(int)"
   ]
  },
  {
   "cell_type": "code",
   "execution_count": 37,
   "id": "639006d1",
   "metadata": {},
   "outputs": [],
   "source": [
    "df_boxplot = pd.DataFrame({\n",
    "    'k': G.Zs[i0s,0],\n",
    "    'd': degree[i0s],\n",
    "    'd4': d4,\n",
    "    'YDR_d': YDRs_d\n",
    "})"
   ]
  },
  {
   "cell_type": "code",
   "execution_count": 38,
   "id": "a38b66e5",
   "metadata": {
    "scrolled": false
   },
   "outputs": [
    {
     "data": {
      "text/plain": [
       "Text(0.5, 1.0, '')"
      ]
     },
     "execution_count": 38,
     "metadata": {},
     "output_type": "execute_result"
    },
    {
     "data": {
      "image/png": "[encoded data removed]",
      "text/plain": [
       "<Figure size 1000x600 with 1 Axes>"
      ]
     },
     "metadata": {},
     "output_type": "display_data"
    }
   ],
   "source": [
    "fig = plt.figure(figsize=(10,6)); ax = plt.gca()\n",
    "df_boxplot.boxplot(column='YDR_d', by='k', ax=ax, color='C0', showfliers=False)\n",
    "\n",
    "fig.suptitle(''); plt.title('')"
   ]
  },
  {
   "cell_type": "code",
   "execution_count": 39,
   "id": "70fe8c60",
   "metadata": {},
   "outputs": [
    {
     "data": {
      "text/plain": [
       "Text(0.5, 1.0, '')"
      ]
     },
     "execution_count": 39,
     "metadata": {},
     "output_type": "execute_result"
    },
    {
     "data": {
      "image/png": "[encoded data removed]",
      "text/plain": [
       "<Figure size 800x300 with 1 Axes>"
      ]
     },
     "metadata": {},
     "output_type": "display_data"
    }
   ],
   "source": [
    "fig = plt.figure(figsize=(8,3)); ax = plt.gca()\n",
    "bp0 = df_boxplot.boxplot(column='YDR_d', by='d', ax=ax, color='C0', \n",
    "                         showfliers=False, return_type='dict')\n",
    "\n",
    "fig.suptitle(''); plt.title('')"
   ]
  },
  {
   "cell_type": "code",
   "execution_count": 40,
   "id": "9ba889e5",
   "metadata": {},
   "outputs": [
    {
     "data": {
      "text/plain": [
       "Text(0.5, 1.0, '')"
      ]
     },
     "execution_count": 40,
     "metadata": {},
     "output_type": "execute_result"
    },
    {
     "data": {
      "image/png": "[encoded data removed]",
      "text/plain": [
       "<Figure size 600x200 with 1 Axes>"
      ]
     },
     "metadata": {},
     "output_type": "display_data"
    }
   ],
   "source": [
    "fig = plt.figure(figsize=(6,2)); ax = plt.gca()\n",
    "\n",
    "bp0 = df_boxplot.boxplot(column='YDR_d', by='d4', ax=ax, color='C0', \n",
    "                         showfliers=False, return_type='dict')\n",
    "\n",
    "ax.set_xticks([1, 2, 3, 4, 5], ['0', '1-4', '5-8', '9-12', '12+'])\n",
    "ax.set_xlabel('degree')\n",
    "\n",
    "fig.suptitle(''); plt.title('')"
   ]
  },
  {
   "cell_type": "markdown",
   "id": "da387f30",
   "metadata": {},
   "source": [
    "# inference"
   ]
  },
  {
   "cell_type": "markdown",
   "id": "8b157722",
   "metadata": {},
   "source": [
    "## - phis and Hs"
   ]
  },
  {
   "cell_type": "code",
   "execution_count": 41,
   "id": "8db052b0",
   "metadata": {},
   "outputs": [],
   "source": [
    "list_Hs_nu, list_Hs_px = list(zip(*[\n",
    "    dict(np.load('results/inf_%.3d.npz'%(task_id))).values()\n",
    "    for task_id in range(num_task) \n",
    "    if os.path.isfile('results/inf_%.3d.npz'%(task_id))\n",
    "]))"
   ]
  },
  {
   "cell_type": "code",
   "execution_count": 42,
   "id": "3475d062",
   "metadata": {},
   "outputs": [],
   "source": [
    "# list_Hs_ = [\n",
    "#     H_i[result_KE.fit.js,None] for H_i in list_Hs_nu\n",
    "# ]"
   ]
  },
  {
   "cell_type": "code",
   "execution_count": 43,
   "id": "f9115c7c",
   "metadata": {},
   "outputs": [],
   "source": [
    "# list_Hs = [\n",
    "#     H_i_nu[result_KE.fit.js] + H_i_px[result_KE.fit.js] \n",
    "#     for H_i_nu, H_i_px in zip(list_Hs_nu, list_Hs_px)\n",
    "# ]"
   ]
  },
  {
   "cell_type": "code",
   "execution_count": 44,
   "id": "7c53bccc",
   "metadata": {},
   "outputs": [
    {
     "name": "stderr",
     "output_type": "stream",
     "text": [
      "100%|█████████████████████████████████████████████████████████████| 105/105 [10:10<00:00,  5.82s/it]\n"
     ]
    }
   ],
   "source": [
    "list_phis_eif = []; list_wH = []; list_ws = []\n",
    "for KE_i, H_i_nu, H_i_px in tqdm(zip(list_KE, list_Hs_nu, list_Hs_px), total=num_task):\n",
    "    ws = KE_i.ws(lamdas)\n",
    "    est = KE_i.est(lamdas)\n",
    "    \n",
    "    phis_eif = (KE_i.fit.xis.reshape((-1,)+(1,)*est.ndim) - est) * ws / np.sum(ws, 0)\n",
    "    H_i = np.logical_and(KE_i.fit.xis > 0, KE_i.fit.xis < 1)[:,None] * (H_i_nu + H_i_px)\n",
    "    wH_i = np.sum(H_i.reshape(H_i.shape+(1,)*est.ndim) * ws[:,None], 0) / np.sum(ws, 0)\n",
    "    \n",
    "    list_phis_eif.append(phis_eif)\n",
    "    list_wH.append(wH_i)\n",
    "    list_ws.append(np.sum(ws, 0))"
   ]
  },
  {
   "cell_type": "code",
   "execution_count": 45,
   "id": "46f314b5",
   "metadata": {},
   "outputs": [],
   "source": [
    "phis_sdw_dr = KECENI.concat_phis(list_ws, list_phis_eif, list_wH) # [ind_js]"
   ]
  },
  {
   "cell_type": "code",
   "execution_count": 46,
   "id": "b56b460d",
   "metadata": {},
   "outputs": [
    {
     "data": {
      "text/plain": [
       "(9449, 2, 473)"
      ]
     },
     "execution_count": 46,
     "metadata": {},
     "output_type": "execute_result"
    }
   ],
   "source": [
    "phis_sdw_dr.shape"
   ]
  },
  {
   "cell_type": "markdown",
   "id": "ba4aaa2d",
   "metadata": {},
   "source": [
    "## - distance in $\\mathcal{G}$"
   ]
  },
  {
   "cell_type": "code",
   "execution_count": 47,
   "id": "eb58c293",
   "metadata": {},
   "outputs": [],
   "source": [
    "from KECENI.Inference import ste_hac_sdw, bbb_sdw"
   ]
  },
  {
   "cell_type": "code",
   "execution_count": 48,
   "id": "f2cc08ff",
   "metadata": {},
   "outputs": [
    {
     "data": {
      "text/plain": [
       "array([[ 0.,  1.,  5., ..., inf, inf, inf],\n",
       "       [ 1.,  0.,  4., ..., inf, inf, inf],\n",
       "       [ 5.,  4.,  0., ..., inf, inf, inf],\n",
       "       ...,\n",
       "       [inf, inf, inf, ...,  0.,  2.,  1.],\n",
       "       [inf, inf, inf, ...,  2.,  0.,  2.],\n",
       "       [inf, inf, inf, ...,  1.,  2.,  0.]])"
      ]
     },
     "execution_count": 48,
     "metadata": {},
     "output_type": "execute_result"
    }
   ],
   "source": [
    "G.get_dist()"
   ]
  },
  {
   "cell_type": "code",
   "execution_count": 49,
   "id": "61ccc7e4",
   "metadata": {},
   "outputs": [],
   "source": [
    "G_sub = G.sub(result_KE.fit.js)"
   ]
  },
  {
   "cell_type": "code",
   "execution_count": 50,
   "id": "36d55b42",
   "metadata": {},
   "outputs": [],
   "source": [
    "G_sub.dist = G.dist[np.ix_(result_KE.fit.js, result_KE.fit.js)]"
   ]
  },
  {
   "cell_type": "code",
   "execution_count": 51,
   "id": "08c29764",
   "metadata": {},
   "outputs": [
    {
     "data": {
      "text/plain": [
       "array([[ 0.,  1.,  5., ..., inf, inf, inf],\n",
       "       [ 1.,  0.,  4., ..., inf, inf, inf],\n",
       "       [ 5.,  4.,  0., ..., inf, inf, inf],\n",
       "       ...,\n",
       "       [inf, inf, inf, ...,  0.,  2.,  1.],\n",
       "       [inf, inf, inf, ...,  2.,  0.,  2.],\n",
       "       [inf, inf, inf, ...,  1.,  2.,  0.]])"
      ]
     },
     "execution_count": 51,
     "metadata": {},
     "output_type": "execute_result"
    }
   ],
   "source": [
    "G_sub.dist"
   ]
  },
  {
   "cell_type": "markdown",
   "id": "ada28629",
   "metadata": {},
   "source": [
    "## - results"
   ]
  },
  {
   "cell_type": "code",
   "execution_count": 52,
   "id": "1b546fb8",
   "metadata": {},
   "outputs": [],
   "source": [
    "phis = phis_sdw_dr"
   ]
  },
  {
   "cell_type": "code",
   "execution_count": 53,
   "id": "9828babc",
   "metadata": {},
   "outputs": [],
   "source": [
    "phis_0 = np.mean(phis[:,0,:], -1)\n",
    "phis_1 = np.mean(phis[:,1,:], -1)"
   ]
  },
  {
   "cell_type": "code",
   "execution_count": 54,
   "id": "6b38720d",
   "metadata": {},
   "outputs": [],
   "source": [
    "std_0 = ste_hac_sdw(phis_0, G_sub, bw=5)\n",
    "std_1 = ste_hac_sdw(phis_1, G_sub, bw=5)"
   ]
  },
  {
   "cell_type": "code",
   "execution_count": null,
   "id": "7b40918e",
   "metadata": {},
   "outputs": [],
   "source": [
    "std_d = ste_hac_sdw(phis_1 - phis_0, G_sub, bw=5)"
   ]
  },
  {
   "cell_type": "markdown",
   "id": "1a39ece3",
   "metadata": {},
   "source": [
    "### * confidence intervals"
   ]
  },
  {
   "cell_type": "code",
   "execution_count": 55,
   "id": "3eed64cb",
   "metadata": {},
   "outputs": [
    {
     "data": {
      "text/plain": [
       "(0.3043273719428136, 0.3350748793263711)"
      ]
     },
     "execution_count": 55,
     "metadata": {},
     "output_type": "execute_result"
    }
   ],
   "source": [
    "(np.mean(YDRs_0) - 2 * std_0,\n",
    " np.mean(YDRs_0) + 2 * std_0)"
   ]
  },
  {
   "cell_type": "code",
   "execution_count": 56,
   "id": "a3397d2f",
   "metadata": {},
   "outputs": [
    {
     "data": {
      "text/plain": [
       "(0.47120193684145517, 0.5237124496737332)"
      ]
     },
     "execution_count": 56,
     "metadata": {},
     "output_type": "execute_result"
    }
   ],
   "source": [
    "(np.mean(YDRs_1) - 2 * std_1,\n",
    " np.mean(YDRs_1) + 2 * std_1)"
   ]
  },
  {
   "cell_type": "code",
   "execution_count": 65,
   "id": "f0543664",
   "metadata": {},
   "outputs": [
    {
     "data": {
      "text/plain": [
       "(0.1544862010174467, 0.17775606762300183, 0.20102593422855697)"
      ]
     },
     "execution_count": 65,
     "metadata": {},
     "output_type": "execute_result"
    }
   ],
   "source": [
    "(np.mean(YDRs_1) - np.mean(YDRs_0) - 2 * std_d, np.mean(YDRs_1) - np.mean(YDRs_0),\n",
    " np.mean(YDRs_1) - np.mean(YDRs_0) + 2 * std_d)"
   ]
  },
  {
   "cell_type": "code",
   "execution_count": null,
   "id": "6ce2ae53",
   "metadata": {},
   "outputs": [],
   "source": []
  }
 ],
 "metadata": {
  "kernelspec": {
   "display_name": "Python [conda env:.conda-causalnet]",
   "language": "python",
   "name": "conda-env-.conda-causalnet-py"
  },
  "language_info": {
   "codemirror_mode": {
    "name": "ipython",
    "version": 3
   },
   "file_extension": ".py",
   "mimetype": "text/x-python",
   "name": "python",
   "nbconvert_exporter": "python",
   "pygments_lexer": "ipython3",
   "version": "3.12.1"
  }
 },
 "nbformat": 4,
 "nbformat_minor": 5
}
