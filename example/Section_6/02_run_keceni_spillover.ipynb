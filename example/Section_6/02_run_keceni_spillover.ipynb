{
 "cells": [
  {
   "cell_type": "code",
   "execution_count": 1,
   "id": "6db3349f",
   "metadata": {},
   "outputs": [],
   "source": [
    "import os, importlib, sys, time"
   ]
  },
  {
   "cell_type": "code",
   "execution_count": 2,
   "id": "1c37e18c",
   "metadata": {},
   "outputs": [],
   "source": [
    "import numpy as np\n",
    "import scipy.sparse as sparse\n",
    "import matplotlib.pyplot as plt\n",
    "import pandas as pd\n",
    "import pyarrow\n",
    "from tqdm import tqdm"
   ]
  },
  {
   "cell_type": "code",
   "execution_count": 3,
   "id": "23b24faf",
   "metadata": {},
   "outputs": [],
   "source": [
    "import KECENI"
   ]
  },
  {
   "cell_type": "markdown",
   "id": "c1e81cff",
   "metadata": {},
   "source": [
    "# load data"
   ]
  },
  {
   "cell_type": "code",
   "execution_count": 4,
   "id": "638c9bf6",
   "metadata": {},
   "outputs": [],
   "source": [
    "data_dir = 'data'"
   ]
  },
  {
   "cell_type": "code",
   "execution_count": 5,
   "id": "a4c596a8",
   "metadata": {},
   "outputs": [],
   "source": [
    "data_network = pd.read_feather('%s/network.feather'%data_dir)\n",
    "data_feature = pd.read_feather('%s/feature.feather'%data_dir)"
   ]
  },
  {
   "cell_type": "code",
   "execution_count": 6,
   "id": "3ed4fe98",
   "metadata": {},
   "outputs": [],
   "source": [
    "n_node = len(data_feature)\n",
    "n_edge = len(data_network)"
   ]
  },
  {
   "cell_type": "code",
   "execution_count": 7,
   "id": "64f99c6c",
   "metadata": {},
   "outputs": [
    {
     "data": {
      "text/html": [
       "<div>\n",
       "<style scoped>\n",
       "    .dataframe tbody tr th:only-of-type {\n",
       "        vertical-align: middle;\n",
       "    }\n",
       "\n",
       "    .dataframe tbody tr th {\n",
       "        vertical-align: top;\n",
       "    }\n",
       "\n",
       "    .dataframe thead th {\n",
       "        text-align: right;\n",
       "    }\n",
       "</style>\n",
       "<table border=\"1\" class=\"dataframe\">\n",
       "  <thead>\n",
       "    <tr style=\"text-align: right;\">\n",
       "      <th></th>\n",
       "      <th>row</th>\n",
       "      <th>col</th>\n",
       "    </tr>\n",
       "  </thead>\n",
       "  <tbody>\n",
       "    <tr>\n",
       "      <th>0</th>\n",
       "      <td>1</td>\n",
       "      <td>2</td>\n",
       "    </tr>\n",
       "    <tr>\n",
       "      <th>1</th>\n",
       "      <td>2</td>\n",
       "      <td>1</td>\n",
       "    </tr>\n",
       "    <tr>\n",
       "      <th>2</th>\n",
       "      <td>2</td>\n",
       "      <td>28</td>\n",
       "    </tr>\n",
       "    <tr>\n",
       "      <th>3</th>\n",
       "      <td>3</td>\n",
       "      <td>21</td>\n",
       "    </tr>\n",
       "    <tr>\n",
       "      <th>4</th>\n",
       "      <td>3</td>\n",
       "      <td>23</td>\n",
       "    </tr>\n",
       "    <tr>\n",
       "      <th>...</th>\n",
       "      <td>...</td>\n",
       "      <td>...</td>\n",
       "    </tr>\n",
       "    <tr>\n",
       "      <th>65666</th>\n",
       "      <td>9449</td>\n",
       "      <td>9241</td>\n",
       "    </tr>\n",
       "    <tr>\n",
       "      <th>65667</th>\n",
       "      <td>9449</td>\n",
       "      <td>9243</td>\n",
       "    </tr>\n",
       "    <tr>\n",
       "      <th>65668</th>\n",
       "      <td>9449</td>\n",
       "      <td>9439</td>\n",
       "    </tr>\n",
       "    <tr>\n",
       "      <th>65669</th>\n",
       "      <td>9449</td>\n",
       "      <td>9445</td>\n",
       "    </tr>\n",
       "    <tr>\n",
       "      <th>65670</th>\n",
       "      <td>9449</td>\n",
       "      <td>9447</td>\n",
       "    </tr>\n",
       "  </tbody>\n",
       "</table>\n",
       "<p>65671 rows × 2 columns</p>\n",
       "</div>"
      ],
      "text/plain": [
       "        row   col\n",
       "0         1     2\n",
       "1         2     1\n",
       "2         2    28\n",
       "3         3    21\n",
       "4         3    23\n",
       "...     ...   ...\n",
       "65666  9449  9241\n",
       "65667  9449  9243\n",
       "65668  9449  9439\n",
       "65669  9449  9445\n",
       "65670  9449  9447\n",
       "\n",
       "[65671 rows x 2 columns]"
      ]
     },
     "execution_count": 7,
     "metadata": {},
     "output_type": "execute_result"
    }
   ],
   "source": [
    "data_network"
   ]
  },
  {
   "cell_type": "code",
   "execution_count": 8,
   "id": "f942eefe",
   "metadata": {
    "scrolled": false
   },
   "outputs": [
    {
     "data": {
      "text/html": [
       "<div>\n",
       "<style scoped>\n",
       "    .dataframe tbody tr th:only-of-type {\n",
       "        vertical-align: middle;\n",
       "    }\n",
       "\n",
       "    .dataframe tbody tr th {\n",
       "        vertical-align: top;\n",
       "    }\n",
       "\n",
       "    .dataframe thead th {\n",
       "        text-align: right;\n",
       "    }\n",
       "</style>\n",
       "<table border=\"1\" class=\"dataframe\">\n",
       "  <thead>\n",
       "    <tr style=\"text-align: right;\">\n",
       "      <th></th>\n",
       "      <th>village</th>\n",
       "      <th>hhid</th>\n",
       "      <th>age</th>\n",
       "      <th>educ</th>\n",
       "      <th>native</th>\n",
       "      <th>work</th>\n",
       "      <th>outside</th>\n",
       "      <th>saving</th>\n",
       "      <th>shg</th>\n",
       "      <th>loan</th>\n",
       "    </tr>\n",
       "    <tr>\n",
       "      <th>id</th>\n",
       "      <th></th>\n",
       "      <th></th>\n",
       "      <th></th>\n",
       "      <th></th>\n",
       "      <th></th>\n",
       "      <th></th>\n",
       "      <th></th>\n",
       "      <th></th>\n",
       "      <th></th>\n",
       "      <th></th>\n",
       "    </tr>\n",
       "  </thead>\n",
       "  <tbody>\n",
       "    <tr>\n",
       "      <th>100201</th>\n",
       "      <td>1</td>\n",
       "      <td>1002</td>\n",
       "      <td>38</td>\n",
       "      <td>2</td>\n",
       "      <td>1</td>\n",
       "      <td>1</td>\n",
       "      <td>1</td>\n",
       "      <td>0</td>\n",
       "      <td>0</td>\n",
       "      <td>0</td>\n",
       "    </tr>\n",
       "    <tr>\n",
       "      <th>100202</th>\n",
       "      <td>1</td>\n",
       "      <td>1002</td>\n",
       "      <td>27</td>\n",
       "      <td>2</td>\n",
       "      <td>0</td>\n",
       "      <td>0</td>\n",
       "      <td>0</td>\n",
       "      <td>0</td>\n",
       "      <td>0</td>\n",
       "      <td>0</td>\n",
       "    </tr>\n",
       "    <tr>\n",
       "      <th>100601</th>\n",
       "      <td>1</td>\n",
       "      <td>1006</td>\n",
       "      <td>29</td>\n",
       "      <td>7</td>\n",
       "      <td>1</td>\n",
       "      <td>1</td>\n",
       "      <td>0</td>\n",
       "      <td>0</td>\n",
       "      <td>0</td>\n",
       "      <td>0</td>\n",
       "    </tr>\n",
       "    <tr>\n",
       "      <th>100602</th>\n",
       "      <td>1</td>\n",
       "      <td>1006</td>\n",
       "      <td>24</td>\n",
       "      <td>10</td>\n",
       "      <td>0</td>\n",
       "      <td>1</td>\n",
       "      <td>0</td>\n",
       "      <td>1</td>\n",
       "      <td>1</td>\n",
       "      <td>0</td>\n",
       "    </tr>\n",
       "    <tr>\n",
       "      <th>100701</th>\n",
       "      <td>1</td>\n",
       "      <td>1007</td>\n",
       "      <td>58</td>\n",
       "      <td>10</td>\n",
       "      <td>1</td>\n",
       "      <td>1</td>\n",
       "      <td>0</td>\n",
       "      <td>0</td>\n",
       "      <td>0</td>\n",
       "      <td>1</td>\n",
       "    </tr>\n",
       "    <tr>\n",
       "      <th>...</th>\n",
       "      <td>...</td>\n",
       "      <td>...</td>\n",
       "      <td>...</td>\n",
       "      <td>...</td>\n",
       "      <td>...</td>\n",
       "      <td>...</td>\n",
       "      <td>...</td>\n",
       "      <td>...</td>\n",
       "      <td>...</td>\n",
       "      <td>...</td>\n",
       "    </tr>\n",
       "    <tr>\n",
       "      <th>7516602</th>\n",
       "      <td>75</td>\n",
       "      <td>75166</td>\n",
       "      <td>32</td>\n",
       "      <td>11</td>\n",
       "      <td>0</td>\n",
       "      <td>0</td>\n",
       "      <td>0</td>\n",
       "      <td>1</td>\n",
       "      <td>1</td>\n",
       "      <td>1</td>\n",
       "    </tr>\n",
       "    <tr>\n",
       "      <th>7516701</th>\n",
       "      <td>75</td>\n",
       "      <td>75167</td>\n",
       "      <td>45</td>\n",
       "      <td>9</td>\n",
       "      <td>1</td>\n",
       "      <td>1</td>\n",
       "      <td>0</td>\n",
       "      <td>0</td>\n",
       "      <td>0</td>\n",
       "      <td>1</td>\n",
       "    </tr>\n",
       "    <tr>\n",
       "      <th>7516702</th>\n",
       "      <td>75</td>\n",
       "      <td>75167</td>\n",
       "      <td>32</td>\n",
       "      <td>9</td>\n",
       "      <td>0</td>\n",
       "      <td>0</td>\n",
       "      <td>0</td>\n",
       "      <td>1</td>\n",
       "      <td>1</td>\n",
       "      <td>1</td>\n",
       "    </tr>\n",
       "    <tr>\n",
       "      <th>7516801</th>\n",
       "      <td>75</td>\n",
       "      <td>75168</td>\n",
       "      <td>40</td>\n",
       "      <td>10</td>\n",
       "      <td>1</td>\n",
       "      <td>1</td>\n",
       "      <td>0</td>\n",
       "      <td>1</td>\n",
       "      <td>0</td>\n",
       "      <td>0</td>\n",
       "    </tr>\n",
       "    <tr>\n",
       "      <th>7516802</th>\n",
       "      <td>75</td>\n",
       "      <td>75168</td>\n",
       "      <td>35</td>\n",
       "      <td>5</td>\n",
       "      <td>0</td>\n",
       "      <td>0</td>\n",
       "      <td>0</td>\n",
       "      <td>1</td>\n",
       "      <td>1</td>\n",
       "      <td>0</td>\n",
       "    </tr>\n",
       "  </tbody>\n",
       "</table>\n",
       "<p>9449 rows × 10 columns</p>\n",
       "</div>"
      ],
      "text/plain": [
       "         village   hhid  age  educ  native  work  outside  saving  shg  loan\n",
       "id                                                                          \n",
       "100201         1   1002   38     2       1     1        1       0    0     0\n",
       "100202         1   1002   27     2       0     0        0       0    0     0\n",
       "100601         1   1006   29     7       1     1        0       0    0     0\n",
       "100602         1   1006   24    10       0     1        0       1    1     0\n",
       "100701         1   1007   58    10       1     1        0       0    0     1\n",
       "...          ...    ...  ...   ...     ...   ...      ...     ...  ...   ...\n",
       "7516602       75  75166   32    11       0     0        0       1    1     1\n",
       "7516701       75  75167   45     9       1     1        0       0    0     1\n",
       "7516702       75  75167   32     9       0     0        0       1    1     1\n",
       "7516801       75  75168   40    10       1     1        0       1    0     0\n",
       "7516802       75  75168   35     5       0     0        0       1    1     0\n",
       "\n",
       "[9449 rows x 10 columns]"
      ]
     },
     "execution_count": 8,
     "metadata": {},
     "output_type": "execute_result"
    }
   ],
   "source": [
    "data_feature"
   ]
  },
  {
   "cell_type": "code",
   "execution_count": 9,
   "id": "1dc09510",
   "metadata": {},
   "outputs": [],
   "source": [
    "Adj = sparse.csr_matrix((\n",
    "    np.full(n_edge, True), \n",
    "    (np.array(data_network.row)-1, np.array(data_network.col)-1)\n",
    ")).toarray()"
   ]
  },
  {
   "cell_type": "code",
   "execution_count": 10,
   "id": "08f22a68",
   "metadata": {},
   "outputs": [],
   "source": [
    "degree = np.sum(Adj, 0)"
   ]
  },
  {
   "cell_type": "code",
   "execution_count": 128,
   "id": "caedcf2a",
   "metadata": {},
   "outputs": [
    {
     "data": {
      "image/png": "[encoded data removed]",
      "text/plain": [
       "<Figure size 640x480 with 1 Axes>"
      ]
     },
     "metadata": {},
     "output_type": "display_data"
    }
   ],
   "source": [
    "plt.hist(degree, np.arange(np.max(degree)+1)-0.5)\n",
    "plt.xlabel('degree'), plt.ylabel('# of villagers')\n",
    "plt.show()"
   ]
  },
  {
   "cell_type": "code",
   "execution_count": 12,
   "id": "afaa120d",
   "metadata": {},
   "outputs": [],
   "source": [
    "Zs = data_feature.village.values[:,None]"
   ]
  },
  {
   "cell_type": "code",
   "execution_count": 13,
   "id": "fc72812b",
   "metadata": {},
   "outputs": [],
   "source": [
    "G = KECENI.Graph(Adj, Zs=Zs)"
   ]
  },
  {
   "cell_type": "code",
   "execution_count": 14,
   "id": "2f5fe250",
   "metadata": {},
   "outputs": [],
   "source": [
    "idx_cov = np.array([2, 3, 4, 5, 7])"
   ]
  },
  {
   "cell_type": "code",
   "execution_count": 15,
   "id": "0e58e588",
   "metadata": {},
   "outputs": [],
   "source": [
    "Ys = data_feature.loan.values.astype(float)[:n_node]\n",
    "Ts = data_feature.shg.values.astype(float)[:n_node]\n",
    "Xs = (\n",
    "    (data_feature.iloc[:n_node,idx_cov].values \n",
    "     - np.mean(data_feature.iloc[:n_node,idx_cov].values, 0))\n",
    "    / np.array([100., 14., 1., 1., 1.])\n",
    ")"
   ]
  },
  {
   "cell_type": "code",
   "execution_count": 16,
   "id": "c0d69a5b",
   "metadata": {},
   "outputs": [],
   "source": [
    "data = KECENI.Data(Ys, Ts, Xs, G)"
   ]
  },
  {
   "cell_type": "markdown",
   "id": "b5ac30d3",
   "metadata": {},
   "source": [
    "# counterfactual of interest"
   ]
  },
  {
   "cell_type": "code",
   "execution_count": 17,
   "id": "9c46f720",
   "metadata": {},
   "outputs": [],
   "source": [
    "i0s = np.array([ 70,   0,   1,  13,   3,   8,  10,   7,   2,  26,  40,  36,   4,\n",
    "                 28,   5,  20, 123,  99, 318,  38,  87])"
   ]
  },
  {
   "cell_type": "code",
   "execution_count": 18,
   "id": "d9d2ade8",
   "metadata": {},
   "outputs": [],
   "source": [
    "T0s_00 = np.full((len(i0s), n_node), 0); T0s_00[np.arange(len(i0s)), i0s] = 0\n",
    "T0s_01 = np.full((len(i0s), n_node), 1); T0s_01[np.arange(len(i0s)), i0s] = 0\n",
    "T0s_10 = np.full((len(i0s), n_node), 0); T0s_10[np.arange(len(i0s)), i0s] = 1\n",
    "T0s_11 = np.full((len(i0s), n_node), 1); T0s_11[np.arange(len(i0s)), i0s] = 1"
   ]
  },
  {
   "cell_type": "code",
   "execution_count": 19,
   "id": "13ca0fc6",
   "metadata": {},
   "outputs": [],
   "source": [
    "T0s = np.array([[T0s_00, T0s_01], [T0s_10, T0s_11]])"
   ]
  },
  {
   "cell_type": "code",
   "execution_count": 20,
   "id": "d1c83393",
   "metadata": {},
   "outputs": [
    {
     "data": {
      "text/plain": [
       "array([[[0, 0, 0, 0, 0, 0],\n",
       "        [0, 1, 1, 1, 1, 1]],\n",
       "\n",
       "       [[1, 0, 0, 0, 0, 0],\n",
       "        [1, 1, 1, 1, 1, 1]]])"
      ]
     },
     "execution_count": 20,
     "metadata": {},
     "output_type": "execute_result"
    }
   ],
   "source": [
    "T0s[...,5,G.N1(i0s[5])]"
   ]
  },
  {
   "cell_type": "markdown",
   "id": "9ba0cef7",
   "metadata": {},
   "source": [
    "# estimation"
   ]
  },
  {
   "cell_type": "code",
   "execution_count": 21,
   "id": "0d76958f",
   "metadata": {},
   "outputs": [],
   "source": [
    "from KECENI.RegressionModel import KernelRegressionModel\n",
    "from KECENI.PropensityModel import KernelIIDPropensityModel\n",
    "from KECENI.CovariateModel import IIDCovariateModel, CommunityCovariateModel"
   ]
  },
  {
   "cell_type": "code",
   "execution_count": 22,
   "id": "2a8d9428",
   "metadata": {},
   "outputs": [],
   "source": [
    "from delta_fixed import delta_mu, delta_pi, delta"
   ]
  },
  {
   "cell_type": "code",
   "execution_count": 23,
   "id": "d88e2165",
   "metadata": {},
   "outputs": [],
   "source": [
    "lamda_mu = 3.0\n",
    "lamda_pi = 4.0\n",
    "lamdas = 4.0"
   ]
  },
  {
   "cell_type": "code",
   "execution_count": 24,
   "id": "89048f39",
   "metadata": {},
   "outputs": [],
   "source": [
    "keceni_model = KECENI.Model(\n",
    "    KernelRegressionModel(delta_mu, lamda=lamda_mu, ths=1e-7),\n",
    "    KernelIIDPropensityModel(delta_pi, lamda=lamda_pi, ths=1e-7),\n",
    "    IIDCovariateModel(),\n",
    "    delta\n",
    ")"
   ]
  },
  {
   "cell_type": "markdown",
   "id": "b85dafb7",
   "metadata": {},
   "source": [
    "## - load Fit"
   ]
  },
  {
   "cell_type": "code",
   "execution_count": 25,
   "id": "d8becbee",
   "metadata": {},
   "outputs": [],
   "source": [
    "num_task = 105"
   ]
  },
  {
   "cell_type": "code",
   "execution_count": 26,
   "id": "19428a80",
   "metadata": {},
   "outputs": [],
   "source": [
    "list_fit = list()\n",
    "for task_id in np.arange(num_task):\n",
    "    fit_i = KECENI.Fit(\n",
    "        keceni_model, data,\n",
    "        **np.load('results/fit_%.3d.npz'%(task_id))\n",
    "    )\n",
    "    \n",
    "    fit_i.xis = np.clip(fit_i.xis, 0, 1)\n",
    "    \n",
    "    list_fit.append(fit_i)"
   ]
  },
  {
   "cell_type": "markdown",
   "id": "a0beaef7",
   "metadata": {},
   "source": [
    "## - load KE"
   ]
  },
  {
   "cell_type": "code",
   "execution_count": 27,
   "id": "2aa1e248",
   "metadata": {},
   "outputs": [],
   "source": [
    "list_KE = [\n",
    "    KECENI.KernelEstimate.KernelEstimate(\n",
    "        fit_i, i0s, T0s, G,\n",
    "        Ds = np.load('results/AIPW_spillover_%.3d.npz'%(task_id))['Ds']\n",
    "    )\n",
    "    for task_id, fit_i in enumerate(list_fit) \n",
    "    if os.path.isfile('results/inf_%.3d.npz'%(task_id))\n",
    "]"
   ]
  },
  {
   "cell_type": "code",
   "execution_count": 28,
   "id": "cee9a80e",
   "metadata": {},
   "outputs": [],
   "source": [
    "result_KE = KECENI.concat_KEs(list_KE)"
   ]
  },
  {
   "cell_type": "code",
   "execution_count": 29,
   "id": "38306d10",
   "metadata": {},
   "outputs": [],
   "source": [
    "result_KE.fit.xis = np.clip(result_KE.fit.xis, 0, 1)"
   ]
  },
  {
   "cell_type": "code",
   "execution_count": 36,
   "id": "109adc0f",
   "metadata": {},
   "outputs": [],
   "source": [
    "YDRs_0, YDRs_1 = result_KE.est(lamdas)[Ts[degree<21].astype(int),np.arange(2)[:,None],degree[degree<21]]\n",
    "YDRs_d = YDRs_1 - YDRs_0"
   ]
  },
  {
   "cell_type": "markdown",
   "id": "af9bd980",
   "metadata": {},
   "source": [
    "## - results"
   ]
  },
  {
   "cell_type": "code",
   "execution_count": 37,
   "id": "1a6ff38b",
   "metadata": {},
   "outputs": [],
   "source": [
    "EYDR_0 = np.mean(YDRs_0)\n",
    "EYDR_1 = np.mean(YDRs_1)\n",
    "EYDR_d = np.mean(YDRs_d)"
   ]
  },
  {
   "cell_type": "code",
   "execution_count": 38,
   "id": "412ccaea",
   "metadata": {},
   "outputs": [
    {
     "data": {
      "text/plain": [
       "(0.3521986420241954, 0.35816672419299345, 0.005968082168798126)"
      ]
     },
     "execution_count": 38,
     "metadata": {},
     "output_type": "execute_result"
    }
   ],
   "source": [
    "EYDR_0, EYDR_1, EYDR_d"
   ]
  },
  {
   "cell_type": "markdown",
   "id": "8c46d1a3",
   "metadata": {},
   "source": [
    "## - plots"
   ]
  },
  {
   "cell_type": "code",
   "execution_count": 39,
   "id": "ad177cd9",
   "metadata": {},
   "outputs": [
    {
     "data": {
      "text/plain": [
       "<matplotlib.legend.Legend at 0x1484f220b140>"
      ]
     },
     "execution_count": 39,
     "metadata": {},
     "output_type": "execute_result"
    },
    {
     "data": {
      "image/png": "[encoded data removed]",
      "text/plain": [
       "<Figure size 400x300 with 1 Axes>"
      ]
     },
     "metadata": {},
     "output_type": "display_data"
    }
   ],
   "source": [
    "fig = plt.figure(figsize=(4,3))\n",
    "plt.hist(YDRs_d, density=True, color='grey', label=r'$\\mathrm{SpE}_{i^*}$')\n",
    "plt.legend()"
   ]
  },
  {
   "cell_type": "code",
   "execution_count": 40,
   "id": "a91bf18b",
   "metadata": {
    "scrolled": false
   },
   "outputs": [
    {
     "data": {
      "text/plain": [
       "<matplotlib.legend.Legend at 0x1484f11b6660>"
      ]
     },
     "execution_count": 40,
     "metadata": {},
     "output_type": "execute_result"
    },
    {
     "data": {
      "image/png": "[encoded data removed]",
      "text/plain": [
       "<Figure size 400x300 with 1 Axes>"
      ]
     },
     "metadata": {},
     "output_type": "display_data"
    }
   ],
   "source": [
    "fig = plt.figure(figsize=(4,3))\n",
    "plt.hist(YDRs_d[Ts[degree<21]==0], alpha=0.5, density=True, label=r'$\\mathrm{SpE}_{i^*}|T_{i^*}=0$')\n",
    "plt.hist(YDRs_d[Ts[degree<21]==1], alpha=0.5, density=True, label=r'$\\mathrm{SpE}_{i^*}|T_{i^*}=1$')\n",
    "plt.legend()"
   ]
  },
  {
   "cell_type": "markdown",
   "id": "9317032c",
   "metadata": {},
   "source": [
    "## - SpE$(t)$"
   ]
  },
  {
   "cell_type": "code",
   "execution_count": 41,
   "id": "390c9c84",
   "metadata": {},
   "outputs": [],
   "source": [
    "YDRs_00, YDRs_01, YDRs_10, YDRs_11 = result_KE.est(lamdas)[:,:,degree[degree<21]].reshape([4,-1])\n",
    "YDRs_0d = YDRs_01 - YDRs_00\n",
    "YDRs_1d = YDRs_11 - YDRs_10"
   ]
  },
  {
   "cell_type": "code",
   "execution_count": 42,
   "id": "d01fb14f",
   "metadata": {},
   "outputs": [],
   "source": [
    "EYDR_00 = np.mean(YDRs_00)\n",
    "EYDR_01 = np.mean(YDRs_01)\n",
    "EYDR_10 = np.mean(YDRs_10)\n",
    "EYDR_11 = np.mean(YDRs_11)\n",
    "EYDR_0d = np.mean(YDRs_0d)\n",
    "EYDR_1d = np.mean(YDRs_1d)"
   ]
  },
  {
   "cell_type": "code",
   "execution_count": 43,
   "id": "5047d85e",
   "metadata": {},
   "outputs": [
    {
     "data": {
      "text/plain": [
       "(0.3209593530028443, 0.3172890616939579, -0.0036702913088863766)"
      ]
     },
     "execution_count": 43,
     "metadata": {},
     "output_type": "execute_result"
    }
   ],
   "source": [
    "EYDR_00, EYDR_01, EYDR_0d"
   ]
  },
  {
   "cell_type": "code",
   "execution_count": 44,
   "id": "c72c1791",
   "metadata": {},
   "outputs": [
    {
     "data": {
      "text/plain": [
       "(0.48042269731680204, 0.5265869358917892, 0.046164238574986964)"
      ]
     },
     "execution_count": 44,
     "metadata": {},
     "output_type": "execute_result"
    }
   ],
   "source": [
    "EYDR_10, EYDR_11, EYDR_1d"
   ]
  },
  {
   "cell_type": "code",
   "execution_count": 45,
   "id": "27401a1e",
   "metadata": {},
   "outputs": [
    {
     "data": {
      "text/plain": [
       "<matplotlib.legend.Legend at 0x14856fec62d0>"
      ]
     },
     "execution_count": 45,
     "metadata": {},
     "output_type": "execute_result"
    },
    {
     "data": {
      "image/png": "[encoded data removed]",
      "text/plain": [
       "<Figure size 400x300 with 1 Axes>"
      ]
     },
     "metadata": {},
     "output_type": "display_data"
    }
   ],
   "source": [
    "fig = plt.figure(figsize=(4,3))\n",
    "plt.hist(YDRs_0d, density=True, alpha=0.5, label=r'$\\mathrm{SpE}_{i^*}(0)$')\n",
    "plt.hist(YDRs_1d, density=True, alpha=0.5, label=r'$\\mathrm{SpE}_{i^*}(1)$')\n",
    "plt.legend()"
   ]
  },
  {
   "cell_type": "markdown",
   "id": "611e23c7",
   "metadata": {},
   "source": [
    "## - by village $k$ and degree $d$"
   ]
  },
  {
   "cell_type": "code",
   "execution_count": 46,
   "id": "4a867b2f",
   "metadata": {},
   "outputs": [],
   "source": [
    "d4 = np.minimum(np.ceil(degree[degree<21]/4), 3).astype(int)"
   ]
  },
  {
   "cell_type": "code",
   "execution_count": 47,
   "id": "70a4b9df",
   "metadata": {},
   "outputs": [],
   "source": [
    "num_group = np.unique(d4).shape[0]"
   ]
  },
  {
   "cell_type": "code",
   "execution_count": 48,
   "id": "1f75bd5d",
   "metadata": {},
   "outputs": [
    {
     "data": {
      "text/plain": [
       "4"
      ]
     },
     "execution_count": 48,
     "metadata": {},
     "output_type": "execute_result"
    }
   ],
   "source": [
    "num_group"
   ]
  },
  {
   "cell_type": "code",
   "execution_count": 49,
   "id": "639006d1",
   "metadata": {},
   "outputs": [],
   "source": [
    "df_boxplot = pd.DataFrame({\n",
    "    'k': G.Zs[degree<21,0],\n",
    "    'd': degree[degree<21],\n",
    "    'd4': d4,\n",
    "    'YDR_0d': YDRs_0d, 'YDR_1d': YDRs_1d\n",
    "})"
   ]
  },
  {
   "cell_type": "code",
   "execution_count": 50,
   "id": "a38b66e5",
   "metadata": {
    "scrolled": false
   },
   "outputs": [
    {
     "data": {
      "text/plain": [
       "Text(0.5, 1.0, '')"
      ]
     },
     "execution_count": 50,
     "metadata": {},
     "output_type": "execute_result"
    },
    {
     "data": {
      "image/png": "[encoded data removed]",
      "text/plain": [
       "<Figure size 1000x600 with 1 Axes>"
      ]
     },
     "metadata": {},
     "output_type": "display_data"
    }
   ],
   "source": [
    "fig = plt.figure(figsize=(10,6)); ax = plt.gca()\n",
    "df_boxplot.boxplot(column='YDR_0d', by='k', ax=ax, color='C0', showfliers=False)\n",
    "df_boxplot.boxplot(column='YDR_1d', by='k', ax=ax, color='C1', showfliers=False)\n",
    "\n",
    "fig.suptitle(''); plt.title('')"
   ]
  },
  {
   "cell_type": "code",
   "execution_count": 51,
   "id": "70fe8c60",
   "metadata": {},
   "outputs": [
    {
     "data": {
      "text/plain": [
       "Text(0.5, 1.0, '')"
      ]
     },
     "execution_count": 51,
     "metadata": {},
     "output_type": "execute_result"
    },
    {
     "data": {
      "image/png": "[encoded data removed]",
      "text/plain": [
       "<Figure size 800x300 with 1 Axes>"
      ]
     },
     "metadata": {},
     "output_type": "display_data"
    }
   ],
   "source": [
    "fig = plt.figure(figsize=(8,3)); ax = plt.gca()\n",
    "bp0 = df_boxplot.boxplot(column='YDR_0d', by='d', ax=ax, color='C0', \n",
    "                         showfliers=False, return_type='dict')\n",
    "bp1 = df_boxplot.boxplot(column='YDR_1d', by='d', ax=ax, color='C1', \n",
    "                         showfliers=False, return_type='dict')\n",
    "\n",
    "ax.legend([bp0['YDR_0d'][\"boxes\"][0], bp1['YDR_1d'][\"boxes\"][0]], \n",
    "          [r'$\\mathrm{SpE}_{i^*}(0)$', r'$\\mathrm{SpE}_{i^*}(1)$'])\n",
    "\n",
    "fig.suptitle(''); plt.title('')"
   ]
  },
  {
   "cell_type": "code",
   "execution_count": 52,
   "id": "9ba889e5",
   "metadata": {},
   "outputs": [
    {
     "data": {
      "text/plain": [
       "Text(0.5, 1.0, '')"
      ]
     },
     "execution_count": 52,
     "metadata": {},
     "output_type": "execute_result"
    },
    {
     "data": {
      "image/png": "[encoded data removed]",
      "text/plain": [
       "<Figure size 600x200 with 1 Axes>"
      ]
     },
     "metadata": {},
     "output_type": "display_data"
    }
   ],
   "source": [
    "fig = plt.figure(figsize=(6,2)); ax = plt.gca()\n",
    "\n",
    "bp0 = df_boxplot.boxplot(column='YDR_0d', by='d4', ax=ax, color='C0', \n",
    "                         showfliers=False, return_type='dict')\n",
    "bp1 = df_boxplot.boxplot(column='YDR_1d', by='d4', ax=ax, color='C1', \n",
    "                         showfliers=False, return_type='dict')\n",
    "\n",
    "ax.legend([bp0['YDR_0d'][\"boxes\"][0], bp1['YDR_1d'][\"boxes\"][0]], \n",
    "          [r'$\\mathrm{SpE}_{i^*}(0)$', r'$\\mathrm{SpE}_{i^*}(1)$'])\n",
    "ax.set_xticks([1, 2, 3, 4], ['0', '1-4', '5-8', '9+'])\n",
    "# ax.set_xticks([1, 2, 3, 4, 5], ['0', '1-4', '5-8', '9-12', '13+'])\n",
    "ax.set_xlabel('degree')\n",
    "\n",
    "fig.suptitle(''); plt.title('')"
   ]
  },
  {
   "cell_type": "markdown",
   "id": "4c10b376",
   "metadata": {},
   "source": [
    "# inference "
   ]
  },
  {
   "cell_type": "markdown",
   "id": "8b157722",
   "metadata": {},
   "source": [
    "## - phis and Hs"
   ]
  },
  {
   "cell_type": "code",
   "execution_count": 53,
   "id": "8db052b0",
   "metadata": {},
   "outputs": [],
   "source": [
    "list_Hs_nu, list_Hs_px = list(zip(*[\n",
    "    dict(np.load('results/inf_%.3d.npz'%(task_id))).values()\n",
    "    for task_id in range(num_task) \n",
    "    if os.path.isfile('results/inf_%.3d.npz'%(task_id))\n",
    "]))"
   ]
  },
  {
   "cell_type": "code",
   "execution_count": 55,
   "id": "f9115c7c",
   "metadata": {},
   "outputs": [],
   "source": [
    "# list_Hs = [\n",
    "#     H_i_nu[result_KE.fit.js] + H_i_px[result_KE.fit.js] \n",
    "#     for H_i_nu, H_i_px in zip(list_Hs_nu, list_Hs_px)\n",
    "# ]"
   ]
  },
  {
   "cell_type": "code",
   "execution_count": 56,
   "id": "26442c3a",
   "metadata": {},
   "outputs": [
    {
     "name": "stderr",
     "output_type": "stream",
     "text": [
      "100%|█████████████████████████████████████████████████████████████| 105/105 [00:52<00:00,  2.02it/s]\n"
     ]
    }
   ],
   "source": [
    "list_phis_eif = []; list_wH = []; list_ws = []\n",
    "for KE_i, H_i_nu, H_i_px in tqdm(zip(list_KE, list_Hs_nu, list_Hs_px), total=num_task):\n",
    "    ws = KE_i.ws(lamdas)\n",
    "    est = KE_i.est(lamdas)\n",
    "    \n",
    "    phis_eif = (KE_i.fit.xis.reshape((-1,)+(1,)*est.ndim) - est) * ws / np.sum(ws, 0)\n",
    "    H_i = np.logical_and(KE_i.fit.xis > 0, KE_i.fit.xis < 1)[:,None] * (H_i_nu + H_i_px)\n",
    "    wH_i = np.sum(H_i.reshape(H_i.shape+(1,)*est.ndim) * ws[:,None], 0) / np.sum(ws, 0)\n",
    "    \n",
    "    list_phis_eif.append(phis_eif)\n",
    "    list_wH.append(wH_i)\n",
    "    list_ws.append(np.sum(ws, 0))"
   ]
  },
  {
   "cell_type": "code",
   "execution_count": 57,
   "id": "46f314b5",
   "metadata": {},
   "outputs": [],
   "source": [
    "phis_sdw_dr = KECENI.concat_phis(list_ws, list_phis_eif, list_wH) # [ind_js]"
   ]
  },
  {
   "cell_type": "markdown",
   "id": "ba4aaa2d",
   "metadata": {},
   "source": [
    "## - distance in $\\mathcal{G}$"
   ]
  },
  {
   "cell_type": "code",
   "execution_count": 60,
   "id": "93db4aa2",
   "metadata": {},
   "outputs": [],
   "source": [
    "from KECENI.Inference import ste_hac_sdw, bbb_sdw"
   ]
  },
  {
   "cell_type": "code",
   "execution_count": 61,
   "id": "dd8671eb",
   "metadata": {},
   "outputs": [
    {
     "data": {
      "text/plain": [
       "array([[ 0.,  1.,  5., ..., inf, inf, inf],\n",
       "       [ 1.,  0.,  4., ..., inf, inf, inf],\n",
       "       [ 5.,  4.,  0., ..., inf, inf, inf],\n",
       "       ...,\n",
       "       [inf, inf, inf, ...,  0.,  2.,  1.],\n",
       "       [inf, inf, inf, ...,  2.,  0.,  2.],\n",
       "       [inf, inf, inf, ...,  1.,  2.,  0.]])"
      ]
     },
     "execution_count": 61,
     "metadata": {},
     "output_type": "execute_result"
    }
   ],
   "source": [
    "G.get_dist()"
   ]
  },
  {
   "cell_type": "code",
   "execution_count": 62,
   "id": "61ccc7e4",
   "metadata": {},
   "outputs": [],
   "source": [
    "G_sub = G.sub(result_KE.fit.js)"
   ]
  },
  {
   "cell_type": "code",
   "execution_count": 63,
   "id": "f2cc08ff",
   "metadata": {},
   "outputs": [],
   "source": [
    "G_sub.dist = G.dist[np.ix_(result_KE.fit.js, result_KE.fit.js)]"
   ]
  },
  {
   "cell_type": "code",
   "execution_count": 64,
   "id": "08c29764",
   "metadata": {},
   "outputs": [
    {
     "data": {
      "text/plain": [
       "array([[ 0.,  1.,  5., ..., inf, inf, inf],\n",
       "       [ 1.,  0.,  4., ..., inf, inf, inf],\n",
       "       [ 5.,  4.,  0., ..., inf, inf, inf],\n",
       "       ...,\n",
       "       [inf, inf, inf, ...,  0.,  2.,  1.],\n",
       "       [inf, inf, inf, ...,  2.,  0.,  2.],\n",
       "       [inf, inf, inf, ...,  1.,  2.,  0.]])"
      ]
     },
     "execution_count": 64,
     "metadata": {},
     "output_type": "execute_result"
    }
   ],
   "source": [
    "G_sub.dist"
   ]
  },
  {
   "cell_type": "markdown",
   "id": "150ff30d",
   "metadata": {},
   "source": [
    "## - results on SpE"
   ]
  },
  {
   "cell_type": "code",
   "execution_count": 67,
   "id": "1b546fb8",
   "metadata": {},
   "outputs": [],
   "source": [
    "phis = phis_sdw_dr"
   ]
  },
  {
   "cell_type": "code",
   "execution_count": 68,
   "id": "e264fa32",
   "metadata": {},
   "outputs": [],
   "source": [
    "counts_0 = np.array([np.sum(degree[Ts==0] == k) for k in np.arange(21)])\n",
    "counts_1 = np.array([np.sum(degree[Ts==1] == k) for k in np.arange(21)])\n",
    "counts = counts_0 + counts_1"
   ]
  },
  {
   "cell_type": "code",
   "execution_count": 69,
   "id": "9828babc",
   "metadata": {},
   "outputs": [],
   "source": [
    "phis_0 = (\n",
    "    np.sum(phis[:,0,0] * counts_0 + phis[:,1,0] * counts_1, -1) \n",
    "    / np.sum(counts)\n",
    ")\n",
    "phis_1 = (\n",
    "    np.sum(phis[:,0,1] * counts_0 + phis[:,1,1] * counts_1, -1) \n",
    "    / np.sum(counts)\n",
    ")"
   ]
  },
  {
   "cell_type": "code",
   "execution_count": 70,
   "id": "907025d1",
   "metadata": {},
   "outputs": [],
   "source": [
    "std_0 = ste_hac_sdw(phis_0, G_sub, bw=5)\n",
    "std_1 = ste_hac_sdw(phis_1, G_sub, bw=5)"
   ]
  },
  {
   "cell_type": "markdown",
   "id": "d5b9eb88",
   "metadata": {},
   "source": [
    "### * confidence intervals"
   ]
  },
  {
   "cell_type": "code",
   "execution_count": 71,
   "id": "3eed64cb",
   "metadata": {},
   "outputs": [
    {
     "data": {
      "text/plain": [
       "(0.3371512954230541, 0.36724598862533664)"
      ]
     },
     "execution_count": 71,
     "metadata": {},
     "output_type": "execute_result"
    }
   ],
   "source": [
    "(np.mean(YDRs_0) - 2 * std_0,\n",
    " np.mean(YDRs_0) + 2 * std_0)"
   ]
  },
  {
   "cell_type": "code",
   "execution_count": 72,
   "id": "a3397d2f",
   "metadata": {},
   "outputs": [
    {
     "data": {
      "text/plain": [
       "(0.34108643652655435, 0.37524701185943254)"
      ]
     },
     "execution_count": 72,
     "metadata": {},
     "output_type": "execute_result"
    }
   ],
   "source": [
    "(np.mean(YDRs_1) - 2 * std_1,\n",
    " np.mean(YDRs_1) + 2 * std_1)"
   ]
  },
  {
   "cell_type": "code",
   "execution_count": 73,
   "id": "097d5ed2",
   "metadata": {},
   "outputs": [
    {
     "name": "stderr",
     "output_type": "stream",
     "text": [
      "bst: 100%|███████████████████████████████████████████████████████| 100/100 [00:00<00:00, 714.85it/s]\n",
      "bst: 100%|███████████████████████████████████████████████████████| 100/100 [00:00<00:00, 709.70it/s]\n"
     ]
    }
   ],
   "source": [
    "bbb_0 = bbb_sdw(phis_0, G_sub, hops = 5, n_bst=100, tqdm=tqdm).flatten()\n",
    "bbb_1 = bbb_sdw(phis_1, G_sub, hops = 5, n_bst=100, tqdm=tqdm).flatten()"
   ]
  },
  {
   "cell_type": "code",
   "execution_count": 74,
   "id": "6381aefd",
   "metadata": {},
   "outputs": [
    {
     "data": {
      "text/plain": [
       "(array([ 3.41454187,  1.13818062, 14.7963481 , 19.34907059, 23.90179308,\n",
       "        31.86905744, 10.24362561,  5.69090311,  2.27636125,  1.13818062]),\n",
       " array([0.31287771, 0.32166366, 0.33044962, 0.33923557, 0.34802152,\n",
       "        0.35680747, 0.36559342, 0.37437937, 0.38316533, 0.39195128,\n",
       "        0.40073723]),\n",
       " <BarContainer object of 10 artists>)"
      ]
     },
     "execution_count": 74,
     "metadata": {},
     "output_type": "execute_result"
    },
    {
     "data": {
      "image/png": "[encoded data removed]",
      "text/plain": [
       "<Figure size 640x480 with 1 Axes>"
      ]
     },
     "metadata": {},
     "output_type": "display_data"
    }
   ],
   "source": [
    "plt.hist(bbb_0 + np.mean(YDRs_0), alpha=0.5, density=True)\n",
    "plt.hist(bbb_1 + np.mean(YDRs_1), alpha=0.5, density=True)"
   ]
  },
  {
   "cell_type": "code",
   "execution_count": 75,
   "id": "ffa48d3a",
   "metadata": {},
   "outputs": [],
   "source": [
    "std_d = ste_hac_sdw(phis_1 - phis_0, G_sub, bw=5)"
   ]
  },
  {
   "cell_type": "code",
   "execution_count": 76,
   "id": "ced17401",
   "metadata": {},
   "outputs": [
    {
     "name": "stderr",
     "output_type": "stream",
     "text": [
      "bst: 100%|███████████████████████████████████████████████████████| 100/100 [00:00<00:00, 732.74it/s]\n"
     ]
    }
   ],
   "source": [
    "bbb_d = bbb_sdw(phis_1 - phis_0, G_sub, 5, n_bst=100, tqdm=tqdm).flatten()"
   ]
  },
  {
   "cell_type": "code",
   "execution_count": 77,
   "id": "5371be84",
   "metadata": {
    "scrolled": false
   },
   "outputs": [
    {
     "data": {
      "text/plain": [
       "(array([ 1.,  3.,  4., 12., 19., 22., 21., 11.,  6.,  1.]),\n",
       " array([-0.00978626, -0.00738777, -0.00498928, -0.00259078, -0.00019229,\n",
       "         0.0022062 ,  0.00460469,  0.00700319,  0.00940168,  0.01180017,\n",
       "         0.01419867]),\n",
       " <BarContainer object of 10 artists>)"
      ]
     },
     "execution_count": 77,
     "metadata": {},
     "output_type": "execute_result"
    },
    {
     "data": {
      "image/png": "[encoded data removed]",
      "text/plain": [
       "<Figure size 640x480 with 1 Axes>"
      ]
     },
     "metadata": {},
     "output_type": "display_data"
    }
   ],
   "source": [
    "plt.hist(bbb_d + np.mean(YDRs_1) - np.mean(YDRs_0))"
   ]
  },
  {
   "cell_type": "code",
   "execution_count": 78,
   "id": "f3909958",
   "metadata": {},
   "outputs": [
    {
     "data": {
      "text/plain": [
       "0.15999999999999992"
      ]
     },
     "execution_count": 78,
     "metadata": {},
     "output_type": "execute_result"
    }
   ],
   "source": [
    "2 * (1 - np.mean(bbb_d - np.mean(bbb_d) + np.mean(YDRs_1) - np.mean(YDRs_0) > 0))"
   ]
  },
  {
   "cell_type": "code",
   "execution_count": 79,
   "id": "cd459014",
   "metadata": {},
   "outputs": [
    {
     "data": {
      "text/plain": [
       "array([-0.00283558,  0.01350753])"
      ]
     },
     "execution_count": 79,
     "metadata": {},
     "output_type": "execute_result"
    }
   ],
   "source": [
    "np.quantile(bbb_d - np.mean(bbb_d) + np.mean(YDRs_1) - np.mean(YDRs_0), (0.025, 0.975))"
   ]
  },
  {
   "cell_type": "code",
   "execution_count": 80,
   "id": "b9ad5c41",
   "metadata": {},
   "outputs": [
    {
     "data": {
      "text/plain": [
       "(-0.004224990072654384, 0.01616115441025053)"
      ]
     },
     "execution_count": 80,
     "metadata": {},
     "output_type": "execute_result"
    }
   ],
   "source": [
    "(np.mean(YDRs_1) - np.mean(YDRs_0) - 2 * np.sqrt(np.mean(bbb_d**2)),\n",
    " np.mean(YDRs_1) - np.mean(YDRs_0) + 2 * np.sqrt(np.mean(bbb_d**2)))"
   ]
  },
  {
   "cell_type": "code",
   "execution_count": 129,
   "id": "c476b82d",
   "metadata": {},
   "outputs": [
    {
     "data": {
      "text/plain": [
       "(-0.002118446402884465, 0.005968082168798072, 0.01405461074048061)"
      ]
     },
     "execution_count": 129,
     "metadata": {},
     "output_type": "execute_result"
    }
   ],
   "source": [
    "(np.mean(YDRs_1) - np.mean(YDRs_0) - 2 * std_d, np.mean(YDRs_1) - np.mean(YDRs_0),\n",
    " np.mean(YDRs_1) - np.mean(YDRs_0) + 2 * std_d)"
   ]
  },
  {
   "cell_type": "markdown",
   "id": "cbdbd8c4",
   "metadata": {},
   "source": [
    "## - results on SpE$(t)$"
   ]
  },
  {
   "cell_type": "code",
   "execution_count": 82,
   "id": "2c774d18",
   "metadata": {},
   "outputs": [],
   "source": [
    "phis_0d = np.sum((phis[:,0,1,:] - phis[:,0,0,:]) * counts, -1) / np.sum(counts)\n",
    "phis_1d = np.sum((phis[:,1,1,:] - phis[:,1,0,:]) * counts, -1) / np.sum(counts)"
   ]
  },
  {
   "cell_type": "code",
   "execution_count": 83,
   "id": "3aec969f",
   "metadata": {},
   "outputs": [],
   "source": [
    "std_0d = ste_hac_sdw(phis_0d, G_sub, bw=5)\n",
    "std_1d = ste_hac_sdw(phis_1d, G_sub, bw=5)"
   ]
  },
  {
   "cell_type": "markdown",
   "id": "b5c6daed",
   "metadata": {},
   "source": [
    "### * confidence intervals"
   ]
  },
  {
   "cell_type": "code",
   "execution_count": 87,
   "id": "975f3643",
   "metadata": {},
   "outputs": [
    {
     "data": {
      "text/plain": [
       "(-0.012309858297959924, -0.0036702913088863766, 0.004969275680187172)"
      ]
     },
     "execution_count": 87,
     "metadata": {},
     "output_type": "execute_result"
    }
   ],
   "source": [
    "(np.mean(YDRs_0d) - 2 * std_0d, np.mean(YDRs_0d),\n",
    " np.mean(YDRs_0d) + 2 * std_0d)"
   ]
  },
  {
   "cell_type": "code",
   "execution_count": 89,
   "id": "8fcf4990",
   "metadata": {},
   "outputs": [
    {
     "data": {
      "text/plain": [
       "(0.02958933068434316, 0.046164238574986964, 0.06273914646563077)"
      ]
     },
     "execution_count": 89,
     "metadata": {},
     "output_type": "execute_result"
    }
   ],
   "source": [
    "(np.mean(YDRs_1d) - 2 * std_1d, np.mean(YDRs_1d),\n",
    " np.mean(YDRs_1d) + 2 * std_1d)"
   ]
  },
  {
   "cell_type": "markdown",
   "id": "e9bd3305",
   "metadata": {},
   "source": [
    "### * by degree $d$"
   ]
  },
  {
   "cell_type": "code",
   "execution_count": 94,
   "id": "91e01bd7",
   "metadata": {},
   "outputs": [],
   "source": [
    "phis_0d_by_d = phis[:,0,1] - phis[:,0,0]\n",
    "phis_1d_by_d = phis[:,1,1] - phis[:,1,0]"
   ]
  },
  {
   "cell_type": "code",
   "execution_count": 95,
   "id": "289d0445",
   "metadata": {},
   "outputs": [],
   "source": [
    "std_0d_by_d = ste_hac_sdw(phis_0d_by_d, G_sub, bw=5)\n",
    "std_1d_by_d = ste_hac_sdw(phis_1d_by_d, G_sub, bw=5)"
   ]
  },
  {
   "cell_type": "markdown",
   "id": "eb842a22",
   "metadata": {},
   "source": [
    "#### confidence intervals"
   ]
  },
  {
   "cell_type": "code",
   "execution_count": 99,
   "id": "035170cf",
   "metadata": {},
   "outputs": [
    {
     "data": {
      "text/plain": [
       "array([[ 0.        ,  0.        ],\n",
       "       [-0.02550172,  0.01778461],\n",
       "       [-0.0022803 ,  0.03228015],\n",
       "       [-0.00751647,  0.02081457],\n",
       "       [-0.01932444,  0.00582879],\n",
       "       [-0.0166706 ,  0.00552079],\n",
       "       [-0.01683732,  0.00323693],\n",
       "       [-0.01548925,  0.00277761],\n",
       "       [-0.01386853,  0.0031298 ],\n",
       "       [-0.01367528,  0.00290913],\n",
       "       [-0.0159218 ,  0.00123466],\n",
       "       [-0.01640522,  0.00042375],\n",
       "       [-0.01642478,  0.00074911],\n",
       "       [-0.0166024 ,  0.00145436],\n",
       "       [-0.01820422,  0.00266828],\n",
       "       [-0.0173719 ,  0.0038644 ],\n",
       "       [-0.01692685,  0.00544153],\n",
       "       [-0.01795678,  0.00690101],\n",
       "       [-0.01758276,  0.00669296],\n",
       "       [-0.017099  ,  0.00681482],\n",
       "       [-0.01636982,  0.00738983]])"
      ]
     },
     "execution_count": 99,
     "metadata": {},
     "output_type": "execute_result"
    }
   ],
   "source": [
    "df_boxplot.groupby('d').mean()['YDR_0d'].values[:21, None] + (-2, 2) * std_0d_by_d[:,None]"
   ]
  },
  {
   "cell_type": "code",
   "execution_count": 100,
   "id": "956a2bc8",
   "metadata": {},
   "outputs": [
    {
     "data": {
      "text/plain": [
       "array([[0.        , 0.        ],\n",
       "       [0.03653275, 0.09641859],\n",
       "       [0.04542194, 0.14323584],\n",
       "       [0.04869841, 0.09875601],\n",
       "       [0.02289109, 0.07583624],\n",
       "       [0.00469999, 0.05112419],\n",
       "       [0.01153783, 0.05091786],\n",
       "       [0.01950062, 0.05753327],\n",
       "       [0.01861813, 0.05747039],\n",
       "       [0.01738454, 0.05966921],\n",
       "       [0.02230561, 0.06215802],\n",
       "       [0.02436876, 0.06349784],\n",
       "       [0.02507255, 0.06541796],\n",
       "       [0.02163839, 0.0654742 ],\n",
       "       [0.01822509, 0.06996911],\n",
       "       [0.01167658, 0.07514013],\n",
       "       [0.0113217 , 0.07238092],\n",
       "       [0.00934921, 0.0700063 ],\n",
       "       [0.00631009, 0.06791803],\n",
       "       [0.0059504 , 0.06728144],\n",
       "       [0.00502815, 0.0671554 ]])"
      ]
     },
     "execution_count": 100,
     "metadata": {},
     "output_type": "execute_result"
    }
   ],
   "source": [
    "df_boxplot.groupby('d').mean()['YDR_1d'].values[:21, None] + (-2, 2) * std_1d_by_d[:,None]"
   ]
  },
  {
   "cell_type": "markdown",
   "id": "d3ae2404",
   "metadata": {},
   "source": [
    "### * by degree groups"
   ]
  },
  {
   "cell_type": "code",
   "execution_count": 104,
   "id": "be7558ad",
   "metadata": {},
   "outputs": [],
   "source": [
    "counts_by_d4 = np.zeros((21, num_group))"
   ]
  },
  {
   "cell_type": "code",
   "execution_count": 105,
   "id": "47890ebd",
   "metadata": {
    "scrolled": true
   },
   "outputs": [],
   "source": [
    "unique_vectors, counts = np.unique(np.stack([degree[degree < 21], d4], -1), axis=0, return_counts=True)"
   ]
  },
  {
   "cell_type": "code",
   "execution_count": 106,
   "id": "e50660c8",
   "metadata": {},
   "outputs": [],
   "source": [
    "counts_by_d4[*unique_vectors.T] = counts"
   ]
  },
  {
   "cell_type": "code",
   "execution_count": 107,
   "id": "68a1d823",
   "metadata": {},
   "outputs": [
    {
     "data": {
      "text/plain": [
       "array([[  72.,    0.,    0.,    0.],\n",
       "       [   0.,  295.,    0.,    0.],\n",
       "       [   0.,  576.,    0.,    0.],\n",
       "       [   0.,  940.,    0.,    0.],\n",
       "       [   0., 1021.,    0.,    0.],\n",
       "       [   0.,    0., 1114.,    0.],\n",
       "       [   0.,    0.,  961.,    0.],\n",
       "       [   0.,    0.,  932.,    0.],\n",
       "       [   0.,    0.,  786.,    0.],\n",
       "       [   0.,    0.,    0.,  624.],\n",
       "       [   0.,    0.,    0.,  523.],\n",
       "       [   0.,    0.,    0.,  401.],\n",
       "       [   0.,    0.,    0.,  297.],\n",
       "       [   0.,    0.,    0.,  248.],\n",
       "       [   0.,    0.,    0.,  186.],\n",
       "       [   0.,    0.,    0.,  112.],\n",
       "       [   0.,    0.,    0.,  105.],\n",
       "       [   0.,    0.,    0.,   64.],\n",
       "       [   0.,    0.,    0.,   57.],\n",
       "       [   0.,    0.,    0.,   35.],\n",
       "       [   0.,    0.,    0.,   34.]])"
      ]
     },
     "execution_count": 107,
     "metadata": {},
     "output_type": "execute_result"
    }
   ],
   "source": [
    "counts_by_d4"
   ]
  },
  {
   "cell_type": "code",
   "execution_count": 108,
   "id": "5c29621d",
   "metadata": {},
   "outputs": [
    {
     "data": {
      "text/plain": [
       "array([  72., 2832., 3793., 2686.])"
      ]
     },
     "execution_count": 108,
     "metadata": {},
     "output_type": "execute_result"
    }
   ],
   "source": [
    "np.sum(counts_by_d4, 0)"
   ]
  },
  {
   "cell_type": "code",
   "execution_count": 109,
   "id": "61b8a56d",
   "metadata": {},
   "outputs": [],
   "source": [
    "phis_by_d4 = phis @ counts_by_d4 / np.sum(counts_by_d4, 0)"
   ]
  },
  {
   "cell_type": "code",
   "execution_count": 111,
   "id": "8e7e8231",
   "metadata": {},
   "outputs": [],
   "source": [
    "phis_0d_by_d4 = phis_by_d4[:,0,1] - phis_by_d4[:,0,0]\n",
    "phis_1d_by_d4 = phis_by_d4[:,1,1] - phis_by_d4[:,1,0]"
   ]
  },
  {
   "cell_type": "code",
   "execution_count": 112,
   "id": "cf01d8dd",
   "metadata": {},
   "outputs": [],
   "source": [
    "std_0d_by_d4 = ste_hac_sdw(phis_0d_by_d4, G_sub, bw=5)\n",
    "std_1d_by_d4 = ste_hac_sdw(phis_1d_by_d4, G_sub, bw=5)"
   ]
  },
  {
   "cell_type": "markdown",
   "id": "57558743",
   "metadata": {},
   "source": [
    "#### confidence intervals"
   ]
  },
  {
   "cell_type": "code",
   "execution_count": 114,
   "id": "01db1611",
   "metadata": {},
   "outputs": [
    {
     "data": {
      "text/plain": [
       "array([[ 0.        ,  0.        ],\n",
       "       [-0.01011035,  0.01495657],\n",
       "       [-0.01542616,  0.00335689],\n",
       "       [-0.0151961 ,  0.00148708]])"
      ]
     },
     "execution_count": 114,
     "metadata": {},
     "output_type": "execute_result"
    }
   ],
   "source": [
    "(\n",
    "    df_boxplot.groupby('d4').mean()['YDR_0d'].values[:,None] \n",
    "    + (-2, 2) * std_0d_by_d4[:,None]\n",
    ")"
   ]
  },
  {
   "cell_type": "code",
   "execution_count": 115,
   "id": "a5399ece",
   "metadata": {},
   "outputs": [
    {
     "data": {
      "text/plain": [
       "array([[0.        , 0.        ],\n",
       "       [0.04518381, 0.091573  ],\n",
       "       [0.01387704, 0.05303812],\n",
       "       [0.02157858, 0.06226863]])"
      ]
     },
     "execution_count": 115,
     "metadata": {},
     "output_type": "execute_result"
    }
   ],
   "source": [
    "(\n",
    "    df_boxplot.groupby('d4').mean()['YDR_1d'].values[:,None] \n",
    "    + (-2, 2) * std_1d_by_d4[:,None]\n",
    ")"
   ]
  },
  {
   "cell_type": "markdown",
   "id": "eaef9f5e",
   "metadata": {},
   "source": [
    "#### p-values"
   ]
  },
  {
   "cell_type": "code",
   "execution_count": 122,
   "id": "0f59c8c5",
   "metadata": {},
   "outputs": [],
   "source": [
    "std_1d_by_d4_4x4 = ste_hac_sdw(\n",
    "    phis_1d_by_d4[...,:,None] - phis_1d_by_d4[...,None,:],\n",
    "    G_sub, bw=5\n",
    ")"
   ]
  },
  {
   "cell_type": "code",
   "execution_count": 123,
   "id": "9807e277",
   "metadata": {},
   "outputs": [],
   "source": [
    "import scipy as sp"
   ]
  },
  {
   "cell_type": "code",
   "execution_count": 124,
   "id": "d50fc1ca",
   "metadata": {},
   "outputs": [
    {
     "name": "stderr",
     "output_type": "stream",
     "text": [
      "/tmp/ipykernel_297273/4203635088.py:2: RuntimeWarning: invalid value encountered in divide\n",
      "  np.abs(\n"
     ]
    }
   ],
   "source": [
    "pvals = 1 - sp.stats.norm().cdf(\n",
    "    np.abs(\n",
    "        df_boxplot.groupby('d4').mean()['YDR_1d'].values[:,None]\n",
    "        - df_boxplot.groupby('d4').mean()['YDR_1d'].values[None,:]\n",
    "    ) / std_1d_by_d4_4x4\n",
    ")"
   ]
  },
  {
   "cell_type": "code",
   "execution_count": 125,
   "id": "333b213f",
   "metadata": {},
   "outputs": [
    {
     "data": {
      "text/plain": [
       "array([[           nan, 1.86137683e-09, 3.16075110e-04, 1.88400587e-05],\n",
       "       [1.86137683e-09,            nan, 1.43406430e-03, 2.57761142e-02],\n",
       "       [3.16075110e-04, 1.43406430e-03,            nan, 1.33901525e-01],\n",
       "       [1.88400587e-05, 2.57761142e-02, 1.33901525e-01,            nan]])"
      ]
     },
     "execution_count": 125,
     "metadata": {},
     "output_type": "execute_result"
    }
   ],
   "source": [
    "pvals"
   ]
  },
  {
   "cell_type": "code",
   "execution_count": null,
   "id": "ef720f50",
   "metadata": {},
   "outputs": [],
   "source": []
  }
 ],
 "metadata": {
  "kernelspec": {
   "display_name": "Python [conda env:.conda-causalnet]",
   "language": "python",
   "name": "conda-env-.conda-causalnet-py"
  },
  "language_info": {
   "codemirror_mode": {
    "name": "ipython",
    "version": 3
   },
   "file_extension": ".py",
   "mimetype": "text/x-python",
   "name": "python",
   "nbconvert_exporter": "python",
   "pygments_lexer": "ipython3",
   "version": "3.12.1"
  }
 },
 "nbformat": 4,
 "nbformat_minor": 5
}
