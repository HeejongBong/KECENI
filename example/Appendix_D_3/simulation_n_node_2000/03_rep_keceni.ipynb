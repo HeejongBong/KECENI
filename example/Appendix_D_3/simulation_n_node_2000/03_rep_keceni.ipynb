{
 "cells": [
  {
   "cell_type": "code",
   "execution_count": 1,
   "id": "9d052f0d",
   "metadata": {},
   "outputs": [],
   "source": [
    "import os, importlib, sys, time"
   ]
  },
  {
   "cell_type": "code",
   "execution_count": 2,
   "id": "e58de892",
   "metadata": {},
   "outputs": [],
   "source": [
    "import numpy as np\n",
    "import scipy.sparse as sparse\n",
    "import scipy.stats as stats\n",
    "import matplotlib.pyplot as plt\n",
    "import pandas as pd\n",
    "import pyarrow\n",
    "from tqdm import tqdm"
   ]
  },
  {
   "cell_type": "code",
   "execution_count": 3,
   "id": "e11b1ce0",
   "metadata": {},
   "outputs": [],
   "source": [
    "import KECENI"
   ]
  },
  {
   "cell_type": "markdown",
   "id": "58f3022c",
   "metadata": {},
   "source": [
    "# load data"
   ]
  },
  {
   "cell_type": "code",
   "execution_count": 4,
   "id": "71284906",
   "metadata": {},
   "outputs": [],
   "source": [
    "data_dir = 'data'\n",
    "save_dir = 'result'"
   ]
  },
  {
   "cell_type": "code",
   "execution_count": 5,
   "id": "8b5683ed",
   "metadata": {},
   "outputs": [],
   "source": [
    "data_network = pd.read_feather('%s/network.feather'%(data_dir))\n",
    "data_latent = pd.read_feather('%s/latent.feather'%data_dir)"
   ]
  },
  {
   "cell_type": "code",
   "execution_count": 6,
   "id": "b4a91148",
   "metadata": {},
   "outputs": [
    {
     "data": {
      "text/html": [
       "<div>\n",
       "<style scoped>\n",
       "    .dataframe tbody tr th:only-of-type {\n",
       "        vertical-align: middle;\n",
       "    }\n",
       "\n",
       "    .dataframe tbody tr th {\n",
       "        vertical-align: top;\n",
       "    }\n",
       "\n",
       "    .dataframe thead th {\n",
       "        text-align: right;\n",
       "    }\n",
       "</style>\n",
       "<table border=\"1\" class=\"dataframe\">\n",
       "  <thead>\n",
       "    <tr style=\"text-align: right;\">\n",
       "      <th></th>\n",
       "      <th>row</th>\n",
       "      <th>col</th>\n",
       "    </tr>\n",
       "  </thead>\n",
       "  <tbody>\n",
       "    <tr>\n",
       "      <th>0</th>\n",
       "      <td>1</td>\n",
       "      <td>5</td>\n",
       "    </tr>\n",
       "    <tr>\n",
       "      <th>1</th>\n",
       "      <td>1</td>\n",
       "      <td>17</td>\n",
       "    </tr>\n",
       "    <tr>\n",
       "      <th>2</th>\n",
       "      <td>2</td>\n",
       "      <td>3</td>\n",
       "    </tr>\n",
       "    <tr>\n",
       "      <th>3</th>\n",
       "      <td>2</td>\n",
       "      <td>9</td>\n",
       "    </tr>\n",
       "    <tr>\n",
       "      <th>4</th>\n",
       "      <td>3</td>\n",
       "      <td>2</td>\n",
       "    </tr>\n",
       "    <tr>\n",
       "      <th>...</th>\n",
       "      <td>...</td>\n",
       "      <td>...</td>\n",
       "    </tr>\n",
       "    <tr>\n",
       "      <th>7505</th>\n",
       "      <td>1999</td>\n",
       "      <td>1684</td>\n",
       "    </tr>\n",
       "    <tr>\n",
       "      <th>7506</th>\n",
       "      <td>1999</td>\n",
       "      <td>1787</td>\n",
       "    </tr>\n",
       "    <tr>\n",
       "      <th>7507</th>\n",
       "      <td>1999</td>\n",
       "      <td>1995</td>\n",
       "    </tr>\n",
       "    <tr>\n",
       "      <th>7508</th>\n",
       "      <td>2000</td>\n",
       "      <td>1895</td>\n",
       "    </tr>\n",
       "    <tr>\n",
       "      <th>7509</th>\n",
       "      <td>2000</td>\n",
       "      <td>1918</td>\n",
       "    </tr>\n",
       "  </tbody>\n",
       "</table>\n",
       "<p>7510 rows × 2 columns</p>\n",
       "</div>"
      ],
      "text/plain": [
       "       row   col\n",
       "0        1     5\n",
       "1        1    17\n",
       "2        2     3\n",
       "3        2     9\n",
       "4        3     2\n",
       "...    ...   ...\n",
       "7505  1999  1684\n",
       "7506  1999  1787\n",
       "7507  1999  1995\n",
       "7508  2000  1895\n",
       "7509  2000  1918\n",
       "\n",
       "[7510 rows x 2 columns]"
      ]
     },
     "execution_count": 6,
     "metadata": {},
     "output_type": "execute_result"
    }
   ],
   "source": [
    "data_network"
   ]
  },
  {
   "cell_type": "code",
   "execution_count": 7,
   "id": "e2ca2ac6",
   "metadata": {},
   "outputs": [
    {
     "data": {
      "text/plain": [
       "2000"
      ]
     },
     "execution_count": 7,
     "metadata": {},
     "output_type": "execute_result"
    }
   ],
   "source": [
    "n_node = len(data_latent); n_node"
   ]
  },
  {
   "cell_type": "code",
   "execution_count": 8,
   "id": "8a38e5ec",
   "metadata": {},
   "outputs": [],
   "source": [
    "Adj = sparse.csr_matrix((\n",
    "    np.full(len(data_network), True), \n",
    "    (np.array(data_network.row)-1, np.array(data_network.col)-1)\n",
    "), shape=(n_node,n_node)).toarray()"
   ]
  },
  {
   "cell_type": "code",
   "execution_count": 9,
   "id": "bdb61df9",
   "metadata": {},
   "outputs": [],
   "source": [
    "G = KECENI.Graph(Adj)"
   ]
  },
  {
   "cell_type": "markdown",
   "id": "994cb322",
   "metadata": {},
   "source": [
    "# hyperparameters"
   ]
  },
  {
   "cell_type": "code",
   "execution_count": 10,
   "id": "4e51dddc",
   "metadata": {},
   "outputs": [],
   "source": [
    "from hyperparams import delta"
   ]
  },
  {
   "cell_type": "markdown",
   "id": "fb738b05",
   "metadata": {},
   "source": [
    "# counterfactual of interest"
   ]
  },
  {
   "cell_type": "code",
   "execution_count": 11,
   "id": "fb8471e5",
   "metadata": {},
   "outputs": [],
   "source": [
    "i0 = 0"
   ]
  },
  {
   "cell_type": "code",
   "execution_count": 12,
   "id": "b48f1b65",
   "metadata": {},
   "outputs": [],
   "source": [
    "T0s_0 = np.full(n_node, 0)\n",
    "T0s_1 = np.full(n_node, 1)"
   ]
  },
  {
   "cell_type": "code",
   "execution_count": 13,
   "id": "4ede6ccc",
   "metadata": {},
   "outputs": [
    {
     "data": {
      "text/plain": [
       "(array([0, 0, 0]), array([1, 1, 1]))"
      ]
     },
     "execution_count": 13,
     "metadata": {},
     "output_type": "execute_result"
    }
   ],
   "source": [
    "T0s_0[G.N1(i0)], T0s_1[G.N1(i0)]"
   ]
  },
  {
   "cell_type": "code",
   "execution_count": 14,
   "id": "1d923174",
   "metadata": {},
   "outputs": [],
   "source": [
    "i0s = np.array([i0])\n",
    "T0s = np.array([T0s_0, T0s_1])"
   ]
  },
  {
   "cell_type": "markdown",
   "id": "ca6f439b",
   "metadata": {},
   "source": [
    "# groundtruth"
   ]
  },
  {
   "cell_type": "code",
   "execution_count": 15,
   "id": "a98f465c",
   "metadata": {},
   "outputs": [],
   "source": [
    "YTR_0, YTR_1 = (-2, 2)\n",
    "YTR_d = YTR_1 - YTR_0"
   ]
  },
  {
   "cell_type": "code",
   "execution_count": 16,
   "id": "05c088c9",
   "metadata": {},
   "outputs": [
    {
     "data": {
      "text/plain": [
       "(-2, 2, 4)"
      ]
     },
     "execution_count": 16,
     "metadata": {},
     "output_type": "execute_result"
    }
   ],
   "source": [
    "YTR_0, YTR_1, YTR_d"
   ]
  },
  {
   "cell_type": "markdown",
   "id": "d273e793",
   "metadata": {},
   "source": [
    "# estimation"
   ]
  },
  {
   "cell_type": "code",
   "execution_count": 17,
   "id": "0cee9b29",
   "metadata": {},
   "outputs": [],
   "source": [
    "n_sim = 80"
   ]
  },
  {
   "cell_type": "markdown",
   "id": "3ef55a34",
   "metadata": {},
   "source": [
    "## - load simulation"
   ]
  },
  {
   "cell_type": "code",
   "execution_count": 18,
   "id": "0ffc9bab",
   "metadata": {},
   "outputs": [],
   "source": [
    "lamdas = np.linspace(0, 20, 21)[1:]\n",
    "hops = np.array([5,6,7,8])"
   ]
  },
  {
   "cell_type": "code",
   "execution_count": 19,
   "id": "d36da5ad",
   "metadata": {},
   "outputs": [],
   "source": [
    "ids_cv = np.zeros(n_sim, dtype=int)"
   ]
  },
  {
   "cell_type": "code",
   "execution_count": 20,
   "id": "023f5216",
   "metadata": {},
   "outputs": [],
   "source": [
    "YGs_0 = np.zeros(n_sim); YGs_1 = np.zeros(n_sim); YGs_d = np.zeros(n_sim)\n",
    "YDRs_0 = np.zeros(n_sim); YDRs_1 = np.zeros(n_sim); YDRs_d = np.zeros(n_sim)"
   ]
  },
  {
   "cell_type": "code",
   "execution_count": 23,
   "id": "cdfae801",
   "metadata": {},
   "outputs": [],
   "source": [
    "for i_sim in np.arange(n_sim):\n",
    "    locals().update(np.load('%s/result_%.3d.npz'%(save_dir,i_sim)))\n",
    "    YGs_0[i_sim] = YG_0; YGs_1[i_sim] = YG_1; YGs_d[i_sim] = YG_d\n",
    "    YDRs_0[i_sim] = YDR_0[id_cv]; YDRs_1[i_sim] = YDR_1[id_cv]; YDRs_d[i_sim] = YDR_d[id_cv]"
   ]
  },
  {
   "cell_type": "markdown",
   "id": "d555151e",
   "metadata": {},
   "source": [
    "## - G estimate"
   ]
  },
  {
   "cell_type": "code",
   "execution_count": 24,
   "id": "91e92397",
   "metadata": {},
   "outputs": [
    {
     "data": {
      "text/plain": [
       "<matplotlib.legend.Legend at 0x1522707735c0>"
      ]
     },
     "execution_count": 24,
     "metadata": {},
     "output_type": "execute_result"
    },
    {
     "data": {
      "image/png": "[encoded data removed]",
      "text/plain": [
       "<Figure size 400x300 with 1 Axes>"
      ]
     },
     "metadata": {},
     "output_type": "display_data"
    }
   ],
   "source": [
    "fig = plt.figure(figsize=(4,3))\n",
    "plt.hist(YGs_1, density=True, bins=np.arange(-4,4,0.2), \n",
    "         facecolor='white', edgecolor='blue', hatch=\"///\", \n",
    "         label=r'$\\theta_{i^*}(\\mathbf{1})$')\n",
    "plt.axvline(YTR_1, color='blue')\n",
    "plt.hist(YGs_0, density=True, bins=np.arange(-4,4,0.2), \n",
    "         facecolor='white', edgecolor='red', hatch=\"--\",\n",
    "         label=r'$\\theta_{i^*}(\\mathbf{0})$')\n",
    "plt.axvline(YTR_0, color='red')\n",
    "plt.xlabel('Estimated values'); plt.ylabel('Density'); plt.legend()"
   ]
  },
  {
   "cell_type": "code",
   "execution_count": 25,
   "id": "884a19d5",
   "metadata": {},
   "outputs": [
    {
     "data": {
      "text/plain": [
       "<matplotlib.legend.Legend at 0x15225baf9700>"
      ]
     },
     "execution_count": 25,
     "metadata": {},
     "output_type": "execute_result"
    },
    {
     "data": {
      "image/png": "[encoded data removed]",
      "text/plain": [
       "<Figure size 400x300 with 1 Axes>"
      ]
     },
     "metadata": {},
     "output_type": "display_data"
    }
   ],
   "source": [
    "fig = plt.figure(figsize=(4,3))\n",
    "plt.hist(YGs_d, color='black', alpha=0.5, density=True, bins=np.arange(-2,6,0.2),\n",
    "         label=r'$\\theta_{i^*}(\\mathbf{1}) - \\theta_{i^*}(\\mathbf{0})$')\n",
    "plt.axvline(YTR_d, color='black')\n",
    "plt.xlabel('Estimated values'); plt.ylabel('Density'); plt.legend()"
   ]
  },
  {
   "cell_type": "code",
   "execution_count": 26,
   "id": "451876b2",
   "metadata": {},
   "outputs": [
    {
     "data": {
      "text/plain": [
       "0.1656466679198204"
      ]
     },
     "execution_count": 26,
     "metadata": {},
     "output_type": "execute_result"
    }
   ],
   "source": [
    "np.sqrt(np.mean((YGs_d - YTR_d)**2, 0))"
   ]
  },
  {
   "cell_type": "markdown",
   "id": "804b3495",
   "metadata": {},
   "source": [
    "## - KECENI"
   ]
  },
  {
   "cell_type": "code",
   "execution_count": 27,
   "id": "ed107ac0",
   "metadata": {},
   "outputs": [
    {
     "data": {
      "text/plain": [
       "<matplotlib.legend.Legend at 0x15227076a1e0>"
      ]
     },
     "execution_count": 27,
     "metadata": {},
     "output_type": "execute_result"
    },
    {
     "data": {
      "image/png": "[encoded data removed]",
      "text/plain": [
       "<Figure size 400x300 with 1 Axes>"
      ]
     },
     "metadata": {},
     "output_type": "display_data"
    }
   ],
   "source": [
    "fig = plt.figure(figsize=(4,3))\n",
    "plt.hist(YDRs_1, density=True, bins=np.arange(-4,4,0.2), \n",
    "         facecolor='white', edgecolor='blue', hatch=\"///\", \n",
    "         label=r'$\\theta_{i^*}(\\mathbf{1})$')\n",
    "plt.axvline(YTR_1, color='blue')\n",
    "plt.hist(YDRs_0, density=True, bins=np.arange(-4,4,0.2), \n",
    "         facecolor='white', edgecolor='red', hatch=\"--\",\n",
    "         label=r'$\\theta_{i^*}(\\mathbf{0})$')\n",
    "plt.axvline(YTR_0, color='red')\n",
    "plt.xlabel('Estimated values'); plt.ylabel('Density'); plt.legend()"
   ]
  },
  {
   "cell_type": "code",
   "execution_count": 28,
   "id": "79a6324f",
   "metadata": {},
   "outputs": [
    {
     "data": {
      "text/plain": [
       "<matplotlib.legend.Legend at 0x1522593faf30>"
      ]
     },
     "execution_count": 28,
     "metadata": {},
     "output_type": "execute_result"
    },
    {
     "data": {
      "image/png": "[encoded data removed]",
      "text/plain": [
       "<Figure size 400x300 with 1 Axes>"
      ]
     },
     "metadata": {},
     "output_type": "display_data"
    }
   ],
   "source": [
    "fig = plt.figure(figsize=(4,3))\n",
    "plt.hist(YDRs_d, color='black', alpha=0.5, \n",
    "         density=True, bins=np.arange(-2,6,0.2), \n",
    "         label=r'$\\theta_{i^*}(\\mathbf{1}) - \\theta_{i^*}(\\mathbf{0})$')\n",
    "plt.axvline(YTR_d, color='black')\n",
    "plt.xlabel('Estimated values'); plt.ylabel('Density'); plt.legend()"
   ]
  },
  {
   "cell_type": "code",
   "execution_count": null,
   "id": "48136646",
   "metadata": {},
   "outputs": [
    {
     "data": {
      "text/plain": [
       "0.18110776515245555"
      ]
     },
     "execution_count": 32,
     "metadata": {},
     "output_type": "execute_result"
    }
   ],
   "source": [
    "np.sqrt(np.mean((YDRs_d - YTR_d)**2, 0))"
   ]
  },
  {
   "cell_type": "code",
   "execution_count": 30,
   "id": "4bcff96f",
   "metadata": {},
   "outputs": [
    {
     "data": {
      "image/png": "[encoded data removed]",
      "text/plain": [
       "<Figure size 400x300 with 1 Axes>"
      ]
     },
     "metadata": {},
     "output_type": "display_data"
    }
   ],
   "source": [
    "fig = plt.figure(figsize=(4,3)); ax=plt.gca()\n",
    "stats.probplot(YDRs_1, dist=\"norm\", plot=ax)\n",
    "stats.probplot(YDRs_0, dist=\"norm\", plot=ax)\n",
    "\n",
    "ax.get_lines()[0].set_markerfacecolor('blue')\n",
    "ax.get_lines()[0].set_marker('o')\n",
    "ax.get_lines()[0].set(alpha=0.5)\n",
    "ax.get_lines()[0].set_markeredgecolor('none')\n",
    "ax.get_lines()[1].set(color='blue')\n",
    "ax.get_lines()[2].set_markerfacecolor('red')\n",
    "ax.get_lines()[2].set_marker('^')\n",
    "ax.get_lines()[2].set(alpha=0.5)\n",
    "ax.get_lines()[2].set_markeredgecolor('none')\n",
    "ax.get_lines()[3].set(color='red')\n",
    "\n",
    "ax.legend([ax.get_lines()[0], ax.get_lines()[2]], \n",
    "          [r'$\\theta_{i^*}(\\mathbf{1})$', r'$\\theta_{i^*}(\\mathbf{0})$'])\n",
    "\n",
    "plt.xlabel('Theoretical quantiles'); plt.ylabel('Ordered values')\n",
    "plt.title(''); plt.show()"
   ]
  },
  {
   "cell_type": "code",
   "execution_count": 31,
   "id": "2849b8b7",
   "metadata": {},
   "outputs": [
    {
     "data": {
      "image/png": "[encoded data removed]",
      "text/plain": [
       "<Figure size 400x300 with 1 Axes>"
      ]
     },
     "metadata": {},
     "output_type": "display_data"
    }
   ],
   "source": [
    "fig = plt.figure(figsize=(4,3)); ax=plt.gca()\n",
    "\n",
    "stats.probplot(YDRs_d, dist=\"norm\", plot=plt)\n",
    "\n",
    "ax.get_lines()[0].set_markerfacecolor('black')\n",
    "ax.get_lines()[0].set(alpha=0.5)\n",
    "ax.get_lines()[0].set_markeredgecolor('none')\n",
    "ax.get_lines()[1].set(color='black')\n",
    "\n",
    "ax.legend([ax.get_lines()[0]], \n",
    "          [r'$\\theta_{i^*}(\\mathbf{1}) - \\theta_{i^*}(\\mathbf{0})$'])\n",
    "\n",
    "plt.xlabel('Theoretical quantiles'); plt.ylabel('Ordered values')\n",
    "plt.title(''); plt.show()"
   ]
  },
  {
   "cell_type": "code",
   "execution_count": null,
   "id": "4c389e92",
   "metadata": {},
   "outputs": [],
   "source": []
  }
 ],
 "metadata": {
  "kernelspec": {
   "display_name": "causalnet",
   "language": "python",
   "name": "python3"
  },
  "language_info": {
   "codemirror_mode": {
    "name": "ipython",
    "version": 3
   },
   "file_extension": ".py",
   "mimetype": "text/x-python",
   "name": "python",
   "nbconvert_exporter": "python",
   "pygments_lexer": "ipython3",
   "version": "3.12.1"
  }
 },
 "nbformat": 4,
 "nbformat_minor": 5
}
