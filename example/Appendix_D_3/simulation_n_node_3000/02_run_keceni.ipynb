{
 "cells": [
  {
   "cell_type": "code",
   "execution_count": 1,
   "id": "9b95530c",
   "metadata": {},
   "outputs": [],
   "source": [
    "import os, importlib, sys, time"
   ]
  },
  {
   "cell_type": "code",
   "execution_count": 2,
   "id": "2ada58b8",
   "metadata": {},
   "outputs": [],
   "source": [
    "import numpy as np\n",
    "import scipy.sparse as sparse\n",
    "import matplotlib.pyplot as plt\n",
    "import pandas as pd\n",
    "import pyarrow\n",
    "from tqdm import tqdm"
   ]
  },
  {
   "cell_type": "code",
   "execution_count": 3,
   "id": "0f675b34",
   "metadata": {},
   "outputs": [],
   "source": [
    "import KECENI"
   ]
  },
  {
   "cell_type": "markdown",
   "id": "94136e4e",
   "metadata": {},
   "source": [
    "# load data"
   ]
  },
  {
   "cell_type": "code",
   "execution_count": 4,
   "id": "c7460ecc",
   "metadata": {},
   "outputs": [],
   "source": [
    "data_dir = 'data'"
   ]
  },
  {
   "cell_type": "code",
   "execution_count": 5,
   "id": "d2ab4aac",
   "metadata": {},
   "outputs": [],
   "source": [
    "i_sim = 1"
   ]
  },
  {
   "cell_type": "code",
   "execution_count": 6,
   "id": "1261e353",
   "metadata": {},
   "outputs": [],
   "source": [
    "data_network = pd.read_feather('%s/network.feather'%(data_dir))\n",
    "data_latent = pd.read_feather('%s/latent.feather'%data_dir)\n",
    "data_feature = pd.read_feather('%s/feature_%.3d.feather'%(data_dir, i_sim))"
   ]
  },
  {
   "cell_type": "code",
   "execution_count": 7,
   "id": "48b2e205",
   "metadata": {},
   "outputs": [
    {
     "data": {
      "text/html": [
       "<div>\n",
       "<style scoped>\n",
       "    .dataframe tbody tr th:only-of-type {\n",
       "        vertical-align: middle;\n",
       "    }\n",
       "\n",
       "    .dataframe tbody tr th {\n",
       "        vertical-align: top;\n",
       "    }\n",
       "\n",
       "    .dataframe thead th {\n",
       "        text-align: right;\n",
       "    }\n",
       "</style>\n",
       "<table border=\"1\" class=\"dataframe\">\n",
       "  <thead>\n",
       "    <tr style=\"text-align: right;\">\n",
       "      <th></th>\n",
       "      <th>row</th>\n",
       "      <th>col</th>\n",
       "    </tr>\n",
       "  </thead>\n",
       "  <tbody>\n",
       "    <tr>\n",
       "      <th>0</th>\n",
       "      <td>1</td>\n",
       "      <td>5</td>\n",
       "    </tr>\n",
       "    <tr>\n",
       "      <th>1</th>\n",
       "      <td>1</td>\n",
       "      <td>17</td>\n",
       "    </tr>\n",
       "    <tr>\n",
       "      <th>2</th>\n",
       "      <td>2</td>\n",
       "      <td>3</td>\n",
       "    </tr>\n",
       "    <tr>\n",
       "      <th>3</th>\n",
       "      <td>2</td>\n",
       "      <td>9</td>\n",
       "    </tr>\n",
       "    <tr>\n",
       "      <th>4</th>\n",
       "      <td>3</td>\n",
       "      <td>2</td>\n",
       "    </tr>\n",
       "    <tr>\n",
       "      <th>...</th>\n",
       "      <td>...</td>\n",
       "      <td>...</td>\n",
       "    </tr>\n",
       "    <tr>\n",
       "      <th>11351</th>\n",
       "      <td>2999</td>\n",
       "      <td>2958</td>\n",
       "    </tr>\n",
       "    <tr>\n",
       "      <th>11352</th>\n",
       "      <td>3000</td>\n",
       "      <td>2638</td>\n",
       "    </tr>\n",
       "    <tr>\n",
       "      <th>11353</th>\n",
       "      <td>3000</td>\n",
       "      <td>2676</td>\n",
       "    </tr>\n",
       "    <tr>\n",
       "      <th>11354</th>\n",
       "      <td>3000</td>\n",
       "      <td>2795</td>\n",
       "    </tr>\n",
       "    <tr>\n",
       "      <th>11355</th>\n",
       "      <td>3000</td>\n",
       "      <td>2945</td>\n",
       "    </tr>\n",
       "  </tbody>\n",
       "</table>\n",
       "<p>11356 rows × 2 columns</p>\n",
       "</div>"
      ],
      "text/plain": [
       "        row   col\n",
       "0         1     5\n",
       "1         1    17\n",
       "2         2     3\n",
       "3         2     9\n",
       "4         3     2\n",
       "...     ...   ...\n",
       "11351  2999  2958\n",
       "11352  3000  2638\n",
       "11353  3000  2676\n",
       "11354  3000  2795\n",
       "11355  3000  2945\n",
       "\n",
       "[11356 rows x 2 columns]"
      ]
     },
     "execution_count": 7,
     "metadata": {},
     "output_type": "execute_result"
    }
   ],
   "source": [
    "data_network"
   ]
  },
  {
   "cell_type": "code",
   "execution_count": 8,
   "id": "a10428d1",
   "metadata": {},
   "outputs": [
    {
     "data": {
      "text/html": [
       "<div>\n",
       "<style scoped>\n",
       "    .dataframe tbody tr th:only-of-type {\n",
       "        vertical-align: middle;\n",
       "    }\n",
       "\n",
       "    .dataframe tbody tr th {\n",
       "        vertical-align: top;\n",
       "    }\n",
       "\n",
       "    .dataframe thead th {\n",
       "        text-align: right;\n",
       "    }\n",
       "</style>\n",
       "<table border=\"1\" class=\"dataframe\">\n",
       "  <thead>\n",
       "    <tr style=\"text-align: right;\">\n",
       "      <th></th>\n",
       "      <th>X1</th>\n",
       "      <th>X2</th>\n",
       "      <th>X3</th>\n",
       "      <th>p</th>\n",
       "      <th>T</th>\n",
       "      <th>m</th>\n",
       "      <th>Y</th>\n",
       "    </tr>\n",
       "  </thead>\n",
       "  <tbody>\n",
       "    <tr>\n",
       "      <th>0</th>\n",
       "      <td>1.626842</td>\n",
       "      <td>0.017119</td>\n",
       "      <td>0.588789</td>\n",
       "      <td>0.753316</td>\n",
       "      <td>0</td>\n",
       "      <td>-5.960519</td>\n",
       "      <td>-6.329558</td>\n",
       "    </tr>\n",
       "    <tr>\n",
       "      <th>1</th>\n",
       "      <td>1.883795</td>\n",
       "      <td>-1.196272</td>\n",
       "      <td>1.107278</td>\n",
       "      <td>0.710415</td>\n",
       "      <td>0</td>\n",
       "      <td>-5.412553</td>\n",
       "      <td>-4.417503</td>\n",
       "    </tr>\n",
       "    <tr>\n",
       "      <th>2</th>\n",
       "      <td>0.431234</td>\n",
       "      <td>-0.892646</td>\n",
       "      <td>1.167044</td>\n",
       "      <td>0.587300</td>\n",
       "      <td>0</td>\n",
       "      <td>-4.716609</td>\n",
       "      <td>-5.862168</td>\n",
       "    </tr>\n",
       "    <tr>\n",
       "      <th>3</th>\n",
       "      <td>1.193386</td>\n",
       "      <td>-1.347818</td>\n",
       "      <td>0.175306</td>\n",
       "      <td>0.502609</td>\n",
       "      <td>1</td>\n",
       "      <td>1.557798</td>\n",
       "      <td>0.699241</td>\n",
       "    </tr>\n",
       "    <tr>\n",
       "      <th>4</th>\n",
       "      <td>-0.208487</td>\n",
       "      <td>0.495489</td>\n",
       "      <td>-1.168255</td>\n",
       "      <td>0.391592</td>\n",
       "      <td>0</td>\n",
       "      <td>-0.700613</td>\n",
       "      <td>0.417966</td>\n",
       "    </tr>\n",
       "    <tr>\n",
       "      <th>...</th>\n",
       "      <td>...</td>\n",
       "      <td>...</td>\n",
       "      <td>...</td>\n",
       "      <td>...</td>\n",
       "      <td>...</td>\n",
       "      <td>...</td>\n",
       "      <td>...</td>\n",
       "    </tr>\n",
       "    <tr>\n",
       "      <th>2995</th>\n",
       "      <td>0.013153</td>\n",
       "      <td>-1.152904</td>\n",
       "      <td>-1.359548</td>\n",
       "      <td>0.222761</td>\n",
       "      <td>0</td>\n",
       "      <td>0.522974</td>\n",
       "      <td>-0.698669</td>\n",
       "    </tr>\n",
       "    <tr>\n",
       "      <th>2996</th>\n",
       "      <td>-0.502118</td>\n",
       "      <td>-1.288658</td>\n",
       "      <td>0.109949</td>\n",
       "      <td>0.301448</td>\n",
       "      <td>1</td>\n",
       "      <td>4.673343</td>\n",
       "      <td>3.680224</td>\n",
       "    </tr>\n",
       "    <tr>\n",
       "      <th>2997</th>\n",
       "      <td>1.715124</td>\n",
       "      <td>0.006045</td>\n",
       "      <td>-0.941237</td>\n",
       "      <td>0.596274</td>\n",
       "      <td>1</td>\n",
       "      <td>-0.009819</td>\n",
       "      <td>0.326929</td>\n",
       "    </tr>\n",
       "    <tr>\n",
       "      <th>2998</th>\n",
       "      <td>-1.147150</td>\n",
       "      <td>-2.153397</td>\n",
       "      <td>0.515621</td>\n",
       "      <td>0.199015</td>\n",
       "      <td>0</td>\n",
       "      <td>2.923117</td>\n",
       "      <td>2.664091</td>\n",
       "    </tr>\n",
       "    <tr>\n",
       "      <th>2999</th>\n",
       "      <td>-0.656064</td>\n",
       "      <td>0.663354</td>\n",
       "      <td>-3.254872</td>\n",
       "      <td>0.164683</td>\n",
       "      <td>0</td>\n",
       "      <td>6.090038</td>\n",
       "      <td>6.152334</td>\n",
       "    </tr>\n",
       "  </tbody>\n",
       "</table>\n",
       "<p>3000 rows × 7 columns</p>\n",
       "</div>"
      ],
      "text/plain": [
       "            X1        X2        X3         p  T         m         Y\n",
       "0     1.626842  0.017119  0.588789  0.753316  0 -5.960519 -6.329558\n",
       "1     1.883795 -1.196272  1.107278  0.710415  0 -5.412553 -4.417503\n",
       "2     0.431234 -0.892646  1.167044  0.587300  0 -4.716609 -5.862168\n",
       "3     1.193386 -1.347818  0.175306  0.502609  1  1.557798  0.699241\n",
       "4    -0.208487  0.495489 -1.168255  0.391592  0 -0.700613  0.417966\n",
       "...        ...       ...       ...       ... ..       ...       ...\n",
       "2995  0.013153 -1.152904 -1.359548  0.222761  0  0.522974 -0.698669\n",
       "2996 -0.502118 -1.288658  0.109949  0.301448  1  4.673343  3.680224\n",
       "2997  1.715124  0.006045 -0.941237  0.596274  1 -0.009819  0.326929\n",
       "2998 -1.147150 -2.153397  0.515621  0.199015  0  2.923117  2.664091\n",
       "2999 -0.656064  0.663354 -3.254872  0.164683  0  6.090038  6.152334\n",
       "\n",
       "[3000 rows x 7 columns]"
      ]
     },
     "execution_count": 8,
     "metadata": {},
     "output_type": "execute_result"
    }
   ],
   "source": [
    "data_feature"
   ]
  },
  {
   "cell_type": "code",
   "execution_count": 9,
   "id": "c7195527",
   "metadata": {},
   "outputs": [
    {
     "data": {
      "text/plain": [
       "3000"
      ]
     },
     "execution_count": 9,
     "metadata": {},
     "output_type": "execute_result"
    }
   ],
   "source": [
    "n_node = len(data_latent); n_node"
   ]
  },
  {
   "cell_type": "code",
   "execution_count": 10,
   "id": "a4ea009d",
   "metadata": {},
   "outputs": [
    {
     "data": {
      "text/plain": [
       "11356"
      ]
     },
     "execution_count": 10,
     "metadata": {},
     "output_type": "execute_result"
    }
   ],
   "source": [
    "len(data_network)"
   ]
  },
  {
   "cell_type": "code",
   "execution_count": 11,
   "id": "b6914d3e",
   "metadata": {},
   "outputs": [],
   "source": [
    "Adj = sparse.csr_matrix((\n",
    "    np.full(len(data_network), True), \n",
    "    (np.array(data_network.row)-1, np.array(data_network.col)-1)\n",
    "), shape=(n_node,n_node)).toarray()"
   ]
  },
  {
   "cell_type": "code",
   "execution_count": 12,
   "id": "c9ee37af",
   "metadata": {},
   "outputs": [],
   "source": [
    "G = KECENI.Graph(Adj)"
   ]
  },
  {
   "cell_type": "code",
   "execution_count": 13,
   "id": "5cde2ced",
   "metadata": {},
   "outputs": [],
   "source": [
    "Ys = data_feature.iloc[:,6].values\n",
    "Ts = data_feature.iloc[:,4].values\n",
    "Xs = data_feature.iloc[:,0:3].values"
   ]
  },
  {
   "cell_type": "code",
   "execution_count": 14,
   "id": "7914e0d8",
   "metadata": {},
   "outputs": [],
   "source": [
    "data = KECENI.Data(Ys, Ts, Xs, G)"
   ]
  },
  {
   "cell_type": "markdown",
   "id": "ebc94c8b",
   "metadata": {},
   "source": [
    "# hyperparameters"
   ]
  },
  {
   "cell_type": "code",
   "execution_count": 15,
   "id": "95e8c582",
   "metadata": {},
   "outputs": [],
   "source": [
    "from hyperparams import delta"
   ]
  },
  {
   "cell_type": "markdown",
   "id": "55593005",
   "metadata": {},
   "source": [
    "# counterfactual of interest"
   ]
  },
  {
   "cell_type": "code",
   "execution_count": 16,
   "id": "acd18189",
   "metadata": {},
   "outputs": [],
   "source": [
    "i0 = 0"
   ]
  },
  {
   "cell_type": "code",
   "execution_count": 17,
   "id": "ac144ab7",
   "metadata": {},
   "outputs": [],
   "source": [
    "T0s_0 = np.full(n_node, 0)\n",
    "T0s_1 = np.full(n_node, 1)"
   ]
  },
  {
   "cell_type": "code",
   "execution_count": 18,
   "id": "0e1a12f7",
   "metadata": {},
   "outputs": [
    {
     "data": {
      "text/plain": [
       "(array([0, 0, 0]), array([1, 1, 1]))"
      ]
     },
     "execution_count": 18,
     "metadata": {},
     "output_type": "execute_result"
    }
   ],
   "source": [
    "T0s_0[G.N1(i0)], T0s_1[G.N1(i0)]"
   ]
  },
  {
   "cell_type": "code",
   "execution_count": 19,
   "id": "2bc55f29",
   "metadata": {},
   "outputs": [],
   "source": [
    "i0s = np.array([i0])\n",
    "T0s = np.array([T0s_0, T0s_1])"
   ]
  },
  {
   "cell_type": "markdown",
   "id": "511a9236",
   "metadata": {},
   "source": [
    "# groundtruth"
   ]
  },
  {
   "cell_type": "code",
   "execution_count": 20,
   "id": "41dbd71b",
   "metadata": {},
   "outputs": [],
   "source": [
    "from KECENI.RegressionModel import FittedRegressionModel\n",
    "from KECENI.PropensityModel import FittedPropensityModel\n",
    "from KECENI.CovariateModel import FittedCovariateModel"
   ]
  },
  {
   "cell_type": "code",
   "execution_count": 21,
   "id": "8c3a6aa2",
   "metadata": {},
   "outputs": [],
   "source": [
    "from true_model import mu, pi, rX"
   ]
  },
  {
   "cell_type": "code",
   "execution_count": 22,
   "id": "6922cc0f",
   "metadata": {},
   "outputs": [],
   "source": [
    "true_model = KECENI.Model(\n",
    "    FittedRegressionModel(mu),\n",
    "    FittedPropensityModel(pi),\n",
    "    FittedCovariateModel(rX),\n",
    "    delta\n",
    ")"
   ]
  },
  {
   "cell_type": "code",
   "execution_count": 23,
   "id": "545ab1b0",
   "metadata": {},
   "outputs": [],
   "source": [
    "true_fit = true_model.fit(data)"
   ]
  },
  {
   "cell_type": "code",
   "execution_count": 24,
   "id": "c22af30e",
   "metadata": {},
   "outputs": [],
   "source": [
    "result_true = true_fit.G_estimate(i0s, T0s, n_X=10000)"
   ]
  },
  {
   "cell_type": "code",
   "execution_count": 25,
   "id": "02510ac1",
   "metadata": {},
   "outputs": [],
   "source": [
    "YTR_0, YTR_1 = result_true.reshape([2,-1])\n",
    "YTR_d = YTR_1 - YTR_0"
   ]
  },
  {
   "cell_type": "code",
   "execution_count": 26,
   "id": "300d73dc",
   "metadata": {},
   "outputs": [
    {
     "data": {
      "text/plain": [
       "(array([-1.98617101]), array([1.97521189]), array([3.9613829]))"
      ]
     },
     "execution_count": 26,
     "metadata": {},
     "output_type": "execute_result"
    }
   ],
   "source": [
    "YTR_0, YTR_1, YTR_d"
   ]
  },
  {
   "cell_type": "markdown",
   "id": "5c54a75a",
   "metadata": {},
   "source": [
    "# estimation"
   ]
  },
  {
   "cell_type": "code",
   "execution_count": 27,
   "id": "1fbeffad",
   "metadata": {},
   "outputs": [],
   "source": [
    "from KECENI.RegressionModel import LinearRegressionModel\n",
    "from KECENI.PropensityModel import LogisticIIDPropensityModel\n",
    "from KECENI.CovariateModel import IIDCovariateModel"
   ]
  },
  {
   "cell_type": "code",
   "execution_count": 28,
   "id": "f749c6b6",
   "metadata": {},
   "outputs": [],
   "source": [
    "from hyperparams import summary_mu, summary_pi"
   ]
  },
  {
   "cell_type": "code",
   "execution_count": 29,
   "id": "711e01d4",
   "metadata": {},
   "outputs": [],
   "source": [
    "keceni_model = KECENI.Model(\n",
    "    LinearRegressionModel(summary_mu),\n",
    "    LogisticIIDPropensityModel(summary_pi),\n",
    "    IIDCovariateModel(bal=False),\n",
    "    delta,\n",
    ")"
   ]
  },
  {
   "cell_type": "code",
   "execution_count": 30,
   "id": "8edd1452",
   "metadata": {},
   "outputs": [
    {
     "name": "stderr",
     "output_type": "stream",
     "text": [
      "fit: 100%|██████████| 3000/3000 [01:01<00:00, 48.67it/s]\n"
     ]
    }
   ],
   "source": [
    "keceni_fit = keceni_model.fit(data, tqdm=tqdm)"
   ]
  },
  {
   "cell_type": "markdown",
   "id": "44dc4438",
   "metadata": {},
   "source": [
    "## - cross-validation"
   ]
  },
  {
   "cell_type": "code",
   "execution_count": 31,
   "id": "9c16106e",
   "metadata": {},
   "outputs": [],
   "source": [
    "lamdas = np.linspace(0, 20, 21)[1:]"
   ]
  },
  {
   "cell_type": "code",
   "execution_count": 32,
   "id": "7ce7b104",
   "metadata": {},
   "outputs": [
    {
     "name": "stderr",
     "output_type": "stream",
     "text": [
      "cv:   0%|          | 0/3000 [00:00<?, ?it/s]"
     ]
    },
    {
     "name": "stderr",
     "output_type": "stream",
     "text": [
      "cv: 100%|██████████| 3000/3000 [01:29<00:00, 33.65it/s]\n"
     ]
    }
   ],
   "source": [
    "result_cv = keceni_fit.cv(\n",
    "    tqdm=tqdm\n",
    ")"
   ]
  },
  {
   "cell_type": "code",
   "execution_count": 33,
   "id": "ac808f59",
   "metadata": {},
   "outputs": [],
   "source": [
    "xs_cv, xhs_cv = result_cv.xs_xhs(lamdas)"
   ]
  },
  {
   "cell_type": "code",
   "execution_count": 34,
   "id": "d32a352b",
   "metadata": {},
   "outputs": [
    {
     "data": {
      "text/plain": [
       "[<matplotlib.lines.Line2D at 0x1492852fd550>]"
      ]
     },
     "execution_count": 34,
     "metadata": {},
     "output_type": "execute_result"
    },
    {
     "data": {
      "image/png": "[encoded data removed]",
      "text/plain": [
       "<Figure size 640x480 with 1 Axes>"
      ]
     },
     "metadata": {},
     "output_type": "display_data"
    }
   ],
   "source": [
    "plt.plot(lamdas, np.mean((xs_cv-xhs_cv)**2, -1))"
   ]
  },
  {
   "cell_type": "code",
   "execution_count": 35,
   "id": "2d7d94e0",
   "metadata": {},
   "outputs": [
    {
     "data": {
      "text/plain": [
       "10"
      ]
     },
     "execution_count": 35,
     "metadata": {},
     "output_type": "execute_result"
    }
   ],
   "source": [
    "id_cv = np.argmin(np.mean((xs_cv-xhs_cv)**2, -1))\n",
    "id_cv"
   ]
  },
  {
   "cell_type": "code",
   "execution_count": 36,
   "id": "466a3647",
   "metadata": {},
   "outputs": [],
   "source": [
    "# id_cv = 10"
   ]
  },
  {
   "cell_type": "code",
   "execution_count": 37,
   "id": "1f9c961f",
   "metadata": {},
   "outputs": [
    {
     "data": {
      "text/plain": [
       "11.0"
      ]
     },
     "execution_count": 37,
     "metadata": {},
     "output_type": "execute_result"
    }
   ],
   "source": [
    "lamdas[id_cv]"
   ]
  },
  {
   "cell_type": "markdown",
   "id": "1d0d59e8",
   "metadata": {},
   "source": [
    "## - G estimate"
   ]
  },
  {
   "cell_type": "code",
   "execution_count": 38,
   "id": "87980518",
   "metadata": {},
   "outputs": [],
   "source": [
    "result_G = keceni_fit.G_estimate(i0s, T0s, n_X=1000)"
   ]
  },
  {
   "cell_type": "code",
   "execution_count": 39,
   "id": "ab43a708",
   "metadata": {},
   "outputs": [],
   "source": [
    "YG_0, YG_1 = np.moveaxis(result_G, -1, 0)\n",
    "YG_d = YG_1 - YG_0"
   ]
  },
  {
   "cell_type": "code",
   "execution_count": 40,
   "id": "473961ab",
   "metadata": {},
   "outputs": [
    {
     "data": {
      "text/plain": [
       "(-1.8427668298523803, 2.1384616614220593, 3.9812284912744396)"
      ]
     },
     "execution_count": 40,
     "metadata": {},
     "output_type": "execute_result"
    }
   ],
   "source": [
    "YG_0, YG_1, YG_d"
   ]
  },
  {
   "cell_type": "markdown",
   "id": "e86c4feb",
   "metadata": {},
   "source": [
    "## - KECENI"
   ]
  },
  {
   "cell_type": "code",
   "execution_count": 41,
   "id": "2dd0e2c3",
   "metadata": {},
   "outputs": [
    {
     "name": "stderr",
     "output_type": "stream",
     "text": [
      "AIPW: 100%|██████████| 3000/3000 [00:31<00:00, 94.33it/s]\n"
     ]
    }
   ],
   "source": [
    "result_AIPW = keceni_fit.kernel_AIPW(\n",
    "    i0s, T0s, tqdm=tqdm\n",
    ")"
   ]
  },
  {
   "cell_type": "code",
   "execution_count": 42,
   "id": "9c06d22b",
   "metadata": {},
   "outputs": [],
   "source": [
    "YDR_0, YDR_1 = np.moveaxis(result_AIPW.est(lamdas), -1, 0)\n",
    "YDR_d = YDR_1 - YDR_0"
   ]
  },
  {
   "cell_type": "code",
   "execution_count": 43,
   "id": "7f0ed068",
   "metadata": {},
   "outputs": [
    {
     "data": {
      "text/plain": [
       "(-1.860308164821224, 1.8988567836043198, 3.7591649484255436)"
      ]
     },
     "execution_count": 43,
     "metadata": {},
     "output_type": "execute_result"
    }
   ],
   "source": [
    "YDR_0[id_cv], YDR_1[id_cv], YDR_d[id_cv]"
   ]
  }
 ],
 "metadata": {
  "kernelspec": {
   "display_name": "causalnet",
   "language": "python",
   "name": "python3"
  },
  "language_info": {
   "codemirror_mode": {
    "name": "ipython",
    "version": 3
   },
   "file_extension": ".py",
   "mimetype": "text/x-python",
   "name": "python",
   "nbconvert_exporter": "python",
   "pygments_lexer": "ipython3",
   "version": "3.12.1"
  }
 },
 "nbformat": 4,
 "nbformat_minor": 5
}
