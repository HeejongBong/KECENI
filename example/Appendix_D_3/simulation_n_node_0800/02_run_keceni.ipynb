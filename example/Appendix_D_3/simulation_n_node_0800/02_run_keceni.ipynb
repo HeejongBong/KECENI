{
 "cells": [
  {
   "cell_type": "code",
   "execution_count": 1,
   "id": "9b95530c",
   "metadata": {},
   "outputs": [],
   "source": [
    "import os, importlib, sys, time"
   ]
  },
  {
   "cell_type": "code",
   "execution_count": 2,
   "id": "2ada58b8",
   "metadata": {},
   "outputs": [],
   "source": [
    "import numpy as np\n",
    "import scipy.sparse as sparse\n",
    "import matplotlib.pyplot as plt\n",
    "import pandas as pd\n",
    "import pyarrow\n",
    "from tqdm import tqdm"
   ]
  },
  {
   "cell_type": "code",
   "execution_count": 3,
   "id": "0f675b34",
   "metadata": {},
   "outputs": [],
   "source": [
    "import KECENI"
   ]
  },
  {
   "cell_type": "markdown",
   "id": "94136e4e",
   "metadata": {},
   "source": [
    "# load data"
   ]
  },
  {
   "cell_type": "code",
   "execution_count": 4,
   "id": "c7460ecc",
   "metadata": {},
   "outputs": [],
   "source": [
    "data_dir = 'data'"
   ]
  },
  {
   "cell_type": "code",
   "execution_count": 5,
   "id": "d2ab4aac",
   "metadata": {},
   "outputs": [],
   "source": [
    "i_sim = 1"
   ]
  },
  {
   "cell_type": "code",
   "execution_count": 6,
   "id": "1261e353",
   "metadata": {},
   "outputs": [],
   "source": [
    "data_network = pd.read_feather('%s/network.feather'%(data_dir))\n",
    "data_latent = pd.read_feather('%s/latent.feather'%data_dir)\n",
    "data_feature = pd.read_feather('%s/feature_%.3d.feather'%(data_dir, i_sim))"
   ]
  },
  {
   "cell_type": "code",
   "execution_count": 7,
   "id": "48b2e205",
   "metadata": {},
   "outputs": [
    {
     "data": {
      "text/html": [
       "<div>\n",
       "<style scoped>\n",
       "    .dataframe tbody tr th:only-of-type {\n",
       "        vertical-align: middle;\n",
       "    }\n",
       "\n",
       "    .dataframe tbody tr th {\n",
       "        vertical-align: top;\n",
       "    }\n",
       "\n",
       "    .dataframe thead th {\n",
       "        text-align: right;\n",
       "    }\n",
       "</style>\n",
       "<table border=\"1\" class=\"dataframe\">\n",
       "  <thead>\n",
       "    <tr style=\"text-align: right;\">\n",
       "      <th></th>\n",
       "      <th>row</th>\n",
       "      <th>col</th>\n",
       "    </tr>\n",
       "  </thead>\n",
       "  <tbody>\n",
       "    <tr>\n",
       "      <th>0</th>\n",
       "      <td>1</td>\n",
       "      <td>5</td>\n",
       "    </tr>\n",
       "    <tr>\n",
       "      <th>1</th>\n",
       "      <td>1</td>\n",
       "      <td>17</td>\n",
       "    </tr>\n",
       "    <tr>\n",
       "      <th>2</th>\n",
       "      <td>2</td>\n",
       "      <td>3</td>\n",
       "    </tr>\n",
       "    <tr>\n",
       "      <th>3</th>\n",
       "      <td>2</td>\n",
       "      <td>9</td>\n",
       "    </tr>\n",
       "    <tr>\n",
       "      <th>4</th>\n",
       "      <td>3</td>\n",
       "      <td>2</td>\n",
       "    </tr>\n",
       "    <tr>\n",
       "      <th>...</th>\n",
       "      <td>...</td>\n",
       "      <td>...</td>\n",
       "    </tr>\n",
       "    <tr>\n",
       "      <th>2919</th>\n",
       "      <td>797</td>\n",
       "      <td>607</td>\n",
       "    </tr>\n",
       "    <tr>\n",
       "      <th>2920</th>\n",
       "      <td>798</td>\n",
       "      <td>740</td>\n",
       "    </tr>\n",
       "    <tr>\n",
       "      <th>2921</th>\n",
       "      <td>800</td>\n",
       "      <td>721</td>\n",
       "    </tr>\n",
       "    <tr>\n",
       "      <th>2922</th>\n",
       "      <td>800</td>\n",
       "      <td>766</td>\n",
       "    </tr>\n",
       "    <tr>\n",
       "      <th>2923</th>\n",
       "      <td>800</td>\n",
       "      <td>769</td>\n",
       "    </tr>\n",
       "  </tbody>\n",
       "</table>\n",
       "<p>2924 rows × 2 columns</p>\n",
       "</div>"
      ],
      "text/plain": [
       "      row  col\n",
       "0       1    5\n",
       "1       1   17\n",
       "2       2    3\n",
       "3       2    9\n",
       "4       3    2\n",
       "...   ...  ...\n",
       "2919  797  607\n",
       "2920  798  740\n",
       "2921  800  721\n",
       "2922  800  766\n",
       "2923  800  769\n",
       "\n",
       "[2924 rows x 2 columns]"
      ]
     },
     "execution_count": 7,
     "metadata": {},
     "output_type": "execute_result"
    }
   ],
   "source": [
    "data_network"
   ]
  },
  {
   "cell_type": "code",
   "execution_count": 8,
   "id": "a10428d1",
   "metadata": {},
   "outputs": [
    {
     "data": {
      "text/html": [
       "<div>\n",
       "<style scoped>\n",
       "    .dataframe tbody tr th:only-of-type {\n",
       "        vertical-align: middle;\n",
       "    }\n",
       "\n",
       "    .dataframe tbody tr th {\n",
       "        vertical-align: top;\n",
       "    }\n",
       "\n",
       "    .dataframe thead th {\n",
       "        text-align: right;\n",
       "    }\n",
       "</style>\n",
       "<table border=\"1\" class=\"dataframe\">\n",
       "  <thead>\n",
       "    <tr style=\"text-align: right;\">\n",
       "      <th></th>\n",
       "      <th>X1</th>\n",
       "      <th>X2</th>\n",
       "      <th>X3</th>\n",
       "      <th>p</th>\n",
       "      <th>T</th>\n",
       "      <th>m</th>\n",
       "      <th>Y</th>\n",
       "    </tr>\n",
       "  </thead>\n",
       "  <tbody>\n",
       "    <tr>\n",
       "      <th>0</th>\n",
       "      <td>-0.301758</td>\n",
       "      <td>1.243624</td>\n",
       "      <td>-1.943274</td>\n",
       "      <td>0.377375</td>\n",
       "      <td>0</td>\n",
       "      <td>-0.145607</td>\n",
       "      <td>-0.775468</td>\n",
       "    </tr>\n",
       "    <tr>\n",
       "      <th>1</th>\n",
       "      <td>0.191855</td>\n",
       "      <td>0.353989</td>\n",
       "      <td>0.278715</td>\n",
       "      <td>0.601634</td>\n",
       "      <td>1</td>\n",
       "      <td>-1.503196</td>\n",
       "      <td>-1.856275</td>\n",
       "    </tr>\n",
       "    <tr>\n",
       "      <th>2</th>\n",
       "      <td>1.706257</td>\n",
       "      <td>0.386775</td>\n",
       "      <td>-0.783416</td>\n",
       "      <td>0.658093</td>\n",
       "      <td>1</td>\n",
       "      <td>-0.311725</td>\n",
       "      <td>0.754785</td>\n",
       "    </tr>\n",
       "    <tr>\n",
       "      <th>3</th>\n",
       "      <td>1.627943</td>\n",
       "      <td>-0.541459</td>\n",
       "      <td>-0.129221</td>\n",
       "      <td>0.617425</td>\n",
       "      <td>1</td>\n",
       "      <td>-2.277778</td>\n",
       "      <td>-1.789582</td>\n",
       "    </tr>\n",
       "    <tr>\n",
       "      <th>4</th>\n",
       "      <td>-0.588093</td>\n",
       "      <td>1.774951</td>\n",
       "      <td>-1.005501</td>\n",
       "      <td>0.522654</td>\n",
       "      <td>0</td>\n",
       "      <td>-1.657800</td>\n",
       "      <td>-2.052958</td>\n",
       "    </tr>\n",
       "    <tr>\n",
       "      <th>...</th>\n",
       "      <td>...</td>\n",
       "      <td>...</td>\n",
       "      <td>...</td>\n",
       "      <td>...</td>\n",
       "      <td>...</td>\n",
       "      <td>...</td>\n",
       "      <td>...</td>\n",
       "    </tr>\n",
       "    <tr>\n",
       "      <th>795</th>\n",
       "      <td>-0.831968</td>\n",
       "      <td>1.519225</td>\n",
       "      <td>-1.200273</td>\n",
       "      <td>0.436222</td>\n",
       "      <td>0</td>\n",
       "      <td>-1.635557</td>\n",
       "      <td>-2.541621</td>\n",
       "    </tr>\n",
       "    <tr>\n",
       "      <th>796</th>\n",
       "      <td>0.371110</td>\n",
       "      <td>0.189348</td>\n",
       "      <td>-0.119388</td>\n",
       "      <td>0.554911</td>\n",
       "      <td>0</td>\n",
       "      <td>-5.912624</td>\n",
       "      <td>-6.175569</td>\n",
       "    </tr>\n",
       "    <tr>\n",
       "      <th>797</th>\n",
       "      <td>-0.265100</td>\n",
       "      <td>-0.781199</td>\n",
       "      <td>1.612050</td>\n",
       "      <td>0.570251</td>\n",
       "      <td>1</td>\n",
       "      <td>-0.997097</td>\n",
       "      <td>-0.082075</td>\n",
       "    </tr>\n",
       "    <tr>\n",
       "      <th>798</th>\n",
       "      <td>-0.061223</td>\n",
       "      <td>0.564953</td>\n",
       "      <td>-1.475274</td>\n",
       "      <td>0.380890</td>\n",
       "      <td>0</td>\n",
       "      <td>0.505893</td>\n",
       "      <td>1.428361</td>\n",
       "    </tr>\n",
       "    <tr>\n",
       "      <th>799</th>\n",
       "      <td>0.141185</td>\n",
       "      <td>0.453701</td>\n",
       "      <td>-1.102890</td>\n",
       "      <td>0.436839</td>\n",
       "      <td>0</td>\n",
       "      <td>-2.388148</td>\n",
       "      <td>-3.621171</td>\n",
       "    </tr>\n",
       "  </tbody>\n",
       "</table>\n",
       "<p>800 rows × 7 columns</p>\n",
       "</div>"
      ],
      "text/plain": [
       "           X1        X2        X3         p  T         m         Y\n",
       "0   -0.301758  1.243624 -1.943274  0.377375  0 -0.145607 -0.775468\n",
       "1    0.191855  0.353989  0.278715  0.601634  1 -1.503196 -1.856275\n",
       "2    1.706257  0.386775 -0.783416  0.658093  1 -0.311725  0.754785\n",
       "3    1.627943 -0.541459 -0.129221  0.617425  1 -2.277778 -1.789582\n",
       "4   -0.588093  1.774951 -1.005501  0.522654  0 -1.657800 -2.052958\n",
       "..        ...       ...       ...       ... ..       ...       ...\n",
       "795 -0.831968  1.519225 -1.200273  0.436222  0 -1.635557 -2.541621\n",
       "796  0.371110  0.189348 -0.119388  0.554911  0 -5.912624 -6.175569\n",
       "797 -0.265100 -0.781199  1.612050  0.570251  1 -0.997097 -0.082075\n",
       "798 -0.061223  0.564953 -1.475274  0.380890  0  0.505893  1.428361\n",
       "799  0.141185  0.453701 -1.102890  0.436839  0 -2.388148 -3.621171\n",
       "\n",
       "[800 rows x 7 columns]"
      ]
     },
     "execution_count": 8,
     "metadata": {},
     "output_type": "execute_result"
    }
   ],
   "source": [
    "data_feature"
   ]
  },
  {
   "cell_type": "code",
   "execution_count": 9,
   "id": "c7195527",
   "metadata": {},
   "outputs": [
    {
     "data": {
      "text/plain": [
       "800"
      ]
     },
     "execution_count": 9,
     "metadata": {},
     "output_type": "execute_result"
    }
   ],
   "source": [
    "n_node = len(data_latent); n_node"
   ]
  },
  {
   "cell_type": "code",
   "execution_count": 10,
   "id": "a4ea009d",
   "metadata": {},
   "outputs": [
    {
     "data": {
      "text/plain": [
       "2924"
      ]
     },
     "execution_count": 10,
     "metadata": {},
     "output_type": "execute_result"
    }
   ],
   "source": [
    "len(data_network)"
   ]
  },
  {
   "cell_type": "code",
   "execution_count": 11,
   "id": "b6914d3e",
   "metadata": {},
   "outputs": [],
   "source": [
    "Adj = sparse.csr_matrix((\n",
    "    np.full(len(data_network), True), \n",
    "    (np.array(data_network.row)-1, np.array(data_network.col)-1)\n",
    "), shape=(n_node,n_node)).toarray()"
   ]
  },
  {
   "cell_type": "code",
   "execution_count": 12,
   "id": "c9ee37af",
   "metadata": {},
   "outputs": [],
   "source": [
    "G = KECENI.Graph(Adj)"
   ]
  },
  {
   "cell_type": "code",
   "execution_count": 13,
   "id": "5cde2ced",
   "metadata": {},
   "outputs": [],
   "source": [
    "Ys = data_feature.iloc[:,6].values\n",
    "Ts = data_feature.iloc[:,4].values\n",
    "Xs = data_feature.iloc[:,0:3].values"
   ]
  },
  {
   "cell_type": "code",
   "execution_count": 14,
   "id": "7914e0d8",
   "metadata": {},
   "outputs": [],
   "source": [
    "data = KECENI.Data(Ys, Ts, Xs, G)"
   ]
  },
  {
   "cell_type": "markdown",
   "id": "ebc94c8b",
   "metadata": {},
   "source": [
    "# hyperparameters"
   ]
  },
  {
   "cell_type": "code",
   "execution_count": 15,
   "id": "95e8c582",
   "metadata": {},
   "outputs": [],
   "source": [
    "from hyperparams import delta"
   ]
  },
  {
   "cell_type": "markdown",
   "id": "55593005",
   "metadata": {},
   "source": [
    "# counterfactual of interest"
   ]
  },
  {
   "cell_type": "code",
   "execution_count": 16,
   "id": "acd18189",
   "metadata": {},
   "outputs": [],
   "source": [
    "i0 = 0"
   ]
  },
  {
   "cell_type": "code",
   "execution_count": 17,
   "id": "ac144ab7",
   "metadata": {},
   "outputs": [],
   "source": [
    "T0s_0 = np.full(n_node, 0)\n",
    "T0s_1 = np.full(n_node, 1)"
   ]
  },
  {
   "cell_type": "code",
   "execution_count": 18,
   "id": "0e1a12f7",
   "metadata": {},
   "outputs": [
    {
     "data": {
      "text/plain": [
       "(array([0, 0, 0]), array([1, 1, 1]))"
      ]
     },
     "execution_count": 18,
     "metadata": {},
     "output_type": "execute_result"
    }
   ],
   "source": [
    "T0s_0[G.N1(i0)], T0s_1[G.N1(i0)]"
   ]
  },
  {
   "cell_type": "code",
   "execution_count": 19,
   "id": "2bc55f29",
   "metadata": {},
   "outputs": [],
   "source": [
    "i0s = np.array([i0])\n",
    "T0s = np.array([T0s_0, T0s_1])"
   ]
  },
  {
   "cell_type": "markdown",
   "id": "511a9236",
   "metadata": {},
   "source": [
    "# groundtruth"
   ]
  },
  {
   "cell_type": "code",
   "execution_count": 20,
   "id": "41dbd71b",
   "metadata": {},
   "outputs": [],
   "source": [
    "from KECENI.RegressionModel import FittedRegressionModel\n",
    "from KECENI.PropensityModel import FittedPropensityModel\n",
    "from KECENI.CovariateModel import FittedCovariateModel"
   ]
  },
  {
   "cell_type": "code",
   "execution_count": 21,
   "id": "8c3a6aa2",
   "metadata": {},
   "outputs": [],
   "source": [
    "from true_model import mu, pi, rX"
   ]
  },
  {
   "cell_type": "code",
   "execution_count": 22,
   "id": "6922cc0f",
   "metadata": {},
   "outputs": [],
   "source": [
    "true_model = KECENI.Model(\n",
    "    FittedRegressionModel(mu),\n",
    "    FittedPropensityModel(pi),\n",
    "    FittedCovariateModel(rX),\n",
    "    delta\n",
    ")"
   ]
  },
  {
   "cell_type": "code",
   "execution_count": 23,
   "id": "545ab1b0",
   "metadata": {},
   "outputs": [],
   "source": [
    "true_fit = true_model.fit(data)"
   ]
  },
  {
   "cell_type": "code",
   "execution_count": 24,
   "id": "c22af30e",
   "metadata": {},
   "outputs": [],
   "source": [
    "result_true = true_fit.G_estimate(i0s, T0s, n_X=10000)"
   ]
  },
  {
   "cell_type": "code",
   "execution_count": 25,
   "id": "02510ac1",
   "metadata": {},
   "outputs": [],
   "source": [
    "YTR_0, YTR_1 = result_true.reshape([2,-1])\n",
    "YTR_d = YTR_1 - YTR_0"
   ]
  },
  {
   "cell_type": "code",
   "execution_count": 26,
   "id": "300d73dc",
   "metadata": {},
   "outputs": [
    {
     "data": {
      "text/plain": [
       "(array([-2.02552423]), array([2.01134695]), array([4.03687118]))"
      ]
     },
     "execution_count": 26,
     "metadata": {},
     "output_type": "execute_result"
    }
   ],
   "source": [
    "YTR_0, YTR_1, YTR_d"
   ]
  },
  {
   "cell_type": "markdown",
   "id": "5c54a75a",
   "metadata": {},
   "source": [
    "# estimation"
   ]
  },
  {
   "cell_type": "code",
   "execution_count": 27,
   "id": "1fbeffad",
   "metadata": {},
   "outputs": [],
   "source": [
    "from KECENI.RegressionModel import LinearRegressionModel\n",
    "from KECENI.PropensityModel import LogisticIIDPropensityModel\n",
    "from KECENI.CovariateModel import IIDCovariateModel"
   ]
  },
  {
   "cell_type": "code",
   "execution_count": 28,
   "id": "f749c6b6",
   "metadata": {},
   "outputs": [],
   "source": [
    "from hyperparams import summary_mu, summary_pi"
   ]
  },
  {
   "cell_type": "code",
   "execution_count": 29,
   "id": "711e01d4",
   "metadata": {},
   "outputs": [],
   "source": [
    "keceni_model = KECENI.Model(\n",
    "    LinearRegressionModel(summary_mu),\n",
    "    LogisticIIDPropensityModel(summary_pi),\n",
    "    IIDCovariateModel(bal=False),\n",
    "    delta,\n",
    ")"
   ]
  },
  {
   "cell_type": "code",
   "execution_count": 30,
   "id": "8edd1452",
   "metadata": {},
   "outputs": [
    {
     "name": "stderr",
     "output_type": "stream",
     "text": [
      "fit: 100%|██████████| 800/800 [00:00<00:00, 1280.46it/s]\n"
     ]
    }
   ],
   "source": [
    "keceni_fit = keceni_model.fit(data, tqdm=tqdm)"
   ]
  },
  {
   "cell_type": "markdown",
   "id": "44dc4438",
   "metadata": {},
   "source": [
    "## - cross-validation"
   ]
  },
  {
   "cell_type": "code",
   "execution_count": 31,
   "id": "9c16106e",
   "metadata": {},
   "outputs": [],
   "source": [
    "lamdas = np.linspace(0, 20, 21)[1:]"
   ]
  },
  {
   "cell_type": "code",
   "execution_count": 32,
   "id": "7ce7b104",
   "metadata": {},
   "outputs": [
    {
     "name": "stderr",
     "output_type": "stream",
     "text": [
      "cv: 100%|██████████| 800/800 [00:04<00:00, 165.27it/s]\n"
     ]
    }
   ],
   "source": [
    "result_cv = keceni_fit.cv(\n",
    "    tqdm=tqdm\n",
    ")"
   ]
  },
  {
   "cell_type": "code",
   "execution_count": 33,
   "id": "ac808f59",
   "metadata": {},
   "outputs": [],
   "source": [
    "xs_cv, xhs_cv = result_cv.xs_xhs(lamdas)"
   ]
  },
  {
   "cell_type": "code",
   "execution_count": 34,
   "id": "d32a352b",
   "metadata": {},
   "outputs": [
    {
     "data": {
      "text/plain": [
       "[<matplotlib.lines.Line2D at 0x15420041f6e0>]"
      ]
     },
     "execution_count": 34,
     "metadata": {},
     "output_type": "execute_result"
    },
    {
     "data": {
      "image/png": "[encoded data removed]",
      "text/plain": [
       "<Figure size 640x480 with 1 Axes>"
      ]
     },
     "metadata": {},
     "output_type": "display_data"
    }
   ],
   "source": [
    "plt.plot(lamdas, np.mean((xs_cv-xhs_cv)**2, -1))"
   ]
  },
  {
   "cell_type": "code",
   "execution_count": 35,
   "id": "2d7d94e0",
   "metadata": {},
   "outputs": [
    {
     "data": {
      "text/plain": [
       "8"
      ]
     },
     "execution_count": 35,
     "metadata": {},
     "output_type": "execute_result"
    }
   ],
   "source": [
    "id_cv = np.argmin(np.mean((xs_cv-xhs_cv)**2, -1))\n",
    "id_cv"
   ]
  },
  {
   "cell_type": "code",
   "execution_count": 36,
   "id": "466a3647",
   "metadata": {},
   "outputs": [],
   "source": [
    "# id_cv = 10"
   ]
  },
  {
   "cell_type": "code",
   "execution_count": 37,
   "id": "1f9c961f",
   "metadata": {},
   "outputs": [
    {
     "data": {
      "text/plain": [
       "9.0"
      ]
     },
     "execution_count": 37,
     "metadata": {},
     "output_type": "execute_result"
    }
   ],
   "source": [
    "lamdas[id_cv]"
   ]
  },
  {
   "cell_type": "markdown",
   "id": "1d0d59e8",
   "metadata": {},
   "source": [
    "## - G estimate"
   ]
  },
  {
   "cell_type": "code",
   "execution_count": 38,
   "id": "87980518",
   "metadata": {},
   "outputs": [],
   "source": [
    "result_G = keceni_fit.G_estimate(i0s, T0s, n_X=1000)"
   ]
  },
  {
   "cell_type": "code",
   "execution_count": 39,
   "id": "ab43a708",
   "metadata": {},
   "outputs": [],
   "source": [
    "YG_0, YG_1 = np.moveaxis(result_G, -1, 0)\n",
    "YG_d = YG_1 - YG_0"
   ]
  },
  {
   "cell_type": "code",
   "execution_count": 40,
   "id": "473961ab",
   "metadata": {},
   "outputs": [
    {
     "data": {
      "text/plain": [
       "(-2.168616410100575, 1.9294425059980995, 4.098058916098674)"
      ]
     },
     "execution_count": 40,
     "metadata": {},
     "output_type": "execute_result"
    }
   ],
   "source": [
    "YG_0, YG_1, YG_d"
   ]
  },
  {
   "cell_type": "markdown",
   "id": "e86c4feb",
   "metadata": {},
   "source": [
    "## - KECENI"
   ]
  },
  {
   "cell_type": "code",
   "execution_count": 41,
   "id": "2dd0e2c3",
   "metadata": {},
   "outputs": [
    {
     "name": "stderr",
     "output_type": "stream",
     "text": [
      "AIPW:  11%|█         | 87/800 [00:00<00:00, 869.82it/s]"
     ]
    },
    {
     "name": "stderr",
     "output_type": "stream",
     "text": [
      "AIPW: 100%|██████████| 800/800 [00:00<00:00, 1157.41it/s]\n"
     ]
    }
   ],
   "source": [
    "result_AIPW = keceni_fit.kernel_AIPW(\n",
    "    i0s, T0s, tqdm=tqdm\n",
    ")"
   ]
  },
  {
   "cell_type": "code",
   "execution_count": 42,
   "id": "9c06d22b",
   "metadata": {},
   "outputs": [],
   "source": [
    "YDR_0, YDR_1 = np.moveaxis(result_AIPW.est(lamdas), -1, 0)\n",
    "YDR_d = YDR_1 - YDR_0"
   ]
  },
  {
   "cell_type": "code",
   "execution_count": 43,
   "id": "7f0ed068",
   "metadata": {},
   "outputs": [
    {
     "data": {
      "text/plain": [
       "(-2.1750775374276645, 1.8135618235743882, 3.9886393610020527)"
      ]
     },
     "execution_count": 43,
     "metadata": {},
     "output_type": "execute_result"
    }
   ],
   "source": [
    "YDR_0[id_cv], YDR_1[id_cv], YDR_d[id_cv]"
   ]
  },
  {
   "cell_type": "code",
   "execution_count": null,
   "id": "3a9ac22f",
   "metadata": {},
   "outputs": [],
   "source": []
  }
 ],
 "metadata": {
  "kernelspec": {
   "display_name": "causalnet",
   "language": "python",
   "name": "python3"
  },
  "language_info": {
   "codemirror_mode": {
    "name": "ipython",
    "version": 3
   },
   "file_extension": ".py",
   "mimetype": "text/x-python",
   "name": "python",
   "nbconvert_exporter": "python",
   "pygments_lexer": "ipython3",
   "version": "3.12.1"
  }
 },
 "nbformat": 4,
 "nbformat_minor": 5
}
