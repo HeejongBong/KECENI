{
 "cells": [
  {
   "cell_type": "code",
   "execution_count": 1,
   "id": "6db3349f",
   "metadata": {},
   "outputs": [],
   "source": [
    "import os, importlib, sys, time"
   ]
  },
  {
   "cell_type": "code",
   "execution_count": 2,
   "id": "8365d85c",
   "metadata": {},
   "outputs": [],
   "source": [
    "import itertools\n",
    "from tqdm import tqdm"
   ]
  },
  {
   "cell_type": "code",
   "execution_count": 3,
   "id": "1c37e18c",
   "metadata": {},
   "outputs": [],
   "source": [
    "import numpy as np\n",
    "import scipy.sparse as sparse\n",
    "import matplotlib.pyplot as plt\n",
    "import pandas as pd\n",
    "import pyarrow"
   ]
  },
  {
   "cell_type": "code",
   "execution_count": 4,
   "id": "23b24faf",
   "metadata": {},
   "outputs": [],
   "source": [
    "import KECENI"
   ]
  },
  {
   "cell_type": "markdown",
   "id": "c1e81cff",
   "metadata": {},
   "source": [
    "# load data"
   ]
  },
  {
   "cell_type": "code",
   "execution_count": 5,
   "id": "638c9bf6",
   "metadata": {},
   "outputs": [],
   "source": [
    "data_dir = 'data'\n",
    "save_dir = 'result'"
   ]
  },
  {
   "cell_type": "code",
   "execution_count": 6,
   "id": "a4c596a8",
   "metadata": {},
   "outputs": [],
   "source": [
    "data_network = pd.read_feather('%s/network.feather'%(data_dir))\n",
    "data_latent = pd.read_feather('%s/latent.feather'%data_dir)"
   ]
  },
  {
   "cell_type": "code",
   "execution_count": 7,
   "id": "64f99c6c",
   "metadata": {},
   "outputs": [
    {
     "data": {
      "text/html": [
       "<div>\n",
       "<style scoped>\n",
       "    .dataframe tbody tr th:only-of-type {\n",
       "        vertical-align: middle;\n",
       "    }\n",
       "\n",
       "    .dataframe tbody tr th {\n",
       "        vertical-align: top;\n",
       "    }\n",
       "\n",
       "    .dataframe thead th {\n",
       "        text-align: right;\n",
       "    }\n",
       "</style>\n",
       "<table border=\"1\" class=\"dataframe\">\n",
       "  <thead>\n",
       "    <tr style=\"text-align: right;\">\n",
       "      <th></th>\n",
       "      <th>row</th>\n",
       "      <th>col</th>\n",
       "    </tr>\n",
       "  </thead>\n",
       "  <tbody>\n",
       "    <tr>\n",
       "      <th>0</th>\n",
       "      <td>1</td>\n",
       "      <td>244</td>\n",
       "    </tr>\n",
       "    <tr>\n",
       "      <th>1</th>\n",
       "      <td>2</td>\n",
       "      <td>416</td>\n",
       "    </tr>\n",
       "    <tr>\n",
       "      <th>2</th>\n",
       "      <td>2</td>\n",
       "      <td>536</td>\n",
       "    </tr>\n",
       "    <tr>\n",
       "      <th>3</th>\n",
       "      <td>2</td>\n",
       "      <td>540</td>\n",
       "    </tr>\n",
       "    <tr>\n",
       "      <th>4</th>\n",
       "      <td>2</td>\n",
       "      <td>726</td>\n",
       "    </tr>\n",
       "    <tr>\n",
       "      <th>...</th>\n",
       "      <td>...</td>\n",
       "      <td>...</td>\n",
       "    </tr>\n",
       "    <tr>\n",
       "      <th>3391</th>\n",
       "      <td>999</td>\n",
       "      <td>880</td>\n",
       "    </tr>\n",
       "    <tr>\n",
       "      <th>3392</th>\n",
       "      <td>1000</td>\n",
       "      <td>352</td>\n",
       "    </tr>\n",
       "    <tr>\n",
       "      <th>3393</th>\n",
       "      <td>1000</td>\n",
       "      <td>357</td>\n",
       "    </tr>\n",
       "    <tr>\n",
       "      <th>3394</th>\n",
       "      <td>1000</td>\n",
       "      <td>807</td>\n",
       "    </tr>\n",
       "    <tr>\n",
       "      <th>3395</th>\n",
       "      <td>1000</td>\n",
       "      <td>989</td>\n",
       "    </tr>\n",
       "  </tbody>\n",
       "</table>\n",
       "<p>3396 rows × 2 columns</p>\n",
       "</div>"
      ],
      "text/plain": [
       "       row  col\n",
       "0        1  244\n",
       "1        2  416\n",
       "2        2  536\n",
       "3        2  540\n",
       "4        2  726\n",
       "...    ...  ...\n",
       "3391   999  880\n",
       "3392  1000  352\n",
       "3393  1000  357\n",
       "3394  1000  807\n",
       "3395  1000  989\n",
       "\n",
       "[3396 rows x 2 columns]"
      ]
     },
     "execution_count": 7,
     "metadata": {},
     "output_type": "execute_result"
    }
   ],
   "source": [
    "data_network"
   ]
  },
  {
   "cell_type": "code",
   "execution_count": 8,
   "id": "95c2e40b",
   "metadata": {},
   "outputs": [
    {
     "data": {
      "text/plain": [
       "1000"
      ]
     },
     "execution_count": 8,
     "metadata": {},
     "output_type": "execute_result"
    }
   ],
   "source": [
    "n_node = len(data_latent); n_node"
   ]
  },
  {
   "cell_type": "code",
   "execution_count": 9,
   "id": "1dc09510",
   "metadata": {},
   "outputs": [],
   "source": [
    "Adj = sparse.csr_matrix((\n",
    "    np.full(len(data_network), True), \n",
    "    (np.array(data_network.row)-1, np.array(data_network.col)-1)\n",
    ")).toarray()"
   ]
  },
  {
   "cell_type": "code",
   "execution_count": 10,
   "id": "fc72812b",
   "metadata": {},
   "outputs": [],
   "source": [
    "G = KECENI.Graph(Adj)"
   ]
  },
  {
   "cell_type": "markdown",
   "id": "218650b5",
   "metadata": {},
   "source": [
    "# hyperparameters"
   ]
  },
  {
   "cell_type": "code",
   "execution_count": 11,
   "id": "415255c8",
   "metadata": {},
   "outputs": [],
   "source": [
    "from hyperparams import delta, HyperAlpha"
   ]
  },
  {
   "cell_type": "markdown",
   "id": "f1c0279f",
   "metadata": {},
   "source": [
    "# counterfactual of interest"
   ]
  },
  {
   "cell_type": "code",
   "execution_count": 12,
   "id": "b0fbe8b0",
   "metadata": {},
   "outputs": [],
   "source": [
    "i0 = 17"
   ]
  },
  {
   "cell_type": "code",
   "execution_count": 15,
   "id": "71f3f777",
   "metadata": {},
   "outputs": [],
   "source": [
    "T0s_1 = np.zeros(n_node); T0s_1[G.N1(i0)[::2]] = 1\n",
    "T0s_0 = T0s_1.copy(); T0s_0[i0] = 0"
   ]
  },
  {
   "cell_type": "code",
   "execution_count": 16,
   "id": "2f95256e",
   "metadata": {},
   "outputs": [
    {
     "data": {
      "text/plain": [
       "(array([0., 0., 1., 0., 1.]), array([1., 0., 1., 0., 1.]))"
      ]
     },
     "execution_count": 16,
     "metadata": {},
     "output_type": "execute_result"
    }
   ],
   "source": [
    "T0s_0[G.N1(i0)], T0s_1[G.N1(i0)]"
   ]
  },
  {
   "cell_type": "code",
   "execution_count": 17,
   "id": "dbf84f07",
   "metadata": {},
   "outputs": [],
   "source": [
    "i0s = np.array([i0])\n",
    "T0s = np.array([T0s_0, T0s_1])"
   ]
  },
  {
   "cell_type": "markdown",
   "id": "2e56f2ba",
   "metadata": {},
   "source": [
    "# groundtruth"
   ]
  },
  {
   "cell_type": "code",
   "execution_count": 20,
   "id": "c062d44f",
   "metadata": {},
   "outputs": [],
   "source": [
    "YTR_0, YTR_1 = (-1, 1)\n",
    "YTR_d = YTR_1 - YTR_0"
   ]
  },
  {
   "cell_type": "code",
   "execution_count": 21,
   "id": "9b4675a7",
   "metadata": {},
   "outputs": [
    {
     "data": {
      "text/plain": [
       "(-1, 1, 2)"
      ]
     },
     "execution_count": 21,
     "metadata": {},
     "output_type": "execute_result"
    }
   ],
   "source": [
    "YTR_0, YTR_1, YTR_d"
   ]
  },
  {
   "cell_type": "markdown",
   "id": "0db1c0d1",
   "metadata": {},
   "source": [
    "# estimation"
   ]
  },
  {
   "cell_type": "code",
   "execution_count": 25,
   "id": "ace77f2a",
   "metadata": {},
   "outputs": [],
   "source": [
    "alphas_mu = np.linspace(0, 1, 11)\n",
    "alphas_pi = np.linspace(0, 1, 11)"
   ]
  },
  {
   "cell_type": "code",
   "execution_count": 26,
   "id": "4e4b7176",
   "metadata": {},
   "outputs": [],
   "source": [
    "n_sim = 80"
   ]
  },
  {
   "cell_type": "markdown",
   "id": "8d07eb15",
   "metadata": {},
   "source": [
    "## - load simulation"
   ]
  },
  {
   "cell_type": "code",
   "execution_count": 27,
   "id": "72dcbf7e",
   "metadata": {},
   "outputs": [],
   "source": [
    "lamdas = np.linspace(0, 20, 21)[1:]"
   ]
  },
  {
   "cell_type": "code",
   "execution_count": 29,
   "id": "ce38b2ed",
   "metadata": {},
   "outputs": [],
   "source": [
    "ids_cv = np.zeros(alphas_mu.shape + alphas_pi.shape + (n_sim,), dtype=int)"
   ]
  },
  {
   "cell_type": "code",
   "execution_count": 30,
   "id": "71711efd",
   "metadata": {},
   "outputs": [],
   "source": [
    "YGs_0 = np.zeros(alphas_mu.shape + alphas_pi.shape + (n_sim,))\n",
    "YGs_1 = np.zeros(alphas_mu.shape + alphas_pi.shape + (n_sim,))\n",
    "YGs_d = np.zeros(alphas_mu.shape + alphas_pi.shape + (n_sim,))\n",
    "YDRs_0 = np.zeros(alphas_mu.shape + alphas_pi.shape + (n_sim,))\n",
    "YDRs_1 = np.zeros(alphas_mu.shape + alphas_pi.shape + (n_sim,))\n",
    "YDRs_d = np.zeros(alphas_mu.shape + alphas_pi.shape + (n_sim,))"
   ]
  },
  {
   "cell_type": "code",
   "execution_count": 39,
   "id": "26505a51",
   "metadata": {},
   "outputs": [
    {
     "name": "stderr",
     "output_type": "stream",
     "text": [
      "SIM: 100%|██████████| 80/80 [00:00<00:00, 1226.43it/s]\n"
     ]
    }
   ],
   "source": [
    "for i_sim in tqdm(np.arange(n_sim), desc='SIM', smoothing=0, leave=None, position=0):\n",
    "    locals().update(np.load('%s/result_%.3d.npz'%(save_dir,i_sim)))\n",
    "    YGs_0[...,i_sim] = result_G[...,0]; YGs_1[...,i_sim] = result_G[...,1]\n",
    "    YGs_d[...,i_sim] = YGs_1[...,i_sim] - YGs_0[...,i_sim]\n",
    "    YDRs_0[...,i_sim] = result_AIPW[np.arange(len(alphas_mu))[:,None],np.arange(len(alphas_pi)),id_cv,0]\n",
    "    YDRs_1[...,i_sim] = result_AIPW[np.arange(len(alphas_mu))[:,None],np.arange(len(alphas_pi)),id_cv,1]\n",
    "    YDRs_d[...,i_sim] = YDRs_1[...,i_sim] - YDRs_0[...,i_sim]"
   ]
  },
  {
   "cell_type": "markdown",
   "id": "e7db1535",
   "metadata": {},
   "source": [
    "## - G estimate"
   ]
  },
  {
   "cell_type": "code",
   "execution_count": 41,
   "id": "37d4b145",
   "metadata": {},
   "outputs": [
    {
     "data": {
      "text/plain": [
       "<matplotlib.colorbar.Colorbar at 0x153a16f9ef30>"
      ]
     },
     "execution_count": 41,
     "metadata": {},
     "output_type": "execute_result"
    },
    {
     "data": {
      "image/png": "[encoded data removed]",
      "text/plain": [
       "<Figure size 400x300 with 2 Axes>"
      ]
     },
     "metadata": {},
     "output_type": "display_data"
    }
   ],
   "source": [
    "plt.figure(figsize=(4,3))\n",
    "plt.imshow(np.mean((YGs_d - YTR_d)**2, -1), 'Reds', vmin=0, origin='lower')\n",
    "plt.yticks(np.arange(len(alphas_mu))[::2], labels=['%.1f'%alpha for alpha in alphas_mu[::2]])\n",
    "plt.xticks(np.arange(len(alphas_pi))[::2], labels=['%.1f'%alpha for alpha in alphas_pi[::2]])\n",
    "plt.xlabel(r'$\\alpha_\\pi$'); plt.ylabel(r'$\\alpha_\\mu$'); plt.colorbar()"
   ]
  },
  {
   "cell_type": "markdown",
   "id": "d9aa89cd",
   "metadata": {},
   "source": [
    "## - KECENI"
   ]
  },
  {
   "cell_type": "code",
   "execution_count": 43,
   "id": "c82f4ade",
   "metadata": {},
   "outputs": [
    {
     "data": {
      "text/plain": [
       "<matplotlib.colorbar.Colorbar at 0x153a16f1ee70>"
      ]
     },
     "execution_count": 43,
     "metadata": {},
     "output_type": "execute_result"
    },
    {
     "data": {
      "image/png": "[encoded data removed]",
      "text/plain": [
       "<Figure size 400x300 with 2 Axes>"
      ]
     },
     "metadata": {},
     "output_type": "display_data"
    }
   ],
   "source": [
    "plt.figure(figsize=(4,3))\n",
    "plt.imshow(np.mean((YDRs_d - YTR_d)**2, -1), 'Reds', vmin=0, origin='lower')\n",
    "plt.yticks(np.arange(len(alphas_mu))[::2], labels=['%.1f'%alpha for alpha in alphas_mu[::2]])\n",
    "plt.xticks(np.arange(len(alphas_pi))[::2], labels=['%.1f'%alpha for alpha in alphas_pi[::2]])\n",
    "plt.xlabel(r'$\\alpha_\\pi$'); plt.ylabel(r'$\\alpha_\\mu$'); plt.colorbar()"
   ]
  },
  {
   "cell_type": "code",
   "execution_count": null,
   "id": "a4608e5e-e242-4bc4-bac4-1147499f07b3",
   "metadata": {},
   "outputs": [],
   "source": []
  }
 ],
 "metadata": {
  "kernelspec": {
   "display_name": "Python [conda env:.conda-causalnet]",
   "language": "python",
   "name": "conda-env-.conda-causalnet-py"
  },
  "language_info": {
   "codemirror_mode": {
    "name": "ipython",
    "version": 3
   },
   "file_extension": ".py",
   "mimetype": "text/x-python",
   "name": "python",
   "nbconvert_exporter": "python",
   "pygments_lexer": "ipython3",
   "version": "3.12.1"
  }
 },
 "nbformat": 4,
 "nbformat_minor": 5
}
