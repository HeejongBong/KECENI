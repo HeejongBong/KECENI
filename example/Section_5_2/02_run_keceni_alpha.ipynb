{
 "cells": [
  {
   "cell_type": "code",
   "execution_count": 1,
   "id": "6db3349f",
   "metadata": {},
   "outputs": [],
   "source": [
    "import os, importlib, sys, time"
   ]
  },
  {
   "cell_type": "code",
   "execution_count": 2,
   "id": "1c37e18c",
   "metadata": {},
   "outputs": [],
   "source": [
    "import numpy as np\n",
    "import scipy.sparse as sparse\n",
    "import matplotlib.pyplot as plt\n",
    "import pandas as pd\n",
    "import pyarrow"
   ]
  },
  {
   "cell_type": "code",
   "execution_count": 3,
   "id": "e1e50a9b",
   "metadata": {},
   "outputs": [],
   "source": [
    "from tqdm import tqdm\n",
    "import itertools"
   ]
  },
  {
   "cell_type": "code",
   "execution_count": 4,
   "id": "23b24faf",
   "metadata": {},
   "outputs": [],
   "source": [
    "import KECENI"
   ]
  },
  {
   "cell_type": "markdown",
   "id": "c1e81cff",
   "metadata": {},
   "source": [
    "# load data"
   ]
  },
  {
   "cell_type": "code",
   "execution_count": 5,
   "id": "638c9bf6",
   "metadata": {},
   "outputs": [],
   "source": [
    "data_dir = 'data'\n",
    "save_dir = 'result'"
   ]
  },
  {
   "cell_type": "code",
   "execution_count": 6,
   "id": "d07f2703",
   "metadata": {},
   "outputs": [],
   "source": [
    "i_sim = 0"
   ]
  },
  {
   "cell_type": "code",
   "execution_count": 7,
   "id": "a4c596a8",
   "metadata": {},
   "outputs": [],
   "source": [
    "data_network = pd.read_feather('%s/network.feather'%(data_dir))\n",
    "data_latent = pd.read_feather('%s/latent.feather'%data_dir)\n",
    "data_feature = pd.read_feather('%s/feature_%.3d.feather'%(data_dir, i_sim))"
   ]
  },
  {
   "cell_type": "code",
   "execution_count": 8,
   "id": "64f99c6c",
   "metadata": {},
   "outputs": [
    {
     "data": {
      "text/html": [
       "<div>\n",
       "<style scoped>\n",
       "    .dataframe tbody tr th:only-of-type {\n",
       "        vertical-align: middle;\n",
       "    }\n",
       "\n",
       "    .dataframe tbody tr th {\n",
       "        vertical-align: top;\n",
       "    }\n",
       "\n",
       "    .dataframe thead th {\n",
       "        text-align: right;\n",
       "    }\n",
       "</style>\n",
       "<table border=\"1\" class=\"dataframe\">\n",
       "  <thead>\n",
       "    <tr style=\"text-align: right;\">\n",
       "      <th></th>\n",
       "      <th>row</th>\n",
       "      <th>col</th>\n",
       "    </tr>\n",
       "  </thead>\n",
       "  <tbody>\n",
       "    <tr>\n",
       "      <th>0</th>\n",
       "      <td>1</td>\n",
       "      <td>244</td>\n",
       "    </tr>\n",
       "    <tr>\n",
       "      <th>1</th>\n",
       "      <td>2</td>\n",
       "      <td>416</td>\n",
       "    </tr>\n",
       "    <tr>\n",
       "      <th>2</th>\n",
       "      <td>2</td>\n",
       "      <td>536</td>\n",
       "    </tr>\n",
       "    <tr>\n",
       "      <th>3</th>\n",
       "      <td>2</td>\n",
       "      <td>540</td>\n",
       "    </tr>\n",
       "    <tr>\n",
       "      <th>4</th>\n",
       "      <td>2</td>\n",
       "      <td>726</td>\n",
       "    </tr>\n",
       "    <tr>\n",
       "      <th>...</th>\n",
       "      <td>...</td>\n",
       "      <td>...</td>\n",
       "    </tr>\n",
       "    <tr>\n",
       "      <th>3391</th>\n",
       "      <td>999</td>\n",
       "      <td>880</td>\n",
       "    </tr>\n",
       "    <tr>\n",
       "      <th>3392</th>\n",
       "      <td>1000</td>\n",
       "      <td>352</td>\n",
       "    </tr>\n",
       "    <tr>\n",
       "      <th>3393</th>\n",
       "      <td>1000</td>\n",
       "      <td>357</td>\n",
       "    </tr>\n",
       "    <tr>\n",
       "      <th>3394</th>\n",
       "      <td>1000</td>\n",
       "      <td>807</td>\n",
       "    </tr>\n",
       "    <tr>\n",
       "      <th>3395</th>\n",
       "      <td>1000</td>\n",
       "      <td>989</td>\n",
       "    </tr>\n",
       "  </tbody>\n",
       "</table>\n",
       "<p>3396 rows × 2 columns</p>\n",
       "</div>"
      ],
      "text/plain": [
       "       row  col\n",
       "0        1  244\n",
       "1        2  416\n",
       "2        2  536\n",
       "3        2  540\n",
       "4        2  726\n",
       "...    ...  ...\n",
       "3391   999  880\n",
       "3392  1000  352\n",
       "3393  1000  357\n",
       "3394  1000  807\n",
       "3395  1000  989\n",
       "\n",
       "[3396 rows x 2 columns]"
      ]
     },
     "execution_count": 8,
     "metadata": {},
     "output_type": "execute_result"
    }
   ],
   "source": [
    "data_network"
   ]
  },
  {
   "cell_type": "code",
   "execution_count": 9,
   "id": "f942eefe",
   "metadata": {
    "scrolled": false
   },
   "outputs": [
    {
     "data": {
      "text/html": [
       "<div>\n",
       "<style scoped>\n",
       "    .dataframe tbody tr th:only-of-type {\n",
       "        vertical-align: middle;\n",
       "    }\n",
       "\n",
       "    .dataframe tbody tr th {\n",
       "        vertical-align: top;\n",
       "    }\n",
       "\n",
       "    .dataframe thead th {\n",
       "        text-align: right;\n",
       "    }\n",
       "</style>\n",
       "<table border=\"1\" class=\"dataframe\">\n",
       "  <thead>\n",
       "    <tr style=\"text-align: right;\">\n",
       "      <th></th>\n",
       "      <th>X1</th>\n",
       "      <th>X2</th>\n",
       "      <th>X3</th>\n",
       "      <th>p</th>\n",
       "      <th>T</th>\n",
       "      <th>m</th>\n",
       "      <th>Y</th>\n",
       "    </tr>\n",
       "  </thead>\n",
       "  <tbody>\n",
       "    <tr>\n",
       "      <th>0</th>\n",
       "      <td>-1.304104</td>\n",
       "      <td>-3.400997</td>\n",
       "      <td>1.515073</td>\n",
       "      <td>0.168680</td>\n",
       "      <td>0</td>\n",
       "      <td>-0.456526</td>\n",
       "      <td>0.650450</td>\n",
       "    </tr>\n",
       "    <tr>\n",
       "      <th>1</th>\n",
       "      <td>1.103058</td>\n",
       "      <td>1.313203</td>\n",
       "      <td>-0.724202</td>\n",
       "      <td>0.699734</td>\n",
       "      <td>1</td>\n",
       "      <td>-0.978740</td>\n",
       "      <td>-0.873213</td>\n",
       "    </tr>\n",
       "    <tr>\n",
       "      <th>2</th>\n",
       "      <td>0.094427</td>\n",
       "      <td>-2.106332</td>\n",
       "      <td>-0.149959</td>\n",
       "      <td>0.253330</td>\n",
       "      <td>1</td>\n",
       "      <td>4.205473</td>\n",
       "      <td>6.069921</td>\n",
       "    </tr>\n",
       "    <tr>\n",
       "      <th>3</th>\n",
       "      <td>1.736643</td>\n",
       "      <td>0.747525</td>\n",
       "      <td>0.397928</td>\n",
       "      <td>0.808617</td>\n",
       "      <td>1</td>\n",
       "      <td>-4.986597</td>\n",
       "      <td>-7.219922</td>\n",
       "    </tr>\n",
       "    <tr>\n",
       "      <th>4</th>\n",
       "      <td>0.802826</td>\n",
       "      <td>-0.714831</td>\n",
       "      <td>0.307143</td>\n",
       "      <td>0.549232</td>\n",
       "      <td>1</td>\n",
       "      <td>2.737475</td>\n",
       "      <td>2.550342</td>\n",
       "    </tr>\n",
       "    <tr>\n",
       "      <th>...</th>\n",
       "      <td>...</td>\n",
       "      <td>...</td>\n",
       "      <td>...</td>\n",
       "      <td>...</td>\n",
       "      <td>...</td>\n",
       "      <td>...</td>\n",
       "      <td>...</td>\n",
       "    </tr>\n",
       "    <tr>\n",
       "      <th>995</th>\n",
       "      <td>-0.844635</td>\n",
       "      <td>0.142532</td>\n",
       "      <td>1.680042</td>\n",
       "      <td>0.619864</td>\n",
       "      <td>0</td>\n",
       "      <td>-2.640313</td>\n",
       "      <td>-1.525690</td>\n",
       "    </tr>\n",
       "    <tr>\n",
       "      <th>996</th>\n",
       "      <td>2.399211</td>\n",
       "      <td>0.477881</td>\n",
       "      <td>-0.173948</td>\n",
       "      <td>0.794387</td>\n",
       "      <td>1</td>\n",
       "      <td>-2.067055</td>\n",
       "      <td>-2.802436</td>\n",
       "    </tr>\n",
       "    <tr>\n",
       "      <th>997</th>\n",
       "      <td>1.431573</td>\n",
       "      <td>1.695787</td>\n",
       "      <td>-1.011341</td>\n",
       "      <td>0.742310</td>\n",
       "      <td>1</td>\n",
       "      <td>-0.761923</td>\n",
       "      <td>-1.555641</td>\n",
       "    </tr>\n",
       "    <tr>\n",
       "      <th>998</th>\n",
       "      <td>0.265291</td>\n",
       "      <td>2.180264</td>\n",
       "      <td>-0.299445</td>\n",
       "      <td>0.745177</td>\n",
       "      <td>1</td>\n",
       "      <td>-0.551916</td>\n",
       "      <td>-0.075563</td>\n",
       "    </tr>\n",
       "    <tr>\n",
       "      <th>999</th>\n",
       "      <td>-0.969492</td>\n",
       "      <td>-1.165222</td>\n",
       "      <td>2.535170</td>\n",
       "      <td>0.549890</td>\n",
       "      <td>0</td>\n",
       "      <td>-1.356242</td>\n",
       "      <td>-0.799661</td>\n",
       "    </tr>\n",
       "  </tbody>\n",
       "</table>\n",
       "<p>1000 rows × 7 columns</p>\n",
       "</div>"
      ],
      "text/plain": [
       "           X1        X2        X3         p  T         m         Y\n",
       "0   -1.304104 -3.400997  1.515073  0.168680  0 -0.456526  0.650450\n",
       "1    1.103058  1.313203 -0.724202  0.699734  1 -0.978740 -0.873213\n",
       "2    0.094427 -2.106332 -0.149959  0.253330  1  4.205473  6.069921\n",
       "3    1.736643  0.747525  0.397928  0.808617  1 -4.986597 -7.219922\n",
       "4    0.802826 -0.714831  0.307143  0.549232  1  2.737475  2.550342\n",
       "..        ...       ...       ...       ... ..       ...       ...\n",
       "995 -0.844635  0.142532  1.680042  0.619864  0 -2.640313 -1.525690\n",
       "996  2.399211  0.477881 -0.173948  0.794387  1 -2.067055 -2.802436\n",
       "997  1.431573  1.695787 -1.011341  0.742310  1 -0.761923 -1.555641\n",
       "998  0.265291  2.180264 -0.299445  0.745177  1 -0.551916 -0.075563\n",
       "999 -0.969492 -1.165222  2.535170  0.549890  0 -1.356242 -0.799661\n",
       "\n",
       "[1000 rows x 7 columns]"
      ]
     },
     "execution_count": 9,
     "metadata": {},
     "output_type": "execute_result"
    }
   ],
   "source": [
    "data_feature"
   ]
  },
  {
   "cell_type": "code",
   "execution_count": 10,
   "id": "3ed4fe98",
   "metadata": {},
   "outputs": [
    {
     "data": {
      "text/plain": [
       "1000"
      ]
     },
     "execution_count": 10,
     "metadata": {},
     "output_type": "execute_result"
    }
   ],
   "source": [
    "n_node = len(data_latent); n_node"
   ]
  },
  {
   "cell_type": "code",
   "execution_count": 11,
   "id": "1345c5ca",
   "metadata": {},
   "outputs": [
    {
     "data": {
      "text/plain": [
       "3396"
      ]
     },
     "execution_count": 11,
     "metadata": {},
     "output_type": "execute_result"
    }
   ],
   "source": [
    "len(data_network)"
   ]
  },
  {
   "cell_type": "code",
   "execution_count": 12,
   "id": "1dc09510",
   "metadata": {},
   "outputs": [],
   "source": [
    "Adj = sparse.csr_matrix((\n",
    "    np.full(len(data_network), True), \n",
    "    (np.array(data_network.row)-1, np.array(data_network.col)-1)\n",
    ")).toarray()"
   ]
  },
  {
   "cell_type": "code",
   "execution_count": 13,
   "id": "fc72812b",
   "metadata": {},
   "outputs": [],
   "source": [
    "G = KECENI.Graph(Adj)"
   ]
  },
  {
   "cell_type": "code",
   "execution_count": 14,
   "id": "0e58e588",
   "metadata": {},
   "outputs": [],
   "source": [
    "Ys = data_feature.iloc[:,6].values\n",
    "Ts = data_feature.iloc[:,4].values\n",
    "Xs = data_feature.iloc[:,0:3].values"
   ]
  },
  {
   "cell_type": "code",
   "execution_count": 15,
   "id": "c0d69a5b",
   "metadata": {},
   "outputs": [],
   "source": [
    "data = KECENI.Data(Ys, Ts, Xs, G)"
   ]
  },
  {
   "cell_type": "markdown",
   "id": "218650b5",
   "metadata": {},
   "source": [
    "# hyperparameters"
   ]
  },
  {
   "cell_type": "code",
   "execution_count": 16,
   "id": "415255c8",
   "metadata": {},
   "outputs": [],
   "source": [
    "from hyperparams import delta, HyperAlpha"
   ]
  },
  {
   "cell_type": "markdown",
   "id": "b5ac30d3",
   "metadata": {},
   "source": [
    "# counterfactual of interest"
   ]
  },
  {
   "cell_type": "code",
   "execution_count": 17,
   "id": "69e34e39",
   "metadata": {},
   "outputs": [],
   "source": [
    "i0 = 17"
   ]
  },
  {
   "cell_type": "code",
   "execution_count": 18,
   "id": "53a1274b",
   "metadata": {},
   "outputs": [],
   "source": [
    "T0s_1 = np.zeros(n_node); T0s_1[G.N1(i0)[::2]] = 1\n",
    "T0s_0 = T0s_1.copy(); T0s_0[i0] = 0"
   ]
  },
  {
   "cell_type": "code",
   "execution_count": 19,
   "id": "23e69bb3",
   "metadata": {},
   "outputs": [
    {
     "data": {
      "text/plain": [
       "(array([0., 0., 1., 0., 1.]), array([1., 0., 1., 0., 1.]))"
      ]
     },
     "execution_count": 19,
     "metadata": {},
     "output_type": "execute_result"
    }
   ],
   "source": [
    "T0s_0[G.N1(i0)], T0s_1[G.N1(i0)]"
   ]
  },
  {
   "cell_type": "code",
   "execution_count": 20,
   "id": "50c2db67",
   "metadata": {},
   "outputs": [],
   "source": [
    "i0s = np.array([i0])\n",
    "T0s = np.array([T0s_0, T0s_1])"
   ]
  },
  {
   "cell_type": "markdown",
   "id": "4a27802c",
   "metadata": {},
   "source": [
    "# groundtruth"
   ]
  },
  {
   "cell_type": "code",
   "execution_count": 21,
   "id": "82f07e7c",
   "metadata": {},
   "outputs": [],
   "source": [
    "from KECENI.RegressionModel import FittedRegressionModel\n",
    "from KECENI.PropensityModel import FittedPropensityModel\n",
    "from KECENI.CovariateModel import FittedCovariateModel"
   ]
  },
  {
   "cell_type": "code",
   "execution_count": 22,
   "id": "5214a45b",
   "metadata": {},
   "outputs": [],
   "source": [
    "from true_model import mu, pi, rX"
   ]
  },
  {
   "cell_type": "code",
   "execution_count": 24,
   "id": "51a40d39",
   "metadata": {},
   "outputs": [],
   "source": [
    "true_model = KECENI.Model(\n",
    "    FittedRegressionModel(mu),\n",
    "    FittedPropensityModel(pi),\n",
    "    FittedCovariateModel(rX),\n",
    "    delta\n",
    ")"
   ]
  },
  {
   "cell_type": "code",
   "execution_count": 25,
   "id": "97d7530c",
   "metadata": {},
   "outputs": [],
   "source": [
    "true_fit = true_model.fit(data)"
   ]
  },
  {
   "cell_type": "code",
   "execution_count": null,
   "id": "7fe8f998",
   "metadata": {},
   "outputs": [],
   "source": [
    "result_true = true_fit.G_estimate(i0s, T0s, G, n_X=10000)"
   ]
  },
  {
   "cell_type": "code",
   "execution_count": 27,
   "id": "a6a23f1d",
   "metadata": {},
   "outputs": [],
   "source": [
    "YTR_0, YTR_1 = result_true.reshape([2, -1])\n",
    "YTR_d = YTR_1 - YTR_0"
   ]
  },
  {
   "cell_type": "code",
   "execution_count": 28,
   "id": "354cbcf7",
   "metadata": {},
   "outputs": [
    {
     "data": {
      "text/plain": [
       "(array([-1.00912783]), array([1.01753904]), array([2.02666687]))"
      ]
     },
     "execution_count": 28,
     "metadata": {},
     "output_type": "execute_result"
    }
   ],
   "source": [
    "YTR_0, YTR_1, YTR_d"
   ]
  },
  {
   "cell_type": "markdown",
   "id": "9ba0cef7",
   "metadata": {},
   "source": [
    "# estimation"
   ]
  },
  {
   "cell_type": "code",
   "execution_count": 29,
   "id": "0d76958f",
   "metadata": {},
   "outputs": [],
   "source": [
    "from KECENI.RegressionModel import LinearRegressionModel\n",
    "from KECENI.PropensityModel import LogisticIIDPropensityModel\n",
    "from KECENI.CovariateModel import IIDCovariateModel"
   ]
  },
  {
   "cell_type": "code",
   "execution_count": 30,
   "id": "8037b6b3",
   "metadata": {},
   "outputs": [],
   "source": [
    "alphas_mu = np.linspace(0, 1, 11)\n",
    "alphas_pi = np.linspace(0, 1, 11)"
   ]
  },
  {
   "cell_type": "markdown",
   "id": "b85dafb7",
   "metadata": {},
   "source": [
    "## - cross-validation"
   ]
  },
  {
   "cell_type": "code",
   "execution_count": 31,
   "id": "969fb551",
   "metadata": {},
   "outputs": [],
   "source": [
    "lamdas = np.linspace(0, 20, 21)[1:]"
   ]
  },
  {
   "cell_type": "code",
   "execution_count": 32,
   "id": "40fc0683",
   "metadata": {},
   "outputs": [],
   "source": [
    "# mse_cv = np.zeros(alphas_mu.shape + alphas_pi.shape + lamdas.shape)"
   ]
  },
  {
   "cell_type": "code",
   "execution_count": 33,
   "id": "e0e5cb15",
   "metadata": {
    "scrolled": true
   },
   "outputs": [],
   "source": [
    "# for (i, alpha_mu), (j, alpha_pi) \\\n",
    "# in itertools.product(enumerate(alphas_mu), enumerate(alphas_pi)):\n",
    "#     hyper_ij = HyperAlpha(alpha_mu, alpha_pi)\n",
    "    \n",
    "#     keceni_model = KECENI.Model(\n",
    "#         LinearRegressionModel(hyper_ij.summary_mu),\n",
    "#         LogisticIIDPropensityModel(hyper_ij.summary_pi),\n",
    "#         IIDCovariateModel(),\n",
    "#         delta\n",
    "#     )\n",
    "#     keceni_fit = keceni_model.fit(data)\n",
    "    \n",
    "#     result_cv = keceni_fit.cv(\n",
    "#         tqdm=tqdm\n",
    "#     )\n",
    "#     xs_cv, xhs_cv = result_cv.xs_xhs(lamdas)\n",
    "    \n",
    "#     mse_cv[i,j] = np.mean((xs_cv-xhs_cv)**2, -1)"
   ]
  },
  {
   "cell_type": "code",
   "execution_count": 34,
   "id": "31faea5d",
   "metadata": {},
   "outputs": [],
   "source": [
    "# np.save('%s/mse_cv.npy'%save_dir, mse_cv)"
   ]
  },
  {
   "cell_type": "code",
   "execution_count": 35,
   "id": "edbb0cb7",
   "metadata": {},
   "outputs": [],
   "source": [
    "mse_cv = np.load('%s/mse_cv.npy'%save_dir)"
   ]
  },
  {
   "cell_type": "code",
   "execution_count": 36,
   "id": "2236938a",
   "metadata": {},
   "outputs": [],
   "source": [
    "id_cv = np.argmin(mse_cv.reshape(alphas_mu.shape + alphas_pi.shape + (-1,)), -1)"
   ]
  },
  {
   "cell_type": "markdown",
   "id": "5de73cff",
   "metadata": {},
   "source": [
    "## - G estimate"
   ]
  },
  {
   "cell_type": "code",
   "execution_count": 38,
   "id": "8e1645b2",
   "metadata": {},
   "outputs": [],
   "source": [
    "result_G = np.zeros(alphas_mu.shape + alphas_pi.shape + (2,))"
   ]
  },
  {
   "cell_type": "code",
   "execution_count": null,
   "id": "0429edb9",
   "metadata": {},
   "outputs": [
    {
     "name": "stderr",
     "output_type": "stream",
     "text": [
      "G estimation: 100%|██████████| 121/121 [05:05<00:00,  2.53s/it]\n"
     ]
    }
   ],
   "source": [
    "for (i, alpha_mu), (j, alpha_pi) \\\n",
    "in tqdm(itertools.product(enumerate(alphas_mu), enumerate(alphas_pi)),\n",
    "        total=len(alphas_mu)*len(alphas_pi), desc='G estimation'):\n",
    "    hyper_ij = HyperAlpha(alpha_mu, alpha_pi)\n",
    "\n",
    "    keceni_model = KECENI.Model(\n",
    "        LinearRegressionModel(hyper_ij.summary_mu),\n",
    "        LogisticIIDPropensityModel(hyper_ij.summary_pi),\n",
    "        IIDCovariateModel(),\n",
    "        delta\n",
    "    )\n",
    "    keceni_fit = keceni_model.fit(data)\n",
    "    \n",
    "    result_G[i,j] = keceni_fit.G_estimate(\n",
    "        i0s, T0s, n_X=1000,\n",
    "    )"
   ]
  },
  {
   "cell_type": "code",
   "execution_count": 40,
   "id": "b96408ba",
   "metadata": {},
   "outputs": [],
   "source": [
    "YG_0, YG_1 = np.moveaxis(result_G, -1, 0)\n",
    "YG_d = YG_1 - YG_0"
   ]
  },
  {
   "cell_type": "code",
   "execution_count": 41,
   "id": "2f837b71",
   "metadata": {},
   "outputs": [
    {
     "data": {
      "text/plain": [
       "<matplotlib.colorbar.Colorbar at 0x14dd9d13cb60>"
      ]
     },
     "execution_count": 41,
     "metadata": {},
     "output_type": "execute_result"
    },
    {
     "data": {
      "image/png": "[encoded data removed]",
      "text/plain": [
       "<Figure size 400x300 with 2 Axes>"
      ]
     },
     "metadata": {},
     "output_type": "display_data"
    }
   ],
   "source": [
    "plt.figure(figsize=(4,3))\n",
    "plt.imshow((YG_d - YTR_d)**2, 'Reds', vmin=0, origin='lower')\n",
    "plt.yticks(np.arange(len(alphas_mu))[::2], labels=['%.1f'%alpha for alpha in alphas_mu[::2]])\n",
    "plt.xticks(np.arange(len(alphas_pi))[::2], labels=['%.1f'%alpha for alpha in alphas_pi[::2]])\n",
    "plt.xlabel(r'$\\alpha_\\pi$'); plt.ylabel(r'$\\alpha_\\mu$'); plt.colorbar()"
   ]
  },
  {
   "cell_type": "markdown",
   "id": "335126af",
   "metadata": {},
   "source": [
    "## - KECENI"
   ]
  },
  {
   "cell_type": "code",
   "execution_count": 43,
   "id": "52b38e51",
   "metadata": {},
   "outputs": [],
   "source": [
    "result_AIPW = np.zeros(alphas_mu.shape + alphas_pi.shape + lamdas.shape + (2,))"
   ]
  },
  {
   "cell_type": "code",
   "execution_count": null,
   "id": "3fda3db1",
   "metadata": {
    "scrolled": true
   },
   "outputs": [
    {
     "name": "stderr",
     "output_type": "stream",
     "text": [
      "KECENI:  34%|███▍      | 41/121 [02:55<05:42,  4.29s/it]"
     ]
    }
   ],
   "source": [
    "for (i, alpha_mu), (j, alpha_pi) \\\n",
    "in tqdm(itertools.product(enumerate(alphas_mu), enumerate(alphas_pi)),\n",
    "        total=len(alphas_mu)*len(alphas_pi), desc='KECENI'):\n",
    "    hyper_ij = HyperAlpha(alpha_mu, alpha_pi)\n",
    "    \n",
    "    keceni_model = KECENI.Model(\n",
    "        LinearRegressionModel(hyper_ij.summary_mu),\n",
    "        LogisticIIDPropensityModel(hyper_ij.summary_pi),\n",
    "        IIDCovariateModel(),\n",
    "        delta\n",
    "    )\n",
    "    keceni_fit = keceni_model.fit(data)\n",
    "    \n",
    "    result_AIPW[i,j] = keceni_fit.kernel_AIPW(\n",
    "        i0s, T0s\n",
    "    ).est(lamdas)"
   ]
  },
  {
   "cell_type": "code",
   "execution_count": null,
   "id": "3a9caf26",
   "metadata": {},
   "outputs": [],
   "source": [
    "YDR_0, YDR_1 = np.moveaxis(result_AIPW.reshape(\n",
    "    alphas_mu.shape + alphas_pi.shape + (-1, 2)\n",
    ")[np.arange(len(alphas_mu))[:,None], np.arange(len(alphas_pi)), id_cv, :], -1, 0)\n",
    "YDR_d = YDR_1 - YDR_0"
   ]
  },
  {
   "cell_type": "code",
   "execution_count": null,
   "id": "bf13e91f",
   "metadata": {},
   "outputs": [
    {
     "data": {
      "text/plain": [
       "<matplotlib.colorbar.Colorbar at 0x14e43e4adcd0>"
      ]
     },
     "execution_count": 51,
     "metadata": {},
     "output_type": "execute_result"
    },
    {
     "data": {
      "image/png": "[encoded data removed]",
      "text/plain": [
       "<Figure size 400x300 with 2 Axes>"
      ]
     },
     "metadata": {},
     "output_type": "display_data"
    }
   ],
   "source": [
    "plt.figure(figsize=(4,3))\n",
    "plt.imshow((YDR_d - YTR_d)**2, 'Reds', vmin=0, origin='lower')\n",
    "plt.yticks(np.arange(len(alphas_mu))[::2], labels=['%.1f'%alpha for alpha in alphas_mu[::2]])\n",
    "plt.xticks(np.arange(len(alphas_pi))[::2], labels=['%.1f'%alpha for alpha in alphas_pi[::2]])\n",
    "plt.xlabel(r'$\\alpha_\\pi$'); plt.ylabel(r'$\\alpha_\\mu$'); plt.colorbar()"
   ]
  },
  {
   "cell_type": "code",
   "execution_count": null,
   "id": "fb7aebdd",
   "metadata": {},
   "outputs": [],
   "source": []
  }
 ],
 "metadata": {
  "kernelspec": {
   "display_name": "causalnet",
   "language": "python",
   "name": "python3"
  },
  "language_info": {
   "codemirror_mode": {
    "name": "ipython",
    "version": 3
   },
   "file_extension": ".py",
   "mimetype": "text/x-python",
   "name": "python",
   "nbconvert_exporter": "python",
   "pygments_lexer": "ipython3",
   "version": "3.12.1"
  }
 },
 "nbformat": 4,
 "nbformat_minor": 5
}
